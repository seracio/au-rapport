{
 "cells": [
  {
   "cell_type": "code",
   "execution_count": 1,
   "metadata": {
    "execution": {
     "iopub.execute_input": "2022-08-15T08:14:10.119817Z",
     "iopub.status.busy": "2022-08-15T08:14:10.119329Z",
     "iopub.status.idle": "2022-08-15T08:14:10.402245Z",
     "shell.execute_reply": "2022-08-15T08:14:10.401575Z"
    }
   },
   "outputs": [],
   "source": [
    "import requests\n",
    "from datetime import datetime\n",
    "import pandas as pd\n",
    "import json\n",
    "import tweepy\n",
    "import os\n",
    "from pathlib import Path"
   ]
  },
  {
   "cell_type": "markdown",
   "metadata": {},
   "source": [
    "## On récupère la date du jour"
   ]
  },
  {
   "cell_type": "code",
   "execution_count": 2,
   "metadata": {
    "execution": {
     "iopub.execute_input": "2022-08-15T08:14:10.406021Z",
     "iopub.status.busy": "2022-08-15T08:14:10.405714Z",
     "iopub.status.idle": "2022-08-15T08:14:10.410070Z",
     "shell.execute_reply": "2022-08-15T08:14:10.409527Z"
    }
   },
   "outputs": [],
   "source": [
    "today = datetime.now()\n",
    "yesterday = today - pd.Timedelta(days=1)"
   ]
  },
  {
   "cell_type": "markdown",
   "metadata": {},
   "source": [
    "## Quels sont les fichiers publiés en open data aujourd'hui ?"
   ]
  },
  {
   "cell_type": "code",
   "execution_count": 3,
   "metadata": {
    "execution": {
     "iopub.execute_input": "2022-08-15T08:14:10.412852Z",
     "iopub.status.busy": "2022-08-15T08:14:10.412642Z",
     "iopub.status.idle": "2022-08-15T08:14:12.319962Z",
     "shell.execute_reply": "2022-08-15T08:14:12.319302Z"
    }
   },
   "outputs": [],
   "source": [
    "def retrieve_files_date(date):\n",
    "    formated_date = date.strftime('%Y-%m-%d')\n",
    "    try:\n",
    "        return(pd\n",
    "            .read_csv(\n",
    "                f'https://www.assemblee-nationale.fr/dyn/opendata/list-publication/publication_{formated_date}.csv', \n",
    "                sep=';', \n",
    "                names=['date', 'url']\n",
    "            )\n",
    "        )\n",
    "    except:\n",
    "        return(pd.DataFrame(columns=['date', 'url']))\n",
    "\n",
    "files = pd.concat([retrieve_files_date(date) for date in [yesterday, today]], ignore_index=True)"
   ]
  },
  {
   "cell_type": "markdown",
   "metadata": {},
   "source": [
    "## On isole tous les rapports d'information\n",
    "\n",
    "- L'id du rapport permet d'accéder au fichier de description json \n",
    "- Si l'id est différent du full_id, cela veut dire que c'est un rapport en plusieurs parties. Il faudra trouver la correspondance dans le fichier de description json"
   ]
  },
  {
   "cell_type": "code",
   "execution_count": 4,
   "metadata": {
    "execution": {
     "iopub.execute_input": "2022-08-15T08:14:12.323920Z",
     "iopub.status.busy": "2022-08-15T08:14:12.323684Z",
     "iopub.status.idle": "2022-08-15T08:14:12.347544Z",
     "shell.execute_reply": "2022-08-15T08:14:12.347009Z"
    }
   },
   "outputs": [
    {
     "data": {
      "text/html": [
       "<div>\n",
       "<style scoped>\n",
       "    .dataframe tbody tr th:only-of-type {\n",
       "        vertical-align: middle;\n",
       "    }\n",
       "\n",
       "    .dataframe tbody tr th {\n",
       "        vertical-align: top;\n",
       "    }\n",
       "\n",
       "    .dataframe thead th {\n",
       "        text-align: right;\n",
       "    }\n",
       "</style>\n",
       "<table border=\"1\" class=\"dataframe\">\n",
       "  <thead>\n",
       "    <tr style=\"text-align: right;\">\n",
       "      <th></th>\n",
       "      <th>date</th>\n",
       "      <th>url</th>\n",
       "      <th>full_id</th>\n",
       "      <th>id</th>\n",
       "      <th>tome</th>\n",
       "    </tr>\n",
       "  </thead>\n",
       "  <tbody>\n",
       "  </tbody>\n",
       "</table>\n",
       "</div>"
      ],
      "text/plain": [
       "Empty DataFrame\n",
       "Columns: [date, url, full_id, id, tome]\n",
       "Index: []"
      ]
     },
     "execution_count": 4,
     "metadata": {},
     "output_type": "execute_result"
    }
   ],
   "source": [
    "ris = (files\n",
    "    # les pdf d'un rapport d'information\n",
    "    .loc[files['url'].str.contains(r'RIN.+\\.pdf$')]    \n",
    "    .assign(\n",
    "        full_id = lambda x: x['url'].str.extract(pat = '(RIN.+)\\.pdf')        \n",
    "    )\n",
    ")\n",
    "\n",
    "# https://www.codegrepper.com/code-examples/javascript/regex+match+anything+except+character\n",
    "ris[['id', 'tome']] =  ris['full_id'].str.extract(pat = '(RIN[^-]+)-?(.*)', expand=True)\n",
    "\n",
    "ris"
   ]
  },
  {
   "cell_type": "code",
   "execution_count": 5,
   "metadata": {
    "execution": {
     "iopub.execute_input": "2022-08-15T08:14:12.382696Z",
     "iopub.status.busy": "2022-08-15T08:14:12.382177Z",
     "iopub.status.idle": "2022-08-15T08:14:12.396314Z",
     "shell.execute_reply": "2022-08-15T08:14:12.395836Z"
    }
   },
   "outputs": [
    {
     "data": {
      "text/html": [
       "<div>\n",
       "<style scoped>\n",
       "    .dataframe tbody tr th:only-of-type {\n",
       "        vertical-align: middle;\n",
       "    }\n",
       "\n",
       "    .dataframe tbody tr th {\n",
       "        vertical-align: top;\n",
       "    }\n",
       "\n",
       "    .dataframe thead th {\n",
       "        text-align: right;\n",
       "    }\n",
       "</style>\n",
       "<table border=\"1\" class=\"dataframe\">\n",
       "  <thead>\n",
       "    <tr style=\"text-align: right;\">\n",
       "      <th></th>\n",
       "      <th>date</th>\n",
       "      <th>url</th>\n",
       "      <th>full_id</th>\n",
       "      <th>id</th>\n",
       "      <th>tome</th>\n",
       "    </tr>\n",
       "  </thead>\n",
       "  <tbody>\n",
       "  </tbody>\n",
       "</table>\n",
       "</div>"
      ],
      "text/plain": [
       "Empty DataFrame\n",
       "Columns: [date, url, full_id, id, tome]\n",
       "Index: []"
      ]
     },
     "execution_count": 5,
     "metadata": {},
     "output_type": "execute_result"
    }
   ],
   "source": [
    "raps = (files\n",
    "    # les pdf d'un rapport\n",
    "    .loc[files['url'].str.contains(r'RAPP.+\\.pdf$')]    \n",
    "    .assign(\n",
    "        full_id = lambda x: x['url'].str.extract(pat = '(RAPP.+)\\.pdf'),        \n",
    "    )\n",
    ")\n",
    "\n",
    "# https://www.codegrepper.com/code-examples/javascript/regex+match+anything+except+character\n",
    "raps[['id', 'tome']] =  raps['full_id'].str.extract(pat = '(RAPP[^-]+)-?(.*)', expand=True)\n",
    "\n",
    "raps"
   ]
  },
  {
   "cell_type": "code",
   "execution_count": 6,
   "metadata": {
    "execution": {
     "iopub.execute_input": "2022-08-15T08:14:12.399284Z",
     "iopub.status.busy": "2022-08-15T08:14:12.398755Z",
     "iopub.status.idle": "2022-08-15T08:14:12.403092Z",
     "shell.execute_reply": "2022-08-15T08:14:12.402463Z"
    }
   },
   "outputs": [],
   "source": [
    "all_rapports = (pd\n",
    "    .concat([ris, raps], ignore_index=True)\n",
    "    .drop_duplicates(subset=['id', 'full_id'])\n",
    ")"
   ]
  },
  {
   "cell_type": "code",
   "execution_count": 7,
   "metadata": {
    "execution": {
     "iopub.execute_input": "2022-08-15T08:14:12.405737Z",
     "iopub.status.busy": "2022-08-15T08:14:12.405517Z",
     "iopub.status.idle": "2022-08-15T08:14:12.410493Z",
     "shell.execute_reply": "2022-08-15T08:14:12.409938Z"
    }
   },
   "outputs": [],
   "source": [
    "descriptions = {}\n",
    "for id in all_rapports['id'].unique():\n",
    "    url = f'https://www.assemblee-nationale.fr/dyn/opendata/{id}.json'\n",
    "    response = requests.get(url)\n",
    "    if response.status_code == 200:\n",
    "        descriptions[id] = json.loads(response.text)\n",
    "    else:  \n",
    "        print(f'{id} not found')"
   ]
  },
  {
   "cell_type": "markdown",
   "metadata": {},
   "source": [
    "Pour le moment, on va juste mettre la description de base dans la df"
   ]
  },
  {
   "cell_type": "code",
   "execution_count": 8,
   "metadata": {
    "execution": {
     "iopub.execute_input": "2022-08-15T08:14:12.413177Z",
     "iopub.status.busy": "2022-08-15T08:14:12.412968Z",
     "iopub.status.idle": "2022-08-15T08:14:12.426791Z",
     "shell.execute_reply": "2022-08-15T08:14:12.426194Z"
    }
   },
   "outputs": [
    {
     "data": {
      "text/html": [
       "<div>\n",
       "<style scoped>\n",
       "    .dataframe tbody tr th:only-of-type {\n",
       "        vertical-align: middle;\n",
       "    }\n",
       "\n",
       "    .dataframe tbody tr th {\n",
       "        vertical-align: top;\n",
       "    }\n",
       "\n",
       "    .dataframe thead th {\n",
       "        text-align: right;\n",
       "    }\n",
       "</style>\n",
       "<table border=\"1\" class=\"dataframe\">\n",
       "  <thead>\n",
       "    <tr style=\"text-align: right;\">\n",
       "      <th></th>\n",
       "      <th>date</th>\n",
       "      <th>url</th>\n",
       "      <th>full_id</th>\n",
       "      <th>id</th>\n",
       "      <th>tome</th>\n",
       "      <th>description</th>\n",
       "      <th>rapport_type</th>\n",
       "      <th>depot</th>\n",
       "    </tr>\n",
       "  </thead>\n",
       "  <tbody>\n",
       "  </tbody>\n",
       "</table>\n",
       "</div>"
      ],
      "text/plain": [
       "Empty DataFrame\n",
       "Columns: [date, url, full_id, id, tome, description, rapport_type, depot]\n",
       "Index: []"
      ]
     },
     "execution_count": 8,
     "metadata": {},
     "output_type": "execute_result"
    }
   ],
   "source": [
    "def get_desc(id):\n",
    "    return descriptions[id]['titres']['titrePrincipalCourt'].replace(\"déposé en application de l'article 145 du règlement, \", \"\")\n",
    "\n",
    "def get_depot(id):\n",
    "    return descriptions[id]['classification']['famille']['depot']['code']\n",
    "\n",
    "def get_type(id):\n",
    "    if 'libelle' in descriptions[id]['classification']['sousType']:\n",
    "        return(f\"{descriptions[id]['classification']['type']['libelle']} {descriptions[id]['classification']['sousType']['libelle']}\")\n",
    "    else: \n",
    "        return descriptions[id]['classification']['type']['libelle']\n",
    "\n",
    "all_rapports = (all_rapports\n",
    "    .loc[lambda x: x['id'].isin(descriptions.keys())]\n",
    "    .assign(\n",
    "        description = lambda x: x['id'].apply(get_desc),\n",
    "        rapport_type = lambda x: x['id'].apply(get_type),\n",
    "        depot = lambda x: x['id'].apply(get_depot)\n",
    "    )\n",
    "    # on ne garde que les rapports autonomes\n",
    "    .loc[lambda x: x['depot'].isin(['RAPAUT'])]\n",
    ")\n",
    "\n",
    "all_rapports"
   ]
  },
  {
   "cell_type": "markdown",
   "metadata": {},
   "source": [
    "Quels sont les nouveaux RI ?   "
   ]
  },
  {
   "cell_type": "code",
   "execution_count": 9,
   "metadata": {
    "execution": {
     "iopub.execute_input": "2022-08-15T08:14:12.430357Z",
     "iopub.status.busy": "2022-08-15T08:14:12.430149Z",
     "iopub.status.idle": "2022-08-15T08:14:12.440140Z",
     "shell.execute_reply": "2022-08-15T08:14:12.439528Z"
    }
   },
   "outputs": [
    {
     "data": {
      "text/html": [
       "<div>\n",
       "<style scoped>\n",
       "    .dataframe tbody tr th:only-of-type {\n",
       "        vertical-align: middle;\n",
       "    }\n",
       "\n",
       "    .dataframe tbody tr th {\n",
       "        vertical-align: top;\n",
       "    }\n",
       "\n",
       "    .dataframe thead th {\n",
       "        text-align: right;\n",
       "    }\n",
       "</style>\n",
       "<table border=\"1\" class=\"dataframe\">\n",
       "  <thead>\n",
       "    <tr style=\"text-align: right;\">\n",
       "      <th></th>\n",
       "      <th>date</th>\n",
       "      <th>url</th>\n",
       "      <th>full_id</th>\n",
       "      <th>id</th>\n",
       "      <th>tome</th>\n",
       "      <th>description</th>\n",
       "      <th>rapport_type</th>\n",
       "      <th>depot</th>\n",
       "    </tr>\n",
       "  </thead>\n",
       "  <tbody>\n",
       "  </tbody>\n",
       "</table>\n",
       "</div>"
      ],
      "text/plain": [
       "Empty DataFrame\n",
       "Columns: [date, url, full_id, id, tome, description, rapport_type, depot]\n",
       "Index: []"
      ]
     },
     "execution_count": 9,
     "metadata": {},
     "output_type": "execute_result"
    }
   ],
   "source": [
    "try:\n",
    "    old_rapports = pd.read_csv('rapports.csv', sep=';')\n",
    "except:\n",
    "    old_rapports = pd.DataFrame({'full_id': []})\n",
    "\n",
    "new_rapports = all_rapports.loc[~all_rapports['full_id'].isin(old_rapports['full_id'])]    \n",
    "new_rapports"
   ]
  },
  {
   "cell_type": "markdown",
   "metadata": {},
   "source": [
    "## On sauvegarde les nouveaux rapports"
   ]
  },
  {
   "cell_type": "code",
   "execution_count": 10,
   "metadata": {
    "execution": {
     "iopub.execute_input": "2022-08-15T08:14:12.442910Z",
     "iopub.status.busy": "2022-08-15T08:14:12.442702Z",
     "iopub.status.idle": "2022-08-15T08:14:12.449152Z",
     "shell.execute_reply": "2022-08-15T08:14:12.448190Z"
    }
   },
   "outputs": [],
   "source": [
    "pd.concat([old_rapports, new_rapports], ignore_index=True).to_csv('rapports.csv', sep=';', index=False)"
   ]
  },
  {
   "cell_type": "markdown",
   "metadata": {},
   "source": [
    "## On télécharge les nouveaux fichiers"
   ]
  },
  {
   "cell_type": "code",
   "execution_count": 11,
   "metadata": {
    "execution": {
     "iopub.execute_input": "2022-08-15T08:14:12.451884Z",
     "iopub.status.busy": "2022-08-15T08:14:12.451676Z",
     "iopub.status.idle": "2022-08-15T08:14:12.456127Z",
     "shell.execute_reply": "2022-08-15T08:14:12.455521Z"
    }
   },
   "outputs": [],
   "source": [
    "def get_dir(type: str):\n",
    "    if type.startswith(\"Rapport d'information\"):\n",
    "        return \"ris\"\n",
    "    if type.startswith(\"Rapport d'enquête\"):\n",
    "        return \"res\"\n",
    "    else:\n",
    "        return \"raps\"\n",
    "\n",
    "for index, row in new_rapports.iterrows():\n",
    "    dir = get_dir(row['rapport_type'])\n",
    "    file = Path(f'../data/assnat/{dir}/{row[\"full_id\"]}.pdf')\n",
    "    if not file.exists():\n",
    "        r = requests.get(row['url'])\n",
    "        if r.status_code == 200:\n",
    "            file.parent.mkdir(parents=True, exist_ok=True)    \n",
    "            file.write_bytes(r.content)"
   ]
  },
  {
   "cell_type": "markdown",
   "metadata": {},
   "source": [
    "## On tweete les nouveaux rapports"
   ]
  },
  {
   "cell_type": "code",
   "execution_count": 12,
   "metadata": {
    "execution": {
     "iopub.execute_input": "2022-08-15T08:14:12.459070Z",
     "iopub.status.busy": "2022-08-15T08:14:12.458863Z",
     "iopub.status.idle": "2022-08-15T08:14:12.462117Z",
     "shell.execute_reply": "2022-08-15T08:14:12.461495Z"
    }
   },
   "outputs": [],
   "source": [
    "try:\n",
    "    credentials = json.load(open('../twitter-credentials.json'))\n",
    "except:\n",
    "    # gh actions secrets\n",
    "    credentials = {key: os.environ[key] for key in [\"TWITTER_API_KEY\", \"TWITTER_API_SECRET\", \"TWITTER_ACCESS_KEY\", \"TWITTER_ACCESS_SECRET\"]}"
   ]
  },
  {
   "cell_type": "code",
   "execution_count": 13,
   "metadata": {
    "execution": {
     "iopub.execute_input": "2022-08-15T08:14:12.465228Z",
     "iopub.status.busy": "2022-08-15T08:14:12.465020Z",
     "iopub.status.idle": "2022-08-15T08:14:12.582661Z",
     "shell.execute_reply": "2022-08-15T08:14:12.581891Z"
    }
   },
   "outputs": [
    {
     "name": "stdout",
     "output_type": "stream",
     "text": [
      "Authentication OK\n"
     ]
    }
   ],
   "source": [
    "auth = tweepy.OAuthHandler(credentials['TWITTER_API_KEY'], credentials['TWITTER_API_SECRET'])\n",
    "auth.set_access_token(credentials['TWITTER_ACCESS_KEY'], credentials['TWITTER_ACCESS_SECRET'])\n",
    "api = tweepy.API(auth)\n",
    "\n",
    "try:\n",
    "    api.verify_credentials()\n",
    "    print(\"Authentication OK\")\n",
    "except Exception as e:\n",
    "    print(e)\n",
    "    print(\"Error during authentication\")"
   ]
  },
  {
   "cell_type": "code",
   "execution_count": 14,
   "metadata": {
    "execution": {
     "iopub.execute_input": "2022-08-15T08:14:12.585978Z",
     "iopub.status.busy": "2022-08-15T08:14:12.585567Z",
     "iopub.status.idle": "2022-08-15T08:14:12.590414Z",
     "shell.execute_reply": "2022-08-15T08:14:12.589772Z"
    }
   },
   "outputs": [],
   "source": [
    "for index, row in new_rapports.iterrows():\n",
    "    icons_dict = {\n",
    "        \"Rapport d'information\": \"ℹ️\",\n",
    "        \"Rapport d'information sur des actes de l'Union européenne\": \"🇪🇺\",\n",
    "        \"Rapport d'information d'une mission d'information constituée au sein d'une commission permanente\": \"🔖\",\n",
    "        \"Rapport d'enquête\": \"🔍\"\n",
    "    }\n",
    "    icon = icons_dict[row['rapport_type']] if row['rapport_type'] in icons_dict else '📖'\n",
    "    tweet = f'{icon} • Nouveau {row[\"rapport_type\"].lower()} {row[\"url\"]} {row[\"description\"]}'\n",
    "    # pour le momnet, on ne tweet que les rapports d'information et d'enquête\n",
    "    if len(tweet) > 280:\n",
    "        tweet = tweet[0:277] + '...'    \n",
    "    print(tweet)\n",
    "    api.update_status(tweet)"
   ]
  }
 ],
 "metadata": {
  "kernelspec": {
   "display_name": "Python 3.9.8 64-bit",
   "language": "python",
   "name": "python3"
  },
  "language_info": {
   "codemirror_mode": {
    "name": "ipython",
    "version": 3
   },
   "file_extension": ".py",
   "mimetype": "text/x-python",
   "name": "python",
   "nbconvert_exporter": "python",
   "pygments_lexer": "ipython3",
   "version": "3.8.13"
  },
  "vscode": {
   "interpreter": {
    "hash": "aee8b7b246df8f9039afb4144a1f6fd8d2ca17a180786b69acc140d282b71a49"
   }
  }
 },
 "nbformat": 4,
 "nbformat_minor": 2
}
