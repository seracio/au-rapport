{
 "cells": [
  {
   "cell_type": "code",
   "execution_count": 1,
   "metadata": {
    "execution": {
     "iopub.execute_input": "2022-10-14T16:17:49.011540Z",
     "iopub.status.busy": "2022-10-14T16:17:49.011249Z",
     "iopub.status.idle": "2022-10-14T16:17:49.302469Z",
     "shell.execute_reply": "2022-10-14T16:17:49.301753Z"
    }
   },
   "outputs": [],
   "source": [
    "import requests\n",
    "from datetime import datetime\n",
    "import pandas as pd\n",
    "import json\n",
    "import tweepy\n",
    "import os\n",
    "from pathlib import Path"
   ]
  },
  {
   "cell_type": "markdown",
   "metadata": {},
   "source": [
    "## On récupère la date du jour"
   ]
  },
  {
   "cell_type": "code",
   "execution_count": 2,
   "metadata": {
    "execution": {
     "iopub.execute_input": "2022-10-14T16:17:49.306357Z",
     "iopub.status.busy": "2022-10-14T16:17:49.306036Z",
     "iopub.status.idle": "2022-10-14T16:17:49.310545Z",
     "shell.execute_reply": "2022-10-14T16:17:49.309964Z"
    }
   },
   "outputs": [],
   "source": [
    "today = datetime.now()\n",
    "yesterday = today - pd.Timedelta(days=1)"
   ]
  },
  {
   "cell_type": "markdown",
   "metadata": {},
   "source": [
    "## Quels sont les fichiers publiés en open data aujourd'hui ?"
   ]
  },
  {
   "cell_type": "code",
   "execution_count": 3,
   "metadata": {
    "execution": {
     "iopub.execute_input": "2022-10-14T16:17:49.313409Z",
     "iopub.status.busy": "2022-10-14T16:17:49.313201Z",
     "iopub.status.idle": "2022-10-14T16:17:51.101951Z",
     "shell.execute_reply": "2022-10-14T16:17:51.101206Z"
    }
   },
   "outputs": [],
   "source": [
    "def retrieve_files_date(date):\n",
    "    formated_date = date.strftime('%Y-%m-%d')\n",
    "    try:\n",
    "        return(pd\n",
    "            .read_csv(\n",
    "                f'https://www.assemblee-nationale.fr/dyn/opendata/list-publication/publication_{formated_date}.csv', \n",
    "                sep=';', \n",
    "                names=['date', 'url']\n",
    "            )\n",
    "        )\n",
    "    except:\n",
    "        return(pd.DataFrame(columns=['date', 'url']))\n",
    "\n",
    "files = pd.concat([retrieve_files_date(date) for date in [yesterday, today]], ignore_index=True)"
   ]
  },
  {
   "cell_type": "markdown",
   "metadata": {},
   "source": [
    "## On isole tous les rapports d'information\n",
    "\n",
    "- L'id du rapport permet d'accéder au fichier de description json \n",
    "- Si l'id est différent du full_id, cela veut dire que c'est un rapport en plusieurs parties. Il faudra trouver la correspondance dans le fichier de description json"
   ]
  },
  {
   "cell_type": "code",
   "execution_count": 4,
   "metadata": {
    "execution": {
     "iopub.execute_input": "2022-10-14T16:17:51.105986Z",
     "iopub.status.busy": "2022-10-14T16:17:51.105568Z",
     "iopub.status.idle": "2022-10-14T16:17:51.130735Z",
     "shell.execute_reply": "2022-10-14T16:17:51.130218Z"
    }
   },
   "outputs": [
    {
     "data": {
      "text/html": [
       "<div>\n",
       "<style scoped>\n",
       "    .dataframe tbody tr th:only-of-type {\n",
       "        vertical-align: middle;\n",
       "    }\n",
       "\n",
       "    .dataframe tbody tr th {\n",
       "        vertical-align: top;\n",
       "    }\n",
       "\n",
       "    .dataframe thead th {\n",
       "        text-align: right;\n",
       "    }\n",
       "</style>\n",
       "<table border=\"1\" class=\"dataframe\">\n",
       "  <thead>\n",
       "    <tr style=\"text-align: right;\">\n",
       "      <th></th>\n",
       "      <th>date</th>\n",
       "      <th>url</th>\n",
       "      <th>full_id</th>\n",
       "      <th>id</th>\n",
       "      <th>tome</th>\n",
       "    </tr>\n",
       "  </thead>\n",
       "  <tbody>\n",
       "    <tr>\n",
       "      <th>5149</th>\n",
       "      <td>2022-10-14 10:37:18</td>\n",
       "      <td>https://www.assemblee-nationale.fr/dyn/opendat...</td>\n",
       "      <td>RINFANR5L16B0333</td>\n",
       "      <td>RINFANR5L16B0333</td>\n",
       "      <td></td>\n",
       "    </tr>\n",
       "    <tr>\n",
       "      <th>5152</th>\n",
       "      <td>2022-10-14 10:38:23</td>\n",
       "      <td>https://www.assemblee-nationale.fr/dyn/opendat...</td>\n",
       "      <td>RINFANR5L16B0332</td>\n",
       "      <td>RINFANR5L16B0332</td>\n",
       "      <td></td>\n",
       "    </tr>\n",
       "    <tr>\n",
       "      <th>5159</th>\n",
       "      <td>2022-10-14 10:39:17</td>\n",
       "      <td>https://www.assemblee-nationale.fr/dyn/opendat...</td>\n",
       "      <td>RINFANR5L16B0331</td>\n",
       "      <td>RINFANR5L16B0331</td>\n",
       "      <td></td>\n",
       "    </tr>\n",
       "  </tbody>\n",
       "</table>\n",
       "</div>"
      ],
      "text/plain": [
       "                     date                                                url  \\\n",
       "5149  2022-10-14 10:37:18  https://www.assemblee-nationale.fr/dyn/opendat...   \n",
       "5152  2022-10-14 10:38:23  https://www.assemblee-nationale.fr/dyn/opendat...   \n",
       "5159  2022-10-14 10:39:17  https://www.assemblee-nationale.fr/dyn/opendat...   \n",
       "\n",
       "               full_id                id tome  \n",
       "5149  RINFANR5L16B0333  RINFANR5L16B0333       \n",
       "5152  RINFANR5L16B0332  RINFANR5L16B0332       \n",
       "5159  RINFANR5L16B0331  RINFANR5L16B0331       "
      ]
     },
     "execution_count": 4,
     "metadata": {},
     "output_type": "execute_result"
    }
   ],
   "source": [
    "ris = (files\n",
    "    # les pdf d'un rapport d'information\n",
    "    .loc[files['url'].str.contains(r'RIN.+\\.pdf$')]    \n",
    "    .assign(\n",
    "        full_id = lambda x: x['url'].str.extract(pat = '(RIN.+)\\.pdf')        \n",
    "    )\n",
    ")\n",
    "\n",
    "# https://www.codegrepper.com/code-examples/javascript/regex+match+anything+except+character\n",
    "ris[['id', 'tome']] =  ris['full_id'].str.extract(pat = '(RIN[^-]+)-?(.*)', expand=True)\n",
    "\n",
    "ris"
   ]
  },
  {
   "cell_type": "code",
   "execution_count": 5,
   "metadata": {
    "execution": {
     "iopub.execute_input": "2022-10-14T16:17:51.171378Z",
     "iopub.status.busy": "2022-10-14T16:17:51.170893Z",
     "iopub.status.idle": "2022-10-14T16:17:51.188275Z",
     "shell.execute_reply": "2022-10-14T16:17:51.187571Z"
    }
   },
   "outputs": [
    {
     "data": {
      "text/html": [
       "<div>\n",
       "<style scoped>\n",
       "    .dataframe tbody tr th:only-of-type {\n",
       "        vertical-align: middle;\n",
       "    }\n",
       "\n",
       "    .dataframe tbody tr th {\n",
       "        vertical-align: top;\n",
       "    }\n",
       "\n",
       "    .dataframe thead th {\n",
       "        text-align: right;\n",
       "    }\n",
       "</style>\n",
       "<table border=\"1\" class=\"dataframe\">\n",
       "  <thead>\n",
       "    <tr style=\"text-align: right;\">\n",
       "      <th></th>\n",
       "      <th>date</th>\n",
       "      <th>url</th>\n",
       "      <th>full_id</th>\n",
       "      <th>id</th>\n",
       "      <th>tome</th>\n",
       "    </tr>\n",
       "  </thead>\n",
       "  <tbody>\n",
       "    <tr>\n",
       "      <th>2686</th>\n",
       "      <td>2022-10-13 16:57:05</td>\n",
       "      <td>https://www.assemblee-nationale.fr/dyn/opendat...</td>\n",
       "      <td>RAPPANR5L16B0339-COMPA</td>\n",
       "      <td>RAPPANR5L16B0339</td>\n",
       "      <td>COMPA</td>\n",
       "    </tr>\n",
       "    <tr>\n",
       "      <th>6310</th>\n",
       "      <td>2022-10-14 15:42:23</td>\n",
       "      <td>https://www.assemblee-nationale.fr/dyn/opendat...</td>\n",
       "      <td>RAPPANR5L16B0292-tIII-a48</td>\n",
       "      <td>RAPPANR5L16B0292</td>\n",
       "      <td>tIII-a48</td>\n",
       "    </tr>\n",
       "  </tbody>\n",
       "</table>\n",
       "</div>"
      ],
      "text/plain": [
       "                     date                                                url  \\\n",
       "2686  2022-10-13 16:57:05  https://www.assemblee-nationale.fr/dyn/opendat...   \n",
       "6310  2022-10-14 15:42:23  https://www.assemblee-nationale.fr/dyn/opendat...   \n",
       "\n",
       "                        full_id                id      tome  \n",
       "2686     RAPPANR5L16B0339-COMPA  RAPPANR5L16B0339     COMPA  \n",
       "6310  RAPPANR5L16B0292-tIII-a48  RAPPANR5L16B0292  tIII-a48  "
      ]
     },
     "execution_count": 5,
     "metadata": {},
     "output_type": "execute_result"
    }
   ],
   "source": [
    "raps = (files\n",
    "    # les pdf d'un rapport\n",
    "    .loc[files['url'].str.contains(r'RAPP.+\\.pdf$')]    \n",
    "    .assign(\n",
    "        full_id = lambda x: x['url'].str.extract(pat = '(RAPP.+)\\.pdf'),        \n",
    "    )\n",
    ")\n",
    "\n",
    "# https://www.codegrepper.com/code-examples/javascript/regex+match+anything+except+character\n",
    "raps[['id', 'tome']] =  raps['full_id'].str.extract(pat = '(RAPP[^-]+)-?(.*)', expand=True)\n",
    "\n",
    "raps"
   ]
  },
  {
   "cell_type": "code",
   "execution_count": 6,
   "metadata": {
    "execution": {
     "iopub.execute_input": "2022-10-14T16:17:51.191311Z",
     "iopub.status.busy": "2022-10-14T16:17:51.191063Z",
     "iopub.status.idle": "2022-10-14T16:17:51.197376Z",
     "shell.execute_reply": "2022-10-14T16:17:51.196583Z"
    }
   },
   "outputs": [],
   "source": [
    "all_rapports = (pd\n",
    "    .concat([ris, raps], ignore_index=True)\n",
    "    .drop_duplicates(subset=['id', 'full_id'])\n",
    ")"
   ]
  },
  {
   "cell_type": "code",
   "execution_count": 7,
   "metadata": {
    "execution": {
     "iopub.execute_input": "2022-10-14T16:17:51.201127Z",
     "iopub.status.busy": "2022-10-14T16:17:51.200471Z",
     "iopub.status.idle": "2022-10-14T16:17:54.799253Z",
     "shell.execute_reply": "2022-10-14T16:17:54.798552Z"
    }
   },
   "outputs": [],
   "source": [
    "descriptions = {}\n",
    "for id in all_rapports['id'].unique():\n",
    "    url = f'https://www.assemblee-nationale.fr/dyn/opendata/{id}.json'\n",
    "    response = requests.get(url)\n",
    "    if response.status_code == 200:\n",
    "        descriptions[id] = json.loads(response.text)\n",
    "    else:  \n",
    "        print(f'{id} not found')"
   ]
  },
  {
   "cell_type": "markdown",
   "metadata": {},
   "source": [
    "Pour le moment, on va juste mettre la description de base dans la df"
   ]
  },
  {
   "cell_type": "code",
   "execution_count": 8,
   "metadata": {
    "execution": {
     "iopub.execute_input": "2022-10-14T16:17:54.803226Z",
     "iopub.status.busy": "2022-10-14T16:17:54.802709Z",
     "iopub.status.idle": "2022-10-14T16:17:54.820492Z",
     "shell.execute_reply": "2022-10-14T16:17:54.819816Z"
    }
   },
   "outputs": [
    {
     "data": {
      "text/html": [
       "<div>\n",
       "<style scoped>\n",
       "    .dataframe tbody tr th:only-of-type {\n",
       "        vertical-align: middle;\n",
       "    }\n",
       "\n",
       "    .dataframe tbody tr th {\n",
       "        vertical-align: top;\n",
       "    }\n",
       "\n",
       "    .dataframe thead th {\n",
       "        text-align: right;\n",
       "    }\n",
       "</style>\n",
       "<table border=\"1\" class=\"dataframe\">\n",
       "  <thead>\n",
       "    <tr style=\"text-align: right;\">\n",
       "      <th></th>\n",
       "      <th>date</th>\n",
       "      <th>url</th>\n",
       "      <th>full_id</th>\n",
       "      <th>id</th>\n",
       "      <th>tome</th>\n",
       "      <th>description</th>\n",
       "      <th>rapport_type</th>\n",
       "      <th>depot</th>\n",
       "    </tr>\n",
       "  </thead>\n",
       "  <tbody>\n",
       "    <tr>\n",
       "      <th>0</th>\n",
       "      <td>2022-10-14 10:37:18</td>\n",
       "      <td>https://www.assemblee-nationale.fr/dyn/opendat...</td>\n",
       "      <td>RINFANR5L16B0333</td>\n",
       "      <td>RINFANR5L16B0333</td>\n",
       "      <td></td>\n",
       "      <td>rapport d'information déposé en application de...</td>\n",
       "      <td>Rapport d'information sur l'application des lois</td>\n",
       "      <td>RAPAUT</td>\n",
       "    </tr>\n",
       "    <tr>\n",
       "      <th>1</th>\n",
       "      <td>2022-10-14 10:38:23</td>\n",
       "      <td>https://www.assemblee-nationale.fr/dyn/opendat...</td>\n",
       "      <td>RINFANR5L16B0332</td>\n",
       "      <td>RINFANR5L16B0332</td>\n",
       "      <td></td>\n",
       "      <td>rapport d'information déposé en application de...</td>\n",
       "      <td>Rapport d'information sur l'application des lois</td>\n",
       "      <td>RAPAUT</td>\n",
       "    </tr>\n",
       "    <tr>\n",
       "      <th>2</th>\n",
       "      <td>2022-10-14 10:39:17</td>\n",
       "      <td>https://www.assemblee-nationale.fr/dyn/opendat...</td>\n",
       "      <td>RINFANR5L16B0331</td>\n",
       "      <td>RINFANR5L16B0331</td>\n",
       "      <td></td>\n",
       "      <td>rapport d'information déposé en application de...</td>\n",
       "      <td>Rapport d'information sur l'application des lois</td>\n",
       "      <td>RAPAUT</td>\n",
       "    </tr>\n",
       "  </tbody>\n",
       "</table>\n",
       "</div>"
      ],
      "text/plain": [
       "                  date                                                url  \\\n",
       "0  2022-10-14 10:37:18  https://www.assemblee-nationale.fr/dyn/opendat...   \n",
       "1  2022-10-14 10:38:23  https://www.assemblee-nationale.fr/dyn/opendat...   \n",
       "2  2022-10-14 10:39:17  https://www.assemblee-nationale.fr/dyn/opendat...   \n",
       "\n",
       "            full_id                id tome  \\\n",
       "0  RINFANR5L16B0333  RINFANR5L16B0333        \n",
       "1  RINFANR5L16B0332  RINFANR5L16B0332        \n",
       "2  RINFANR5L16B0331  RINFANR5L16B0331        \n",
       "\n",
       "                                         description  \\\n",
       "0  rapport d'information déposé en application de...   \n",
       "1  rapport d'information déposé en application de...   \n",
       "2  rapport d'information déposé en application de...   \n",
       "\n",
       "                                       rapport_type   depot  \n",
       "0  Rapport d'information sur l'application des lois  RAPAUT  \n",
       "1  Rapport d'information sur l'application des lois  RAPAUT  \n",
       "2  Rapport d'information sur l'application des lois  RAPAUT  "
      ]
     },
     "execution_count": 8,
     "metadata": {},
     "output_type": "execute_result"
    }
   ],
   "source": [
    "def get_desc(id):\n",
    "    return descriptions[id]['titres']['titrePrincipalCourt'].replace(\"déposé en application de l'article 145 du règlement, \", \"\")\n",
    "\n",
    "def get_depot(id):\n",
    "    return descriptions[id]['classification']['famille']['depot']['code']\n",
    "\n",
    "def get_type(id):\n",
    "    if 'libelle' in descriptions[id]['classification']['sousType']:\n",
    "        return(f\"{descriptions[id]['classification']['type']['libelle']} {descriptions[id]['classification']['sousType']['libelle']}\")\n",
    "    else: \n",
    "        return descriptions[id]['classification']['type']['libelle']\n",
    "\n",
    "all_rapports = (all_rapports\n",
    "    .loc[lambda x: x['id'].isin(descriptions.keys())]\n",
    "    .assign(\n",
    "        description = lambda x: x['id'].apply(get_desc),\n",
    "        rapport_type = lambda x: x['id'].apply(get_type),\n",
    "        depot = lambda x: x['id'].apply(get_depot)\n",
    "    )\n",
    "    # on ne garde que les rapports autonomes\n",
    "    .loc[lambda x: x['depot'].isin(['RAPAUT'])]\n",
    ")\n",
    "\n",
    "all_rapports"
   ]
  },
  {
   "cell_type": "markdown",
   "metadata": {},
   "source": [
    "Quels sont les nouveaux RI ?   "
   ]
  },
  {
   "cell_type": "code",
   "execution_count": 9,
   "metadata": {
    "execution": {
     "iopub.execute_input": "2022-10-14T16:17:54.824156Z",
     "iopub.status.busy": "2022-10-14T16:17:54.823626Z",
     "iopub.status.idle": "2022-10-14T16:17:54.837594Z",
     "shell.execute_reply": "2022-10-14T16:17:54.836948Z"
    }
   },
   "outputs": [
    {
     "data": {
      "text/html": [
       "<div>\n",
       "<style scoped>\n",
       "    .dataframe tbody tr th:only-of-type {\n",
       "        vertical-align: middle;\n",
       "    }\n",
       "\n",
       "    .dataframe tbody tr th {\n",
       "        vertical-align: top;\n",
       "    }\n",
       "\n",
       "    .dataframe thead th {\n",
       "        text-align: right;\n",
       "    }\n",
       "</style>\n",
       "<table border=\"1\" class=\"dataframe\">\n",
       "  <thead>\n",
       "    <tr style=\"text-align: right;\">\n",
       "      <th></th>\n",
       "      <th>date</th>\n",
       "      <th>url</th>\n",
       "      <th>full_id</th>\n",
       "      <th>id</th>\n",
       "      <th>tome</th>\n",
       "      <th>description</th>\n",
       "      <th>rapport_type</th>\n",
       "      <th>depot</th>\n",
       "    </tr>\n",
       "  </thead>\n",
       "  <tbody>\n",
       "    <tr>\n",
       "      <th>0</th>\n",
       "      <td>2022-10-14 10:37:18</td>\n",
       "      <td>https://www.assemblee-nationale.fr/dyn/opendat...</td>\n",
       "      <td>RINFANR5L16B0333</td>\n",
       "      <td>RINFANR5L16B0333</td>\n",
       "      <td></td>\n",
       "      <td>rapport d'information déposé en application de...</td>\n",
       "      <td>Rapport d'information sur l'application des lois</td>\n",
       "      <td>RAPAUT</td>\n",
       "    </tr>\n",
       "    <tr>\n",
       "      <th>1</th>\n",
       "      <td>2022-10-14 10:38:23</td>\n",
       "      <td>https://www.assemblee-nationale.fr/dyn/opendat...</td>\n",
       "      <td>RINFANR5L16B0332</td>\n",
       "      <td>RINFANR5L16B0332</td>\n",
       "      <td></td>\n",
       "      <td>rapport d'information déposé en application de...</td>\n",
       "      <td>Rapport d'information sur l'application des lois</td>\n",
       "      <td>RAPAUT</td>\n",
       "    </tr>\n",
       "    <tr>\n",
       "      <th>2</th>\n",
       "      <td>2022-10-14 10:39:17</td>\n",
       "      <td>https://www.assemblee-nationale.fr/dyn/opendat...</td>\n",
       "      <td>RINFANR5L16B0331</td>\n",
       "      <td>RINFANR5L16B0331</td>\n",
       "      <td></td>\n",
       "      <td>rapport d'information déposé en application de...</td>\n",
       "      <td>Rapport d'information sur l'application des lois</td>\n",
       "      <td>RAPAUT</td>\n",
       "    </tr>\n",
       "  </tbody>\n",
       "</table>\n",
       "</div>"
      ],
      "text/plain": [
       "                  date                                                url  \\\n",
       "0  2022-10-14 10:37:18  https://www.assemblee-nationale.fr/dyn/opendat...   \n",
       "1  2022-10-14 10:38:23  https://www.assemblee-nationale.fr/dyn/opendat...   \n",
       "2  2022-10-14 10:39:17  https://www.assemblee-nationale.fr/dyn/opendat...   \n",
       "\n",
       "            full_id                id tome  \\\n",
       "0  RINFANR5L16B0333  RINFANR5L16B0333        \n",
       "1  RINFANR5L16B0332  RINFANR5L16B0332        \n",
       "2  RINFANR5L16B0331  RINFANR5L16B0331        \n",
       "\n",
       "                                         description  \\\n",
       "0  rapport d'information déposé en application de...   \n",
       "1  rapport d'information déposé en application de...   \n",
       "2  rapport d'information déposé en application de...   \n",
       "\n",
       "                                       rapport_type   depot  \n",
       "0  Rapport d'information sur l'application des lois  RAPAUT  \n",
       "1  Rapport d'information sur l'application des lois  RAPAUT  \n",
       "2  Rapport d'information sur l'application des lois  RAPAUT  "
      ]
     },
     "execution_count": 9,
     "metadata": {},
     "output_type": "execute_result"
    }
   ],
   "source": [
    "try:\n",
    "    old_rapports = pd.read_csv('rapports.csv', sep=';')\n",
    "except:\n",
    "    old_rapports = pd.DataFrame({'full_id': []})\n",
    "\n",
    "new_rapports = all_rapports.loc[~all_rapports['full_id'].isin(old_rapports['full_id'])]    \n",
    "new_rapports"
   ]
  },
  {
   "cell_type": "markdown",
   "metadata": {},
   "source": [
    "## On sauvegarde les nouveaux rapports"
   ]
  },
  {
   "cell_type": "code",
   "execution_count": 10,
   "metadata": {
    "execution": {
     "iopub.execute_input": "2022-10-14T16:17:54.840912Z",
     "iopub.status.busy": "2022-10-14T16:17:54.840514Z",
     "iopub.status.idle": "2022-10-14T16:17:54.847392Z",
     "shell.execute_reply": "2022-10-14T16:17:54.846842Z"
    }
   },
   "outputs": [],
   "source": [
    "pd.concat([old_rapports, new_rapports], ignore_index=True).to_csv('rapports.csv', sep=';', index=False)"
   ]
  },
  {
   "cell_type": "markdown",
   "metadata": {},
   "source": [
    "## On télécharge les nouveaux fichiers"
   ]
  },
  {
   "cell_type": "code",
   "execution_count": 11,
   "metadata": {
    "execution": {
     "iopub.execute_input": "2022-10-14T16:17:54.850556Z",
     "iopub.status.busy": "2022-10-14T16:17:54.850139Z",
     "iopub.status.idle": "2022-10-14T16:18:00.112667Z",
     "shell.execute_reply": "2022-10-14T16:18:00.111936Z"
    }
   },
   "outputs": [],
   "source": [
    "def get_dir(type: str):\n",
    "    if type.startswith(\"Rapport d'information\"):\n",
    "        return \"ris\"\n",
    "    if type.startswith(\"Rapport d'enquête\"):\n",
    "        return \"res\"\n",
    "    else:\n",
    "        return \"raps\"\n",
    "\n",
    "for index, row in new_rapports.iterrows():\n",
    "    dir = get_dir(row['rapport_type'])\n",
    "    file = Path(f'../data/assnat/{dir}/{row[\"full_id\"]}.pdf')\n",
    "    if not file.exists():\n",
    "        r = requests.get(row['url'])\n",
    "        if r.status_code == 200:\n",
    "            file.parent.mkdir(parents=True, exist_ok=True)    \n",
    "            file.write_bytes(r.content)"
   ]
  },
  {
   "cell_type": "markdown",
   "metadata": {},
   "source": [
    "## On tweete les nouveaux rapports"
   ]
  },
  {
   "cell_type": "code",
   "execution_count": 12,
   "metadata": {
    "execution": {
     "iopub.execute_input": "2022-10-14T16:18:00.116459Z",
     "iopub.status.busy": "2022-10-14T16:18:00.116080Z",
     "iopub.status.idle": "2022-10-14T16:18:00.119969Z",
     "shell.execute_reply": "2022-10-14T16:18:00.119318Z"
    }
   },
   "outputs": [],
   "source": [
    "try:\n",
    "    credentials = json.load(open('../twitter-credentials.json'))\n",
    "except:\n",
    "    # gh actions secrets\n",
    "    credentials = {key: os.environ[key] for key in [\"TWITTER_API_KEY\", \"TWITTER_API_SECRET\", \"TWITTER_ACCESS_KEY\", \"TWITTER_ACCESS_SECRET\"]}"
   ]
  },
  {
   "cell_type": "code",
   "execution_count": 13,
   "metadata": {
    "execution": {
     "iopub.execute_input": "2022-10-14T16:18:00.122974Z",
     "iopub.status.busy": "2022-10-14T16:18:00.122750Z",
     "iopub.status.idle": "2022-10-14T16:18:00.258573Z",
     "shell.execute_reply": "2022-10-14T16:18:00.257801Z"
    }
   },
   "outputs": [
    {
     "name": "stdout",
     "output_type": "stream",
     "text": [
      "Authentication OK\n"
     ]
    }
   ],
   "source": [
    "auth = tweepy.OAuthHandler(credentials['TWITTER_API_KEY'], credentials['TWITTER_API_SECRET'])\n",
    "auth.set_access_token(credentials['TWITTER_ACCESS_KEY'], credentials['TWITTER_ACCESS_SECRET'])\n",
    "api = tweepy.API(auth)\n",
    "\n",
    "try:\n",
    "    api.verify_credentials()\n",
    "    print(\"Authentication OK\")\n",
    "except Exception as e:\n",
    "    print(e)\n",
    "    print(\"Error during authentication\")"
   ]
  },
  {
   "cell_type": "code",
   "execution_count": 14,
   "metadata": {
    "execution": {
     "iopub.execute_input": "2022-10-14T16:18:00.261890Z",
     "iopub.status.busy": "2022-10-14T16:18:00.261650Z",
     "iopub.status.idle": "2022-10-14T16:18:00.981598Z",
     "shell.execute_reply": "2022-10-14T16:18:00.980722Z"
    }
   },
   "outputs": [
    {
     "name": "stdout",
     "output_type": "stream",
     "text": [
      "📖 • Nouveau rapport d'information sur l'application des lois https://www.assemblee-nationale.fr/dyn/opendata/RINFANR5L16B0333.pdf rapport d'information déposé en application de l'article 145-7 alinéa 1 du règlement, par la commission du développement durable et de l'aménagemen...\n",
      "📖 • Nouveau rapport d'information sur l'application des lois https://www.assemblee-nationale.fr/dyn/opendata/RINFANR5L16B0332.pdf rapport d'information déposé en application de l'article 145-7 alinéa 1 du règlement, par la commission du développement durable et de l'aménagemen...\n",
      "📖 • Nouveau rapport d'information sur l'application des lois https://www.assemblee-nationale.fr/dyn/opendata/RINFANR5L16B0331.pdf rapport d'information déposé en application de l'article 145-7 alinéa 1 du règlement, par la commission du développement durable et de l'aménagemen...\n"
     ]
    }
   ],
   "source": [
    "for index, row in new_rapports.iterrows():\n",
    "    icons_dict = {\n",
    "        \"Rapport d'information\": \"ℹ️\",\n",
    "        \"Rapport d'information sur des actes de l'Union européenne\": \"🇪🇺\",\n",
    "        \"Rapport d'information d'une mission d'information constituée au sein d'une commission permanente\": \"🔖\",\n",
    "        \"Rapport d'enquête\": \"🔍\"\n",
    "    }\n",
    "    icon = icons_dict[row['rapport_type']] if row['rapport_type'] in icons_dict else '📖'\n",
    "    tweet = f'{icon} • Nouveau {row[\"rapport_type\"].lower()} {row[\"url\"]} {row[\"description\"]}'\n",
    "    # pour le momnet, on ne tweet que les rapports d'information et d'enquête\n",
    "    if len(tweet) > 280:\n",
    "        tweet = tweet[0:277] + '...'    \n",
    "    print(tweet)\n",
    "    api.update_status(tweet)"
   ]
  }
 ],
 "metadata": {
  "kernelspec": {
   "display_name": "Python 3.9.8 64-bit",
   "language": "python",
   "name": "python3"
  },
  "language_info": {
   "codemirror_mode": {
    "name": "ipython",
    "version": 3
   },
   "file_extension": ".py",
   "mimetype": "text/x-python",
   "name": "python",
   "nbconvert_exporter": "python",
   "pygments_lexer": "ipython3",
   "version": "3.8.13"
  },
  "vscode": {
   "interpreter": {
    "hash": "aee8b7b246df8f9039afb4144a1f6fd8d2ca17a180786b69acc140d282b71a49"
   }
  }
 },
 "nbformat": 4,
 "nbformat_minor": 2
}
