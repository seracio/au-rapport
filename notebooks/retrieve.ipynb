{
 "cells": [
  {
   "cell_type": "code",
   "execution_count": 1,
   "metadata": {
    "execution": {
     "iopub.execute_input": "2022-02-22T16:09:38.847543Z",
     "iopub.status.busy": "2022-02-22T16:09:38.847269Z",
     "iopub.status.idle": "2022-02-22T16:09:39.219952Z",
     "shell.execute_reply": "2022-02-22T16:09:39.219124Z"
    }
   },
   "outputs": [],
   "source": [
    "import requests\n",
    "from datetime import datetime\n",
    "import pandas as pd\n",
    "import json\n",
    "import tweepy\n",
    "import os\n",
    "from pathlib import Path"
   ]
  },
  {
   "cell_type": "markdown",
   "metadata": {},
   "source": [
    "## On récupère la date du jour"
   ]
  },
  {
   "cell_type": "code",
   "execution_count": 2,
   "metadata": {
    "execution": {
     "iopub.execute_input": "2022-02-22T16:09:39.223994Z",
     "iopub.status.busy": "2022-02-22T16:09:39.223547Z",
     "iopub.status.idle": "2022-02-22T16:09:39.228411Z",
     "shell.execute_reply": "2022-02-22T16:09:39.227738Z"
    }
   },
   "outputs": [],
   "source": [
    "today = datetime.now()\n",
    "yesterday = today - pd.Timedelta(days=1)"
   ]
  },
  {
   "cell_type": "markdown",
   "metadata": {},
   "source": [
    "## Quels sont les fichiers publiés en open data aujourd'hui ?"
   ]
  },
  {
   "cell_type": "code",
   "execution_count": 3,
   "metadata": {
    "execution": {
     "iopub.execute_input": "2022-02-22T16:09:39.231400Z",
     "iopub.status.busy": "2022-02-22T16:09:39.231203Z",
     "iopub.status.idle": "2022-02-22T16:09:40.680483Z",
     "shell.execute_reply": "2022-02-22T16:09:40.679748Z"
    }
   },
   "outputs": [],
   "source": [
    "def retrieve_files_date(date):\n",
    "    formated_date = date.strftime('%Y-%m-%d')\n",
    "    try:\n",
    "        return(pd\n",
    "            .read_csv(\n",
    "                f'https://www.assemblee-nationale.fr/dyn/opendata/list-publication/publication_{formated_date}.csv', \n",
    "                sep=';', \n",
    "                names=['date', 'url']\n",
    "            )\n",
    "        )\n",
    "    except:\n",
    "        return(pd.DataFrame(columns=['date', 'url']))\n",
    "\n",
    "files = pd.concat([retrieve_files_date(date) for date in [yesterday, today]], ignore_index=True)"
   ]
  },
  {
   "cell_type": "markdown",
   "metadata": {},
   "source": [
    "## On isole tous les rapports d'information\n",
    "\n",
    "- L'id du rapport permet d'accéder au fichier de description json \n",
    "- Si l'id est différent du full_id, cela veut dire que c'est un rapport en plusieurs parties. Il faudra trouver la correspondance dans le fichier de description json"
   ]
  },
  {
   "cell_type": "code",
   "execution_count": 4,
   "metadata": {
    "execution": {
     "iopub.execute_input": "2022-02-22T16:09:40.684835Z",
     "iopub.status.busy": "2022-02-22T16:09:40.684216Z",
     "iopub.status.idle": "2022-02-22T16:09:40.710916Z",
     "shell.execute_reply": "2022-02-22T16:09:40.710155Z"
    }
   },
   "outputs": [
    {
     "data": {
      "text/html": [
       "<div>\n",
       "<style scoped>\n",
       "    .dataframe tbody tr th:only-of-type {\n",
       "        vertical-align: middle;\n",
       "    }\n",
       "\n",
       "    .dataframe tbody tr th {\n",
       "        vertical-align: top;\n",
       "    }\n",
       "\n",
       "    .dataframe thead th {\n",
       "        text-align: right;\n",
       "    }\n",
       "</style>\n",
       "<table border=\"1\" class=\"dataframe\">\n",
       "  <thead>\n",
       "    <tr style=\"text-align: right;\">\n",
       "      <th></th>\n",
       "      <th>date</th>\n",
       "      <th>url</th>\n",
       "      <th>full_id</th>\n",
       "      <th>id</th>\n",
       "      <th>tome</th>\n",
       "    </tr>\n",
       "  </thead>\n",
       "  <tbody>\n",
       "    <tr>\n",
       "      <th>155</th>\n",
       "      <td>2022-02-21 10:34:30</td>\n",
       "      <td>https://www.assemblee-nationale.fr/dyn/opendat...</td>\n",
       "      <td>RINFANR5L15B5052</td>\n",
       "      <td>RINFANR5L15B5052</td>\n",
       "      <td></td>\n",
       "    </tr>\n",
       "    <tr>\n",
       "      <th>239</th>\n",
       "      <td>2022-02-21 11:09:18</td>\n",
       "      <td>https://www.assemblee-nationale.fr/dyn/opendat...</td>\n",
       "      <td>RINFANR5L15B5052</td>\n",
       "      <td>RINFANR5L15B5052</td>\n",
       "      <td></td>\n",
       "    </tr>\n",
       "    <tr>\n",
       "      <th>252</th>\n",
       "      <td>2022-02-21 11:37:06</td>\n",
       "      <td>https://www.assemblee-nationale.fr/dyn/opendat...</td>\n",
       "      <td>RINFANR5L15B5041</td>\n",
       "      <td>RINFANR5L15B5041</td>\n",
       "      <td></td>\n",
       "    </tr>\n",
       "    <tr>\n",
       "      <th>311</th>\n",
       "      <td>2022-02-21 12:26:10</td>\n",
       "      <td>https://www.assemblee-nationale.fr/dyn/opendat...</td>\n",
       "      <td>RINFANR5L15B5040</td>\n",
       "      <td>RINFANR5L15B5040</td>\n",
       "      <td></td>\n",
       "    </tr>\n",
       "    <tr>\n",
       "      <th>347</th>\n",
       "      <td>2022-02-21 15:08:06</td>\n",
       "      <td>https://www.assemblee-nationale.fr/dyn/opendat...</td>\n",
       "      <td>RINFANR5L15B5052</td>\n",
       "      <td>RINFANR5L15B5052</td>\n",
       "      <td></td>\n",
       "    </tr>\n",
       "    <tr>\n",
       "      <th>442</th>\n",
       "      <td>2022-02-21 18:35:31</td>\n",
       "      <td>https://www.assemblee-nationale.fr/dyn/opendat...</td>\n",
       "      <td>RINFANR5L15B5043</td>\n",
       "      <td>RINFANR5L15B5043</td>\n",
       "      <td></td>\n",
       "    </tr>\n",
       "    <tr>\n",
       "      <th>447</th>\n",
       "      <td>2022-02-21 18:36:17</td>\n",
       "      <td>https://www.assemblee-nationale.fr/dyn/opendat...</td>\n",
       "      <td>RINFANR5L15B5043</td>\n",
       "      <td>RINFANR5L15B5043</td>\n",
       "      <td></td>\n",
       "    </tr>\n",
       "    <tr>\n",
       "      <th>492</th>\n",
       "      <td>2022-02-22 09:18:05</td>\n",
       "      <td>https://www.assemblee-nationale.fr/dyn/opendat...</td>\n",
       "      <td>RINFANR5L15B5054</td>\n",
       "      <td>RINFANR5L15B5054</td>\n",
       "      <td></td>\n",
       "    </tr>\n",
       "    <tr>\n",
       "      <th>502</th>\n",
       "      <td>2022-02-22 10:13:44</td>\n",
       "      <td>https://www.assemblee-nationale.fr/dyn/opendat...</td>\n",
       "      <td>RINFANR5L15B5054</td>\n",
       "      <td>RINFANR5L15B5054</td>\n",
       "      <td></td>\n",
       "    </tr>\n",
       "  </tbody>\n",
       "</table>\n",
       "</div>"
      ],
      "text/plain": [
       "                    date                                                url  \\\n",
       "155  2022-02-21 10:34:30  https://www.assemblee-nationale.fr/dyn/opendat...   \n",
       "239  2022-02-21 11:09:18  https://www.assemblee-nationale.fr/dyn/opendat...   \n",
       "252  2022-02-21 11:37:06  https://www.assemblee-nationale.fr/dyn/opendat...   \n",
       "311  2022-02-21 12:26:10  https://www.assemblee-nationale.fr/dyn/opendat...   \n",
       "347  2022-02-21 15:08:06  https://www.assemblee-nationale.fr/dyn/opendat...   \n",
       "442  2022-02-21 18:35:31  https://www.assemblee-nationale.fr/dyn/opendat...   \n",
       "447  2022-02-21 18:36:17  https://www.assemblee-nationale.fr/dyn/opendat...   \n",
       "492  2022-02-22 09:18:05  https://www.assemblee-nationale.fr/dyn/opendat...   \n",
       "502  2022-02-22 10:13:44  https://www.assemblee-nationale.fr/dyn/opendat...   \n",
       "\n",
       "              full_id                id tome  \n",
       "155  RINFANR5L15B5052  RINFANR5L15B5052       \n",
       "239  RINFANR5L15B5052  RINFANR5L15B5052       \n",
       "252  RINFANR5L15B5041  RINFANR5L15B5041       \n",
       "311  RINFANR5L15B5040  RINFANR5L15B5040       \n",
       "347  RINFANR5L15B5052  RINFANR5L15B5052       \n",
       "442  RINFANR5L15B5043  RINFANR5L15B5043       \n",
       "447  RINFANR5L15B5043  RINFANR5L15B5043       \n",
       "492  RINFANR5L15B5054  RINFANR5L15B5054       \n",
       "502  RINFANR5L15B5054  RINFANR5L15B5054       "
      ]
     },
     "execution_count": 4,
     "metadata": {},
     "output_type": "execute_result"
    }
   ],
   "source": [
    "ris = (files\n",
    "    # les pdf d'un rapport d'information\n",
    "    .loc[files['url'].str.contains(r'RIN.+\\.pdf$')]    \n",
    "    .assign(\n",
    "        full_id = lambda x: x['url'].str.extract(pat = '(RIN.+)\\.pdf')        \n",
    "    )\n",
    ")\n",
    "\n",
    "# https://www.codegrepper.com/code-examples/javascript/regex+match+anything+except+character\n",
    "ris[['id', 'tome']] =  ris['full_id'].str.extract(pat = '(RIN[^-]+)-?(.*)', expand=True)\n",
    "\n",
    "ris"
   ]
  },
  {
   "cell_type": "code",
   "execution_count": 5,
   "metadata": {
    "execution": {
     "iopub.execute_input": "2022-02-22T16:09:40.716956Z",
     "iopub.status.busy": "2022-02-22T16:09:40.716760Z",
     "iopub.status.idle": "2022-02-22T16:09:40.740879Z",
     "shell.execute_reply": "2022-02-22T16:09:40.740169Z"
    }
   },
   "outputs": [
    {
     "data": {
      "text/html": [
       "<div>\n",
       "<style scoped>\n",
       "    .dataframe tbody tr th:only-of-type {\n",
       "        vertical-align: middle;\n",
       "    }\n",
       "\n",
       "    .dataframe tbody tr th {\n",
       "        vertical-align: top;\n",
       "    }\n",
       "\n",
       "    .dataframe thead th {\n",
       "        text-align: right;\n",
       "    }\n",
       "</style>\n",
       "<table border=\"1\" class=\"dataframe\">\n",
       "  <thead>\n",
       "    <tr style=\"text-align: right;\">\n",
       "      <th></th>\n",
       "      <th>date</th>\n",
       "      <th>url</th>\n",
       "      <th>full_id</th>\n",
       "      <th>id</th>\n",
       "      <th>tome</th>\n",
       "    </tr>\n",
       "  </thead>\n",
       "  <tbody>\n",
       "    <tr>\n",
       "      <th>508</th>\n",
       "      <td>2022-02-22 11:03:20</td>\n",
       "      <td>https://www.assemblee-nationale.fr/dyn/opendat...</td>\n",
       "      <td>RAPPANR5L15B4524-tIII-a40</td>\n",
       "      <td>RAPPANR5L15B4524</td>\n",
       "      <td>tIII-a40</td>\n",
       "    </tr>\n",
       "    <tr>\n",
       "      <th>522</th>\n",
       "      <td>2022-02-22 13:46:33</td>\n",
       "      <td>https://www.assemblee-nationale.fr/dyn/opendat...</td>\n",
       "      <td>RAPPANR5L15B4933</td>\n",
       "      <td>RAPPANR5L15B4933</td>\n",
       "      <td></td>\n",
       "    </tr>\n",
       "    <tr>\n",
       "      <th>524</th>\n",
       "      <td>2022-02-22 13:47:07</td>\n",
       "      <td>https://www.assemblee-nationale.fr/dyn/opendat...</td>\n",
       "      <td>RAPPANR5L15B4933</td>\n",
       "      <td>RAPPANR5L15B4933</td>\n",
       "      <td></td>\n",
       "    </tr>\n",
       "    <tr>\n",
       "      <th>527</th>\n",
       "      <td>2022-02-22 14:40:19</td>\n",
       "      <td>https://www.assemblee-nationale.fr/dyn/opendat...</td>\n",
       "      <td>RAPPANR5L15B4906</td>\n",
       "      <td>RAPPANR5L15B4906</td>\n",
       "      <td></td>\n",
       "    </tr>\n",
       "    <tr>\n",
       "      <th>529</th>\n",
       "      <td>2022-02-22 14:41:17</td>\n",
       "      <td>https://www.assemblee-nationale.fr/dyn/opendat...</td>\n",
       "      <td>RAPPANR5L15B4906</td>\n",
       "      <td>RAPPANR5L15B4906</td>\n",
       "      <td></td>\n",
       "    </tr>\n",
       "  </tbody>\n",
       "</table>\n",
       "</div>"
      ],
      "text/plain": [
       "                    date                                                url  \\\n",
       "508  2022-02-22 11:03:20  https://www.assemblee-nationale.fr/dyn/opendat...   \n",
       "522  2022-02-22 13:46:33  https://www.assemblee-nationale.fr/dyn/opendat...   \n",
       "524  2022-02-22 13:47:07  https://www.assemblee-nationale.fr/dyn/opendat...   \n",
       "527  2022-02-22 14:40:19  https://www.assemblee-nationale.fr/dyn/opendat...   \n",
       "529  2022-02-22 14:41:17  https://www.assemblee-nationale.fr/dyn/opendat...   \n",
       "\n",
       "                       full_id                id      tome  \n",
       "508  RAPPANR5L15B4524-tIII-a40  RAPPANR5L15B4524  tIII-a40  \n",
       "522           RAPPANR5L15B4933  RAPPANR5L15B4933            \n",
       "524           RAPPANR5L15B4933  RAPPANR5L15B4933            \n",
       "527           RAPPANR5L15B4906  RAPPANR5L15B4906            \n",
       "529           RAPPANR5L15B4906  RAPPANR5L15B4906            "
      ]
     },
     "execution_count": 5,
     "metadata": {},
     "output_type": "execute_result"
    }
   ],
   "source": [
    "raps = (files\n",
    "    # les pdf d'un rapport\n",
    "    .loc[files['url'].str.contains(r'RAPP.+\\.pdf$')]    \n",
    "    .assign(\n",
    "        full_id = lambda x: x['url'].str.extract(pat = '(RAPP.+)\\.pdf'),        \n",
    "    )\n",
    ")\n",
    "\n",
    "# https://www.codegrepper.com/code-examples/javascript/regex+match+anything+except+character\n",
    "raps[['id', 'tome']] =  raps['full_id'].str.extract(pat = '(RAPP[^-]+)-?(.*)', expand=True)\n",
    "\n",
    "raps"
   ]
  },
  {
   "cell_type": "code",
   "execution_count": 6,
   "metadata": {
    "execution": {
     "iopub.execute_input": "2022-02-22T16:09:40.744524Z",
     "iopub.status.busy": "2022-02-22T16:09:40.744298Z",
     "iopub.status.idle": "2022-02-22T16:09:40.751823Z",
     "shell.execute_reply": "2022-02-22T16:09:40.751085Z"
    }
   },
   "outputs": [],
   "source": [
    "all_rapports = (pd\n",
    "    .concat([ris, raps], ignore_index=True)\n",
    "    .drop_duplicates(subset=['id', 'full_id'])\n",
    ")"
   ]
  },
  {
   "cell_type": "code",
   "execution_count": 7,
   "metadata": {
    "execution": {
     "iopub.execute_input": "2022-02-22T16:09:40.755636Z",
     "iopub.status.busy": "2022-02-22T16:09:40.755394Z",
     "iopub.status.idle": "2022-02-22T16:09:45.176757Z",
     "shell.execute_reply": "2022-02-22T16:09:45.175947Z"
    }
   },
   "outputs": [],
   "source": [
    "descriptions = {}\n",
    "for id in all_rapports['id'].unique():\n",
    "    url = f'https://www.assemblee-nationale.fr/dyn/opendata/{id}.json'\n",
    "    response = requests.get(url)\n",
    "    if response.status_code == 200:\n",
    "        descriptions[id] = json.loads(response.text)\n",
    "    else:  \n",
    "        print(f'{id} not found')"
   ]
  },
  {
   "cell_type": "markdown",
   "metadata": {},
   "source": [
    "Pour le moment, on va juste mettre la description de base dans la df"
   ]
  },
  {
   "cell_type": "code",
   "execution_count": 8,
   "metadata": {
    "execution": {
     "iopub.execute_input": "2022-02-22T16:09:45.180182Z",
     "iopub.status.busy": "2022-02-22T16:09:45.179988Z",
     "iopub.status.idle": "2022-02-22T16:09:45.203696Z",
     "shell.execute_reply": "2022-02-22T16:09:45.202996Z"
    }
   },
   "outputs": [
    {
     "data": {
      "text/html": [
       "<div>\n",
       "<style scoped>\n",
       "    .dataframe tbody tr th:only-of-type {\n",
       "        vertical-align: middle;\n",
       "    }\n",
       "\n",
       "    .dataframe tbody tr th {\n",
       "        vertical-align: top;\n",
       "    }\n",
       "\n",
       "    .dataframe thead th {\n",
       "        text-align: right;\n",
       "    }\n",
       "</style>\n",
       "<table border=\"1\" class=\"dataframe\">\n",
       "  <thead>\n",
       "    <tr style=\"text-align: right;\">\n",
       "      <th></th>\n",
       "      <th>date</th>\n",
       "      <th>url</th>\n",
       "      <th>full_id</th>\n",
       "      <th>id</th>\n",
       "      <th>tome</th>\n",
       "      <th>description</th>\n",
       "      <th>rapport_type</th>\n",
       "      <th>depot</th>\n",
       "    </tr>\n",
       "  </thead>\n",
       "  <tbody>\n",
       "    <tr>\n",
       "      <th>0</th>\n",
       "      <td>2022-02-21 10:34:30</td>\n",
       "      <td>https://www.assemblee-nationale.fr/dyn/opendat...</td>\n",
       "      <td>RINFANR5L15B5052</td>\n",
       "      <td>RINFANR5L15B5052</td>\n",
       "      <td></td>\n",
       "      <td>enjeux de défense en Méditerranée</td>\n",
       "      <td>Rapport d'information d'une mission d'informat...</td>\n",
       "      <td>RAPAUT</td>\n",
       "    </tr>\n",
       "    <tr>\n",
       "      <th>2</th>\n",
       "      <td>2022-02-21 11:37:06</td>\n",
       "      <td>https://www.assemblee-nationale.fr/dyn/opendat...</td>\n",
       "      <td>RINFANR5L15B5041</td>\n",
       "      <td>RINFANR5L15B5041</td>\n",
       "      <td></td>\n",
       "      <td>rapport d'information sur l’espace indopacifiq...</td>\n",
       "      <td>Rapport d'information d'une mission d'informat...</td>\n",
       "      <td>RAPAUT</td>\n",
       "    </tr>\n",
       "    <tr>\n",
       "      <th>3</th>\n",
       "      <td>2022-02-21 12:26:10</td>\n",
       "      <td>https://www.assemblee-nationale.fr/dyn/opendat...</td>\n",
       "      <td>RINFANR5L15B5040</td>\n",
       "      <td>RINFANR5L15B5040</td>\n",
       "      <td></td>\n",
       "      <td>rapport d'information par la commission des af...</td>\n",
       "      <td>Rapport d'information d'une mission d'informat...</td>\n",
       "      <td>RAPAUT</td>\n",
       "    </tr>\n",
       "    <tr>\n",
       "      <th>5</th>\n",
       "      <td>2022-02-21 18:35:31</td>\n",
       "      <td>https://www.assemblee-nationale.fr/dyn/opendat...</td>\n",
       "      <td>RINFANR5L15B5043</td>\n",
       "      <td>RINFANR5L15B5043</td>\n",
       "      <td></td>\n",
       "      <td>avenir et la décarbonation du secteur aéronaut...</td>\n",
       "      <td>Rapport d'information sur des actes de l'Union...</td>\n",
       "      <td>RAPAUT</td>\n",
       "    </tr>\n",
       "    <tr>\n",
       "      <th>7</th>\n",
       "      <td>2022-02-22 09:18:05</td>\n",
       "      <td>https://www.assemblee-nationale.fr/dyn/opendat...</td>\n",
       "      <td>RINFANR5L15B5054</td>\n",
       "      <td>RINFANR5L15B5054</td>\n",
       "      <td></td>\n",
       "      <td>rapport d'information par la commission de la ...</td>\n",
       "      <td>Rapport d'information d'une mission d'informat...</td>\n",
       "      <td>RAPAUT</td>\n",
       "    </tr>\n",
       "    <tr>\n",
       "      <th>10</th>\n",
       "      <td>2022-02-22 13:46:33</td>\n",
       "      <td>https://www.assemblee-nationale.fr/dyn/opendat...</td>\n",
       "      <td>RAPPANR5L15B4933</td>\n",
       "      <td>RAPPANR5L15B4933</td>\n",
       "      <td></td>\n",
       "      <td>rapport établi au nom de l'office, sur la stra...</td>\n",
       "      <td>Rapport des offices parlementaires</td>\n",
       "      <td>RAPAUT</td>\n",
       "    </tr>\n",
       "    <tr>\n",
       "      <th>12</th>\n",
       "      <td>2022-02-22 14:40:19</td>\n",
       "      <td>https://www.assemblee-nationale.fr/dyn/opendat...</td>\n",
       "      <td>RAPPANR5L15B4906</td>\n",
       "      <td>RAPPANR5L15B4906</td>\n",
       "      <td></td>\n",
       "      <td>rapport d'enquête sur les dysfonctionnements e...</td>\n",
       "      <td>Rapport d'enquête</td>\n",
       "      <td>RAPAUT</td>\n",
       "    </tr>\n",
       "  </tbody>\n",
       "</table>\n",
       "</div>"
      ],
      "text/plain": [
       "                   date                                                url  \\\n",
       "0   2022-02-21 10:34:30  https://www.assemblee-nationale.fr/dyn/opendat...   \n",
       "2   2022-02-21 11:37:06  https://www.assemblee-nationale.fr/dyn/opendat...   \n",
       "3   2022-02-21 12:26:10  https://www.assemblee-nationale.fr/dyn/opendat...   \n",
       "5   2022-02-21 18:35:31  https://www.assemblee-nationale.fr/dyn/opendat...   \n",
       "7   2022-02-22 09:18:05  https://www.assemblee-nationale.fr/dyn/opendat...   \n",
       "10  2022-02-22 13:46:33  https://www.assemblee-nationale.fr/dyn/opendat...   \n",
       "12  2022-02-22 14:40:19  https://www.assemblee-nationale.fr/dyn/opendat...   \n",
       "\n",
       "             full_id                id tome  \\\n",
       "0   RINFANR5L15B5052  RINFANR5L15B5052        \n",
       "2   RINFANR5L15B5041  RINFANR5L15B5041        \n",
       "3   RINFANR5L15B5040  RINFANR5L15B5040        \n",
       "5   RINFANR5L15B5043  RINFANR5L15B5043        \n",
       "7   RINFANR5L15B5054  RINFANR5L15B5054        \n",
       "10  RAPPANR5L15B4933  RAPPANR5L15B4933        \n",
       "12  RAPPANR5L15B4906  RAPPANR5L15B4906        \n",
       "\n",
       "                                          description  \\\n",
       "0                   enjeux de défense en Méditerranée   \n",
       "2   rapport d'information sur l’espace indopacifiq...   \n",
       "3   rapport d'information par la commission des af...   \n",
       "5   avenir et la décarbonation du secteur aéronaut...   \n",
       "7   rapport d'information par la commission de la ...   \n",
       "10  rapport établi au nom de l'office, sur la stra...   \n",
       "12  rapport d'enquête sur les dysfonctionnements e...   \n",
       "\n",
       "                                         rapport_type   depot  \n",
       "0   Rapport d'information d'une mission d'informat...  RAPAUT  \n",
       "2   Rapport d'information d'une mission d'informat...  RAPAUT  \n",
       "3   Rapport d'information d'une mission d'informat...  RAPAUT  \n",
       "5   Rapport d'information sur des actes de l'Union...  RAPAUT  \n",
       "7   Rapport d'information d'une mission d'informat...  RAPAUT  \n",
       "10                 Rapport des offices parlementaires  RAPAUT  \n",
       "12                                  Rapport d'enquête  RAPAUT  "
      ]
     },
     "execution_count": 8,
     "metadata": {},
     "output_type": "execute_result"
    }
   ],
   "source": [
    "def get_desc(id):\n",
    "    return descriptions[id]['titres']['titrePrincipalCourt'].replace(\"déposé en application de l'article 145 du règlement, \", \"\")\n",
    "\n",
    "def get_depot(id):\n",
    "    return descriptions[id]['classification']['famille']['depot']['code']\n",
    "\n",
    "def get_type(id):\n",
    "    if 'libelle' in descriptions[id]['classification']['sousType']:\n",
    "        return(f\"{descriptions[id]['classification']['type']['libelle']} {descriptions[id]['classification']['sousType']['libelle']}\")\n",
    "    else: \n",
    "        return descriptions[id]['classification']['type']['libelle']\n",
    "\n",
    "all_rapports = (all_rapports\n",
    "    .loc[lambda x: x['id'].isin(descriptions.keys())]\n",
    "    .assign(\n",
    "        description = lambda x: x['id'].apply(get_desc),\n",
    "        rapport_type = lambda x: x['id'].apply(get_type),\n",
    "        depot = lambda x: x['id'].apply(get_depot)\n",
    "    )\n",
    "    # on ne garde que les rapports autonomes\n",
    "    .loc[lambda x: x['depot'].isin(['RAPAUT'])]\n",
    ")\n",
    "\n",
    "all_rapports"
   ]
  },
  {
   "cell_type": "markdown",
   "metadata": {},
   "source": [
    "Quels sont les nouveaux RI ?   "
   ]
  },
  {
   "cell_type": "code",
   "execution_count": 9,
   "metadata": {
    "execution": {
     "iopub.execute_input": "2022-02-22T16:09:45.207375Z",
     "iopub.status.busy": "2022-02-22T16:09:45.207118Z",
     "iopub.status.idle": "2022-02-22T16:09:45.223408Z",
     "shell.execute_reply": "2022-02-22T16:09:45.222706Z"
    }
   },
   "outputs": [
    {
     "data": {
      "text/html": [
       "<div>\n",
       "<style scoped>\n",
       "    .dataframe tbody tr th:only-of-type {\n",
       "        vertical-align: middle;\n",
       "    }\n",
       "\n",
       "    .dataframe tbody tr th {\n",
       "        vertical-align: top;\n",
       "    }\n",
       "\n",
       "    .dataframe thead th {\n",
       "        text-align: right;\n",
       "    }\n",
       "</style>\n",
       "<table border=\"1\" class=\"dataframe\">\n",
       "  <thead>\n",
       "    <tr style=\"text-align: right;\">\n",
       "      <th></th>\n",
       "      <th>date</th>\n",
       "      <th>url</th>\n",
       "      <th>full_id</th>\n",
       "      <th>id</th>\n",
       "      <th>tome</th>\n",
       "      <th>description</th>\n",
       "      <th>rapport_type</th>\n",
       "      <th>depot</th>\n",
       "    </tr>\n",
       "  </thead>\n",
       "  <tbody>\n",
       "    <tr>\n",
       "      <th>12</th>\n",
       "      <td>2022-02-22 14:40:19</td>\n",
       "      <td>https://www.assemblee-nationale.fr/dyn/opendat...</td>\n",
       "      <td>RAPPANR5L15B4906</td>\n",
       "      <td>RAPPANR5L15B4906</td>\n",
       "      <td></td>\n",
       "      <td>rapport d'enquête sur les dysfonctionnements e...</td>\n",
       "      <td>Rapport d'enquête</td>\n",
       "      <td>RAPAUT</td>\n",
       "    </tr>\n",
       "  </tbody>\n",
       "</table>\n",
       "</div>"
      ],
      "text/plain": [
       "                   date                                                url  \\\n",
       "12  2022-02-22 14:40:19  https://www.assemblee-nationale.fr/dyn/opendat...   \n",
       "\n",
       "             full_id                id tome  \\\n",
       "12  RAPPANR5L15B4906  RAPPANR5L15B4906        \n",
       "\n",
       "                                          description       rapport_type  \\\n",
       "12  rapport d'enquête sur les dysfonctionnements e...  Rapport d'enquête   \n",
       "\n",
       "     depot  \n",
       "12  RAPAUT  "
      ]
     },
     "execution_count": 9,
     "metadata": {},
     "output_type": "execute_result"
    }
   ],
   "source": [
    "try:\n",
    "    old_rapports = pd.read_csv('rapports.csv', sep=';')\n",
    "except:\n",
    "    old_rapports = pd.DataFrame({'full_id': []})\n",
    "\n",
    "new_rapports = all_rapports.loc[~all_rapports['full_id'].isin(old_rapports['full_id'])]    \n",
    "new_rapports"
   ]
  },
  {
   "cell_type": "markdown",
   "metadata": {},
   "source": [
    "## On sauvegarde les nouveaux rapports"
   ]
  },
  {
   "cell_type": "code",
   "execution_count": 10,
   "metadata": {
    "execution": {
     "iopub.execute_input": "2022-02-22T16:09:45.226243Z",
     "iopub.status.busy": "2022-02-22T16:09:45.226054Z",
     "iopub.status.idle": "2022-02-22T16:09:45.235136Z",
     "shell.execute_reply": "2022-02-22T16:09:45.234265Z"
    }
   },
   "outputs": [],
   "source": [
    "pd.concat([old_rapports, new_rapports], ignore_index=True).to_csv('rapports.csv', sep=';', index=False)"
   ]
  },
  {
   "cell_type": "markdown",
   "metadata": {},
   "source": [
    "## On télécharge les nouveaux fichiers"
   ]
  },
  {
   "cell_type": "code",
   "execution_count": 11,
   "metadata": {
    "execution": {
     "iopub.execute_input": "2022-02-22T16:09:45.237966Z",
     "iopub.status.busy": "2022-02-22T16:09:45.237774Z",
     "iopub.status.idle": "2022-02-22T16:10:05.488042Z",
     "shell.execute_reply": "2022-02-22T16:10:05.487288Z"
    }
   },
   "outputs": [],
   "source": [
    "def get_dir(type: str):\n",
    "    if type.startswith(\"Rapport d'information\"):\n",
    "        return \"ris\"\n",
    "    if type.startswith(\"Rapport d'enquête\"):\n",
    "        return \"res\"\n",
    "    else:\n",
    "        return \"raps\"\n",
    "\n",
    "for index, row in new_rapports.iterrows():\n",
    "    dir = get_dir(row['rapport_type'])\n",
    "    file = Path(f'../data/assnat/{dir}/{row[\"full_id\"]}.pdf')\n",
    "    if not file.exists():\n",
    "        r = requests.get(row['url'])\n",
    "        if r.status_code == 200:\n",
    "            file.parent.mkdir(parents=True, exist_ok=True)    \n",
    "            file.write_bytes(r.content)"
   ]
  },
  {
   "cell_type": "markdown",
   "metadata": {},
   "source": [
    "## On tweete les nouveaux rapports"
   ]
  },
  {
   "cell_type": "code",
   "execution_count": 12,
   "metadata": {
    "execution": {
     "iopub.execute_input": "2022-02-22T16:10:05.492268Z",
     "iopub.status.busy": "2022-02-22T16:10:05.492056Z",
     "iopub.status.idle": "2022-02-22T16:10:05.496238Z",
     "shell.execute_reply": "2022-02-22T16:10:05.495525Z"
    }
   },
   "outputs": [],
   "source": [
    "try:\n",
    "    credentials = json.load(open('../twitter-credentials.json'))\n",
    "except:\n",
    "    # gh actions secrets\n",
    "    credentials = {key: os.environ[key] for key in [\"TWITTER_API_KEY\", \"TWITTER_API_SECRET\", \"TWITTER_ACCESS_KEY\", \"TWITTER_ACCESS_SECRET\"]}"
   ]
  },
  {
   "cell_type": "code",
   "execution_count": 13,
   "metadata": {
    "execution": {
     "iopub.execute_input": "2022-02-22T16:10:05.499411Z",
     "iopub.status.busy": "2022-02-22T16:10:05.499208Z",
     "iopub.status.idle": "2022-02-22T16:10:05.686971Z",
     "shell.execute_reply": "2022-02-22T16:10:05.686179Z"
    }
   },
   "outputs": [
    {
     "name": "stdout",
     "output_type": "stream",
     "text": [
      "Authentication OK\n"
     ]
    }
   ],
   "source": [
    "auth = tweepy.OAuthHandler(credentials['TWITTER_API_KEY'], credentials['TWITTER_API_SECRET'])\n",
    "auth.set_access_token(credentials['TWITTER_ACCESS_KEY'], credentials['TWITTER_ACCESS_SECRET'])\n",
    "api = tweepy.API(auth)\n",
    "\n",
    "try:\n",
    "    api.verify_credentials()\n",
    "    print(\"Authentication OK\")\n",
    "except Exception as e:\n",
    "    print(e)\n",
    "    print(\"Error during authentication\")"
   ]
  },
  {
   "cell_type": "code",
   "execution_count": 14,
   "metadata": {
    "execution": {
     "iopub.execute_input": "2022-02-22T16:10:05.690819Z",
     "iopub.status.busy": "2022-02-22T16:10:05.690313Z",
     "iopub.status.idle": "2022-02-22T16:10:05.890791Z",
     "shell.execute_reply": "2022-02-22T16:10:05.889997Z"
    }
   },
   "outputs": [
    {
     "name": "stdout",
     "output_type": "stream",
     "text": [
      "🔍 • Nouveau rapport d'enquête https://www.assemblee-nationale.fr/dyn/opendata/RAPPANR5L15B4906.pdf rapport d'enquête sur les dysfonctionnements et manquements de la politique pénitentiaire française\n"
     ]
    }
   ],
   "source": [
    "for index, row in new_rapports.iterrows():\n",
    "    icons_dict = {\n",
    "        \"Rapport d'information\": \"ℹ️\",\n",
    "        \"Rapport d'information sur des actes de l'Union européenne\": \"🇪🇺\",\n",
    "        \"Rapport d'information d'une mission d'information constituée au sein d'une commission permanente\": \"🔖\",\n",
    "        \"Rapport d'enquête\": \"🔍\"\n",
    "    }\n",
    "    icon = icons_dict[row['rapport_type']] if row['rapport_type'] in icons_dict else '📖'\n",
    "    tweet = f'{icon} • Nouveau {row[\"rapport_type\"].lower()} {row[\"url\"]} {row[\"description\"]}'\n",
    "    # pour le momnet, on ne tweet que les rapports d'information et d'enquête\n",
    "    if len(tweet) > 280:\n",
    "        tweet = tweet[0:277] + '...'    \n",
    "    print(tweet)\n",
    "    api.update_status(tweet)"
   ]
  }
 ],
 "metadata": {
  "interpreter": {
   "hash": "b037f35a570f4798a3cc3f929dcf08174f799abb59b153589084c9ec1d28de3d"
  },
  "kernelspec": {
   "display_name": "Python 3.8.12 64-bit (conda)",
   "language": "python",
   "name": "python3"
  },
  "language_info": {
   "codemirror_mode": {
    "name": "ipython",
    "version": 3
   },
   "file_extension": ".py",
   "mimetype": "text/x-python",
   "name": "python",
   "nbconvert_exporter": "python",
   "pygments_lexer": "ipython3",
   "version": "3.8.12"
  }
 },
 "nbformat": 4,
 "nbformat_minor": 2
}
