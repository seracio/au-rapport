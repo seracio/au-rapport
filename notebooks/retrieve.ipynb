{
 "cells": [
  {
   "cell_type": "code",
   "execution_count": 1,
   "metadata": {
    "execution": {
     "iopub.execute_input": "2022-02-25T04:08:43.274388Z",
     "iopub.status.busy": "2022-02-25T04:08:43.274080Z",
     "iopub.status.idle": "2022-02-25T04:08:43.531137Z",
     "shell.execute_reply": "2022-02-25T04:08:43.530632Z"
    }
   },
   "outputs": [],
   "source": [
    "import requests\n",
    "from datetime import datetime\n",
    "import pandas as pd\n",
    "import json\n",
    "import tweepy\n",
    "import os\n",
    "from pathlib import Path"
   ]
  },
  {
   "cell_type": "markdown",
   "metadata": {},
   "source": [
    "## On récupère la date du jour"
   ]
  },
  {
   "cell_type": "code",
   "execution_count": 2,
   "metadata": {
    "execution": {
     "iopub.execute_input": "2022-02-25T04:08:43.534086Z",
     "iopub.status.busy": "2022-02-25T04:08:43.533934Z",
     "iopub.status.idle": "2022-02-25T04:08:43.537463Z",
     "shell.execute_reply": "2022-02-25T04:08:43.536969Z"
    }
   },
   "outputs": [],
   "source": [
    "today = datetime.now()\n",
    "yesterday = today - pd.Timedelta(days=1)"
   ]
  },
  {
   "cell_type": "markdown",
   "metadata": {},
   "source": [
    "## Quels sont les fichiers publiés en open data aujourd'hui ?"
   ]
  },
  {
   "cell_type": "code",
   "execution_count": 3,
   "metadata": {
    "execution": {
     "iopub.execute_input": "2022-02-25T04:08:43.539682Z",
     "iopub.status.busy": "2022-02-25T04:08:43.539545Z",
     "iopub.status.idle": "2022-02-25T04:08:44.880311Z",
     "shell.execute_reply": "2022-02-25T04:08:44.879810Z"
    }
   },
   "outputs": [],
   "source": [
    "def retrieve_files_date(date):\n",
    "    formated_date = date.strftime('%Y-%m-%d')\n",
    "    try:\n",
    "        return(pd\n",
    "            .read_csv(\n",
    "                f'https://www.assemblee-nationale.fr/dyn/opendata/list-publication/publication_{formated_date}.csv', \n",
    "                sep=';', \n",
    "                names=['date', 'url']\n",
    "            )\n",
    "        )\n",
    "    except:\n",
    "        return(pd.DataFrame(columns=['date', 'url']))\n",
    "\n",
    "files = pd.concat([retrieve_files_date(date) for date in [yesterday, today]], ignore_index=True)"
   ]
  },
  {
   "cell_type": "markdown",
   "metadata": {},
   "source": [
    "## On isole tous les rapports d'information\n",
    "\n",
    "- L'id du rapport permet d'accéder au fichier de description json \n",
    "- Si l'id est différent du full_id, cela veut dire que c'est un rapport en plusieurs parties. Il faudra trouver la correspondance dans le fichier de description json"
   ]
  },
  {
   "cell_type": "code",
   "execution_count": 4,
   "metadata": {
    "execution": {
     "iopub.execute_input": "2022-02-25T04:08:44.883467Z",
     "iopub.status.busy": "2022-02-25T04:08:44.883202Z",
     "iopub.status.idle": "2022-02-25T04:08:44.905564Z",
     "shell.execute_reply": "2022-02-25T04:08:44.905095Z"
    }
   },
   "outputs": [
    {
     "data": {
      "text/html": [
       "<div>\n",
       "<style scoped>\n",
       "    .dataframe tbody tr th:only-of-type {\n",
       "        vertical-align: middle;\n",
       "    }\n",
       "\n",
       "    .dataframe tbody tr th {\n",
       "        vertical-align: top;\n",
       "    }\n",
       "\n",
       "    .dataframe thead th {\n",
       "        text-align: right;\n",
       "    }\n",
       "</style>\n",
       "<table border=\"1\" class=\"dataframe\">\n",
       "  <thead>\n",
       "    <tr style=\"text-align: right;\">\n",
       "      <th></th>\n",
       "      <th>date</th>\n",
       "      <th>url</th>\n",
       "      <th>full_id</th>\n",
       "      <th>id</th>\n",
       "      <th>tome</th>\n",
       "    </tr>\n",
       "  </thead>\n",
       "  <tbody>\n",
       "    <tr>\n",
       "      <th>0</th>\n",
       "      <td>2022-02-24 00:16:26</td>\n",
       "      <td>https://www.assemblee-nationale.fr/dyn/opendat...</td>\n",
       "      <td>RINFANR5L15B5044</td>\n",
       "      <td>RINFANR5L15B5044</td>\n",
       "      <td></td>\n",
       "    </tr>\n",
       "    <tr>\n",
       "      <th>3</th>\n",
       "      <td>2022-02-24 00:16:26</td>\n",
       "      <td>https://www.assemblee-nationale.fr/dyn/opendat...</td>\n",
       "      <td>RINFANR5L15B5122</td>\n",
       "      <td>RINFANR5L15B5122</td>\n",
       "      <td></td>\n",
       "    </tr>\n",
       "    <tr>\n",
       "      <th>7</th>\n",
       "      <td>2022-02-24 00:17:09</td>\n",
       "      <td>https://www.assemblee-nationale.fr/dyn/opendat...</td>\n",
       "      <td>RINFANR5L15B5122</td>\n",
       "      <td>RINFANR5L15B5122</td>\n",
       "      <td></td>\n",
       "    </tr>\n",
       "    <tr>\n",
       "      <th>112</th>\n",
       "      <td>2022-02-24 10:29:36</td>\n",
       "      <td>https://www.assemblee-nationale.fr/dyn/opendat...</td>\n",
       "      <td>RINFANR5L15B5117</td>\n",
       "      <td>RINFANR5L15B5117</td>\n",
       "      <td></td>\n",
       "    </tr>\n",
       "    <tr>\n",
       "      <th>115</th>\n",
       "      <td>2022-02-24 10:34:37</td>\n",
       "      <td>https://www.assemblee-nationale.fr/dyn/opendat...</td>\n",
       "      <td>RINFANR5L15B5117</td>\n",
       "      <td>RINFANR5L15B5117</td>\n",
       "      <td></td>\n",
       "    </tr>\n",
       "    <tr>\n",
       "      <th>135</th>\n",
       "      <td>2022-02-24 11:41:29</td>\n",
       "      <td>https://www.assemblee-nationale.fr/dyn/opendat...</td>\n",
       "      <td>RINFANR5L15B4907</td>\n",
       "      <td>RINFANR5L15B4907</td>\n",
       "      <td></td>\n",
       "    </tr>\n",
       "    <tr>\n",
       "      <th>217</th>\n",
       "      <td>2022-02-24 15:18:11</td>\n",
       "      <td>https://www.assemblee-nationale.fr/dyn/opendat...</td>\n",
       "      <td>RINFANR5L15B5124</td>\n",
       "      <td>RINFANR5L15B5124</td>\n",
       "      <td></td>\n",
       "    </tr>\n",
       "    <tr>\n",
       "      <th>222</th>\n",
       "      <td>2022-02-24 15:20:19</td>\n",
       "      <td>https://www.assemblee-nationale.fr/dyn/opendat...</td>\n",
       "      <td>RINFANR5L15B5110</td>\n",
       "      <td>RINFANR5L15B5110</td>\n",
       "      <td></td>\n",
       "    </tr>\n",
       "    <tr>\n",
       "      <th>226</th>\n",
       "      <td>2022-02-24 15:25:38</td>\n",
       "      <td>https://www.assemblee-nationale.fr/dyn/opendat...</td>\n",
       "      <td>RINFANR5L15B5124</td>\n",
       "      <td>RINFANR5L15B5124</td>\n",
       "      <td></td>\n",
       "    </tr>\n",
       "    <tr>\n",
       "      <th>242</th>\n",
       "      <td>2022-02-24 16:36:30</td>\n",
       "      <td>https://www.assemblee-nationale.fr/dyn/opendat...</td>\n",
       "      <td>RINFANR5L15B5122</td>\n",
       "      <td>RINFANR5L15B5122</td>\n",
       "      <td></td>\n",
       "    </tr>\n",
       "    <tr>\n",
       "      <th>285</th>\n",
       "      <td>2022-02-24 18:28:39</td>\n",
       "      <td>https://www.assemblee-nationale.fr/dyn/opendat...</td>\n",
       "      <td>RINFANR5L15B5116</td>\n",
       "      <td>RINFANR5L15B5116</td>\n",
       "      <td></td>\n",
       "    </tr>\n",
       "    <tr>\n",
       "      <th>307</th>\n",
       "      <td>2022-02-24 19:07:41</td>\n",
       "      <td>https://www.assemblee-nationale.fr/dyn/opendat...</td>\n",
       "      <td>RINFANR5L15B5127</td>\n",
       "      <td>RINFANR5L15B5127</td>\n",
       "      <td></td>\n",
       "    </tr>\n",
       "    <tr>\n",
       "      <th>312</th>\n",
       "      <td>2022-02-24 19:08:09</td>\n",
       "      <td>https://www.assemblee-nationale.fr/dyn/opendat...</td>\n",
       "      <td>RINFANR5L15B5127</td>\n",
       "      <td>RINFANR5L15B5127</td>\n",
       "      <td></td>\n",
       "    </tr>\n",
       "    <tr>\n",
       "      <th>321</th>\n",
       "      <td>2022-02-24 19:17:59</td>\n",
       "      <td>https://www.assemblee-nationale.fr/dyn/opendat...</td>\n",
       "      <td>RINFANR5L15B5120</td>\n",
       "      <td>RINFANR5L15B5120</td>\n",
       "      <td></td>\n",
       "    </tr>\n",
       "  </tbody>\n",
       "</table>\n",
       "</div>"
      ],
      "text/plain": [
       "                    date                                                url  \\\n",
       "0    2022-02-24 00:16:26  https://www.assemblee-nationale.fr/dyn/opendat...   \n",
       "3    2022-02-24 00:16:26  https://www.assemblee-nationale.fr/dyn/opendat...   \n",
       "7    2022-02-24 00:17:09  https://www.assemblee-nationale.fr/dyn/opendat...   \n",
       "112  2022-02-24 10:29:36  https://www.assemblee-nationale.fr/dyn/opendat...   \n",
       "115  2022-02-24 10:34:37  https://www.assemblee-nationale.fr/dyn/opendat...   \n",
       "135  2022-02-24 11:41:29  https://www.assemblee-nationale.fr/dyn/opendat...   \n",
       "217  2022-02-24 15:18:11  https://www.assemblee-nationale.fr/dyn/opendat...   \n",
       "222  2022-02-24 15:20:19  https://www.assemblee-nationale.fr/dyn/opendat...   \n",
       "226  2022-02-24 15:25:38  https://www.assemblee-nationale.fr/dyn/opendat...   \n",
       "242  2022-02-24 16:36:30  https://www.assemblee-nationale.fr/dyn/opendat...   \n",
       "285  2022-02-24 18:28:39  https://www.assemblee-nationale.fr/dyn/opendat...   \n",
       "307  2022-02-24 19:07:41  https://www.assemblee-nationale.fr/dyn/opendat...   \n",
       "312  2022-02-24 19:08:09  https://www.assemblee-nationale.fr/dyn/opendat...   \n",
       "321  2022-02-24 19:17:59  https://www.assemblee-nationale.fr/dyn/opendat...   \n",
       "\n",
       "              full_id                id tome  \n",
       "0    RINFANR5L15B5044  RINFANR5L15B5044       \n",
       "3    RINFANR5L15B5122  RINFANR5L15B5122       \n",
       "7    RINFANR5L15B5122  RINFANR5L15B5122       \n",
       "112  RINFANR5L15B5117  RINFANR5L15B5117       \n",
       "115  RINFANR5L15B5117  RINFANR5L15B5117       \n",
       "135  RINFANR5L15B4907  RINFANR5L15B4907       \n",
       "217  RINFANR5L15B5124  RINFANR5L15B5124       \n",
       "222  RINFANR5L15B5110  RINFANR5L15B5110       \n",
       "226  RINFANR5L15B5124  RINFANR5L15B5124       \n",
       "242  RINFANR5L15B5122  RINFANR5L15B5122       \n",
       "285  RINFANR5L15B5116  RINFANR5L15B5116       \n",
       "307  RINFANR5L15B5127  RINFANR5L15B5127       \n",
       "312  RINFANR5L15B5127  RINFANR5L15B5127       \n",
       "321  RINFANR5L15B5120  RINFANR5L15B5120       "
      ]
     },
     "execution_count": 4,
     "metadata": {},
     "output_type": "execute_result"
    }
   ],
   "source": [
    "ris = (files\n",
    "    # les pdf d'un rapport d'information\n",
    "    .loc[files['url'].str.contains(r'RIN.+\\.pdf$')]    \n",
    "    .assign(\n",
    "        full_id = lambda x: x['url'].str.extract(pat = '(RIN.+)\\.pdf')        \n",
    "    )\n",
    ")\n",
    "\n",
    "# https://www.codegrepper.com/code-examples/javascript/regex+match+anything+except+character\n",
    "ris[['id', 'tome']] =  ris['full_id'].str.extract(pat = '(RIN[^-]+)-?(.*)', expand=True)\n",
    "\n",
    "ris"
   ]
  },
  {
   "cell_type": "code",
   "execution_count": 5,
   "metadata": {
    "execution": {
     "iopub.execute_input": "2022-02-25T04:08:44.907819Z",
     "iopub.status.busy": "2022-02-25T04:08:44.907461Z",
     "iopub.status.idle": "2022-02-25T04:08:44.919698Z",
     "shell.execute_reply": "2022-02-25T04:08:44.919263Z"
    }
   },
   "outputs": [
    {
     "data": {
      "text/html": [
       "<div>\n",
       "<style scoped>\n",
       "    .dataframe tbody tr th:only-of-type {\n",
       "        vertical-align: middle;\n",
       "    }\n",
       "\n",
       "    .dataframe tbody tr th {\n",
       "        vertical-align: top;\n",
       "    }\n",
       "\n",
       "    .dataframe thead th {\n",
       "        text-align: right;\n",
       "    }\n",
       "</style>\n",
       "<table border=\"1\" class=\"dataframe\">\n",
       "  <thead>\n",
       "    <tr style=\"text-align: right;\">\n",
       "      <th></th>\n",
       "      <th>date</th>\n",
       "      <th>url</th>\n",
       "      <th>full_id</th>\n",
       "      <th>id</th>\n",
       "      <th>tome</th>\n",
       "    </tr>\n",
       "  </thead>\n",
       "  <tbody>\n",
       "    <tr>\n",
       "      <th>87</th>\n",
       "      <td>2022-02-24 09:52:46</td>\n",
       "      <td>https://www.assemblee-nationale.fr/dyn/opendat...</td>\n",
       "      <td>RAPPANR5L15B4331</td>\n",
       "      <td>RAPPANR5L15B4331</td>\n",
       "      <td></td>\n",
       "    </tr>\n",
       "    <tr>\n",
       "      <th>91</th>\n",
       "      <td>2022-02-24 09:54:07</td>\n",
       "      <td>https://www.assemblee-nationale.fr/dyn/opendat...</td>\n",
       "      <td>RAPPANR5L15B4761</td>\n",
       "      <td>RAPPANR5L15B4761</td>\n",
       "      <td></td>\n",
       "    </tr>\n",
       "  </tbody>\n",
       "</table>\n",
       "</div>"
      ],
      "text/plain": [
       "                   date                                                url  \\\n",
       "87  2022-02-24 09:52:46  https://www.assemblee-nationale.fr/dyn/opendat...   \n",
       "91  2022-02-24 09:54:07  https://www.assemblee-nationale.fr/dyn/opendat...   \n",
       "\n",
       "             full_id                id tome  \n",
       "87  RAPPANR5L15B4331  RAPPANR5L15B4331       \n",
       "91  RAPPANR5L15B4761  RAPPANR5L15B4761       "
      ]
     },
     "execution_count": 5,
     "metadata": {},
     "output_type": "execute_result"
    }
   ],
   "source": [
    "raps = (files\n",
    "    # les pdf d'un rapport\n",
    "    .loc[files['url'].str.contains(r'RAPP.+\\.pdf$')]    \n",
    "    .assign(\n",
    "        full_id = lambda x: x['url'].str.extract(pat = '(RAPP.+)\\.pdf'),        \n",
    "    )\n",
    ")\n",
    "\n",
    "# https://www.codegrepper.com/code-examples/javascript/regex+match+anything+except+character\n",
    "raps[['id', 'tome']] =  raps['full_id'].str.extract(pat = '(RAPP[^-]+)-?(.*)', expand=True)\n",
    "\n",
    "raps"
   ]
  },
  {
   "cell_type": "code",
   "execution_count": 6,
   "metadata": {
    "execution": {
     "iopub.execute_input": "2022-02-25T04:08:44.921949Z",
     "iopub.status.busy": "2022-02-25T04:08:44.921587Z",
     "iopub.status.idle": "2022-02-25T04:08:44.926552Z",
     "shell.execute_reply": "2022-02-25T04:08:44.926100Z"
    }
   },
   "outputs": [],
   "source": [
    "all_rapports = (pd\n",
    "    .concat([ris, raps], ignore_index=True)\n",
    "    .drop_duplicates(subset=['id', 'full_id'])\n",
    ")"
   ]
  },
  {
   "cell_type": "code",
   "execution_count": 7,
   "metadata": {
    "execution": {
     "iopub.execute_input": "2022-02-25T04:08:44.928730Z",
     "iopub.status.busy": "2022-02-25T04:08:44.928424Z",
     "iopub.status.idle": "2022-02-25T04:08:50.492297Z",
     "shell.execute_reply": "2022-02-25T04:08:50.491729Z"
    }
   },
   "outputs": [],
   "source": [
    "descriptions = {}\n",
    "for id in all_rapports['id'].unique():\n",
    "    url = f'https://www.assemblee-nationale.fr/dyn/opendata/{id}.json'\n",
    "    response = requests.get(url)\n",
    "    if response.status_code == 200:\n",
    "        descriptions[id] = json.loads(response.text)\n",
    "    else:  \n",
    "        print(f'{id} not found')"
   ]
  },
  {
   "cell_type": "markdown",
   "metadata": {},
   "source": [
    "Pour le moment, on va juste mettre la description de base dans la df"
   ]
  },
  {
   "cell_type": "code",
   "execution_count": 8,
   "metadata": {
    "execution": {
     "iopub.execute_input": "2022-02-25T04:08:50.495552Z",
     "iopub.status.busy": "2022-02-25T04:08:50.495256Z",
     "iopub.status.idle": "2022-02-25T04:08:50.514294Z",
     "shell.execute_reply": "2022-02-25T04:08:50.513818Z"
    }
   },
   "outputs": [
    {
     "data": {
      "text/html": [
       "<div>\n",
       "<style scoped>\n",
       "    .dataframe tbody tr th:only-of-type {\n",
       "        vertical-align: middle;\n",
       "    }\n",
       "\n",
       "    .dataframe tbody tr th {\n",
       "        vertical-align: top;\n",
       "    }\n",
       "\n",
       "    .dataframe thead th {\n",
       "        text-align: right;\n",
       "    }\n",
       "</style>\n",
       "<table border=\"1\" class=\"dataframe\">\n",
       "  <thead>\n",
       "    <tr style=\"text-align: right;\">\n",
       "      <th></th>\n",
       "      <th>date</th>\n",
       "      <th>url</th>\n",
       "      <th>full_id</th>\n",
       "      <th>id</th>\n",
       "      <th>tome</th>\n",
       "      <th>description</th>\n",
       "      <th>rapport_type</th>\n",
       "      <th>depot</th>\n",
       "    </tr>\n",
       "  </thead>\n",
       "  <tbody>\n",
       "    <tr>\n",
       "      <th>0</th>\n",
       "      <td>2022-02-24 00:16:26</td>\n",
       "      <td>https://www.assemblee-nationale.fr/dyn/opendat...</td>\n",
       "      <td>RINFANR5L15B5044</td>\n",
       "      <td>RINFANR5L15B5044</td>\n",
       "      <td></td>\n",
       "      <td>rapport d'information par la commission des af...</td>\n",
       "      <td>Rapport d'information d'une mission d'informat...</td>\n",
       "      <td>RAPAUT</td>\n",
       "    </tr>\n",
       "    <tr>\n",
       "      <th>1</th>\n",
       "      <td>2022-02-24 00:16:26</td>\n",
       "      <td>https://www.assemblee-nationale.fr/dyn/opendat...</td>\n",
       "      <td>RINFANR5L15B5122</td>\n",
       "      <td>RINFANR5L15B5122</td>\n",
       "      <td></td>\n",
       "      <td>rapport d'information par la commission des fi...</td>\n",
       "      <td>Rapport d'information d'une mission d'informat...</td>\n",
       "      <td>RAPAUT</td>\n",
       "    </tr>\n",
       "    <tr>\n",
       "      <th>3</th>\n",
       "      <td>2022-02-24 10:29:36</td>\n",
       "      <td>https://www.assemblee-nationale.fr/dyn/opendat...</td>\n",
       "      <td>RINFANR5L15B5117</td>\n",
       "      <td>RINFANR5L15B5117</td>\n",
       "      <td></td>\n",
       "      <td>rapport d'information déposé par la délégation...</td>\n",
       "      <td>Rapport d'information tel quel</td>\n",
       "      <td>RAPAUT</td>\n",
       "    </tr>\n",
       "    <tr>\n",
       "      <th>5</th>\n",
       "      <td>2022-02-24 11:41:29</td>\n",
       "      <td>https://www.assemblee-nationale.fr/dyn/opendat...</td>\n",
       "      <td>RINFANR5L15B4907</td>\n",
       "      <td>RINFANR5L15B4907</td>\n",
       "      <td></td>\n",
       "      <td>Les violences faites aux femmes dans le monde ...</td>\n",
       "      <td>Rapport d'information d'une mission d'informat...</td>\n",
       "      <td>RAPAUT</td>\n",
       "    </tr>\n",
       "    <tr>\n",
       "      <th>6</th>\n",
       "      <td>2022-02-24 15:18:11</td>\n",
       "      <td>https://www.assemblee-nationale.fr/dyn/opendat...</td>\n",
       "      <td>RINFANR5L15B5124</td>\n",
       "      <td>RINFANR5L15B5124</td>\n",
       "      <td></td>\n",
       "      <td>rapport d'information déposé en application de...</td>\n",
       "      <td>Rapport d'information sur l'application des lois</td>\n",
       "      <td>RAPAUT</td>\n",
       "    </tr>\n",
       "    <tr>\n",
       "      <th>7</th>\n",
       "      <td>2022-02-24 15:20:19</td>\n",
       "      <td>https://www.assemblee-nationale.fr/dyn/opendat...</td>\n",
       "      <td>RINFANR5L15B5110</td>\n",
       "      <td>RINFANR5L15B5110</td>\n",
       "      <td></td>\n",
       "      <td>rapport d'information sur l’application de la ...</td>\n",
       "      <td>Rapport d'information sur l'application des lois</td>\n",
       "      <td>RAPAUT</td>\n",
       "    </tr>\n",
       "    <tr>\n",
       "      <th>10</th>\n",
       "      <td>2022-02-24 18:28:39</td>\n",
       "      <td>https://www.assemblee-nationale.fr/dyn/opendat...</td>\n",
       "      <td>RINFANR5L15B5116</td>\n",
       "      <td>RINFANR5L15B5116</td>\n",
       "      <td></td>\n",
       "      <td>rapport d'information par la commission du dév...</td>\n",
       "      <td>Rapport d'information tel quel</td>\n",
       "      <td>RAPAUT</td>\n",
       "    </tr>\n",
       "    <tr>\n",
       "      <th>11</th>\n",
       "      <td>2022-02-24 19:07:41</td>\n",
       "      <td>https://www.assemblee-nationale.fr/dyn/opendat...</td>\n",
       "      <td>RINFANR5L15B5127</td>\n",
       "      <td>RINFANR5L15B5127</td>\n",
       "      <td></td>\n",
       "      <td>rapport d'information par la commission des af...</td>\n",
       "      <td>Rapport d'information d'une mission d'informat...</td>\n",
       "      <td>RAPAUT</td>\n",
       "    </tr>\n",
       "    <tr>\n",
       "      <th>13</th>\n",
       "      <td>2022-02-24 19:17:59</td>\n",
       "      <td>https://www.assemblee-nationale.fr/dyn/opendat...</td>\n",
       "      <td>RINFANR5L15B5120</td>\n",
       "      <td>RINFANR5L15B5120</td>\n",
       "      <td></td>\n",
       "      <td>Rapport d’activité de la Délégation aux Collec...</td>\n",
       "      <td>Rapport d'information tel quel</td>\n",
       "      <td>RAPAUT</td>\n",
       "    </tr>\n",
       "    <tr>\n",
       "      <th>14</th>\n",
       "      <td>2022-02-24 09:52:46</td>\n",
       "      <td>https://www.assemblee-nationale.fr/dyn/opendat...</td>\n",
       "      <td>RAPPANR5L15B4331</td>\n",
       "      <td>RAPPANR5L15B4331</td>\n",
       "      <td></td>\n",
       "      <td>rapport établi au nom de l'office, L’énergie n...</td>\n",
       "      <td>Rapport des offices parlementaires</td>\n",
       "      <td>RAPAUT</td>\n",
       "    </tr>\n",
       "    <tr>\n",
       "      <th>15</th>\n",
       "      <td>2022-02-24 09:54:07</td>\n",
       "      <td>https://www.assemblee-nationale.fr/dyn/opendat...</td>\n",
       "      <td>RAPPANR5L15B4761</td>\n",
       "      <td>RAPPANR5L15B4761</td>\n",
       "      <td></td>\n",
       "      <td>rapport établi au nom de l'office, Qualité de ...</td>\n",
       "      <td>Rapport des offices parlementaires</td>\n",
       "      <td>RAPAUT</td>\n",
       "    </tr>\n",
       "  </tbody>\n",
       "</table>\n",
       "</div>"
      ],
      "text/plain": [
       "                   date                                                url  \\\n",
       "0   2022-02-24 00:16:26  https://www.assemblee-nationale.fr/dyn/opendat...   \n",
       "1   2022-02-24 00:16:26  https://www.assemblee-nationale.fr/dyn/opendat...   \n",
       "3   2022-02-24 10:29:36  https://www.assemblee-nationale.fr/dyn/opendat...   \n",
       "5   2022-02-24 11:41:29  https://www.assemblee-nationale.fr/dyn/opendat...   \n",
       "6   2022-02-24 15:18:11  https://www.assemblee-nationale.fr/dyn/opendat...   \n",
       "7   2022-02-24 15:20:19  https://www.assemblee-nationale.fr/dyn/opendat...   \n",
       "10  2022-02-24 18:28:39  https://www.assemblee-nationale.fr/dyn/opendat...   \n",
       "11  2022-02-24 19:07:41  https://www.assemblee-nationale.fr/dyn/opendat...   \n",
       "13  2022-02-24 19:17:59  https://www.assemblee-nationale.fr/dyn/opendat...   \n",
       "14  2022-02-24 09:52:46  https://www.assemblee-nationale.fr/dyn/opendat...   \n",
       "15  2022-02-24 09:54:07  https://www.assemblee-nationale.fr/dyn/opendat...   \n",
       "\n",
       "             full_id                id tome  \\\n",
       "0   RINFANR5L15B5044  RINFANR5L15B5044        \n",
       "1   RINFANR5L15B5122  RINFANR5L15B5122        \n",
       "3   RINFANR5L15B5117  RINFANR5L15B5117        \n",
       "5   RINFANR5L15B4907  RINFANR5L15B4907        \n",
       "6   RINFANR5L15B5124  RINFANR5L15B5124        \n",
       "7   RINFANR5L15B5110  RINFANR5L15B5110        \n",
       "10  RINFANR5L15B5116  RINFANR5L15B5116        \n",
       "11  RINFANR5L15B5127  RINFANR5L15B5127        \n",
       "13  RINFANR5L15B5120  RINFANR5L15B5120        \n",
       "14  RAPPANR5L15B4331  RAPPANR5L15B4331        \n",
       "15  RAPPANR5L15B4761  RAPPANR5L15B4761        \n",
       "\n",
       "                                          description  \\\n",
       "0   rapport d'information par la commission des af...   \n",
       "1   rapport d'information par la commission des fi...   \n",
       "3   rapport d'information déposé par la délégation...   \n",
       "5   Les violences faites aux femmes dans le monde ...   \n",
       "6   rapport d'information déposé en application de...   \n",
       "7   rapport d'information sur l’application de la ...   \n",
       "10  rapport d'information par la commission du dév...   \n",
       "11  rapport d'information par la commission des af...   \n",
       "13  Rapport d’activité de la Délégation aux Collec...   \n",
       "14  rapport établi au nom de l'office, L’énergie n...   \n",
       "15  rapport établi au nom de l'office, Qualité de ...   \n",
       "\n",
       "                                         rapport_type   depot  \n",
       "0   Rapport d'information d'une mission d'informat...  RAPAUT  \n",
       "1   Rapport d'information d'une mission d'informat...  RAPAUT  \n",
       "3                      Rapport d'information tel quel  RAPAUT  \n",
       "5   Rapport d'information d'une mission d'informat...  RAPAUT  \n",
       "6    Rapport d'information sur l'application des lois  RAPAUT  \n",
       "7    Rapport d'information sur l'application des lois  RAPAUT  \n",
       "10                     Rapport d'information tel quel  RAPAUT  \n",
       "11  Rapport d'information d'une mission d'informat...  RAPAUT  \n",
       "13                     Rapport d'information tel quel  RAPAUT  \n",
       "14                 Rapport des offices parlementaires  RAPAUT  \n",
       "15                 Rapport des offices parlementaires  RAPAUT  "
      ]
     },
     "execution_count": 8,
     "metadata": {},
     "output_type": "execute_result"
    }
   ],
   "source": [
    "def get_desc(id):\n",
    "    return descriptions[id]['titres']['titrePrincipalCourt'].replace(\"déposé en application de l'article 145 du règlement, \", \"\")\n",
    "\n",
    "def get_depot(id):\n",
    "    return descriptions[id]['classification']['famille']['depot']['code']\n",
    "\n",
    "def get_type(id):\n",
    "    if 'libelle' in descriptions[id]['classification']['sousType']:\n",
    "        return(f\"{descriptions[id]['classification']['type']['libelle']} {descriptions[id]['classification']['sousType']['libelle']}\")\n",
    "    else: \n",
    "        return descriptions[id]['classification']['type']['libelle']\n",
    "\n",
    "all_rapports = (all_rapports\n",
    "    .loc[lambda x: x['id'].isin(descriptions.keys())]\n",
    "    .assign(\n",
    "        description = lambda x: x['id'].apply(get_desc),\n",
    "        rapport_type = lambda x: x['id'].apply(get_type),\n",
    "        depot = lambda x: x['id'].apply(get_depot)\n",
    "    )\n",
    "    # on ne garde que les rapports autonomes\n",
    "    .loc[lambda x: x['depot'].isin(['RAPAUT'])]\n",
    ")\n",
    "\n",
    "all_rapports"
   ]
  },
  {
   "cell_type": "markdown",
   "metadata": {},
   "source": [
    "Quels sont les nouveaux RI ?   "
   ]
  },
  {
   "cell_type": "code",
   "execution_count": 9,
   "metadata": {
    "execution": {
     "iopub.execute_input": "2022-02-25T04:08:50.516622Z",
     "iopub.status.busy": "2022-02-25T04:08:50.516238Z",
     "iopub.status.idle": "2022-02-25T04:08:50.525975Z",
     "shell.execute_reply": "2022-02-25T04:08:50.525522Z"
    }
   },
   "outputs": [
    {
     "data": {
      "text/html": [
       "<div>\n",
       "<style scoped>\n",
       "    .dataframe tbody tr th:only-of-type {\n",
       "        vertical-align: middle;\n",
       "    }\n",
       "\n",
       "    .dataframe tbody tr th {\n",
       "        vertical-align: top;\n",
       "    }\n",
       "\n",
       "    .dataframe thead th {\n",
       "        text-align: right;\n",
       "    }\n",
       "</style>\n",
       "<table border=\"1\" class=\"dataframe\">\n",
       "  <thead>\n",
       "    <tr style=\"text-align: right;\">\n",
       "      <th></th>\n",
       "      <th>date</th>\n",
       "      <th>url</th>\n",
       "      <th>full_id</th>\n",
       "      <th>id</th>\n",
       "      <th>tome</th>\n",
       "      <th>description</th>\n",
       "      <th>rapport_type</th>\n",
       "      <th>depot</th>\n",
       "    </tr>\n",
       "  </thead>\n",
       "  <tbody>\n",
       "  </tbody>\n",
       "</table>\n",
       "</div>"
      ],
      "text/plain": [
       "Empty DataFrame\n",
       "Columns: [date, url, full_id, id, tome, description, rapport_type, depot]\n",
       "Index: []"
      ]
     },
     "execution_count": 9,
     "metadata": {},
     "output_type": "execute_result"
    }
   ],
   "source": [
    "try:\n",
    "    old_rapports = pd.read_csv('rapports.csv', sep=';')\n",
    "except:\n",
    "    old_rapports = pd.DataFrame({'full_id': []})\n",
    "\n",
    "new_rapports = all_rapports.loc[~all_rapports['full_id'].isin(old_rapports['full_id'])]    \n",
    "new_rapports"
   ]
  },
  {
   "cell_type": "markdown",
   "metadata": {},
   "source": [
    "## On sauvegarde les nouveaux rapports"
   ]
  },
  {
   "cell_type": "code",
   "execution_count": 10,
   "metadata": {
    "execution": {
     "iopub.execute_input": "2022-02-25T04:08:50.528036Z",
     "iopub.status.busy": "2022-02-25T04:08:50.527795Z",
     "iopub.status.idle": "2022-02-25T04:08:50.533241Z",
     "shell.execute_reply": "2022-02-25T04:08:50.532829Z"
    }
   },
   "outputs": [],
   "source": [
    "pd.concat([old_rapports, new_rapports], ignore_index=True).to_csv('rapports.csv', sep=';', index=False)"
   ]
  },
  {
   "cell_type": "markdown",
   "metadata": {},
   "source": [
    "## On télécharge les nouveaux fichiers"
   ]
  },
  {
   "cell_type": "code",
   "execution_count": 11,
   "metadata": {
    "execution": {
     "iopub.execute_input": "2022-02-25T04:08:50.535263Z",
     "iopub.status.busy": "2022-02-25T04:08:50.535021Z",
     "iopub.status.idle": "2022-02-25T04:08:50.539275Z",
     "shell.execute_reply": "2022-02-25T04:08:50.538802Z"
    }
   },
   "outputs": [],
   "source": [
    "def get_dir(type: str):\n",
    "    if type.startswith(\"Rapport d'information\"):\n",
    "        return \"ris\"\n",
    "    if type.startswith(\"Rapport d'enquête\"):\n",
    "        return \"res\"\n",
    "    else:\n",
    "        return \"raps\"\n",
    "\n",
    "for index, row in new_rapports.iterrows():\n",
    "    dir = get_dir(row['rapport_type'])\n",
    "    file = Path(f'../data/assnat/{dir}/{row[\"full_id\"]}.pdf')\n",
    "    if not file.exists():\n",
    "        r = requests.get(row['url'])\n",
    "        if r.status_code == 200:\n",
    "            file.parent.mkdir(parents=True, exist_ok=True)    \n",
    "            file.write_bytes(r.content)"
   ]
  },
  {
   "cell_type": "markdown",
   "metadata": {},
   "source": [
    "## On tweete les nouveaux rapports"
   ]
  },
  {
   "cell_type": "code",
   "execution_count": 12,
   "metadata": {
    "execution": {
     "iopub.execute_input": "2022-02-25T04:08:50.541290Z",
     "iopub.status.busy": "2022-02-25T04:08:50.541051Z",
     "iopub.status.idle": "2022-02-25T04:08:50.543996Z",
     "shell.execute_reply": "2022-02-25T04:08:50.543523Z"
    }
   },
   "outputs": [],
   "source": [
    "try:\n",
    "    credentials = json.load(open('../twitter-credentials.json'))\n",
    "except:\n",
    "    # gh actions secrets\n",
    "    credentials = {key: os.environ[key] for key in [\"TWITTER_API_KEY\", \"TWITTER_API_SECRET\", \"TWITTER_ACCESS_KEY\", \"TWITTER_ACCESS_SECRET\"]}"
   ]
  },
  {
   "cell_type": "code",
   "execution_count": 13,
   "metadata": {
    "execution": {
     "iopub.execute_input": "2022-02-25T04:08:50.546127Z",
     "iopub.status.busy": "2022-02-25T04:08:50.545822Z",
     "iopub.status.idle": "2022-02-25T04:08:50.653030Z",
     "shell.execute_reply": "2022-02-25T04:08:50.652303Z"
    }
   },
   "outputs": [
    {
     "name": "stdout",
     "output_type": "stream",
     "text": [
      "Authentication OK\n"
     ]
    }
   ],
   "source": [
    "auth = tweepy.OAuthHandler(credentials['TWITTER_API_KEY'], credentials['TWITTER_API_SECRET'])\n",
    "auth.set_access_token(credentials['TWITTER_ACCESS_KEY'], credentials['TWITTER_ACCESS_SECRET'])\n",
    "api = tweepy.API(auth)\n",
    "\n",
    "try:\n",
    "    api.verify_credentials()\n",
    "    print(\"Authentication OK\")\n",
    "except Exception as e:\n",
    "    print(e)\n",
    "    print(\"Error during authentication\")"
   ]
  },
  {
   "cell_type": "code",
   "execution_count": 14,
   "metadata": {
    "execution": {
     "iopub.execute_input": "2022-02-25T04:08:50.656408Z",
     "iopub.status.busy": "2022-02-25T04:08:50.656021Z",
     "iopub.status.idle": "2022-02-25T04:08:50.660716Z",
     "shell.execute_reply": "2022-02-25T04:08:50.660155Z"
    }
   },
   "outputs": [],
   "source": [
    "for index, row in new_rapports.iterrows():\n",
    "    icons_dict = {\n",
    "        \"Rapport d'information\": \"ℹ️\",\n",
    "        \"Rapport d'information sur des actes de l'Union européenne\": \"🇪🇺\",\n",
    "        \"Rapport d'information d'une mission d'information constituée au sein d'une commission permanente\": \"🔖\",\n",
    "        \"Rapport d'enquête\": \"🔍\"\n",
    "    }\n",
    "    icon = icons_dict[row['rapport_type']] if row['rapport_type'] in icons_dict else '📖'\n",
    "    tweet = f'{icon} • Nouveau {row[\"rapport_type\"].lower()} {row[\"url\"]} {row[\"description\"]}'\n",
    "    # pour le momnet, on ne tweet que les rapports d'information et d'enquête\n",
    "    if len(tweet) > 280:\n",
    "        tweet = tweet[0:277] + '...'    \n",
    "    print(tweet)\n",
    "    api.update_status(tweet)"
   ]
  }
 ],
 "metadata": {
  "interpreter": {
   "hash": "b037f35a570f4798a3cc3f929dcf08174f799abb59b153589084c9ec1d28de3d"
  },
  "kernelspec": {
   "display_name": "Python 3.8.12 64-bit (conda)",
   "language": "python",
   "name": "python3"
  },
  "language_info": {
   "codemirror_mode": {
    "name": "ipython",
    "version": 3
   },
   "file_extension": ".py",
   "mimetype": "text/x-python",
   "name": "python",
   "nbconvert_exporter": "python",
   "pygments_lexer": "ipython3",
   "version": "3.8.12"
  }
 },
 "nbformat": 4,
 "nbformat_minor": 2
}
