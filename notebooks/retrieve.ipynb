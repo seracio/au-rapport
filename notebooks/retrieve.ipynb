{
 "cells": [
  {
   "cell_type": "code",
   "execution_count": null,
   "metadata": {
    "execution": {
     "iopub.execute_input": "2022-01-22T13:51:20.168103Z",
     "iopub.status.busy": "2022-01-22T13:51:20.167556Z",
     "iopub.status.idle": "2022-01-22T13:51:20.497490Z",
     "shell.execute_reply": "2022-01-22T13:51:20.497924Z"
    }
   },
   "outputs": [],
   "source": [
    "import requests\n",
    "from datetime import datetime\n",
    "import pandas as pd\n",
    "import json\n",
    "import tweepy\n",
    "import os"
   ]
  },
  {
   "cell_type": "markdown",
   "metadata": {},
   "source": [
    "## On récupère la date du jour"
   ]
  },
  {
   "cell_type": "code",
   "execution_count": null,
   "metadata": {
    "execution": {
     "iopub.execute_input": "2022-01-22T13:51:20.502623Z",
     "iopub.status.busy": "2022-01-22T13:51:20.502029Z",
     "iopub.status.idle": "2022-01-22T13:51:20.504825Z",
     "shell.execute_reply": "2022-01-22T13:51:20.504401Z"
    }
   },
   "outputs": [],
   "source": [
    "today = datetime.now()\n",
    "yesterday = today - pd.Timedelta(days=1)"
   ]
  },
  {
   "cell_type": "markdown",
   "metadata": {},
   "source": [
    "## Quels sont les fichiers publiés en open data aujourd'hui ?"
   ]
  },
  {
   "cell_type": "code",
   "execution_count": null,
   "metadata": {
    "execution": {
     "iopub.execute_input": "2022-01-22T13:51:20.511871Z",
     "iopub.status.busy": "2022-01-22T13:51:20.511388Z",
     "iopub.status.idle": "2022-01-22T13:51:21.803948Z",
     "shell.execute_reply": "2022-01-22T13:51:21.803190Z"
    }
   },
   "outputs": [],
   "source": [
    "def retrieve_files_date(date):\n",
    "    formated_date = date.strftime('%Y-%m-%d')\n",
    "    try:\n",
    "        return(pd\n",
    "            .read_csv(\n",
    "                f'https://www.assemblee-nationale.fr/dyn/opendata/list-publication/publication_{formated_date}.csv', \n",
    "                sep=';', \n",
    "                names=['date', 'url']\n",
    "            )\n",
    "        )\n",
    "    except:\n",
    "        return(pd.DataFrame(columns=['date', 'url']))\n",
    "\n",
    "files = pd.concat([retrieve_files_date(date) for date in [yesterday, today]], ignore_index=True)"
   ]
  },
  {
   "cell_type": "markdown",
   "metadata": {},
   "source": [
    "## On isole tous les rapports d'information\n",
    "\n",
    "- L'id du rapport permet d'accéder au fichier de description json \n",
    "- Si l'id est différent du full_id, cela veut dire que c'est un rapport en plusieurs parties. Il faudra trouver la correspondance dans le fichier de description json"
   ]
  },
  {
   "cell_type": "code",
   "execution_count": null,
   "metadata": {
    "execution": {
     "iopub.execute_input": "2022-01-22T13:51:21.819122Z",
     "iopub.status.busy": "2022-01-22T13:51:21.811933Z",
     "iopub.status.idle": "2022-01-22T13:51:21.831247Z",
     "shell.execute_reply": "2022-01-22T13:51:21.831642Z"
    }
   },
   "outputs": [],
   "source": [
    "ris = (files\n",
    "    # les pdf d'un rapport d'information\n",
    "    .loc[files['url'].str.contains(r'RIN.+\\.pdf$')]    \n",
    "    .assign(\n",
    "        full_id = lambda x: x['url'].str.extract(pat = '(RIN.+)\\.pdf'),        \n",
    "    )\n",
    ")\n",
    "\n",
    "# https://www.codegrepper.com/code-examples/javascript/regex+match+anything+except+character\n",
    "ris[['id', 'tome']] =  ris['full_id'].str.extract(pat = '(RIN[^-]+)-?(.*)', expand=True)\n",
    "\n",
    "ris"
   ]
  },
  {
   "cell_type": "code",
   "execution_count": null,
   "metadata": {
    "execution": {
     "iopub.execute_input": "2022-01-22T13:51:21.838319Z",
     "iopub.status.busy": "2022-01-22T13:51:21.834502Z",
     "iopub.status.idle": "2022-01-22T13:51:22.507691Z",
     "shell.execute_reply": "2022-01-22T13:51:22.506737Z"
    }
   },
   "outputs": [],
   "source": [
    "descriptions = {}\n",
    "for id in ris['id'].unique():\n",
    "    url = f'https://www.assemblee-nationale.fr/dyn/opendata/{id}.json'\n",
    "    response = requests.get(url)\n",
    "    if response.status_code == 200:\n",
    "        descriptions[id] = json.loads(response.text)\n",
    "    else:\n",
    "        print(f'{id} not found')"
   ]
  },
  {
   "cell_type": "markdown",
   "metadata": {},
   "source": [
    "Pour le moment, on va juste mettre la description de base dans la df"
   ]
  },
  {
   "cell_type": "code",
   "execution_count": null,
   "metadata": {
    "execution": {
     "iopub.execute_input": "2022-01-22T13:51:22.519540Z",
     "iopub.status.busy": "2022-01-22T13:51:22.518799Z",
     "iopub.status.idle": "2022-01-22T13:51:22.523994Z",
     "shell.execute_reply": "2022-01-22T13:51:22.523591Z"
    }
   },
   "outputs": [],
   "source": [
    "def get_desc(id):\n",
    "    return descriptions[id]['titres']['titrePrincipalCourt']\n",
    "\n",
    "ris = ris.assign(\n",
    "    description = lambda x: x['id'].apply(get_desc),\n",
    ")\n",
    "\n",
    "ris"
   ]
  },
  {
   "cell_type": "markdown",
   "metadata": {},
   "source": [
    "Quels sont les nouveaux RI ?   "
   ]
  },
  {
   "cell_type": "code",
   "execution_count": null,
   "metadata": {
    "execution": {
     "iopub.execute_input": "2022-01-22T13:51:22.534939Z",
     "iopub.status.busy": "2022-01-22T13:51:22.528041Z",
     "iopub.status.idle": "2022-01-22T13:51:22.539517Z",
     "shell.execute_reply": "2022-01-22T13:51:22.539083Z"
    }
   },
   "outputs": [],
   "source": [
    "try:\n",
    "    old_ris = pd.read_csv('ris.csv', sep=';')\n",
    "except:\n",
    "    old_ris = pd.DataFrame({'full_id': []})\n",
    "\n",
    "new_ris = ris.loc[~ris['full_id'].isin(old_ris['full_id'])]    \n",
    "new_ris"
   ]
  },
  {
   "cell_type": "markdown",
   "metadata": {},
   "source": [
    "## On sauvegarde les nouveaux rapports"
   ]
  },
  {
   "cell_type": "code",
   "execution_count": null,
   "metadata": {
    "execution": {
     "iopub.execute_input": "2022-01-22T13:51:22.545348Z",
     "iopub.status.busy": "2022-01-22T13:51:22.544321Z",
     "iopub.status.idle": "2022-01-22T13:51:22.549111Z",
     "shell.execute_reply": "2022-01-22T13:51:22.548222Z"
    }
   },
   "outputs": [],
   "source": [
    "pd.concat([old_ris, new_ris], ignore_index=True).to_csv('ris.csv', sep=';', index=False)"
   ]
  },
  {
   "cell_type": "markdown",
   "metadata": {},
   "source": [
    "## On tweete les nouveaux rapports"
   ]
  },
  {
   "cell_type": "code",
   "execution_count": null,
   "metadata": {
    "execution": {
     "iopub.execute_input": "2022-01-22T13:51:22.554108Z",
     "iopub.status.busy": "2022-01-22T13:51:22.553195Z",
     "iopub.status.idle": "2022-01-22T13:51:22.556744Z",
     "shell.execute_reply": "2022-01-22T13:51:22.556352Z"
    }
   },
   "outputs": [],
   "source": [
    "try:\n",
    "    credentials = json.load(open('../twitter-credentials.json'))\n",
    "except:\n",
    "    # gh actions secrets\n",
    "    credentials = {key: os.environ[key] for key in [\"TWITTER_API_KEY\", \"TWITTER_API_SECRET\", \"TWITTER_ACCESS_KEY\", \"TWITTER_ACCESS_SECRET\"]}"
   ]
  },
  {
   "cell_type": "code",
   "execution_count": null,
   "metadata": {
    "execution": {
     "iopub.execute_input": "2022-01-22T13:51:22.565231Z",
     "iopub.status.busy": "2022-01-22T13:51:22.564729Z",
     "iopub.status.idle": "2022-01-22T13:51:22.783236Z",
     "shell.execute_reply": "2022-01-22T13:51:22.782806Z"
    }
   },
   "outputs": [],
   "source": [
    "auth = tweepy.OAuthHandler(credentials['TWITTER_API_KEY'], credentials['TWITTER_API_SECRET'])\n",
    "auth.set_access_token(credentials['TWITTER_ACCESS_KEY'], credentials['TWITTER_ACCESS_SECRET'])\n",
    "api = tweepy.API(auth)\n",
    "\n",
    "try:\n",
    "    api.verify_credentials()\n",
    "    print(\"Authentication OK\")\n",
    "except Exception as e:\n",
    "    print(e)\n",
    "    print(\"Error during authentication\")"
   ]
  },
  {
   "cell_type": "code",
   "execution_count": null,
   "metadata": {
    "execution": {
     "iopub.execute_input": "2022-01-22T13:51:22.788699Z",
     "iopub.status.busy": "2022-01-22T13:51:22.788221Z",
     "iopub.status.idle": "2022-01-22T13:51:22.791773Z",
     "shell.execute_reply": "2022-01-22T13:51:22.791355Z"
    }
   },
   "outputs": [],
   "source": [
    "for index, row in new_ris.iterrows():\n",
    "    tweet = f'ℹ️ • Nouveau rapport d\\'information {row[\"url\"]} {row[\"description\"]}'\n",
    "    if len(tweet) > 280:\n",
    "        tweet = tweet[0:277] + '...'\n",
    "    api.update_status(tweet)"
   ]
  }
 ],
 "metadata": {
  "interpreter": {
   "hash": "b037f35a570f4798a3cc3f929dcf08174f799abb59b153589084c9ec1d28de3d"
  },
  "kernelspec": {
   "display_name": "Python 3.8.12 64-bit (conda)",
   "language": "python",
   "name": "python3"
  },
  "language_info": {
   "codemirror_mode": {
    "name": "ipython",
    "version": 3
   },
   "file_extension": ".py",
   "mimetype": "text/x-python",
   "name": "python",
   "nbconvert_exporter": "python",
   "pygments_lexer": "ipython3",
   "version": "3.8.12"
  }
 },
 "nbformat": 4,
 "nbformat_minor": 2
}
