{
 "cells": [
  {
   "cell_type": "code",
   "execution_count": 1,
   "metadata": {
    "execution": {
     "iopub.execute_input": "2022-02-24T12:10:06.087850Z",
     "iopub.status.busy": "2022-02-24T12:10:06.068260Z",
     "iopub.status.idle": "2022-02-24T12:10:06.423868Z",
     "shell.execute_reply": "2022-02-24T12:10:06.423030Z"
    }
   },
   "outputs": [],
   "source": [
    "import requests\n",
    "from datetime import datetime\n",
    "import pandas as pd\n",
    "import json\n",
    "import tweepy\n",
    "import os\n",
    "from pathlib import Path"
   ]
  },
  {
   "cell_type": "markdown",
   "metadata": {},
   "source": [
    "## On récupère la date du jour"
   ]
  },
  {
   "cell_type": "code",
   "execution_count": 2,
   "metadata": {
    "execution": {
     "iopub.execute_input": "2022-02-24T12:10:06.427440Z",
     "iopub.status.busy": "2022-02-24T12:10:06.427229Z",
     "iopub.status.idle": "2022-02-24T12:10:06.430845Z",
     "shell.execute_reply": "2022-02-24T12:10:06.429811Z"
    }
   },
   "outputs": [],
   "source": [
    "today = datetime.now()\n",
    "yesterday = today - pd.Timedelta(days=1)"
   ]
  },
  {
   "cell_type": "markdown",
   "metadata": {},
   "source": [
    "## Quels sont les fichiers publiés en open data aujourd'hui ?"
   ]
  },
  {
   "cell_type": "code",
   "execution_count": 3,
   "metadata": {
    "execution": {
     "iopub.execute_input": "2022-02-24T12:10:06.434245Z",
     "iopub.status.busy": "2022-02-24T12:10:06.433789Z",
     "iopub.status.idle": "2022-02-24T12:10:07.720406Z",
     "shell.execute_reply": "2022-02-24T12:10:07.719824Z"
    }
   },
   "outputs": [],
   "source": [
    "def retrieve_files_date(date):\n",
    "    formated_date = date.strftime('%Y-%m-%d')\n",
    "    try:\n",
    "        return(pd\n",
    "            .read_csv(\n",
    "                f'https://www.assemblee-nationale.fr/dyn/opendata/list-publication/publication_{formated_date}.csv', \n",
    "                sep=';', \n",
    "                names=['date', 'url']\n",
    "            )\n",
    "        )\n",
    "    except:\n",
    "        return(pd.DataFrame(columns=['date', 'url']))\n",
    "\n",
    "files = pd.concat([retrieve_files_date(date) for date in [yesterday, today]], ignore_index=True)"
   ]
  },
  {
   "cell_type": "markdown",
   "metadata": {},
   "source": [
    "## On isole tous les rapports d'information\n",
    "\n",
    "- L'id du rapport permet d'accéder au fichier de description json \n",
    "- Si l'id est différent du full_id, cela veut dire que c'est un rapport en plusieurs parties. Il faudra trouver la correspondance dans le fichier de description json"
   ]
  },
  {
   "cell_type": "code",
   "execution_count": 4,
   "metadata": {
    "execution": {
     "iopub.execute_input": "2022-02-24T12:10:07.723935Z",
     "iopub.status.busy": "2022-02-24T12:10:07.723609Z",
     "iopub.status.idle": "2022-02-24T12:10:07.753200Z",
     "shell.execute_reply": "2022-02-24T12:10:07.752582Z"
    }
   },
   "outputs": [
    {
     "data": {
      "text/html": [
       "<div>\n",
       "<style scoped>\n",
       "    .dataframe tbody tr th:only-of-type {\n",
       "        vertical-align: middle;\n",
       "    }\n",
       "\n",
       "    .dataframe tbody tr th {\n",
       "        vertical-align: top;\n",
       "    }\n",
       "\n",
       "    .dataframe thead th {\n",
       "        text-align: right;\n",
       "    }\n",
       "</style>\n",
       "<table border=\"1\" class=\"dataframe\">\n",
       "  <thead>\n",
       "    <tr style=\"text-align: right;\">\n",
       "      <th></th>\n",
       "      <th>date</th>\n",
       "      <th>url</th>\n",
       "      <th>full_id</th>\n",
       "      <th>id</th>\n",
       "      <th>tome</th>\n",
       "    </tr>\n",
       "  </thead>\n",
       "  <tbody>\n",
       "    <tr>\n",
       "      <th>16</th>\n",
       "      <td>2022-02-23 09:28:09</td>\n",
       "      <td>https://www.assemblee-nationale.fr/dyn/opendat...</td>\n",
       "      <td>RINFANR5L15B5049</td>\n",
       "      <td>RINFANR5L15B5049</td>\n",
       "      <td></td>\n",
       "    </tr>\n",
       "    <tr>\n",
       "      <th>22</th>\n",
       "      <td>2022-02-23 10:15:02</td>\n",
       "      <td>https://www.assemblee-nationale.fr/dyn/opendat...</td>\n",
       "      <td>RINFANR5L15B5049</td>\n",
       "      <td>RINFANR5L15B5049</td>\n",
       "      <td></td>\n",
       "    </tr>\n",
       "    <tr>\n",
       "      <th>178</th>\n",
       "      <td>2022-02-23 13:51:35</td>\n",
       "      <td>https://www.assemblee-nationale.fr/dyn/opendat...</td>\n",
       "      <td>RINFANR5L15B5054</td>\n",
       "      <td>RINFANR5L15B5054</td>\n",
       "      <td></td>\n",
       "    </tr>\n",
       "    <tr>\n",
       "      <th>240</th>\n",
       "      <td>2022-02-23 16:21:07</td>\n",
       "      <td>https://www.assemblee-nationale.fr/dyn/opendat...</td>\n",
       "      <td>RINFANR5L15B4907</td>\n",
       "      <td>RINFANR5L15B4907</td>\n",
       "      <td></td>\n",
       "    </tr>\n",
       "    <tr>\n",
       "      <th>356</th>\n",
       "      <td>2022-02-23 19:29:27</td>\n",
       "      <td>https://www.assemblee-nationale.fr/dyn/opendat...</td>\n",
       "      <td>RINFANR5L15B5039</td>\n",
       "      <td>RINFANR5L15B5039</td>\n",
       "      <td></td>\n",
       "    </tr>\n",
       "    <tr>\n",
       "      <th>376</th>\n",
       "      <td>2022-02-23 19:54:35</td>\n",
       "      <td>https://www.assemblee-nationale.fr/dyn/opendat...</td>\n",
       "      <td>RINFANR5L15B5039</td>\n",
       "      <td>RINFANR5L15B5039</td>\n",
       "      <td></td>\n",
       "    </tr>\n",
       "    <tr>\n",
       "      <th>394</th>\n",
       "      <td>2022-02-23 22:15:22</td>\n",
       "      <td>https://www.assemblee-nationale.fr/dyn/opendat...</td>\n",
       "      <td>RINFANR5L15B5044</td>\n",
       "      <td>RINFANR5L15B5044</td>\n",
       "      <td></td>\n",
       "    </tr>\n",
       "    <tr>\n",
       "      <th>395</th>\n",
       "      <td>2022-02-24 00:16:26</td>\n",
       "      <td>https://www.assemblee-nationale.fr/dyn/opendat...</td>\n",
       "      <td>RINFANR5L15B5044</td>\n",
       "      <td>RINFANR5L15B5044</td>\n",
       "      <td></td>\n",
       "    </tr>\n",
       "    <tr>\n",
       "      <th>398</th>\n",
       "      <td>2022-02-24 00:16:26</td>\n",
       "      <td>https://www.assemblee-nationale.fr/dyn/opendat...</td>\n",
       "      <td>RINFANR5L15B5122</td>\n",
       "      <td>RINFANR5L15B5122</td>\n",
       "      <td></td>\n",
       "    </tr>\n",
       "    <tr>\n",
       "      <th>402</th>\n",
       "      <td>2022-02-24 00:17:09</td>\n",
       "      <td>https://www.assemblee-nationale.fr/dyn/opendat...</td>\n",
       "      <td>RINFANR5L15B5122</td>\n",
       "      <td>RINFANR5L15B5122</td>\n",
       "      <td></td>\n",
       "    </tr>\n",
       "    <tr>\n",
       "      <th>507</th>\n",
       "      <td>2022-02-24 10:29:36</td>\n",
       "      <td>https://www.assemblee-nationale.fr/dyn/opendat...</td>\n",
       "      <td>RINFANR5L15B5117</td>\n",
       "      <td>RINFANR5L15B5117</td>\n",
       "      <td></td>\n",
       "    </tr>\n",
       "    <tr>\n",
       "      <th>510</th>\n",
       "      <td>2022-02-24 10:34:37</td>\n",
       "      <td>https://www.assemblee-nationale.fr/dyn/opendat...</td>\n",
       "      <td>RINFANR5L15B5117</td>\n",
       "      <td>RINFANR5L15B5117</td>\n",
       "      <td></td>\n",
       "    </tr>\n",
       "    <tr>\n",
       "      <th>530</th>\n",
       "      <td>2022-02-24 11:41:29</td>\n",
       "      <td>https://www.assemblee-nationale.fr/dyn/opendat...</td>\n",
       "      <td>RINFANR5L15B4907</td>\n",
       "      <td>RINFANR5L15B4907</td>\n",
       "      <td></td>\n",
       "    </tr>\n",
       "  </tbody>\n",
       "</table>\n",
       "</div>"
      ],
      "text/plain": [
       "                    date                                                url  \\\n",
       "16   2022-02-23 09:28:09  https://www.assemblee-nationale.fr/dyn/opendat...   \n",
       "22   2022-02-23 10:15:02  https://www.assemblee-nationale.fr/dyn/opendat...   \n",
       "178  2022-02-23 13:51:35  https://www.assemblee-nationale.fr/dyn/opendat...   \n",
       "240  2022-02-23 16:21:07  https://www.assemblee-nationale.fr/dyn/opendat...   \n",
       "356  2022-02-23 19:29:27  https://www.assemblee-nationale.fr/dyn/opendat...   \n",
       "376  2022-02-23 19:54:35  https://www.assemblee-nationale.fr/dyn/opendat...   \n",
       "394  2022-02-23 22:15:22  https://www.assemblee-nationale.fr/dyn/opendat...   \n",
       "395  2022-02-24 00:16:26  https://www.assemblee-nationale.fr/dyn/opendat...   \n",
       "398  2022-02-24 00:16:26  https://www.assemblee-nationale.fr/dyn/opendat...   \n",
       "402  2022-02-24 00:17:09  https://www.assemblee-nationale.fr/dyn/opendat...   \n",
       "507  2022-02-24 10:29:36  https://www.assemblee-nationale.fr/dyn/opendat...   \n",
       "510  2022-02-24 10:34:37  https://www.assemblee-nationale.fr/dyn/opendat...   \n",
       "530  2022-02-24 11:41:29  https://www.assemblee-nationale.fr/dyn/opendat...   \n",
       "\n",
       "              full_id                id tome  \n",
       "16   RINFANR5L15B5049  RINFANR5L15B5049       \n",
       "22   RINFANR5L15B5049  RINFANR5L15B5049       \n",
       "178  RINFANR5L15B5054  RINFANR5L15B5054       \n",
       "240  RINFANR5L15B4907  RINFANR5L15B4907       \n",
       "356  RINFANR5L15B5039  RINFANR5L15B5039       \n",
       "376  RINFANR5L15B5039  RINFANR5L15B5039       \n",
       "394  RINFANR5L15B5044  RINFANR5L15B5044       \n",
       "395  RINFANR5L15B5044  RINFANR5L15B5044       \n",
       "398  RINFANR5L15B5122  RINFANR5L15B5122       \n",
       "402  RINFANR5L15B5122  RINFANR5L15B5122       \n",
       "507  RINFANR5L15B5117  RINFANR5L15B5117       \n",
       "510  RINFANR5L15B5117  RINFANR5L15B5117       \n",
       "530  RINFANR5L15B4907  RINFANR5L15B4907       "
      ]
     },
     "execution_count": 4,
     "metadata": {},
     "output_type": "execute_result"
    }
   ],
   "source": [
    "ris = (files\n",
    "    # les pdf d'un rapport d'information\n",
    "    .loc[files['url'].str.contains(r'RIN.+\\.pdf$')]    \n",
    "    .assign(\n",
    "        full_id = lambda x: x['url'].str.extract(pat = '(RIN.+)\\.pdf')        \n",
    "    )\n",
    ")\n",
    "\n",
    "# https://www.codegrepper.com/code-examples/javascript/regex+match+anything+except+character\n",
    "ris[['id', 'tome']] =  ris['full_id'].str.extract(pat = '(RIN[^-]+)-?(.*)', expand=True)\n",
    "\n",
    "ris"
   ]
  },
  {
   "cell_type": "code",
   "execution_count": 5,
   "metadata": {
    "execution": {
     "iopub.execute_input": "2022-02-24T12:10:07.756313Z",
     "iopub.status.busy": "2022-02-24T12:10:07.755978Z",
     "iopub.status.idle": "2022-02-24T12:10:07.773326Z",
     "shell.execute_reply": "2022-02-24T12:10:07.772607Z"
    }
   },
   "outputs": [
    {
     "data": {
      "text/html": [
       "<div>\n",
       "<style scoped>\n",
       "    .dataframe tbody tr th:only-of-type {\n",
       "        vertical-align: middle;\n",
       "    }\n",
       "\n",
       "    .dataframe tbody tr th {\n",
       "        vertical-align: top;\n",
       "    }\n",
       "\n",
       "    .dataframe thead th {\n",
       "        text-align: right;\n",
       "    }\n",
       "</style>\n",
       "<table border=\"1\" class=\"dataframe\">\n",
       "  <thead>\n",
       "    <tr style=\"text-align: right;\">\n",
       "      <th></th>\n",
       "      <th>date</th>\n",
       "      <th>url</th>\n",
       "      <th>full_id</th>\n",
       "      <th>id</th>\n",
       "      <th>tome</th>\n",
       "    </tr>\n",
       "  </thead>\n",
       "  <tbody>\n",
       "    <tr>\n",
       "      <th>300</th>\n",
       "      <td>2022-02-23 18:12:29</td>\n",
       "      <td>https://www.assemblee-nationale.fr/dyn/opendat...</td>\n",
       "      <td>RAPPANR5L15B4933</td>\n",
       "      <td>RAPPANR5L15B4933</td>\n",
       "      <td></td>\n",
       "    </tr>\n",
       "    <tr>\n",
       "      <th>482</th>\n",
       "      <td>2022-02-24 09:52:46</td>\n",
       "      <td>https://www.assemblee-nationale.fr/dyn/opendat...</td>\n",
       "      <td>RAPPANR5L15B4331</td>\n",
       "      <td>RAPPANR5L15B4331</td>\n",
       "      <td></td>\n",
       "    </tr>\n",
       "    <tr>\n",
       "      <th>486</th>\n",
       "      <td>2022-02-24 09:54:07</td>\n",
       "      <td>https://www.assemblee-nationale.fr/dyn/opendat...</td>\n",
       "      <td>RAPPANR5L15B4761</td>\n",
       "      <td>RAPPANR5L15B4761</td>\n",
       "      <td></td>\n",
       "    </tr>\n",
       "  </tbody>\n",
       "</table>\n",
       "</div>"
      ],
      "text/plain": [
       "                    date                                                url  \\\n",
       "300  2022-02-23 18:12:29  https://www.assemblee-nationale.fr/dyn/opendat...   \n",
       "482  2022-02-24 09:52:46  https://www.assemblee-nationale.fr/dyn/opendat...   \n",
       "486  2022-02-24 09:54:07  https://www.assemblee-nationale.fr/dyn/opendat...   \n",
       "\n",
       "              full_id                id tome  \n",
       "300  RAPPANR5L15B4933  RAPPANR5L15B4933       \n",
       "482  RAPPANR5L15B4331  RAPPANR5L15B4331       \n",
       "486  RAPPANR5L15B4761  RAPPANR5L15B4761       "
      ]
     },
     "execution_count": 5,
     "metadata": {},
     "output_type": "execute_result"
    }
   ],
   "source": [
    "raps = (files\n",
    "    # les pdf d'un rapport\n",
    "    .loc[files['url'].str.contains(r'RAPP.+\\.pdf$')]    \n",
    "    .assign(\n",
    "        full_id = lambda x: x['url'].str.extract(pat = '(RAPP.+)\\.pdf'),        \n",
    "    )\n",
    ")\n",
    "\n",
    "# https://www.codegrepper.com/code-examples/javascript/regex+match+anything+except+character\n",
    "raps[['id', 'tome']] =  raps['full_id'].str.extract(pat = '(RAPP[^-]+)-?(.*)', expand=True)\n",
    "\n",
    "raps"
   ]
  },
  {
   "cell_type": "code",
   "execution_count": 6,
   "metadata": {
    "execution": {
     "iopub.execute_input": "2022-02-24T12:10:07.776241Z",
     "iopub.status.busy": "2022-02-24T12:10:07.775888Z",
     "iopub.status.idle": "2022-02-24T12:10:07.783359Z",
     "shell.execute_reply": "2022-02-24T12:10:07.782845Z"
    }
   },
   "outputs": [],
   "source": [
    "all_rapports = (pd\n",
    "    .concat([ris, raps], ignore_index=True)\n",
    "    .drop_duplicates(subset=['id', 'full_id'])\n",
    ")"
   ]
  },
  {
   "cell_type": "code",
   "execution_count": 7,
   "metadata": {
    "execution": {
     "iopub.execute_input": "2022-02-24T12:10:07.786152Z",
     "iopub.status.busy": "2022-02-24T12:10:07.785674Z",
     "iopub.status.idle": "2022-02-24T12:10:12.789085Z",
     "shell.execute_reply": "2022-02-24T12:10:12.788519Z"
    }
   },
   "outputs": [],
   "source": [
    "descriptions = {}\n",
    "for id in all_rapports['id'].unique():\n",
    "    url = f'https://www.assemblee-nationale.fr/dyn/opendata/{id}.json'\n",
    "    response = requests.get(url)\n",
    "    if response.status_code == 200:\n",
    "        descriptions[id] = json.loads(response.text)\n",
    "    else:  \n",
    "        print(f'{id} not found')"
   ]
  },
  {
   "cell_type": "markdown",
   "metadata": {},
   "source": [
    "Pour le moment, on va juste mettre la description de base dans la df"
   ]
  },
  {
   "cell_type": "code",
   "execution_count": 8,
   "metadata": {
    "execution": {
     "iopub.execute_input": "2022-02-24T12:10:12.792224Z",
     "iopub.status.busy": "2022-02-24T12:10:12.791922Z",
     "iopub.status.idle": "2022-02-24T12:10:12.814934Z",
     "shell.execute_reply": "2022-02-24T12:10:12.814454Z"
    }
   },
   "outputs": [
    {
     "data": {
      "text/html": [
       "<div>\n",
       "<style scoped>\n",
       "    .dataframe tbody tr th:only-of-type {\n",
       "        vertical-align: middle;\n",
       "    }\n",
       "\n",
       "    .dataframe tbody tr th {\n",
       "        vertical-align: top;\n",
       "    }\n",
       "\n",
       "    .dataframe thead th {\n",
       "        text-align: right;\n",
       "    }\n",
       "</style>\n",
       "<table border=\"1\" class=\"dataframe\">\n",
       "  <thead>\n",
       "    <tr style=\"text-align: right;\">\n",
       "      <th></th>\n",
       "      <th>date</th>\n",
       "      <th>url</th>\n",
       "      <th>full_id</th>\n",
       "      <th>id</th>\n",
       "      <th>tome</th>\n",
       "      <th>description</th>\n",
       "      <th>rapport_type</th>\n",
       "      <th>depot</th>\n",
       "    </tr>\n",
       "  </thead>\n",
       "  <tbody>\n",
       "    <tr>\n",
       "      <th>0</th>\n",
       "      <td>2022-02-23 09:28:09</td>\n",
       "      <td>https://www.assemblee-nationale.fr/dyn/opendat...</td>\n",
       "      <td>RINFANR5L15B5049</td>\n",
       "      <td>RINFANR5L15B5049</td>\n",
       "      <td></td>\n",
       "      <td>Protection des espèces menacées de Mme Michèle...</td>\n",
       "      <td>Rapport d'information d'une mission d'informat...</td>\n",
       "      <td>RAPAUT</td>\n",
       "    </tr>\n",
       "    <tr>\n",
       "      <th>2</th>\n",
       "      <td>2022-02-23 13:51:35</td>\n",
       "      <td>https://www.assemblee-nationale.fr/dyn/opendat...</td>\n",
       "      <td>RINFANR5L15B5054</td>\n",
       "      <td>RINFANR5L15B5054</td>\n",
       "      <td></td>\n",
       "      <td>MI préparation à la haute intensité</td>\n",
       "      <td>Rapport d'information d'une mission d'informat...</td>\n",
       "      <td>RAPAUT</td>\n",
       "    </tr>\n",
       "    <tr>\n",
       "      <th>3</th>\n",
       "      <td>2022-02-23 16:21:07</td>\n",
       "      <td>https://www.assemblee-nationale.fr/dyn/opendat...</td>\n",
       "      <td>RINFANR5L15B4907</td>\n",
       "      <td>RINFANR5L15B4907</td>\n",
       "      <td></td>\n",
       "      <td>Les violences faites aux femmes dans le monde ...</td>\n",
       "      <td>Rapport d'information d'une mission d'informat...</td>\n",
       "      <td>RAPAUT</td>\n",
       "    </tr>\n",
       "    <tr>\n",
       "      <th>4</th>\n",
       "      <td>2022-02-23 19:29:27</td>\n",
       "      <td>https://www.assemblee-nationale.fr/dyn/opendat...</td>\n",
       "      <td>RINFANR5L15B5039</td>\n",
       "      <td>RINFANR5L15B5039</td>\n",
       "      <td></td>\n",
       "      <td>rapport d'information par la commission des af...</td>\n",
       "      <td>Rapport d'information tel quel</td>\n",
       "      <td>RAPAUT</td>\n",
       "    </tr>\n",
       "    <tr>\n",
       "      <th>6</th>\n",
       "      <td>2022-02-23 22:15:22</td>\n",
       "      <td>https://www.assemblee-nationale.fr/dyn/opendat...</td>\n",
       "      <td>RINFANR5L15B5044</td>\n",
       "      <td>RINFANR5L15B5044</td>\n",
       "      <td></td>\n",
       "      <td>rapport d'information par la commission des af...</td>\n",
       "      <td>Rapport d'information d'une mission d'informat...</td>\n",
       "      <td>RAPAUT</td>\n",
       "    </tr>\n",
       "    <tr>\n",
       "      <th>8</th>\n",
       "      <td>2022-02-24 00:16:26</td>\n",
       "      <td>https://www.assemblee-nationale.fr/dyn/opendat...</td>\n",
       "      <td>RINFANR5L15B5122</td>\n",
       "      <td>RINFANR5L15B5122</td>\n",
       "      <td></td>\n",
       "      <td>rapport d'information par la commission des fi...</td>\n",
       "      <td>Rapport d'information d'une mission d'informat...</td>\n",
       "      <td>RAPAUT</td>\n",
       "    </tr>\n",
       "    <tr>\n",
       "      <th>10</th>\n",
       "      <td>2022-02-24 10:29:36</td>\n",
       "      <td>https://www.assemblee-nationale.fr/dyn/opendat...</td>\n",
       "      <td>RINFANR5L15B5117</td>\n",
       "      <td>RINFANR5L15B5117</td>\n",
       "      <td></td>\n",
       "      <td>rapport d'information déposé par la délégation...</td>\n",
       "      <td>Rapport d'information tel quel</td>\n",
       "      <td>RAPAUT</td>\n",
       "    </tr>\n",
       "    <tr>\n",
       "      <th>13</th>\n",
       "      <td>2022-02-23 18:12:29</td>\n",
       "      <td>https://www.assemblee-nationale.fr/dyn/opendat...</td>\n",
       "      <td>RAPPANR5L15B4933</td>\n",
       "      <td>RAPPANR5L15B4933</td>\n",
       "      <td></td>\n",
       "      <td>rapport établi au nom de l'office, sur la stra...</td>\n",
       "      <td>Rapport des offices parlementaires</td>\n",
       "      <td>RAPAUT</td>\n",
       "    </tr>\n",
       "    <tr>\n",
       "      <th>14</th>\n",
       "      <td>2022-02-24 09:52:46</td>\n",
       "      <td>https://www.assemblee-nationale.fr/dyn/opendat...</td>\n",
       "      <td>RAPPANR5L15B4331</td>\n",
       "      <td>RAPPANR5L15B4331</td>\n",
       "      <td></td>\n",
       "      <td>rapport établi au nom de l'office, L’énergie n...</td>\n",
       "      <td>Rapport des offices parlementaires</td>\n",
       "      <td>RAPAUT</td>\n",
       "    </tr>\n",
       "    <tr>\n",
       "      <th>15</th>\n",
       "      <td>2022-02-24 09:54:07</td>\n",
       "      <td>https://www.assemblee-nationale.fr/dyn/opendat...</td>\n",
       "      <td>RAPPANR5L15B4761</td>\n",
       "      <td>RAPPANR5L15B4761</td>\n",
       "      <td></td>\n",
       "      <td>rapport établi au nom de l'office, Qualité de ...</td>\n",
       "      <td>Rapport des offices parlementaires</td>\n",
       "      <td>RAPAUT</td>\n",
       "    </tr>\n",
       "  </tbody>\n",
       "</table>\n",
       "</div>"
      ],
      "text/plain": [
       "                   date                                                url  \\\n",
       "0   2022-02-23 09:28:09  https://www.assemblee-nationale.fr/dyn/opendat...   \n",
       "2   2022-02-23 13:51:35  https://www.assemblee-nationale.fr/dyn/opendat...   \n",
       "3   2022-02-23 16:21:07  https://www.assemblee-nationale.fr/dyn/opendat...   \n",
       "4   2022-02-23 19:29:27  https://www.assemblee-nationale.fr/dyn/opendat...   \n",
       "6   2022-02-23 22:15:22  https://www.assemblee-nationale.fr/dyn/opendat...   \n",
       "8   2022-02-24 00:16:26  https://www.assemblee-nationale.fr/dyn/opendat...   \n",
       "10  2022-02-24 10:29:36  https://www.assemblee-nationale.fr/dyn/opendat...   \n",
       "13  2022-02-23 18:12:29  https://www.assemblee-nationale.fr/dyn/opendat...   \n",
       "14  2022-02-24 09:52:46  https://www.assemblee-nationale.fr/dyn/opendat...   \n",
       "15  2022-02-24 09:54:07  https://www.assemblee-nationale.fr/dyn/opendat...   \n",
       "\n",
       "             full_id                id tome  \\\n",
       "0   RINFANR5L15B5049  RINFANR5L15B5049        \n",
       "2   RINFANR5L15B5054  RINFANR5L15B5054        \n",
       "3   RINFANR5L15B4907  RINFANR5L15B4907        \n",
       "4   RINFANR5L15B5039  RINFANR5L15B5039        \n",
       "6   RINFANR5L15B5044  RINFANR5L15B5044        \n",
       "8   RINFANR5L15B5122  RINFANR5L15B5122        \n",
       "10  RINFANR5L15B5117  RINFANR5L15B5117        \n",
       "13  RAPPANR5L15B4933  RAPPANR5L15B4933        \n",
       "14  RAPPANR5L15B4331  RAPPANR5L15B4331        \n",
       "15  RAPPANR5L15B4761  RAPPANR5L15B4761        \n",
       "\n",
       "                                          description  \\\n",
       "0   Protection des espèces menacées de Mme Michèle...   \n",
       "2                 MI préparation à la haute intensité   \n",
       "3   Les violences faites aux femmes dans le monde ...   \n",
       "4   rapport d'information par la commission des af...   \n",
       "6   rapport d'information par la commission des af...   \n",
       "8   rapport d'information par la commission des fi...   \n",
       "10  rapport d'information déposé par la délégation...   \n",
       "13  rapport établi au nom de l'office, sur la stra...   \n",
       "14  rapport établi au nom de l'office, L’énergie n...   \n",
       "15  rapport établi au nom de l'office, Qualité de ...   \n",
       "\n",
       "                                         rapport_type   depot  \n",
       "0   Rapport d'information d'une mission d'informat...  RAPAUT  \n",
       "2   Rapport d'information d'une mission d'informat...  RAPAUT  \n",
       "3   Rapport d'information d'une mission d'informat...  RAPAUT  \n",
       "4                      Rapport d'information tel quel  RAPAUT  \n",
       "6   Rapport d'information d'une mission d'informat...  RAPAUT  \n",
       "8   Rapport d'information d'une mission d'informat...  RAPAUT  \n",
       "10                     Rapport d'information tel quel  RAPAUT  \n",
       "13                 Rapport des offices parlementaires  RAPAUT  \n",
       "14                 Rapport des offices parlementaires  RAPAUT  \n",
       "15                 Rapport des offices parlementaires  RAPAUT  "
      ]
     },
     "execution_count": 8,
     "metadata": {},
     "output_type": "execute_result"
    }
   ],
   "source": [
    "def get_desc(id):\n",
    "    return descriptions[id]['titres']['titrePrincipalCourt'].replace(\"déposé en application de l'article 145 du règlement, \", \"\")\n",
    "\n",
    "def get_depot(id):\n",
    "    return descriptions[id]['classification']['famille']['depot']['code']\n",
    "\n",
    "def get_type(id):\n",
    "    if 'libelle' in descriptions[id]['classification']['sousType']:\n",
    "        return(f\"{descriptions[id]['classification']['type']['libelle']} {descriptions[id]['classification']['sousType']['libelle']}\")\n",
    "    else: \n",
    "        return descriptions[id]['classification']['type']['libelle']\n",
    "\n",
    "all_rapports = (all_rapports\n",
    "    .loc[lambda x: x['id'].isin(descriptions.keys())]\n",
    "    .assign(\n",
    "        description = lambda x: x['id'].apply(get_desc),\n",
    "        rapport_type = lambda x: x['id'].apply(get_type),\n",
    "        depot = lambda x: x['id'].apply(get_depot)\n",
    "    )\n",
    "    # on ne garde que les rapports autonomes\n",
    "    .loc[lambda x: x['depot'].isin(['RAPAUT'])]\n",
    ")\n",
    "\n",
    "all_rapports"
   ]
  },
  {
   "cell_type": "markdown",
   "metadata": {},
   "source": [
    "Quels sont les nouveaux RI ?   "
   ]
  },
  {
   "cell_type": "code",
   "execution_count": 9,
   "metadata": {
    "execution": {
     "iopub.execute_input": "2022-02-24T12:10:12.817984Z",
     "iopub.status.busy": "2022-02-24T12:10:12.817530Z",
     "iopub.status.idle": "2022-02-24T12:10:12.832360Z",
     "shell.execute_reply": "2022-02-24T12:10:12.831815Z"
    }
   },
   "outputs": [
    {
     "data": {
      "text/html": [
       "<div>\n",
       "<style scoped>\n",
       "    .dataframe tbody tr th:only-of-type {\n",
       "        vertical-align: middle;\n",
       "    }\n",
       "\n",
       "    .dataframe tbody tr th {\n",
       "        vertical-align: top;\n",
       "    }\n",
       "\n",
       "    .dataframe thead th {\n",
       "        text-align: right;\n",
       "    }\n",
       "</style>\n",
       "<table border=\"1\" class=\"dataframe\">\n",
       "  <thead>\n",
       "    <tr style=\"text-align: right;\">\n",
       "      <th></th>\n",
       "      <th>date</th>\n",
       "      <th>url</th>\n",
       "      <th>full_id</th>\n",
       "      <th>id</th>\n",
       "      <th>tome</th>\n",
       "      <th>description</th>\n",
       "      <th>rapport_type</th>\n",
       "      <th>depot</th>\n",
       "    </tr>\n",
       "  </thead>\n",
       "  <tbody>\n",
       "    <tr>\n",
       "      <th>10</th>\n",
       "      <td>2022-02-24 10:29:36</td>\n",
       "      <td>https://www.assemblee-nationale.fr/dyn/opendat...</td>\n",
       "      <td>RINFANR5L15B5117</td>\n",
       "      <td>RINFANR5L15B5117</td>\n",
       "      <td></td>\n",
       "      <td>rapport d'information déposé par la délégation...</td>\n",
       "      <td>Rapport d'information tel quel</td>\n",
       "      <td>RAPAUT</td>\n",
       "    </tr>\n",
       "    <tr>\n",
       "      <th>14</th>\n",
       "      <td>2022-02-24 09:52:46</td>\n",
       "      <td>https://www.assemblee-nationale.fr/dyn/opendat...</td>\n",
       "      <td>RAPPANR5L15B4331</td>\n",
       "      <td>RAPPANR5L15B4331</td>\n",
       "      <td></td>\n",
       "      <td>rapport établi au nom de l'office, L’énergie n...</td>\n",
       "      <td>Rapport des offices parlementaires</td>\n",
       "      <td>RAPAUT</td>\n",
       "    </tr>\n",
       "    <tr>\n",
       "      <th>15</th>\n",
       "      <td>2022-02-24 09:54:07</td>\n",
       "      <td>https://www.assemblee-nationale.fr/dyn/opendat...</td>\n",
       "      <td>RAPPANR5L15B4761</td>\n",
       "      <td>RAPPANR5L15B4761</td>\n",
       "      <td></td>\n",
       "      <td>rapport établi au nom de l'office, Qualité de ...</td>\n",
       "      <td>Rapport des offices parlementaires</td>\n",
       "      <td>RAPAUT</td>\n",
       "    </tr>\n",
       "  </tbody>\n",
       "</table>\n",
       "</div>"
      ],
      "text/plain": [
       "                   date                                                url  \\\n",
       "10  2022-02-24 10:29:36  https://www.assemblee-nationale.fr/dyn/opendat...   \n",
       "14  2022-02-24 09:52:46  https://www.assemblee-nationale.fr/dyn/opendat...   \n",
       "15  2022-02-24 09:54:07  https://www.assemblee-nationale.fr/dyn/opendat...   \n",
       "\n",
       "             full_id                id tome  \\\n",
       "10  RINFANR5L15B5117  RINFANR5L15B5117        \n",
       "14  RAPPANR5L15B4331  RAPPANR5L15B4331        \n",
       "15  RAPPANR5L15B4761  RAPPANR5L15B4761        \n",
       "\n",
       "                                          description  \\\n",
       "10  rapport d'information déposé par la délégation...   \n",
       "14  rapport établi au nom de l'office, L’énergie n...   \n",
       "15  rapport établi au nom de l'office, Qualité de ...   \n",
       "\n",
       "                          rapport_type   depot  \n",
       "10      Rapport d'information tel quel  RAPAUT  \n",
       "14  Rapport des offices parlementaires  RAPAUT  \n",
       "15  Rapport des offices parlementaires  RAPAUT  "
      ]
     },
     "execution_count": 9,
     "metadata": {},
     "output_type": "execute_result"
    }
   ],
   "source": [
    "try:\n",
    "    old_rapports = pd.read_csv('rapports.csv', sep=';')\n",
    "except:\n",
    "    old_rapports = pd.DataFrame({'full_id': []})\n",
    "\n",
    "new_rapports = all_rapports.loc[~all_rapports['full_id'].isin(old_rapports['full_id'])]    \n",
    "new_rapports"
   ]
  },
  {
   "cell_type": "markdown",
   "metadata": {},
   "source": [
    "## On sauvegarde les nouveaux rapports"
   ]
  },
  {
   "cell_type": "code",
   "execution_count": 10,
   "metadata": {
    "execution": {
     "iopub.execute_input": "2022-02-24T12:10:12.835488Z",
     "iopub.status.busy": "2022-02-24T12:10:12.835158Z",
     "iopub.status.idle": "2022-02-24T12:10:12.841741Z",
     "shell.execute_reply": "2022-02-24T12:10:12.841244Z"
    }
   },
   "outputs": [],
   "source": [
    "pd.concat([old_rapports, new_rapports], ignore_index=True).to_csv('rapports.csv', sep=';', index=False)"
   ]
  },
  {
   "cell_type": "markdown",
   "metadata": {},
   "source": [
    "## On télécharge les nouveaux fichiers"
   ]
  },
  {
   "cell_type": "code",
   "execution_count": 11,
   "metadata": {
    "execution": {
     "iopub.execute_input": "2022-02-24T12:10:12.844362Z",
     "iopub.status.busy": "2022-02-24T12:10:12.844039Z",
     "iopub.status.idle": "2022-02-24T12:10:31.733792Z",
     "shell.execute_reply": "2022-02-24T12:10:31.733178Z"
    }
   },
   "outputs": [],
   "source": [
    "def get_dir(type: str):\n",
    "    if type.startswith(\"Rapport d'information\"):\n",
    "        return \"ris\"\n",
    "    if type.startswith(\"Rapport d'enquête\"):\n",
    "        return \"res\"\n",
    "    else:\n",
    "        return \"raps\"\n",
    "\n",
    "for index, row in new_rapports.iterrows():\n",
    "    dir = get_dir(row['rapport_type'])\n",
    "    file = Path(f'../data/assnat/{dir}/{row[\"full_id\"]}.pdf')\n",
    "    if not file.exists():\n",
    "        r = requests.get(row['url'])\n",
    "        if r.status_code == 200:\n",
    "            file.parent.mkdir(parents=True, exist_ok=True)    \n",
    "            file.write_bytes(r.content)"
   ]
  },
  {
   "cell_type": "markdown",
   "metadata": {},
   "source": [
    "## On tweete les nouveaux rapports"
   ]
  },
  {
   "cell_type": "code",
   "execution_count": 12,
   "metadata": {
    "execution": {
     "iopub.execute_input": "2022-02-24T12:10:31.737495Z",
     "iopub.status.busy": "2022-02-24T12:10:31.737160Z",
     "iopub.status.idle": "2022-02-24T12:10:31.742096Z",
     "shell.execute_reply": "2022-02-24T12:10:31.741565Z"
    }
   },
   "outputs": [],
   "source": [
    "try:\n",
    "    credentials = json.load(open('../twitter-credentials.json'))\n",
    "except:\n",
    "    # gh actions secrets\n",
    "    credentials = {key: os.environ[key] for key in [\"TWITTER_API_KEY\", \"TWITTER_API_SECRET\", \"TWITTER_ACCESS_KEY\", \"TWITTER_ACCESS_SECRET\"]}"
   ]
  },
  {
   "cell_type": "code",
   "execution_count": 13,
   "metadata": {
    "execution": {
     "iopub.execute_input": "2022-02-24T12:10:31.744977Z",
     "iopub.status.busy": "2022-02-24T12:10:31.744560Z",
     "iopub.status.idle": "2022-02-24T12:10:31.878401Z",
     "shell.execute_reply": "2022-02-24T12:10:31.877250Z"
    }
   },
   "outputs": [
    {
     "name": "stdout",
     "output_type": "stream",
     "text": [
      "Authentication OK\n"
     ]
    }
   ],
   "source": [
    "auth = tweepy.OAuthHandler(credentials['TWITTER_API_KEY'], credentials['TWITTER_API_SECRET'])\n",
    "auth.set_access_token(credentials['TWITTER_ACCESS_KEY'], credentials['TWITTER_ACCESS_SECRET'])\n",
    "api = tweepy.API(auth)\n",
    "\n",
    "try:\n",
    "    api.verify_credentials()\n",
    "    print(\"Authentication OK\")\n",
    "except Exception as e:\n",
    "    print(e)\n",
    "    print(\"Error during authentication\")"
   ]
  },
  {
   "cell_type": "code",
   "execution_count": 14,
   "metadata": {
    "execution": {
     "iopub.execute_input": "2022-02-24T12:10:31.882892Z",
     "iopub.status.busy": "2022-02-24T12:10:31.882419Z",
     "iopub.status.idle": "2022-02-24T12:10:32.452797Z",
     "shell.execute_reply": "2022-02-24T12:10:32.452064Z"
    }
   },
   "outputs": [
    {
     "name": "stdout",
     "output_type": "stream",
     "text": [
      "📖 • Nouveau rapport d'information tel quel https://www.assemblee-nationale.fr/dyn/opendata/RINFANR5L15B5117.pdf rapport d'information déposé par la délégation de l'Assemblée nationale aux droits des femmes et à l'égalité des chances entre les hommes et les femmes sur la mise e...\n",
      "📖 • Nouveau rapport des offices parlementaires https://www.assemblee-nationale.fr/dyn/opendata/RAPPANR5L15B4331.pdf rapport établi au nom de l'office, L’énergie nucléaire du futur et les conséquences de l’abandon du projet de réacteur nucléaire de 4ème génération « Astrid » de...\n",
      "📖 • Nouveau rapport des offices parlementaires https://www.assemblee-nationale.fr/dyn/opendata/RAPPANR5L15B4761.pdf rapport établi au nom de l'office, Qualité de l’air et Covid-19 : quelles interactions ? de M. Jean-Luc Fugit \n"
     ]
    }
   ],
   "source": [
    "for index, row in new_rapports.iterrows():\n",
    "    icons_dict = {\n",
    "        \"Rapport d'information\": \"ℹ️\",\n",
    "        \"Rapport d'information sur des actes de l'Union européenne\": \"🇪🇺\",\n",
    "        \"Rapport d'information d'une mission d'information constituée au sein d'une commission permanente\": \"🔖\",\n",
    "        \"Rapport d'enquête\": \"🔍\"\n",
    "    }\n",
    "    icon = icons_dict[row['rapport_type']] if row['rapport_type'] in icons_dict else '📖'\n",
    "    tweet = f'{icon} • Nouveau {row[\"rapport_type\"].lower()} {row[\"url\"]} {row[\"description\"]}'\n",
    "    # pour le momnet, on ne tweet que les rapports d'information et d'enquête\n",
    "    if len(tweet) > 280:\n",
    "        tweet = tweet[0:277] + '...'    \n",
    "    print(tweet)\n",
    "    api.update_status(tweet)"
   ]
  }
 ],
 "metadata": {
  "interpreter": {
   "hash": "b037f35a570f4798a3cc3f929dcf08174f799abb59b153589084c9ec1d28de3d"
  },
  "kernelspec": {
   "display_name": "Python 3.8.12 64-bit (conda)",
   "language": "python",
   "name": "python3"
  },
  "language_info": {
   "codemirror_mode": {
    "name": "ipython",
    "version": 3
   },
   "file_extension": ".py",
   "mimetype": "text/x-python",
   "name": "python",
   "nbconvert_exporter": "python",
   "pygments_lexer": "ipython3",
   "version": "3.8.12"
  }
 },
 "nbformat": 4,
 "nbformat_minor": 2
}
