{
 "cells": [
  {
   "cell_type": "code",
   "execution_count": 1,
   "metadata": {
    "execution": {
     "iopub.execute_input": "2022-02-01T08:25:02.667027Z",
     "iopub.status.busy": "2022-02-01T08:25:02.666499Z",
     "iopub.status.idle": "2022-02-01T08:25:02.955530Z",
     "shell.execute_reply": "2022-02-01T08:25:02.954979Z"
    }
   },
   "outputs": [],
   "source": [
    "import requests\n",
    "from datetime import datetime\n",
    "import pandas as pd\n",
    "import json\n",
    "import tweepy\n",
    "import os\n",
    "from pathlib import Path"
   ]
  },
  {
   "cell_type": "markdown",
   "metadata": {},
   "source": [
    "## On récupère la date du jour"
   ]
  },
  {
   "cell_type": "code",
   "execution_count": 2,
   "metadata": {
    "execution": {
     "iopub.execute_input": "2022-02-01T08:25:02.959375Z",
     "iopub.status.busy": "2022-02-01T08:25:02.958905Z",
     "iopub.status.idle": "2022-02-01T08:25:02.961937Z",
     "shell.execute_reply": "2022-02-01T08:25:02.961554Z"
    }
   },
   "outputs": [],
   "source": [
    "today = datetime.now()\n",
    "yesterday = today - pd.Timedelta(days=1)"
   ]
  },
  {
   "cell_type": "markdown",
   "metadata": {},
   "source": [
    "## Quels sont les fichiers publiés en open data aujourd'hui ?"
   ]
  },
  {
   "cell_type": "code",
   "execution_count": 3,
   "metadata": {
    "execution": {
     "iopub.execute_input": "2022-02-01T08:25:02.967094Z",
     "iopub.status.busy": "2022-02-01T08:25:02.966675Z",
     "iopub.status.idle": "2022-02-01T08:25:04.069486Z",
     "shell.execute_reply": "2022-02-01T08:25:04.068626Z"
    }
   },
   "outputs": [],
   "source": [
    "def retrieve_files_date(date):\n",
    "    formated_date = date.strftime('%Y-%m-%d')\n",
    "    try:\n",
    "        return(pd\n",
    "            .read_csv(\n",
    "                f'https://www.assemblee-nationale.fr/dyn/opendata/list-publication/publication_{formated_date}.csv', \n",
    "                sep=';', \n",
    "                names=['date', 'url']\n",
    "            )\n",
    "        )\n",
    "    except:\n",
    "        return(pd.DataFrame(columns=['date', 'url']))\n",
    "\n",
    "files = pd.concat([retrieve_files_date(date) for date in [yesterday, today]], ignore_index=True)"
   ]
  },
  {
   "cell_type": "markdown",
   "metadata": {},
   "source": [
    "## On isole tous les rapports d'information\n",
    "\n",
    "- L'id du rapport permet d'accéder au fichier de description json \n",
    "- Si l'id est différent du full_id, cela veut dire que c'est un rapport en plusieurs parties. Il faudra trouver la correspondance dans le fichier de description json"
   ]
  },
  {
   "cell_type": "code",
   "execution_count": 4,
   "metadata": {
    "execution": {
     "iopub.execute_input": "2022-02-01T08:25:04.086560Z",
     "iopub.status.busy": "2022-02-01T08:25:04.071743Z",
     "iopub.status.idle": "2022-02-01T08:25:04.094675Z",
     "shell.execute_reply": "2022-02-01T08:25:04.095013Z"
    }
   },
   "outputs": [
    {
     "data": {
      "text/html": [
       "<div>\n",
       "<style scoped>\n",
       "    .dataframe tbody tr th:only-of-type {\n",
       "        vertical-align: middle;\n",
       "    }\n",
       "\n",
       "    .dataframe tbody tr th {\n",
       "        vertical-align: top;\n",
       "    }\n",
       "\n",
       "    .dataframe thead th {\n",
       "        text-align: right;\n",
       "    }\n",
       "</style>\n",
       "<table border=\"1\" class=\"dataframe\">\n",
       "  <thead>\n",
       "    <tr style=\"text-align: right;\">\n",
       "      <th></th>\n",
       "      <th>date</th>\n",
       "      <th>url</th>\n",
       "      <th>full_id</th>\n",
       "      <th>id</th>\n",
       "      <th>tome</th>\n",
       "    </tr>\n",
       "  </thead>\n",
       "  <tbody>\n",
       "  </tbody>\n",
       "</table>\n",
       "</div>"
      ],
      "text/plain": [
       "Empty DataFrame\n",
       "Columns: [date, url, full_id, id, tome]\n",
       "Index: []"
      ]
     },
     "execution_count": 4,
     "metadata": {},
     "output_type": "execute_result"
    }
   ],
   "source": [
    "ris = (files\n",
    "    # les pdf d'un rapport d'information\n",
    "    .loc[files['url'].str.contains(r'RIN.+\\.pdf$')]    \n",
    "    .assign(\n",
    "        full_id = lambda x: x['url'].str.extract(pat = '(RIN.+)\\.pdf')        \n",
    "    )\n",
    ")\n",
    "\n",
    "# https://www.codegrepper.com/code-examples/javascript/regex+match+anything+except+character\n",
    "ris[['id', 'tome']] =  ris['full_id'].str.extract(pat = '(RIN[^-]+)-?(.*)', expand=True)\n",
    "\n",
    "ris"
   ]
  },
  {
   "cell_type": "code",
   "execution_count": 5,
   "metadata": {
    "execution": {
     "iopub.execute_input": "2022-02-01T08:25:04.107579Z",
     "iopub.status.busy": "2022-02-01T08:25:04.107167Z",
     "iopub.status.idle": "2022-02-01T08:25:04.111034Z",
     "shell.execute_reply": "2022-02-01T08:25:04.111349Z"
    }
   },
   "outputs": [
    {
     "data": {
      "text/html": [
       "<div>\n",
       "<style scoped>\n",
       "    .dataframe tbody tr th:only-of-type {\n",
       "        vertical-align: middle;\n",
       "    }\n",
       "\n",
       "    .dataframe tbody tr th {\n",
       "        vertical-align: top;\n",
       "    }\n",
       "\n",
       "    .dataframe thead th {\n",
       "        text-align: right;\n",
       "    }\n",
       "</style>\n",
       "<table border=\"1\" class=\"dataframe\">\n",
       "  <thead>\n",
       "    <tr style=\"text-align: right;\">\n",
       "      <th></th>\n",
       "      <th>date</th>\n",
       "      <th>url</th>\n",
       "      <th>full_id</th>\n",
       "      <th>id</th>\n",
       "      <th>tome</th>\n",
       "    </tr>\n",
       "  </thead>\n",
       "  <tbody>\n",
       "    <tr>\n",
       "      <th>104</th>\n",
       "      <td>2022-01-31 17:18:33</td>\n",
       "      <td>https://www.assemblee-nationale.fr/dyn/opendat...</td>\n",
       "      <td>RAPPANR5L15B4969</td>\n",
       "      <td>RAPPANR5L15B4969</td>\n",
       "      <td></td>\n",
       "    </tr>\n",
       "    <tr>\n",
       "      <th>164</th>\n",
       "      <td>2022-01-31 17:36:24</td>\n",
       "      <td>https://www.assemblee-nationale.fr/dyn/opendat...</td>\n",
       "      <td>RAPPANR5L15B4964</td>\n",
       "      <td>RAPPANR5L15B4964</td>\n",
       "      <td></td>\n",
       "    </tr>\n",
       "    <tr>\n",
       "      <th>236</th>\n",
       "      <td>2022-01-31 19:55:21</td>\n",
       "      <td>https://www.assemblee-nationale.fr/dyn/opendat...</td>\n",
       "      <td>RAPPANR5L15B4966</td>\n",
       "      <td>RAPPANR5L15B4966</td>\n",
       "      <td></td>\n",
       "    </tr>\n",
       "  </tbody>\n",
       "</table>\n",
       "</div>"
      ],
      "text/plain": [
       "                    date                                                url  \\\n",
       "104  2022-01-31 17:18:33  https://www.assemblee-nationale.fr/dyn/opendat...   \n",
       "164  2022-01-31 17:36:24  https://www.assemblee-nationale.fr/dyn/opendat...   \n",
       "236  2022-01-31 19:55:21  https://www.assemblee-nationale.fr/dyn/opendat...   \n",
       "\n",
       "              full_id                id tome  \n",
       "104  RAPPANR5L15B4969  RAPPANR5L15B4969       \n",
       "164  RAPPANR5L15B4964  RAPPANR5L15B4964       \n",
       "236  RAPPANR5L15B4966  RAPPANR5L15B4966       "
      ]
     },
     "execution_count": 5,
     "metadata": {},
     "output_type": "execute_result"
    }
   ],
   "source": [
    "raps = (files\n",
    "    # les pdf d'un rapport\n",
    "    .loc[files['url'].str.contains(r'RAPP.+\\.pdf$')]    \n",
    "    .assign(\n",
    "        full_id = lambda x: x['url'].str.extract(pat = '(RAPP.+)\\.pdf'),        \n",
    "    )\n",
    ")\n",
    "\n",
    "# https://www.codegrepper.com/code-examples/javascript/regex+match+anything+except+character\n",
    "raps[['id', 'tome']] =  raps['full_id'].str.extract(pat = '(RAPP[^-]+)-?(.*)', expand=True)\n",
    "\n",
    "raps"
   ]
  },
  {
   "cell_type": "code",
   "execution_count": 6,
   "metadata": {
    "execution": {
     "iopub.execute_input": "2022-02-01T08:25:04.116614Z",
     "iopub.status.busy": "2022-02-01T08:25:04.113103Z",
     "iopub.status.idle": "2022-02-01T08:25:04.118967Z",
     "shell.execute_reply": "2022-02-01T08:25:04.118606Z"
    }
   },
   "outputs": [],
   "source": [
    "all_rapports = (pd\n",
    "    .concat([ris, raps], ignore_index=True)\n",
    "    .drop_duplicates(subset=['id', 'full_id'])\n",
    ")"
   ]
  },
  {
   "cell_type": "code",
   "execution_count": 7,
   "metadata": {
    "execution": {
     "iopub.execute_input": "2022-02-01T08:25:04.123221Z",
     "iopub.status.busy": "2022-02-01T08:25:04.122802Z",
     "iopub.status.idle": "2022-02-01T08:25:05.719256Z",
     "shell.execute_reply": "2022-02-01T08:25:05.718777Z"
    }
   },
   "outputs": [],
   "source": [
    "descriptions = {}\n",
    "for id in all_rapports['id'].unique():\n",
    "    url = f'https://www.assemblee-nationale.fr/dyn/opendata/{id}.json'\n",
    "    response = requests.get(url)\n",
    "    if response.status_code == 200:\n",
    "        descriptions[id] = json.loads(response.text)\n",
    "    else:\n",
    "        print(f'{id} not found')"
   ]
  },
  {
   "cell_type": "markdown",
   "metadata": {},
   "source": [
    "Pour le moment, on va juste mettre la description de base dans la df"
   ]
  },
  {
   "cell_type": "code",
   "execution_count": 8,
   "metadata": {
    "execution": {
     "iopub.execute_input": "2022-02-01T08:25:05.731720Z",
     "iopub.status.busy": "2022-02-01T08:25:05.726527Z",
     "iopub.status.idle": "2022-02-01T08:25:05.735306Z",
     "shell.execute_reply": "2022-02-01T08:25:05.734969Z"
    }
   },
   "outputs": [
    {
     "data": {
      "text/html": [
       "<div>\n",
       "<style scoped>\n",
       "    .dataframe tbody tr th:only-of-type {\n",
       "        vertical-align: middle;\n",
       "    }\n",
       "\n",
       "    .dataframe tbody tr th {\n",
       "        vertical-align: top;\n",
       "    }\n",
       "\n",
       "    .dataframe thead th {\n",
       "        text-align: right;\n",
       "    }\n",
       "</style>\n",
       "<table border=\"1\" class=\"dataframe\">\n",
       "  <thead>\n",
       "    <tr style=\"text-align: right;\">\n",
       "      <th></th>\n",
       "      <th>date</th>\n",
       "      <th>url</th>\n",
       "      <th>full_id</th>\n",
       "      <th>id</th>\n",
       "      <th>tome</th>\n",
       "      <th>description</th>\n",
       "      <th>rapport_type</th>\n",
       "      <th>depot</th>\n",
       "    </tr>\n",
       "  </thead>\n",
       "  <tbody>\n",
       "  </tbody>\n",
       "</table>\n",
       "</div>"
      ],
      "text/plain": [
       "Empty DataFrame\n",
       "Columns: [date, url, full_id, id, tome, description, rapport_type, depot]\n",
       "Index: []"
      ]
     },
     "execution_count": 8,
     "metadata": {},
     "output_type": "execute_result"
    }
   ],
   "source": [
    "def get_desc(id):\n",
    "    return descriptions[id]['titres']['titrePrincipalCourt'].replace(\"déposé en application de l'article 145 du règlement, \", \"\")\n",
    "\n",
    "def get_depot(id):\n",
    "    return descriptions[id]['classification']['famille']['depot']['code']\n",
    "\n",
    "def get_type(id):\n",
    "    if 'libelle' in descriptions[id]['classification']['sousType']:\n",
    "        return(f\"{descriptions[id]['classification']['type']['libelle']} {descriptions[id]['classification']['sousType']['libelle']}\")\n",
    "    else: \n",
    "        return descriptions[id]['classification']['type']['libelle']\n",
    "\n",
    "all_rapports = (all_rapports\n",
    "    .assign(\n",
    "        description = lambda x: x['id'].apply(get_desc),\n",
    "        rapport_type = lambda x: x['id'].apply(get_type),\n",
    "        depot = lambda x: x['id'].apply(get_depot)\n",
    "    )\n",
    "    # on ne garde que les rapports autonomes\n",
    "    .loc[lambda x: x['depot'].isin(['RAPAUT'])]\n",
    ")\n",
    "\n",
    "all_rapports"
   ]
  },
  {
   "cell_type": "markdown",
   "metadata": {},
   "source": [
    "Quels sont les nouveaux RI ?   "
   ]
  },
  {
   "cell_type": "code",
   "execution_count": 9,
   "metadata": {
    "execution": {
     "iopub.execute_input": "2022-02-01T08:25:05.739028Z",
     "iopub.status.busy": "2022-02-01T08:25:05.738622Z",
     "iopub.status.idle": "2022-02-01T08:25:05.746581Z",
     "shell.execute_reply": "2022-02-01T08:25:05.746224Z"
    }
   },
   "outputs": [
    {
     "data": {
      "text/html": [
       "<div>\n",
       "<style scoped>\n",
       "    .dataframe tbody tr th:only-of-type {\n",
       "        vertical-align: middle;\n",
       "    }\n",
       "\n",
       "    .dataframe tbody tr th {\n",
       "        vertical-align: top;\n",
       "    }\n",
       "\n",
       "    .dataframe thead th {\n",
       "        text-align: right;\n",
       "    }\n",
       "</style>\n",
       "<table border=\"1\" class=\"dataframe\">\n",
       "  <thead>\n",
       "    <tr style=\"text-align: right;\">\n",
       "      <th></th>\n",
       "      <th>date</th>\n",
       "      <th>url</th>\n",
       "      <th>full_id</th>\n",
       "      <th>id</th>\n",
       "      <th>tome</th>\n",
       "      <th>description</th>\n",
       "      <th>rapport_type</th>\n",
       "      <th>depot</th>\n",
       "    </tr>\n",
       "  </thead>\n",
       "  <tbody>\n",
       "  </tbody>\n",
       "</table>\n",
       "</div>"
      ],
      "text/plain": [
       "Empty DataFrame\n",
       "Columns: [date, url, full_id, id, tome, description, rapport_type, depot]\n",
       "Index: []"
      ]
     },
     "execution_count": 9,
     "metadata": {},
     "output_type": "execute_result"
    }
   ],
   "source": [
    "try:\n",
    "    old_rapports = pd.read_csv('rapports.csv', sep=';')\n",
    "except:\n",
    "    old_rapports = pd.DataFrame({'full_id': []})\n",
    "\n",
    "new_rapports = all_rapports.loc[~all_rapports['full_id'].isin(old_rapports['full_id'])]    \n",
    "new_rapports"
   ]
  },
  {
   "cell_type": "markdown",
   "metadata": {},
   "source": [
    "## On sauvegarde les nouveaux rapports"
   ]
  },
  {
   "cell_type": "code",
   "execution_count": 10,
   "metadata": {
    "execution": {
     "iopub.execute_input": "2022-02-01T08:25:05.751209Z",
     "iopub.status.busy": "2022-02-01T08:25:05.750407Z",
     "iopub.status.idle": "2022-02-01T08:25:05.753898Z",
     "shell.execute_reply": "2022-02-01T08:25:05.753558Z"
    }
   },
   "outputs": [],
   "source": [
    "pd.concat([old_rapports, new_rapports], ignore_index=True).to_csv('rapports.csv', sep=';', index=False)"
   ]
  },
  {
   "cell_type": "markdown",
   "metadata": {},
   "source": [
    "## On télécharge les nouveaux fichiers"
   ]
  },
  {
   "cell_type": "code",
   "execution_count": 11,
   "metadata": {
    "execution": {
     "iopub.execute_input": "2022-02-01T08:25:05.759181Z",
     "iopub.status.busy": "2022-02-01T08:25:05.758451Z",
     "iopub.status.idle": "2022-02-01T08:25:05.760209Z",
     "shell.execute_reply": "2022-02-01T08:25:05.759858Z"
    }
   },
   "outputs": [],
   "source": [
    "def get_dir(type: str):\n",
    "    if type.startswith(\"Rapport d'information\"):\n",
    "        return \"ris\"\n",
    "    if type.startswith(\"Rapport d'enquête\"):\n",
    "        return \"res\"\n",
    "    else:\n",
    "        return \"raps\"\n",
    "\n",
    "for index, row in new_rapports.iterrows():\n",
    "    dir = get_dir(row['rapport_type'])\n",
    "    file = Path(f'../data/assnat/{dir}/{row[\"full_id\"]}.pdf')\n",
    "    if not file.exists():\n",
    "        r = requests.get(row['url'])\n",
    "        if r.status_code == 200:\n",
    "            file.parent.mkdir(parents=True, exist_ok=True)    \n",
    "            file.write_bytes(r.content)"
   ]
  },
  {
   "cell_type": "markdown",
   "metadata": {},
   "source": [
    "## On tweete les nouveaux rapports"
   ]
  },
  {
   "cell_type": "code",
   "execution_count": 12,
   "metadata": {
    "execution": {
     "iopub.execute_input": "2022-02-01T08:25:05.764074Z",
     "iopub.status.busy": "2022-02-01T08:25:05.763341Z",
     "iopub.status.idle": "2022-02-01T08:25:05.765085Z",
     "shell.execute_reply": "2022-02-01T08:25:05.764731Z"
    }
   },
   "outputs": [],
   "source": [
    "try:\n",
    "    credentials = json.load(open('../twitter-credentials.json'))\n",
    "except:\n",
    "    # gh actions secrets\n",
    "    credentials = {key: os.environ[key] for key in [\"TWITTER_API_KEY\", \"TWITTER_API_SECRET\", \"TWITTER_ACCESS_KEY\", \"TWITTER_ACCESS_SECRET\"]}"
   ]
  },
  {
   "cell_type": "code",
   "execution_count": 13,
   "metadata": {
    "execution": {
     "iopub.execute_input": "2022-02-01T08:25:05.770977Z",
     "iopub.status.busy": "2022-02-01T08:25:05.770563Z",
     "iopub.status.idle": "2022-02-01T08:25:05.886284Z",
     "shell.execute_reply": "2022-02-01T08:25:05.886691Z"
    }
   },
   "outputs": [
    {
     "name": "stdout",
     "output_type": "stream",
     "text": [
      "Authentication OK\n"
     ]
    }
   ],
   "source": [
    "auth = tweepy.OAuthHandler(credentials['TWITTER_API_KEY'], credentials['TWITTER_API_SECRET'])\n",
    "auth.set_access_token(credentials['TWITTER_ACCESS_KEY'], credentials['TWITTER_ACCESS_SECRET'])\n",
    "api = tweepy.API(auth)\n",
    "\n",
    "try:\n",
    "    api.verify_credentials()\n",
    "    print(\"Authentication OK\")\n",
    "except Exception as e:\n",
    "    print(e)\n",
    "    print(\"Error during authentication\")"
   ]
  },
  {
   "cell_type": "code",
   "execution_count": 14,
   "metadata": {
    "execution": {
     "iopub.execute_input": "2022-02-01T08:25:05.892809Z",
     "iopub.status.busy": "2022-02-01T08:25:05.891852Z",
     "iopub.status.idle": "2022-02-01T08:25:05.893316Z",
     "shell.execute_reply": "2022-02-01T08:25:05.893654Z"
    }
   },
   "outputs": [],
   "source": [
    "for index, row in new_rapports.iterrows():\n",
    "    icons_dict = {\n",
    "        \"Rapport d'information\": \"ℹ️\",\n",
    "        \"Rapport d'information sur des actes de l'Union européenne\": \"🇪🇺\",\n",
    "        \"Rapport d'information d'une mission d'information constituée au sein d'une commission permanente\": \"🔖\",\n",
    "        \"Rapport d'enquête\": \"🔍\"\n",
    "    }\n",
    "    icon = icons_dict[row['rapport_type']] if row['rapport_type'] in icons_dict else '📖'\n",
    "    tweet = f'{icon} • Nouveau {row[\"rapport_type\"].lower()} {row[\"url\"]} {row[\"description\"]}'\n",
    "    # pour le momnet, on ne tweet que les rapports d'information et d'enquête\n",
    "    if len(tweet) > 280:\n",
    "        tweet = tweet[0:277] + '...'    \n",
    "    print(tweet)\n",
    "    api.update_status(tweet)"
   ]
  }
 ],
 "metadata": {
  "interpreter": {
   "hash": "b037f35a570f4798a3cc3f929dcf08174f799abb59b153589084c9ec1d28de3d"
  },
  "kernelspec": {
   "display_name": "Python 3.8.12 64-bit (conda)",
   "language": "python",
   "name": "python3"
  },
  "language_info": {
   "codemirror_mode": {
    "name": "ipython",
    "version": 3
   },
   "file_extension": ".py",
   "mimetype": "text/x-python",
   "name": "python",
   "nbconvert_exporter": "python",
   "pygments_lexer": "ipython3",
   "version": "3.8.12"
  }
 },
 "nbformat": 4,
 "nbformat_minor": 2
}
