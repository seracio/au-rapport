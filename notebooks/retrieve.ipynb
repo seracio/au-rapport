{
 "cells": [
  {
   "cell_type": "code",
   "execution_count": 1,
   "metadata": {
    "execution": {
     "iopub.execute_input": "2022-01-22T13:24:57.618518Z",
     "iopub.status.busy": "2022-01-22T13:24:57.618038Z",
     "iopub.status.idle": "2022-01-22T13:24:57.921386Z",
     "shell.execute_reply": "2022-01-22T13:24:57.920397Z"
    }
   },
   "outputs": [],
   "source": [
    "import requests\n",
    "from datetime import datetime\n",
    "import pandas as pd\n",
    "import json\n",
    "import tweepy\n",
    "import os"
   ]
  },
  {
   "cell_type": "markdown",
   "metadata": {},
   "source": [
    "## On récupère la date du jour"
   ]
  },
  {
   "cell_type": "code",
   "execution_count": 2,
   "metadata": {
    "execution": {
     "iopub.execute_input": "2022-01-22T13:24:57.925139Z",
     "iopub.status.busy": "2022-01-22T13:24:57.923705Z",
     "iopub.status.idle": "2022-01-22T13:24:57.927122Z",
     "shell.execute_reply": "2022-01-22T13:24:57.926701Z"
    }
   },
   "outputs": [],
   "source": [
    "today = datetime.now()\n",
    "yesterday = today - pd.Timedelta(days=1)"
   ]
  },
  {
   "cell_type": "markdown",
   "metadata": {},
   "source": [
    "## Quels sont les fichiers publiés en open data aujourd'hui ?"
   ]
  },
  {
   "cell_type": "code",
   "execution_count": 3,
   "metadata": {
    "execution": {
     "iopub.execute_input": "2022-01-22T13:24:57.932645Z",
     "iopub.status.busy": "2022-01-22T13:24:57.932288Z",
     "iopub.status.idle": "2022-01-22T13:24:59.840792Z",
     "shell.execute_reply": "2022-01-22T13:24:59.840225Z"
    }
   },
   "outputs": [],
   "source": [
    "def retrieve_files_date(date):\n",
    "    formated_date = date.strftime('%Y-%m-%d')\n",
    "    return(pd\n",
    "        .read_csv(\n",
    "            f'https://www.assemblee-nationale.fr/dyn/opendata/list-publication/publication_{formated_date}.csv', \n",
    "            sep=';', \n",
    "            names=['date', 'url']\n",
    "        )\n",
    "    )\n",
    "\n",
    "files = pd.concat([retrieve_files_date(date) for date in [yesterday, today]], ignore_index=True)"
   ]
  },
  {
   "cell_type": "markdown",
   "metadata": {},
   "source": [
    "## On isole tous les rapports d'information\n",
    "\n",
    "- L'id du rapport permet d'accéder au fichier de description json \n",
    "- Si l'id est différent du full_id, cela veut dire que c'est un rapport en plusieurs parties. Il faudra trouver la correspondance dans le fichier de description json"
   ]
  },
  {
   "cell_type": "code",
   "execution_count": 4,
   "metadata": {
    "execution": {
     "iopub.execute_input": "2022-01-22T13:24:59.855077Z",
     "iopub.status.busy": "2022-01-22T13:24:59.854576Z",
     "iopub.status.idle": "2022-01-22T13:24:59.864216Z",
     "shell.execute_reply": "2022-01-22T13:24:59.864504Z"
    }
   },
   "outputs": [
    {
     "data": {
      "text/html": [
       "<div>\n",
       "<style scoped>\n",
       "    .dataframe tbody tr th:only-of-type {\n",
       "        vertical-align: middle;\n",
       "    }\n",
       "\n",
       "    .dataframe tbody tr th {\n",
       "        vertical-align: top;\n",
       "    }\n",
       "\n",
       "    .dataframe thead th {\n",
       "        text-align: right;\n",
       "    }\n",
       "</style>\n",
       "<table border=\"1\" class=\"dataframe\">\n",
       "  <thead>\n",
       "    <tr style=\"text-align: right;\">\n",
       "      <th></th>\n",
       "      <th>date</th>\n",
       "      <th>url</th>\n",
       "      <th>full_id</th>\n",
       "      <th>id</th>\n",
       "      <th>tome</th>\n",
       "    </tr>\n",
       "  </thead>\n",
       "  <tbody>\n",
       "    <tr>\n",
       "      <th>122</th>\n",
       "      <td>2022-01-21 11:33:48</td>\n",
       "      <td>https://www.assemblee-nationale.fr/dyn/opendat...</td>\n",
       "      <td>RINFANR5L15B4928</td>\n",
       "      <td>RINFANR5L15B4928</td>\n",
       "      <td></td>\n",
       "    </tr>\n",
       "    <tr>\n",
       "      <th>207</th>\n",
       "      <td>2022-01-21 14:39:51</td>\n",
       "      <td>https://www.assemblee-nationale.fr/dyn/opendat...</td>\n",
       "      <td>RINFANR5L15B4599-tII</td>\n",
       "      <td>RINFANR5L15B4599</td>\n",
       "      <td>tII</td>\n",
       "    </tr>\n",
       "  </tbody>\n",
       "</table>\n",
       "</div>"
      ],
      "text/plain": [
       "                    date                                                url  \\\n",
       "122  2022-01-21 11:33:48  https://www.assemblee-nationale.fr/dyn/opendat...   \n",
       "207  2022-01-21 14:39:51  https://www.assemblee-nationale.fr/dyn/opendat...   \n",
       "\n",
       "                  full_id                id tome  \n",
       "122      RINFANR5L15B4928  RINFANR5L15B4928       \n",
       "207  RINFANR5L15B4599-tII  RINFANR5L15B4599  tII  "
      ]
     },
     "execution_count": 4,
     "metadata": {},
     "output_type": "execute_result"
    }
   ],
   "source": [
    "ris = (files\n",
    "    # les pdf d'un rapport d'information\n",
    "    .loc[files['url'].str.contains(r'RIN.+\\.pdf$')]    \n",
    "    .assign(\n",
    "        full_id = lambda x: x['url'].str.extract(pat = '(RIN.+)\\.pdf'),        \n",
    "    )\n",
    ")\n",
    "\n",
    "# https://www.codegrepper.com/code-examples/javascript/regex+match+anything+except+character\n",
    "ris[['id', 'tome']] =  ris['full_id'].str.extract(pat = '(RIN[^-]+)-?(.*)', expand=True)\n",
    "\n",
    "ris"
   ]
  },
  {
   "cell_type": "code",
   "execution_count": 5,
   "metadata": {
    "execution": {
     "iopub.execute_input": "2022-01-22T13:24:59.867965Z",
     "iopub.status.busy": "2022-01-22T13:24:59.866120Z",
     "iopub.status.idle": "2022-01-22T13:25:00.914165Z",
     "shell.execute_reply": "2022-01-22T13:25:00.914647Z"
    }
   },
   "outputs": [
    {
     "data": {
      "text/plain": [
       "{'RINFANR5L15B4928': {'uid': 'RINFANR5L15B4928',\n",
       "  'legislature': '15',\n",
       "  'cycleDeVie': {'chrono': {'dateCreation': '2022-01-19T00:00:00.000+01:00',\n",
       "    'dateDepot': '2022-01-19T00:00:00.000+01:00',\n",
       "    'datePublication': {},\n",
       "    'datePublicationWeb': '2022-01-21T11:31:00.000+01:00'}},\n",
       "  'denominationStructurelle': \"Rapport d'information\",\n",
       "  'provenance': 'Commission',\n",
       "  'titres': {'titrePrincipal': \"rapport d'information déposé en application de l'article 145 du règlement, par la commission des finances, de l'économie générale et du contrôle budgétaire, en conclusion des travaux d'une mission d'information relative aux différentes missions confiées par l’administration de l’État à des prestataires extérieurs (outsourcing)\",\n",
       "   'titrePrincipalCourt': \"rapport d'information déposé en application de l'article 145 du règlement, par la commission des finances, de l'économie générale et du contrôle budgétaire, en conclusion des travaux d'une mission d'information relative aux différentes missions confiées par l’administration de l’État à des prestataires extérieurs (outsourcing)\"},\n",
       "  'representations': {'representation': [{'nom': 'word',\n",
       "     'typeMime': {'type': 'application',\n",
       "      'subType': 'vnd.openxmlformats-officedocument.wordprocessingml.document'},\n",
       "     'statutRepresentation': {'canonique': 'true', 'officielle': 'true'},\n",
       "     'repSource': 'fichier',\n",
       "     'offset': {},\n",
       "     'contenu': {'documentURI': 'http://docparl.assemblee-nationale.fr/base/RINFANR5L15B4928?format=application/vnd.openxmlformats-officedocument.wordprocessingml.document'},\n",
       "     'dateDispoRepresentation': '2022-01-21T00:00:00.000+01:00'},\n",
       "    {'nom': 'pdf',\n",
       "     'typeMime': {'type': 'application', 'subType': 'pdf'},\n",
       "     'statutRepresentation': {'canonique': 'true', 'officielle': 'true'},\n",
       "     'repSource': 'fichier',\n",
       "     'offset': {},\n",
       "     'contenu': {'documentURI': 'http://docparl.assemblee-nationale.fr/base/RINFANR5L15B4928?format=application/pdf'},\n",
       "     'dateDispoRepresentation': '2022-01-21T00:00:00.000+01:00'}]},\n",
       "  'divisions': {},\n",
       "  'dossierRef': 'DLR5L15N44877',\n",
       "  'redacteur': {},\n",
       "  'classification': {'famille': {'depot': {'code': 'RAPAUT',\n",
       "     'libelle': 'Rapport autonome'},\n",
       "    'classe': {'code': 'RAPINF', 'libelle': \"Rapport d'information\"},\n",
       "    'espece': {'code': 'MINFOCOMPER',\n",
       "     'libelle': \"d'une mission d'information constituée au sein d'une commission permanente\"}},\n",
       "   'type': {'code': 'RINF', 'libelle': \"Rapport d'information\"},\n",
       "   'sousType': {'code': 'MINFOCOMPER',\n",
       "    'libelle': \"d'une mission d'information constituée au sein d'une commission permanente\"},\n",
       "   'statutAdoption': {}},\n",
       "  'auteurs': {'auteur': [{'acteur': {'acteurRef': 'PA719850',\n",
       "      'qualite': 'rapporteur'}},\n",
       "    {'organe': {'organeRef': 'PO59048'}}]},\n",
       "  'correction': {},\n",
       "  'notice': {'numNotice': '4928',\n",
       "   'formule': \"déposé en application de l'article 145 du règlement, par la commission des finances, de l'économie générale et du contrôle budgétaire, en conclusion des travaux d'une mission d'information relative aux différentes missions confiées par l’administration de l’État à des prestataires extérieurs (outsourcing)\",\n",
       "   'adoptionConforme': 'false'},\n",
       "  'indexation': {},\n",
       "  'imprimerie': {'ISSN': {},\n",
       "   'ISBN': {},\n",
       "   'DIAN': {},\n",
       "   'nbPage': '0',\n",
       "   'prix': '1.5'},\n",
       "  'coSignataires': {},\n",
       "  'depotAmendements': {}},\n",
       " 'RINFANR5L15B4599': {'uid': 'RINFANR5L15B4599',\n",
       "  'legislature': '15',\n",
       "  'cycleDeVie': {'chrono': {'dateCreation': '2021-10-20T00:00:00.000+02:00',\n",
       "    'dateDepot': '2021-10-20T00:00:00.000+02:00',\n",
       "    'datePublication': {},\n",
       "    'datePublicationWeb': {}}},\n",
       "  'denominationStructurelle': \"Rapport d'information\",\n",
       "  'provenance': 'Commission',\n",
       "  'titres': {'titrePrincipal': \"rapport d'information déposé par la commission des affaires européennes sur la stratégie européenne en matière de mobilité durable et intelligente\",\n",
       "   'titrePrincipalCourt': 'mobilité durable'},\n",
       "  'representations': {},\n",
       "  'divisions': {'division': [{'uid': 'RINFANR5L15B4599-tI',\n",
       "     'legislature': '15',\n",
       "     'cycleDeVie': {'chrono': {'dateCreation': '2021-10-20T00:00:00.000+02:00',\n",
       "       'dateDepot': '2021-10-20T00:00:00.000+02:00',\n",
       "       'datePublication': '2021-11-05T00:00:00.000+01:00',\n",
       "       'datePublicationWeb': '2021-11-02T14:45:00.000+01:00'}},\n",
       "     'denominationStructurelle': 'Tome I',\n",
       "     'titres': {'titrePrincipal': 'Tome I',\n",
       "      'titrePrincipalCourt': 'mobilité durable'},\n",
       "     'representations': {'representation': [{'nom': 'word',\n",
       "        'typeMime': {'type': 'application',\n",
       "         'subType': 'vnd.openxmlformats-officedocument.wordprocessingml.document'},\n",
       "        'statutRepresentation': {'canonique': 'true', 'officielle': 'true'},\n",
       "        'repSource': 'fichier',\n",
       "        'offset': {},\n",
       "        'contenu': {'documentURI': 'http://docparl.assemblee-nationale.fr/base/RINFANR5L15B4599-tI?format=application/vnd.openxmlformats-officedocument.wordprocessingml.document'},\n",
       "        'dateDispoRepresentation': '2021-11-02T00:00:00.000+01:00'},\n",
       "       {'nom': 'pdf',\n",
       "        'typeMime': {'type': 'application', 'subType': 'pdf'},\n",
       "        'statutRepresentation': {'canonique': 'true', 'officielle': 'true'},\n",
       "        'repSource': 'fichier',\n",
       "        'offset': {},\n",
       "        'contenu': {'documentURI': 'http://docparl.assemblee-nationale.fr/base/RINFANR5L15B4599-tI?format=application/pdf'},\n",
       "        'dateDispoRepresentation': '2021-11-02T00:00:00.000+01:00'}]},\n",
       "     'divisions': {},\n",
       "     'dossierRef': 'DLR5L15N43908',\n",
       "     'redacteur': {},\n",
       "     'classification': {'famille': {},\n",
       "      'type': {'code': 'RINF', 'libelle': \"Rapport d'information\"},\n",
       "      'sousType': {'code': 'AUE',\n",
       "       'libelle': \"sur des actes de l'Union européenne\"},\n",
       "      'statutAdoption': {}},\n",
       "     'auteurs': {'auteur': [{'acteur': {'acteurRef': 'PA335054',\n",
       "         'qualite': 'rapporteur'}},\n",
       "       {'acteur': {'acteurRef': 'PA721372', 'qualite': 'rapporteur'}},\n",
       "       {'organe': {'organeRef': 'PO415287'}}]},\n",
       "     'correction': {},\n",
       "     'notice': {'numNotice': '4599',\n",
       "      'formule': 'déposé par la commission des affaires européennes sur la stratégie européenne en matière de mobilité durable et intelligente',\n",
       "      'adoptionConforme': 'false'},\n",
       "     'indexation': {},\n",
       "     'imprimerie': {'ISSN': {},\n",
       "      'ISBN': {},\n",
       "      'DIAN': {},\n",
       "      'nbPage': '0',\n",
       "      'prix': '3.5'},\n",
       "     'coSignataires': {},\n",
       "     'depotAmendements': {}},\n",
       "    {'uid': 'RINFANR5L15B4599-tII',\n",
       "     'legislature': '15',\n",
       "     'cycleDeVie': {'chrono': {'dateCreation': '2021-10-20T00:00:00.000+02:00',\n",
       "       'dateDepot': '2021-10-20T00:00:00.000+02:00',\n",
       "       'datePublication': '2022-01-27T00:00:00.000+01:00',\n",
       "       'datePublicationWeb': '2022-01-18T16:30:00.000+01:00'}},\n",
       "     'denominationStructurelle': 'Tome II',\n",
       "     'titres': {'titrePrincipal': 'Tome II',\n",
       "      'titrePrincipalCourt': 'mobilité durable'},\n",
       "     'representations': {'representation': [{'nom': 'word',\n",
       "        'typeMime': {'type': 'application',\n",
       "         'subType': 'vnd.openxmlformats-officedocument.wordprocessingml.document'},\n",
       "        'statutRepresentation': {'canonique': 'true', 'officielle': 'true'},\n",
       "        'repSource': 'fichier',\n",
       "        'offset': {},\n",
       "        'contenu': {'documentURI': 'http://docparl.assemblee-nationale.fr/base/RINFANR5L15B4599-tII?format=application/vnd.openxmlformats-officedocument.wordprocessingml.document'},\n",
       "        'dateDispoRepresentation': '2022-01-21T00:00:00.000+01:00'},\n",
       "       {'nom': 'pdf',\n",
       "        'typeMime': {'type': 'application', 'subType': 'pdf'},\n",
       "        'statutRepresentation': {'canonique': 'true', 'officielle': 'true'},\n",
       "        'repSource': 'fichier',\n",
       "        'offset': {},\n",
       "        'contenu': {'documentURI': 'http://docparl.assemblee-nationale.fr/base/RINFANR5L15B4599-tII?format=application/pdf'},\n",
       "        'dateDispoRepresentation': '2022-01-21T00:00:00.000+01:00'}]},\n",
       "     'divisions': {},\n",
       "     'dossierRef': 'DLR5L15N43908',\n",
       "     'redacteur': {},\n",
       "     'classification': {'famille': {},\n",
       "      'type': {'code': 'RINF', 'libelle': \"Rapport d'information\"},\n",
       "      'sousType': {'code': 'AUE',\n",
       "       'libelle': \"sur des actes de l'Union européenne\"},\n",
       "      'statutAdoption': {}},\n",
       "     'auteurs': {'auteur': [{'acteur': {'acteurRef': 'PA335054',\n",
       "         'qualite': 'rapporteur'}},\n",
       "       {'acteur': {'acteurRef': 'PA721372', 'qualite': 'rapporteur'}},\n",
       "       {'organe': {'organeRef': 'PO415287'}}]},\n",
       "     'correction': {},\n",
       "     'notice': {'numNotice': '4599',\n",
       "      'formule': 'déposé par la commission des affaires européennes sur la stratégie européenne en matière de mobilité durable et intelligente',\n",
       "      'adoptionConforme': 'false'},\n",
       "     'indexation': {},\n",
       "     'imprimerie': {'ISSN': {},\n",
       "      'ISBN': {},\n",
       "      'DIAN': {},\n",
       "      'nbPage': '0',\n",
       "      'prix': '3.5'},\n",
       "     'coSignataires': {},\n",
       "     'depotAmendements': {}}]},\n",
       "  'dossierRef': 'DLR5L15N43908',\n",
       "  'redacteur': {},\n",
       "  'classification': {'famille': {'depot': {'code': 'RAPAUT',\n",
       "     'libelle': 'Rapport autonome'},\n",
       "    'classe': {'code': 'RAPINF', 'libelle': \"Rapport d'information\"},\n",
       "    'espece': {'code': 'AUE',\n",
       "     'libelle': \"sur des actes de l'Union européenne\"}},\n",
       "   'type': {'code': 'RINF', 'libelle': \"Rapport d'information\"},\n",
       "   'sousType': {'code': 'AUE',\n",
       "    'libelle': \"sur des actes de l'Union européenne\"},\n",
       "   'statutAdoption': {}},\n",
       "  'auteurs': {'auteur': [{'acteur': {'acteurRef': 'PA335054',\n",
       "      'qualite': 'rapporteur'}},\n",
       "    {'acteur': {'acteurRef': 'PA721372', 'qualite': 'rapporteur'}},\n",
       "    {'organe': {'organeRef': 'PO415287'}}]},\n",
       "  'correction': {},\n",
       "  'notice': {'numNotice': '4599',\n",
       "   'formule': 'déposé par la commission des affaires européennes sur la stratégie européenne en matière de mobilité durable et intelligente',\n",
       "   'adoptionConforme': 'false'},\n",
       "  'indexation': {},\n",
       "  'imprimerie': {'ISSN': {},\n",
       "   'ISBN': {},\n",
       "   'DIAN': {},\n",
       "   'nbPage': '0',\n",
       "   'prix': {}},\n",
       "  'coSignataires': {},\n",
       "  'depotAmendements': {}}}"
      ]
     },
     "execution_count": 5,
     "metadata": {},
     "output_type": "execute_result"
    }
   ],
   "source": [
    "descriptions = {}\n",
    "for id in ris['id'].unique():\n",
    "    url = f'https://www.assemblee-nationale.fr/dyn/opendata/{id}.json'\n",
    "    response = requests.get(url)\n",
    "    if response.status_code == 200:\n",
    "        descriptions[id] = json.loads(response.text)\n",
    "    else:\n",
    "        print(f'{id} not found')\n",
    "\n",
    "descriptions"
   ]
  },
  {
   "cell_type": "markdown",
   "metadata": {},
   "source": [
    "Pour le moment, on va juste mettre la description de base dans la df"
   ]
  },
  {
   "cell_type": "code",
   "execution_count": 6,
   "metadata": {
    "execution": {
     "iopub.execute_input": "2022-01-22T13:25:00.922787Z",
     "iopub.status.busy": "2022-01-22T13:25:00.922386Z",
     "iopub.status.idle": "2022-01-22T13:25:00.927397Z",
     "shell.execute_reply": "2022-01-22T13:25:00.926998Z"
    }
   },
   "outputs": [
    {
     "data": {
      "text/html": [
       "<div>\n",
       "<style scoped>\n",
       "    .dataframe tbody tr th:only-of-type {\n",
       "        vertical-align: middle;\n",
       "    }\n",
       "\n",
       "    .dataframe tbody tr th {\n",
       "        vertical-align: top;\n",
       "    }\n",
       "\n",
       "    .dataframe thead th {\n",
       "        text-align: right;\n",
       "    }\n",
       "</style>\n",
       "<table border=\"1\" class=\"dataframe\">\n",
       "  <thead>\n",
       "    <tr style=\"text-align: right;\">\n",
       "      <th></th>\n",
       "      <th>date</th>\n",
       "      <th>url</th>\n",
       "      <th>full_id</th>\n",
       "      <th>id</th>\n",
       "      <th>tome</th>\n",
       "      <th>description</th>\n",
       "    </tr>\n",
       "  </thead>\n",
       "  <tbody>\n",
       "    <tr>\n",
       "      <th>122</th>\n",
       "      <td>2022-01-21 11:33:48</td>\n",
       "      <td>https://www.assemblee-nationale.fr/dyn/opendat...</td>\n",
       "      <td>RINFANR5L15B4928</td>\n",
       "      <td>RINFANR5L15B4928</td>\n",
       "      <td></td>\n",
       "      <td>rapport d'information déposé en application de...</td>\n",
       "    </tr>\n",
       "    <tr>\n",
       "      <th>207</th>\n",
       "      <td>2022-01-21 14:39:51</td>\n",
       "      <td>https://www.assemblee-nationale.fr/dyn/opendat...</td>\n",
       "      <td>RINFANR5L15B4599-tII</td>\n",
       "      <td>RINFANR5L15B4599</td>\n",
       "      <td>tII</td>\n",
       "      <td>mobilité durable</td>\n",
       "    </tr>\n",
       "  </tbody>\n",
       "</table>\n",
       "</div>"
      ],
      "text/plain": [
       "                    date                                                url  \\\n",
       "122  2022-01-21 11:33:48  https://www.assemblee-nationale.fr/dyn/opendat...   \n",
       "207  2022-01-21 14:39:51  https://www.assemblee-nationale.fr/dyn/opendat...   \n",
       "\n",
       "                  full_id                id tome  \\\n",
       "122      RINFANR5L15B4928  RINFANR5L15B4928        \n",
       "207  RINFANR5L15B4599-tII  RINFANR5L15B4599  tII   \n",
       "\n",
       "                                           description  \n",
       "122  rapport d'information déposé en application de...  \n",
       "207                                   mobilité durable  "
      ]
     },
     "execution_count": 6,
     "metadata": {},
     "output_type": "execute_result"
    }
   ],
   "source": [
    "def get_desc(id):\n",
    "    return descriptions[id]['titres']['titrePrincipalCourt']\n",
    "\n",
    "ris = ris.assign(\n",
    "    description = lambda x: x['id'].apply(get_desc),\n",
    ")\n",
    "\n",
    "ris"
   ]
  },
  {
   "cell_type": "markdown",
   "metadata": {},
   "source": [
    "Quels sont les nouveaux RI ?   "
   ]
  },
  {
   "cell_type": "code",
   "execution_count": 7,
   "metadata": {
    "execution": {
     "iopub.execute_input": "2022-01-22T13:25:00.931082Z",
     "iopub.status.busy": "2022-01-22T13:25:00.929283Z",
     "iopub.status.idle": "2022-01-22T13:25:00.938883Z",
     "shell.execute_reply": "2022-01-22T13:25:00.938552Z"
    }
   },
   "outputs": [
    {
     "data": {
      "text/html": [
       "<div>\n",
       "<style scoped>\n",
       "    .dataframe tbody tr th:only-of-type {\n",
       "        vertical-align: middle;\n",
       "    }\n",
       "\n",
       "    .dataframe tbody tr th {\n",
       "        vertical-align: top;\n",
       "    }\n",
       "\n",
       "    .dataframe thead th {\n",
       "        text-align: right;\n",
       "    }\n",
       "</style>\n",
       "<table border=\"1\" class=\"dataframe\">\n",
       "  <thead>\n",
       "    <tr style=\"text-align: right;\">\n",
       "      <th></th>\n",
       "      <th>date</th>\n",
       "      <th>url</th>\n",
       "      <th>full_id</th>\n",
       "      <th>id</th>\n",
       "      <th>tome</th>\n",
       "      <th>description</th>\n",
       "    </tr>\n",
       "  </thead>\n",
       "  <tbody>\n",
       "  </tbody>\n",
       "</table>\n",
       "</div>"
      ],
      "text/plain": [
       "Empty DataFrame\n",
       "Columns: [date, url, full_id, id, tome, description]\n",
       "Index: []"
      ]
     },
     "execution_count": 7,
     "metadata": {},
     "output_type": "execute_result"
    }
   ],
   "source": [
    "try:\n",
    "    old_ris = pd.read_csv('ris.csv', sep=';')\n",
    "except:\n",
    "    old_ris = pd.DataFrame({'full_id': []})\n",
    "\n",
    "new_ris = ris.loc[~ris['full_id'].isin(old_ris['full_id'])]    \n",
    "new_ris"
   ]
  },
  {
   "cell_type": "markdown",
   "metadata": {},
   "source": [
    "## On sauvegarde les nouveaux rapports"
   ]
  },
  {
   "cell_type": "code",
   "execution_count": 8,
   "metadata": {
    "execution": {
     "iopub.execute_input": "2022-01-22T13:25:00.943157Z",
     "iopub.status.busy": "2022-01-22T13:25:00.942717Z",
     "iopub.status.idle": "2022-01-22T13:25:00.945879Z",
     "shell.execute_reply": "2022-01-22T13:25:00.945592Z"
    }
   },
   "outputs": [],
   "source": [
    "pd.concat([old_ris, new_ris], ignore_index=True).to_csv('ris.csv', sep=';', index=False)"
   ]
  },
  {
   "cell_type": "markdown",
   "metadata": {},
   "source": [
    "## On tweete les nouveaux rapports"
   ]
  },
  {
   "cell_type": "code",
   "execution_count": 9,
   "metadata": {
    "execution": {
     "iopub.execute_input": "2022-01-22T13:25:00.950414Z",
     "iopub.status.busy": "2022-01-22T13:25:00.949398Z",
     "iopub.status.idle": "2022-01-22T13:25:00.950889Z",
     "shell.execute_reply": "2022-01-22T13:25:00.951232Z"
    }
   },
   "outputs": [],
   "source": [
    "try:\n",
    "    credentials = json.load(open('../twitter-credentials.json'))\n",
    "except:\n",
    "    # gh actions secrets\n",
    "    credentials = {key: os.environ[key] for key in [\"TWITTER_API_KEY\", \"TWITTER_API_SECRET\", \"TWITTER_ACCESS_KEY\", \"TWITTER_ACCESS_SECRET\"]}"
   ]
  },
  {
   "cell_type": "code",
   "execution_count": 10,
   "metadata": {
    "execution": {
     "iopub.execute_input": "2022-01-22T13:25:00.957818Z",
     "iopub.status.busy": "2022-01-22T13:25:00.957331Z",
     "iopub.status.idle": "2022-01-22T13:25:01.169398Z",
     "shell.execute_reply": "2022-01-22T13:25:01.169888Z"
    }
   },
   "outputs": [
    {
     "name": "stdout",
     "output_type": "stream",
     "text": [
      "Authentication OK\n"
     ]
    }
   ],
   "source": [
    "auth = tweepy.OAuthHandler(credentials['TWITTER_API_KEY'], credentials['TWITTER_API_SECRET'])\n",
    "auth.set_access_token(credentials['TWITTER_ACCESS_KEY'], credentials['TWITTER_ACCESS_SECRET'])\n",
    "api = tweepy.API(auth)\n",
    "\n",
    "try:\n",
    "    api.verify_credentials()\n",
    "    print(\"Authentication OK\")\n",
    "except Exception as e:\n",
    "    print(e)\n",
    "    print(\"Error during authentication\")"
   ]
  },
  {
   "cell_type": "code",
   "execution_count": 11,
   "metadata": {
    "execution": {
     "iopub.execute_input": "2022-01-22T13:25:01.175366Z",
     "iopub.status.busy": "2022-01-22T13:25:01.174209Z",
     "iopub.status.idle": "2022-01-22T13:25:01.175974Z",
     "shell.execute_reply": "2022-01-22T13:25:01.176364Z"
    }
   },
   "outputs": [],
   "source": [
    "for index, row in new_ris.iterrows():\n",
    "    tweet = f'ℹ️ • Nouveau rapport d\\'information {row[\"url\"]} {row[\"description\"]}'\n",
    "    if len(tweet) > 280:\n",
    "        tweet = tweet[0:278] + '...'\n",
    "    api.update_status(tweet)"
   ]
  }
 ],
 "metadata": {
  "interpreter": {
   "hash": "b037f35a570f4798a3cc3f929dcf08174f799abb59b153589084c9ec1d28de3d"
  },
  "kernelspec": {
   "display_name": "Python 3.8.12 64-bit (conda)",
   "language": "python",
   "name": "python3"
  },
  "language_info": {
   "codemirror_mode": {
    "name": "ipython",
    "version": 3
   },
   "file_extension": ".py",
   "mimetype": "text/x-python",
   "name": "python",
   "nbconvert_exporter": "python",
   "pygments_lexer": "ipython3",
   "version": "3.8.12"
  }
 },
 "nbformat": 4,
 "nbformat_minor": 2
}
