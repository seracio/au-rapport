{
 "cells": [
  {
   "cell_type": "code",
   "execution_count": 1,
   "metadata": {
    "execution": {
     "iopub.execute_input": "2022-02-23T20:09:19.288162Z",
     "iopub.status.busy": "2022-02-23T20:09:19.287952Z",
     "iopub.status.idle": "2022-02-23T20:09:19.620401Z",
     "shell.execute_reply": "2022-02-23T20:09:19.619592Z"
    }
   },
   "outputs": [],
   "source": [
    "import requests\n",
    "from datetime import datetime\n",
    "import pandas as pd\n",
    "import json\n",
    "import tweepy\n",
    "import os\n",
    "from pathlib import Path"
   ]
  },
  {
   "cell_type": "markdown",
   "metadata": {},
   "source": [
    "## On récupère la date du jour"
   ]
  },
  {
   "cell_type": "code",
   "execution_count": 2,
   "metadata": {
    "execution": {
     "iopub.execute_input": "2022-02-23T20:09:19.623991Z",
     "iopub.status.busy": "2022-02-23T20:09:19.623744Z",
     "iopub.status.idle": "2022-02-23T20:09:19.627993Z",
     "shell.execute_reply": "2022-02-23T20:09:19.627382Z"
    }
   },
   "outputs": [],
   "source": [
    "today = datetime.now()\n",
    "yesterday = today - pd.Timedelta(days=1)"
   ]
  },
  {
   "cell_type": "markdown",
   "metadata": {},
   "source": [
    "## Quels sont les fichiers publiés en open data aujourd'hui ?"
   ]
  },
  {
   "cell_type": "code",
   "execution_count": 3,
   "metadata": {
    "execution": {
     "iopub.execute_input": "2022-02-23T20:09:19.630447Z",
     "iopub.status.busy": "2022-02-23T20:09:19.630185Z",
     "iopub.status.idle": "2022-02-23T20:09:21.065833Z",
     "shell.execute_reply": "2022-02-23T20:09:21.065128Z"
    }
   },
   "outputs": [],
   "source": [
    "def retrieve_files_date(date):\n",
    "    formated_date = date.strftime('%Y-%m-%d')\n",
    "    try:\n",
    "        return(pd\n",
    "            .read_csv(\n",
    "                f'https://www.assemblee-nationale.fr/dyn/opendata/list-publication/publication_{formated_date}.csv', \n",
    "                sep=';', \n",
    "                names=['date', 'url']\n",
    "            )\n",
    "        )\n",
    "    except:\n",
    "        return(pd.DataFrame(columns=['date', 'url']))\n",
    "\n",
    "files = pd.concat([retrieve_files_date(date) for date in [yesterday, today]], ignore_index=True)"
   ]
  },
  {
   "cell_type": "markdown",
   "metadata": {},
   "source": [
    "## On isole tous les rapports d'information\n",
    "\n",
    "- L'id du rapport permet d'accéder au fichier de description json \n",
    "- Si l'id est différent du full_id, cela veut dire que c'est un rapport en plusieurs parties. Il faudra trouver la correspondance dans le fichier de description json"
   ]
  },
  {
   "cell_type": "code",
   "execution_count": 4,
   "metadata": {
    "execution": {
     "iopub.execute_input": "2022-02-23T20:09:21.069524Z",
     "iopub.status.busy": "2022-02-23T20:09:21.069300Z",
     "iopub.status.idle": "2022-02-23T20:09:21.099853Z",
     "shell.execute_reply": "2022-02-23T20:09:21.099184Z"
    }
   },
   "outputs": [
    {
     "data": {
      "text/html": [
       "<div>\n",
       "<style scoped>\n",
       "    .dataframe tbody tr th:only-of-type {\n",
       "        vertical-align: middle;\n",
       "    }\n",
       "\n",
       "    .dataframe tbody tr th {\n",
       "        vertical-align: top;\n",
       "    }\n",
       "\n",
       "    .dataframe thead th {\n",
       "        text-align: right;\n",
       "    }\n",
       "</style>\n",
       "<table border=\"1\" class=\"dataframe\">\n",
       "  <thead>\n",
       "    <tr style=\"text-align: right;\">\n",
       "      <th></th>\n",
       "      <th>date</th>\n",
       "      <th>url</th>\n",
       "      <th>full_id</th>\n",
       "      <th>id</th>\n",
       "      <th>tome</th>\n",
       "    </tr>\n",
       "  </thead>\n",
       "  <tbody>\n",
       "    <tr>\n",
       "      <th>9</th>\n",
       "      <td>2022-02-22 09:18:05</td>\n",
       "      <td>https://www.assemblee-nationale.fr/dyn/opendat...</td>\n",
       "      <td>RINFANR5L15B5054</td>\n",
       "      <td>RINFANR5L15B5054</td>\n",
       "      <td></td>\n",
       "    </tr>\n",
       "    <tr>\n",
       "      <th>19</th>\n",
       "      <td>2022-02-22 10:13:44</td>\n",
       "      <td>https://www.assemblee-nationale.fr/dyn/opendat...</td>\n",
       "      <td>RINFANR5L15B5054</td>\n",
       "      <td>RINFANR5L15B5054</td>\n",
       "      <td></td>\n",
       "    </tr>\n",
       "    <tr>\n",
       "      <th>128</th>\n",
       "      <td>2022-02-22 18:46:38</td>\n",
       "      <td>https://www.assemblee-nationale.fr/dyn/opendat...</td>\n",
       "      <td>RINFANR5L15B5054</td>\n",
       "      <td>RINFANR5L15B5054</td>\n",
       "      <td></td>\n",
       "    </tr>\n",
       "    <tr>\n",
       "      <th>204</th>\n",
       "      <td>2022-02-23 09:28:09</td>\n",
       "      <td>https://www.assemblee-nationale.fr/dyn/opendat...</td>\n",
       "      <td>RINFANR5L15B5049</td>\n",
       "      <td>RINFANR5L15B5049</td>\n",
       "      <td></td>\n",
       "    </tr>\n",
       "    <tr>\n",
       "      <th>210</th>\n",
       "      <td>2022-02-23 10:15:02</td>\n",
       "      <td>https://www.assemblee-nationale.fr/dyn/opendat...</td>\n",
       "      <td>RINFANR5L15B5049</td>\n",
       "      <td>RINFANR5L15B5049</td>\n",
       "      <td></td>\n",
       "    </tr>\n",
       "    <tr>\n",
       "      <th>366</th>\n",
       "      <td>2022-02-23 13:51:35</td>\n",
       "      <td>https://www.assemblee-nationale.fr/dyn/opendat...</td>\n",
       "      <td>RINFANR5L15B5054</td>\n",
       "      <td>RINFANR5L15B5054</td>\n",
       "      <td></td>\n",
       "    </tr>\n",
       "    <tr>\n",
       "      <th>428</th>\n",
       "      <td>2022-02-23 16:21:07</td>\n",
       "      <td>https://www.assemblee-nationale.fr/dyn/opendat...</td>\n",
       "      <td>RINFANR5L15B4907</td>\n",
       "      <td>RINFANR5L15B4907</td>\n",
       "      <td></td>\n",
       "    </tr>\n",
       "    <tr>\n",
       "      <th>544</th>\n",
       "      <td>2022-02-23 19:29:27</td>\n",
       "      <td>https://www.assemblee-nationale.fr/dyn/opendat...</td>\n",
       "      <td>RINFANR5L15B5039</td>\n",
       "      <td>RINFANR5L15B5039</td>\n",
       "      <td></td>\n",
       "    </tr>\n",
       "    <tr>\n",
       "      <th>564</th>\n",
       "      <td>2022-02-23 19:54:35</td>\n",
       "      <td>https://www.assemblee-nationale.fr/dyn/opendat...</td>\n",
       "      <td>RINFANR5L15B5039</td>\n",
       "      <td>RINFANR5L15B5039</td>\n",
       "      <td></td>\n",
       "    </tr>\n",
       "  </tbody>\n",
       "</table>\n",
       "</div>"
      ],
      "text/plain": [
       "                    date                                                url  \\\n",
       "9    2022-02-22 09:18:05  https://www.assemblee-nationale.fr/dyn/opendat...   \n",
       "19   2022-02-22 10:13:44  https://www.assemblee-nationale.fr/dyn/opendat...   \n",
       "128  2022-02-22 18:46:38  https://www.assemblee-nationale.fr/dyn/opendat...   \n",
       "204  2022-02-23 09:28:09  https://www.assemblee-nationale.fr/dyn/opendat...   \n",
       "210  2022-02-23 10:15:02  https://www.assemblee-nationale.fr/dyn/opendat...   \n",
       "366  2022-02-23 13:51:35  https://www.assemblee-nationale.fr/dyn/opendat...   \n",
       "428  2022-02-23 16:21:07  https://www.assemblee-nationale.fr/dyn/opendat...   \n",
       "544  2022-02-23 19:29:27  https://www.assemblee-nationale.fr/dyn/opendat...   \n",
       "564  2022-02-23 19:54:35  https://www.assemblee-nationale.fr/dyn/opendat...   \n",
       "\n",
       "              full_id                id tome  \n",
       "9    RINFANR5L15B5054  RINFANR5L15B5054       \n",
       "19   RINFANR5L15B5054  RINFANR5L15B5054       \n",
       "128  RINFANR5L15B5054  RINFANR5L15B5054       \n",
       "204  RINFANR5L15B5049  RINFANR5L15B5049       \n",
       "210  RINFANR5L15B5049  RINFANR5L15B5049       \n",
       "366  RINFANR5L15B5054  RINFANR5L15B5054       \n",
       "428  RINFANR5L15B4907  RINFANR5L15B4907       \n",
       "544  RINFANR5L15B5039  RINFANR5L15B5039       \n",
       "564  RINFANR5L15B5039  RINFANR5L15B5039       "
      ]
     },
     "execution_count": 4,
     "metadata": {},
     "output_type": "execute_result"
    }
   ],
   "source": [
    "ris = (files\n",
    "    # les pdf d'un rapport d'information\n",
    "    .loc[files['url'].str.contains(r'RIN.+\\.pdf$')]    \n",
    "    .assign(\n",
    "        full_id = lambda x: x['url'].str.extract(pat = '(RIN.+)\\.pdf')        \n",
    "    )\n",
    ")\n",
    "\n",
    "# https://www.codegrepper.com/code-examples/javascript/regex+match+anything+except+character\n",
    "ris[['id', 'tome']] =  ris['full_id'].str.extract(pat = '(RIN[^-]+)-?(.*)', expand=True)\n",
    "\n",
    "ris"
   ]
  },
  {
   "cell_type": "code",
   "execution_count": 5,
   "metadata": {
    "execution": {
     "iopub.execute_input": "2022-02-23T20:09:21.102635Z",
     "iopub.status.busy": "2022-02-23T20:09:21.102448Z",
     "iopub.status.idle": "2022-02-23T20:09:21.118971Z",
     "shell.execute_reply": "2022-02-23T20:09:21.118216Z"
    }
   },
   "outputs": [
    {
     "data": {
      "text/html": [
       "<div>\n",
       "<style scoped>\n",
       "    .dataframe tbody tr th:only-of-type {\n",
       "        vertical-align: middle;\n",
       "    }\n",
       "\n",
       "    .dataframe tbody tr th {\n",
       "        vertical-align: top;\n",
       "    }\n",
       "\n",
       "    .dataframe thead th {\n",
       "        text-align: right;\n",
       "    }\n",
       "</style>\n",
       "<table border=\"1\" class=\"dataframe\">\n",
       "  <thead>\n",
       "    <tr style=\"text-align: right;\">\n",
       "      <th></th>\n",
       "      <th>date</th>\n",
       "      <th>url</th>\n",
       "      <th>full_id</th>\n",
       "      <th>id</th>\n",
       "      <th>tome</th>\n",
       "    </tr>\n",
       "  </thead>\n",
       "  <tbody>\n",
       "    <tr>\n",
       "      <th>25</th>\n",
       "      <td>2022-02-22 11:03:20</td>\n",
       "      <td>https://www.assemblee-nationale.fr/dyn/opendat...</td>\n",
       "      <td>RAPPANR5L15B4524-tIII-a40</td>\n",
       "      <td>RAPPANR5L15B4524</td>\n",
       "      <td>tIII-a40</td>\n",
       "    </tr>\n",
       "    <tr>\n",
       "      <th>39</th>\n",
       "      <td>2022-02-22 13:46:33</td>\n",
       "      <td>https://www.assemblee-nationale.fr/dyn/opendat...</td>\n",
       "      <td>RAPPANR5L15B4933</td>\n",
       "      <td>RAPPANR5L15B4933</td>\n",
       "      <td></td>\n",
       "    </tr>\n",
       "    <tr>\n",
       "      <th>41</th>\n",
       "      <td>2022-02-22 13:47:07</td>\n",
       "      <td>https://www.assemblee-nationale.fr/dyn/opendat...</td>\n",
       "      <td>RAPPANR5L15B4933</td>\n",
       "      <td>RAPPANR5L15B4933</td>\n",
       "      <td></td>\n",
       "    </tr>\n",
       "    <tr>\n",
       "      <th>44</th>\n",
       "      <td>2022-02-22 14:40:19</td>\n",
       "      <td>https://www.assemblee-nationale.fr/dyn/opendat...</td>\n",
       "      <td>RAPPANR5L15B4906</td>\n",
       "      <td>RAPPANR5L15B4906</td>\n",
       "      <td></td>\n",
       "    </tr>\n",
       "    <tr>\n",
       "      <th>46</th>\n",
       "      <td>2022-02-22 14:41:17</td>\n",
       "      <td>https://www.assemblee-nationale.fr/dyn/opendat...</td>\n",
       "      <td>RAPPANR5L15B4906</td>\n",
       "      <td>RAPPANR5L15B4906</td>\n",
       "      <td></td>\n",
       "    </tr>\n",
       "    <tr>\n",
       "      <th>488</th>\n",
       "      <td>2022-02-23 18:12:29</td>\n",
       "      <td>https://www.assemblee-nationale.fr/dyn/opendat...</td>\n",
       "      <td>RAPPANR5L15B4933</td>\n",
       "      <td>RAPPANR5L15B4933</td>\n",
       "      <td></td>\n",
       "    </tr>\n",
       "  </tbody>\n",
       "</table>\n",
       "</div>"
      ],
      "text/plain": [
       "                    date                                                url  \\\n",
       "25   2022-02-22 11:03:20  https://www.assemblee-nationale.fr/dyn/opendat...   \n",
       "39   2022-02-22 13:46:33  https://www.assemblee-nationale.fr/dyn/opendat...   \n",
       "41   2022-02-22 13:47:07  https://www.assemblee-nationale.fr/dyn/opendat...   \n",
       "44   2022-02-22 14:40:19  https://www.assemblee-nationale.fr/dyn/opendat...   \n",
       "46   2022-02-22 14:41:17  https://www.assemblee-nationale.fr/dyn/opendat...   \n",
       "488  2022-02-23 18:12:29  https://www.assemblee-nationale.fr/dyn/opendat...   \n",
       "\n",
       "                       full_id                id      tome  \n",
       "25   RAPPANR5L15B4524-tIII-a40  RAPPANR5L15B4524  tIII-a40  \n",
       "39            RAPPANR5L15B4933  RAPPANR5L15B4933            \n",
       "41            RAPPANR5L15B4933  RAPPANR5L15B4933            \n",
       "44            RAPPANR5L15B4906  RAPPANR5L15B4906            \n",
       "46            RAPPANR5L15B4906  RAPPANR5L15B4906            \n",
       "488           RAPPANR5L15B4933  RAPPANR5L15B4933            "
      ]
     },
     "execution_count": 5,
     "metadata": {},
     "output_type": "execute_result"
    }
   ],
   "source": [
    "raps = (files\n",
    "    # les pdf d'un rapport\n",
    "    .loc[files['url'].str.contains(r'RAPP.+\\.pdf$')]    \n",
    "    .assign(\n",
    "        full_id = lambda x: x['url'].str.extract(pat = '(RAPP.+)\\.pdf'),        \n",
    "    )\n",
    ")\n",
    "\n",
    "# https://www.codegrepper.com/code-examples/javascript/regex+match+anything+except+character\n",
    "raps[['id', 'tome']] =  raps['full_id'].str.extract(pat = '(RAPP[^-]+)-?(.*)', expand=True)\n",
    "\n",
    "raps"
   ]
  },
  {
   "cell_type": "code",
   "execution_count": 6,
   "metadata": {
    "execution": {
     "iopub.execute_input": "2022-02-23T20:09:21.122646Z",
     "iopub.status.busy": "2022-02-23T20:09:21.122476Z",
     "iopub.status.idle": "2022-02-23T20:09:21.129861Z",
     "shell.execute_reply": "2022-02-23T20:09:21.129106Z"
    }
   },
   "outputs": [],
   "source": [
    "all_rapports = (pd\n",
    "    .concat([ris, raps], ignore_index=True)\n",
    "    .drop_duplicates(subset=['id', 'full_id'])\n",
    ")"
   ]
  },
  {
   "cell_type": "code",
   "execution_count": 7,
   "metadata": {
    "execution": {
     "iopub.execute_input": "2022-02-23T20:09:21.132720Z",
     "iopub.status.busy": "2022-02-23T20:09:21.132481Z",
     "iopub.status.idle": "2022-02-23T20:09:24.828883Z",
     "shell.execute_reply": "2022-02-23T20:09:24.828010Z"
    }
   },
   "outputs": [],
   "source": [
    "descriptions = {}\n",
    "for id in all_rapports['id'].unique():\n",
    "    url = f'https://www.assemblee-nationale.fr/dyn/opendata/{id}.json'\n",
    "    response = requests.get(url)\n",
    "    if response.status_code == 200:\n",
    "        descriptions[id] = json.loads(response.text)\n",
    "    else:  \n",
    "        print(f'{id} not found')"
   ]
  },
  {
   "cell_type": "markdown",
   "metadata": {},
   "source": [
    "Pour le moment, on va juste mettre la description de base dans la df"
   ]
  },
  {
   "cell_type": "code",
   "execution_count": 8,
   "metadata": {
    "execution": {
     "iopub.execute_input": "2022-02-23T20:09:24.832274Z",
     "iopub.status.busy": "2022-02-23T20:09:24.832081Z",
     "iopub.status.idle": "2022-02-23T20:09:24.857026Z",
     "shell.execute_reply": "2022-02-23T20:09:24.856379Z"
    }
   },
   "outputs": [
    {
     "data": {
      "text/html": [
       "<div>\n",
       "<style scoped>\n",
       "    .dataframe tbody tr th:only-of-type {\n",
       "        vertical-align: middle;\n",
       "    }\n",
       "\n",
       "    .dataframe tbody tr th {\n",
       "        vertical-align: top;\n",
       "    }\n",
       "\n",
       "    .dataframe thead th {\n",
       "        text-align: right;\n",
       "    }\n",
       "</style>\n",
       "<table border=\"1\" class=\"dataframe\">\n",
       "  <thead>\n",
       "    <tr style=\"text-align: right;\">\n",
       "      <th></th>\n",
       "      <th>date</th>\n",
       "      <th>url</th>\n",
       "      <th>full_id</th>\n",
       "      <th>id</th>\n",
       "      <th>tome</th>\n",
       "      <th>description</th>\n",
       "      <th>rapport_type</th>\n",
       "      <th>depot</th>\n",
       "    </tr>\n",
       "  </thead>\n",
       "  <tbody>\n",
       "    <tr>\n",
       "      <th>0</th>\n",
       "      <td>2022-02-22 09:18:05</td>\n",
       "      <td>https://www.assemblee-nationale.fr/dyn/opendat...</td>\n",
       "      <td>RINFANR5L15B5054</td>\n",
       "      <td>RINFANR5L15B5054</td>\n",
       "      <td></td>\n",
       "      <td>MI préparation à la haute intensité</td>\n",
       "      <td>Rapport d'information d'une mission d'informat...</td>\n",
       "      <td>RAPAUT</td>\n",
       "    </tr>\n",
       "    <tr>\n",
       "      <th>3</th>\n",
       "      <td>2022-02-23 09:28:09</td>\n",
       "      <td>https://www.assemblee-nationale.fr/dyn/opendat...</td>\n",
       "      <td>RINFANR5L15B5049</td>\n",
       "      <td>RINFANR5L15B5049</td>\n",
       "      <td></td>\n",
       "      <td>Protection des espèces menacées de Mme Michèle...</td>\n",
       "      <td>Rapport d'information d'une mission d'informat...</td>\n",
       "      <td>RAPAUT</td>\n",
       "    </tr>\n",
       "    <tr>\n",
       "      <th>6</th>\n",
       "      <td>2022-02-23 16:21:07</td>\n",
       "      <td>https://www.assemblee-nationale.fr/dyn/opendat...</td>\n",
       "      <td>RINFANR5L15B4907</td>\n",
       "      <td>RINFANR5L15B4907</td>\n",
       "      <td></td>\n",
       "      <td>Les violences faites aux femmes dans le monde ...</td>\n",
       "      <td>Rapport d'information d'une mission d'informat...</td>\n",
       "      <td>RAPAUT</td>\n",
       "    </tr>\n",
       "    <tr>\n",
       "      <th>7</th>\n",
       "      <td>2022-02-23 19:29:27</td>\n",
       "      <td>https://www.assemblee-nationale.fr/dyn/opendat...</td>\n",
       "      <td>RINFANR5L15B5039</td>\n",
       "      <td>RINFANR5L15B5039</td>\n",
       "      <td></td>\n",
       "      <td>rapport d'information par la commission des af...</td>\n",
       "      <td>Rapport d'information tel quel</td>\n",
       "      <td>RAPAUT</td>\n",
       "    </tr>\n",
       "    <tr>\n",
       "      <th>10</th>\n",
       "      <td>2022-02-22 13:46:33</td>\n",
       "      <td>https://www.assemblee-nationale.fr/dyn/opendat...</td>\n",
       "      <td>RAPPANR5L15B4933</td>\n",
       "      <td>RAPPANR5L15B4933</td>\n",
       "      <td></td>\n",
       "      <td>rapport établi au nom de l'office, sur la stra...</td>\n",
       "      <td>Rapport des offices parlementaires</td>\n",
       "      <td>RAPAUT</td>\n",
       "    </tr>\n",
       "    <tr>\n",
       "      <th>12</th>\n",
       "      <td>2022-02-22 14:40:19</td>\n",
       "      <td>https://www.assemblee-nationale.fr/dyn/opendat...</td>\n",
       "      <td>RAPPANR5L15B4906</td>\n",
       "      <td>RAPPANR5L15B4906</td>\n",
       "      <td></td>\n",
       "      <td>rapport d'enquête sur les dysfonctionnements e...</td>\n",
       "      <td>Rapport d'enquête</td>\n",
       "      <td>RAPAUT</td>\n",
       "    </tr>\n",
       "  </tbody>\n",
       "</table>\n",
       "</div>"
      ],
      "text/plain": [
       "                   date                                                url  \\\n",
       "0   2022-02-22 09:18:05  https://www.assemblee-nationale.fr/dyn/opendat...   \n",
       "3   2022-02-23 09:28:09  https://www.assemblee-nationale.fr/dyn/opendat...   \n",
       "6   2022-02-23 16:21:07  https://www.assemblee-nationale.fr/dyn/opendat...   \n",
       "7   2022-02-23 19:29:27  https://www.assemblee-nationale.fr/dyn/opendat...   \n",
       "10  2022-02-22 13:46:33  https://www.assemblee-nationale.fr/dyn/opendat...   \n",
       "12  2022-02-22 14:40:19  https://www.assemblee-nationale.fr/dyn/opendat...   \n",
       "\n",
       "             full_id                id tome  \\\n",
       "0   RINFANR5L15B5054  RINFANR5L15B5054        \n",
       "3   RINFANR5L15B5049  RINFANR5L15B5049        \n",
       "6   RINFANR5L15B4907  RINFANR5L15B4907        \n",
       "7   RINFANR5L15B5039  RINFANR5L15B5039        \n",
       "10  RAPPANR5L15B4933  RAPPANR5L15B4933        \n",
       "12  RAPPANR5L15B4906  RAPPANR5L15B4906        \n",
       "\n",
       "                                          description  \\\n",
       "0                 MI préparation à la haute intensité   \n",
       "3   Protection des espèces menacées de Mme Michèle...   \n",
       "6   Les violences faites aux femmes dans le monde ...   \n",
       "7   rapport d'information par la commission des af...   \n",
       "10  rapport établi au nom de l'office, sur la stra...   \n",
       "12  rapport d'enquête sur les dysfonctionnements e...   \n",
       "\n",
       "                                         rapport_type   depot  \n",
       "0   Rapport d'information d'une mission d'informat...  RAPAUT  \n",
       "3   Rapport d'information d'une mission d'informat...  RAPAUT  \n",
       "6   Rapport d'information d'une mission d'informat...  RAPAUT  \n",
       "7                      Rapport d'information tel quel  RAPAUT  \n",
       "10                 Rapport des offices parlementaires  RAPAUT  \n",
       "12                                  Rapport d'enquête  RAPAUT  "
      ]
     },
     "execution_count": 8,
     "metadata": {},
     "output_type": "execute_result"
    }
   ],
   "source": [
    "def get_desc(id):\n",
    "    return descriptions[id]['titres']['titrePrincipalCourt'].replace(\"déposé en application de l'article 145 du règlement, \", \"\")\n",
    "\n",
    "def get_depot(id):\n",
    "    return descriptions[id]['classification']['famille']['depot']['code']\n",
    "\n",
    "def get_type(id):\n",
    "    if 'libelle' in descriptions[id]['classification']['sousType']:\n",
    "        return(f\"{descriptions[id]['classification']['type']['libelle']} {descriptions[id]['classification']['sousType']['libelle']}\")\n",
    "    else: \n",
    "        return descriptions[id]['classification']['type']['libelle']\n",
    "\n",
    "all_rapports = (all_rapports\n",
    "    .loc[lambda x: x['id'].isin(descriptions.keys())]\n",
    "    .assign(\n",
    "        description = lambda x: x['id'].apply(get_desc),\n",
    "        rapport_type = lambda x: x['id'].apply(get_type),\n",
    "        depot = lambda x: x['id'].apply(get_depot)\n",
    "    )\n",
    "    # on ne garde que les rapports autonomes\n",
    "    .loc[lambda x: x['depot'].isin(['RAPAUT'])]\n",
    ")\n",
    "\n",
    "all_rapports"
   ]
  },
  {
   "cell_type": "markdown",
   "metadata": {},
   "source": [
    "Quels sont les nouveaux RI ?   "
   ]
  },
  {
   "cell_type": "code",
   "execution_count": 9,
   "metadata": {
    "execution": {
     "iopub.execute_input": "2022-02-23T20:09:24.859727Z",
     "iopub.status.busy": "2022-02-23T20:09:24.859503Z",
     "iopub.status.idle": "2022-02-23T20:09:24.874270Z",
     "shell.execute_reply": "2022-02-23T20:09:24.873561Z"
    }
   },
   "outputs": [
    {
     "data": {
      "text/html": [
       "<div>\n",
       "<style scoped>\n",
       "    .dataframe tbody tr th:only-of-type {\n",
       "        vertical-align: middle;\n",
       "    }\n",
       "\n",
       "    .dataframe tbody tr th {\n",
       "        vertical-align: top;\n",
       "    }\n",
       "\n",
       "    .dataframe thead th {\n",
       "        text-align: right;\n",
       "    }\n",
       "</style>\n",
       "<table border=\"1\" class=\"dataframe\">\n",
       "  <thead>\n",
       "    <tr style=\"text-align: right;\">\n",
       "      <th></th>\n",
       "      <th>date</th>\n",
       "      <th>url</th>\n",
       "      <th>full_id</th>\n",
       "      <th>id</th>\n",
       "      <th>tome</th>\n",
       "      <th>description</th>\n",
       "      <th>rapport_type</th>\n",
       "      <th>depot</th>\n",
       "    </tr>\n",
       "  </thead>\n",
       "  <tbody>\n",
       "    <tr>\n",
       "      <th>7</th>\n",
       "      <td>2022-02-23 19:29:27</td>\n",
       "      <td>https://www.assemblee-nationale.fr/dyn/opendat...</td>\n",
       "      <td>RINFANR5L15B5039</td>\n",
       "      <td>RINFANR5L15B5039</td>\n",
       "      <td></td>\n",
       "      <td>rapport d'information par la commission des af...</td>\n",
       "      <td>Rapport d'information tel quel</td>\n",
       "      <td>RAPAUT</td>\n",
       "    </tr>\n",
       "  </tbody>\n",
       "</table>\n",
       "</div>"
      ],
      "text/plain": [
       "                  date                                                url  \\\n",
       "7  2022-02-23 19:29:27  https://www.assemblee-nationale.fr/dyn/opendat...   \n",
       "\n",
       "            full_id                id tome  \\\n",
       "7  RINFANR5L15B5039  RINFANR5L15B5039        \n",
       "\n",
       "                                         description  \\\n",
       "7  rapport d'information par la commission des af...   \n",
       "\n",
       "                     rapport_type   depot  \n",
       "7  Rapport d'information tel quel  RAPAUT  "
      ]
     },
     "execution_count": 9,
     "metadata": {},
     "output_type": "execute_result"
    }
   ],
   "source": [
    "try:\n",
    "    old_rapports = pd.read_csv('rapports.csv', sep=';')\n",
    "except:\n",
    "    old_rapports = pd.DataFrame({'full_id': []})\n",
    "\n",
    "new_rapports = all_rapports.loc[~all_rapports['full_id'].isin(old_rapports['full_id'])]    \n",
    "new_rapports"
   ]
  },
  {
   "cell_type": "markdown",
   "metadata": {},
   "source": [
    "## On sauvegarde les nouveaux rapports"
   ]
  },
  {
   "cell_type": "code",
   "execution_count": 10,
   "metadata": {
    "execution": {
     "iopub.execute_input": "2022-02-23T20:09:24.877289Z",
     "iopub.status.busy": "2022-02-23T20:09:24.877046Z",
     "iopub.status.idle": "2022-02-23T20:09:24.883783Z",
     "shell.execute_reply": "2022-02-23T20:09:24.883155Z"
    }
   },
   "outputs": [],
   "source": [
    "pd.concat([old_rapports, new_rapports], ignore_index=True).to_csv('rapports.csv', sep=';', index=False)"
   ]
  },
  {
   "cell_type": "markdown",
   "metadata": {},
   "source": [
    "## On télécharge les nouveaux fichiers"
   ]
  },
  {
   "cell_type": "code",
   "execution_count": 11,
   "metadata": {
    "execution": {
     "iopub.execute_input": "2022-02-23T20:09:24.886826Z",
     "iopub.status.busy": "2022-02-23T20:09:24.886636Z",
     "iopub.status.idle": "2022-02-23T20:09:28.467192Z",
     "shell.execute_reply": "2022-02-23T20:09:28.466510Z"
    }
   },
   "outputs": [],
   "source": [
    "def get_dir(type: str):\n",
    "    if type.startswith(\"Rapport d'information\"):\n",
    "        return \"ris\"\n",
    "    if type.startswith(\"Rapport d'enquête\"):\n",
    "        return \"res\"\n",
    "    else:\n",
    "        return \"raps\"\n",
    "\n",
    "for index, row in new_rapports.iterrows():\n",
    "    dir = get_dir(row['rapport_type'])\n",
    "    file = Path(f'../data/assnat/{dir}/{row[\"full_id\"]}.pdf')\n",
    "    if not file.exists():\n",
    "        r = requests.get(row['url'])\n",
    "        if r.status_code == 200:\n",
    "            file.parent.mkdir(parents=True, exist_ok=True)    \n",
    "            file.write_bytes(r.content)"
   ]
  },
  {
   "cell_type": "markdown",
   "metadata": {},
   "source": [
    "## On tweete les nouveaux rapports"
   ]
  },
  {
   "cell_type": "code",
   "execution_count": 12,
   "metadata": {
    "execution": {
     "iopub.execute_input": "2022-02-23T20:09:28.470569Z",
     "iopub.status.busy": "2022-02-23T20:09:28.470357Z",
     "iopub.status.idle": "2022-02-23T20:09:28.475400Z",
     "shell.execute_reply": "2022-02-23T20:09:28.474792Z"
    }
   },
   "outputs": [],
   "source": [
    "try:\n",
    "    credentials = json.load(open('../twitter-credentials.json'))\n",
    "except:\n",
    "    # gh actions secrets\n",
    "    credentials = {key: os.environ[key] for key in [\"TWITTER_API_KEY\", \"TWITTER_API_SECRET\", \"TWITTER_ACCESS_KEY\", \"TWITTER_ACCESS_SECRET\"]}"
   ]
  },
  {
   "cell_type": "code",
   "execution_count": 13,
   "metadata": {
    "execution": {
     "iopub.execute_input": "2022-02-23T20:09:28.478508Z",
     "iopub.status.busy": "2022-02-23T20:09:28.478306Z",
     "iopub.status.idle": "2022-02-23T20:09:28.605752Z",
     "shell.execute_reply": "2022-02-23T20:09:28.605127Z"
    }
   },
   "outputs": [
    {
     "name": "stdout",
     "output_type": "stream",
     "text": [
      "Authentication OK\n"
     ]
    }
   ],
   "source": [
    "auth = tweepy.OAuthHandler(credentials['TWITTER_API_KEY'], credentials['TWITTER_API_SECRET'])\n",
    "auth.set_access_token(credentials['TWITTER_ACCESS_KEY'], credentials['TWITTER_ACCESS_SECRET'])\n",
    "api = tweepy.API(auth)\n",
    "\n",
    "try:\n",
    "    api.verify_credentials()\n",
    "    print(\"Authentication OK\")\n",
    "except Exception as e:\n",
    "    print(e)\n",
    "    print(\"Error during authentication\")"
   ]
  },
  {
   "cell_type": "code",
   "execution_count": 14,
   "metadata": {
    "execution": {
     "iopub.execute_input": "2022-02-23T20:09:28.608737Z",
     "iopub.status.busy": "2022-02-23T20:09:28.608543Z",
     "iopub.status.idle": "2022-02-23T20:09:28.773704Z",
     "shell.execute_reply": "2022-02-23T20:09:28.773047Z"
    }
   },
   "outputs": [
    {
     "name": "stdout",
     "output_type": "stream",
     "text": [
      "📖 • Nouveau rapport d'information tel quel https://www.assemblee-nationale.fr/dyn/opendata/RINFANR5L15B5039.pdf rapport d'information par la commission des affaires culturelles et de l'éducation sur le bilan des travaux de la commission des Affaires culturelles et de l’Éducati...\n"
     ]
    }
   ],
   "source": [
    "for index, row in new_rapports.iterrows():\n",
    "    icons_dict = {\n",
    "        \"Rapport d'information\": \"ℹ️\",\n",
    "        \"Rapport d'information sur des actes de l'Union européenne\": \"🇪🇺\",\n",
    "        \"Rapport d'information d'une mission d'information constituée au sein d'une commission permanente\": \"🔖\",\n",
    "        \"Rapport d'enquête\": \"🔍\"\n",
    "    }\n",
    "    icon = icons_dict[row['rapport_type']] if row['rapport_type'] in icons_dict else '📖'\n",
    "    tweet = f'{icon} • Nouveau {row[\"rapport_type\"].lower()} {row[\"url\"]} {row[\"description\"]}'\n",
    "    # pour le momnet, on ne tweet que les rapports d'information et d'enquête\n",
    "    if len(tweet) > 280:\n",
    "        tweet = tweet[0:277] + '...'    \n",
    "    print(tweet)\n",
    "    api.update_status(tweet)"
   ]
  }
 ],
 "metadata": {
  "interpreter": {
   "hash": "b037f35a570f4798a3cc3f929dcf08174f799abb59b153589084c9ec1d28de3d"
  },
  "kernelspec": {
   "display_name": "Python 3.8.12 64-bit (conda)",
   "language": "python",
   "name": "python3"
  },
  "language_info": {
   "codemirror_mode": {
    "name": "ipython",
    "version": 3
   },
   "file_extension": ".py",
   "mimetype": "text/x-python",
   "name": "python",
   "nbconvert_exporter": "python",
   "pygments_lexer": "ipython3",
   "version": "3.8.12"
  }
 },
 "nbformat": 4,
 "nbformat_minor": 2
}
