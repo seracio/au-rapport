{
 "cells": [
  {
   "cell_type": "code",
   "execution_count": 1,
   "metadata": {
    "execution": {
     "iopub.execute_input": "2022-01-22T17:39:06.715151Z",
     "iopub.status.busy": "2022-01-22T17:39:06.714563Z",
     "iopub.status.idle": "2022-01-22T17:39:07.025777Z",
     "shell.execute_reply": "2022-01-22T17:39:07.025220Z"
    }
   },
   "outputs": [],
   "source": [
    "import requests\n",
    "from datetime import datetime\n",
    "import pandas as pd\n",
    "import json\n",
    "import tweepy\n",
    "import os"
   ]
  },
  {
   "cell_type": "markdown",
   "metadata": {},
   "source": [
    "## On récupère la date du jour"
   ]
  },
  {
   "cell_type": "code",
   "execution_count": 2,
   "metadata": {
    "execution": {
     "iopub.execute_input": "2022-01-22T17:39:07.030613Z",
     "iopub.status.busy": "2022-01-22T17:39:07.030020Z",
     "iopub.status.idle": "2022-01-22T17:39:07.033070Z",
     "shell.execute_reply": "2022-01-22T17:39:07.033477Z"
    }
   },
   "outputs": [],
   "source": [
    "today = datetime.now()\n",
    "yesterday = today - pd.Timedelta(days=1)"
   ]
  },
  {
   "cell_type": "markdown",
   "metadata": {},
   "source": [
    "## Quels sont les fichiers publiés en open data aujourd'hui ?"
   ]
  },
  {
   "cell_type": "code",
   "execution_count": 3,
   "metadata": {
    "execution": {
     "iopub.execute_input": "2022-01-22T17:39:07.039529Z",
     "iopub.status.busy": "2022-01-22T17:39:07.038985Z",
     "iopub.status.idle": "2022-01-22T17:39:09.105412Z",
     "shell.execute_reply": "2022-01-22T17:39:09.104935Z"
    }
   },
   "outputs": [],
   "source": [
    "def retrieve_files_date(date):\n",
    "    formated_date = date.strftime('%Y-%m-%d')\n",
    "    try:\n",
    "        return(pd\n",
    "            .read_csv(\n",
    "                f'https://www.assemblee-nationale.fr/dyn/opendata/list-publication/publication_{formated_date}.csv', \n",
    "                sep=';', \n",
    "                names=['date', 'url']\n",
    "            )\n",
    "        )\n",
    "    except:\n",
    "        return(pd.DataFrame(columns=['date', 'url']))\n",
    "\n",
    "files = pd.concat([retrieve_files_date(date) for date in [yesterday, today]], ignore_index=True)"
   ]
  },
  {
   "cell_type": "markdown",
   "metadata": {},
   "source": [
    "## On isole tous les rapports d'information\n",
    "\n",
    "- L'id du rapport permet d'accéder au fichier de description json \n",
    "- Si l'id est différent du full_id, cela veut dire que c'est un rapport en plusieurs parties. Il faudra trouver la correspondance dans le fichier de description json"
   ]
  },
  {
   "cell_type": "code",
   "execution_count": 4,
   "metadata": {
    "execution": {
     "iopub.execute_input": "2022-01-22T17:39:09.120427Z",
     "iopub.status.busy": "2022-01-22T17:39:09.119882Z",
     "iopub.status.idle": "2022-01-22T17:39:09.132239Z",
     "shell.execute_reply": "2022-01-22T17:39:09.132688Z"
    }
   },
   "outputs": [
    {
     "data": {
      "text/html": [
       "<div>\n",
       "<style scoped>\n",
       "    .dataframe tbody tr th:only-of-type {\n",
       "        vertical-align: middle;\n",
       "    }\n",
       "\n",
       "    .dataframe tbody tr th {\n",
       "        vertical-align: top;\n",
       "    }\n",
       "\n",
       "    .dataframe thead th {\n",
       "        text-align: right;\n",
       "    }\n",
       "</style>\n",
       "<table border=\"1\" class=\"dataframe\">\n",
       "  <thead>\n",
       "    <tr style=\"text-align: right;\">\n",
       "      <th></th>\n",
       "      <th>date</th>\n",
       "      <th>url</th>\n",
       "      <th>full_id</th>\n",
       "      <th>id</th>\n",
       "      <th>tome</th>\n",
       "    </tr>\n",
       "  </thead>\n",
       "  <tbody>\n",
       "    <tr>\n",
       "      <th>122</th>\n",
       "      <td>2022-01-21 11:33:48</td>\n",
       "      <td>https://www.assemblee-nationale.fr/dyn/opendat...</td>\n",
       "      <td>RINFANR5L15B4928</td>\n",
       "      <td>RINFANR5L15B4928</td>\n",
       "      <td></td>\n",
       "    </tr>\n",
       "    <tr>\n",
       "      <th>207</th>\n",
       "      <td>2022-01-21 14:39:51</td>\n",
       "      <td>https://www.assemblee-nationale.fr/dyn/opendat...</td>\n",
       "      <td>RINFANR5L15B4599-tII</td>\n",
       "      <td>RINFANR5L15B4599</td>\n",
       "      <td>tII</td>\n",
       "    </tr>\n",
       "  </tbody>\n",
       "</table>\n",
       "</div>"
      ],
      "text/plain": [
       "                    date                                                url  \\\n",
       "122  2022-01-21 11:33:48  https://www.assemblee-nationale.fr/dyn/opendat...   \n",
       "207  2022-01-21 14:39:51  https://www.assemblee-nationale.fr/dyn/opendat...   \n",
       "\n",
       "                  full_id                id tome  \n",
       "122      RINFANR5L15B4928  RINFANR5L15B4928       \n",
       "207  RINFANR5L15B4599-tII  RINFANR5L15B4599  tII  "
      ]
     },
     "execution_count": 4,
     "metadata": {},
     "output_type": "execute_result"
    }
   ],
   "source": [
    "ris = (files\n",
    "    # les pdf d'un rapport d'information\n",
    "    .loc[files['url'].str.contains(r'RIN.+\\.pdf$')]    \n",
    "    .assign(\n",
    "        full_id = lambda x: x['url'].str.extract(pat = '(RIN.+)\\.pdf'),        \n",
    "    )\n",
    ")\n",
    "\n",
    "# https://www.codegrepper.com/code-examples/javascript/regex+match+anything+except+character\n",
    "ris[['id', 'tome']] =  ris['full_id'].str.extract(pat = '(RIN[^-]+)-?(.*)', expand=True)\n",
    "\n",
    "ris"
   ]
  },
  {
   "cell_type": "code",
   "execution_count": 5,
   "metadata": {
    "execution": {
     "iopub.execute_input": "2022-01-22T17:39:09.137603Z",
     "iopub.status.busy": "2022-01-22T17:39:09.137077Z",
     "iopub.status.idle": "2022-01-22T17:39:10.507497Z",
     "shell.execute_reply": "2022-01-22T17:39:10.507886Z"
    }
   },
   "outputs": [],
   "source": [
    "descriptions = {}\n",
    "for id in ris['id'].unique():\n",
    "    url = f'https://www.assemblee-nationale.fr/dyn/opendata/{id}.json'\n",
    "    response = requests.get(url)\n",
    "    if response.status_code == 200:\n",
    "        descriptions[id] = json.loads(response.text)\n",
    "    else:\n",
    "        print(f'{id} not found')"
   ]
  },
  {
   "cell_type": "markdown",
   "metadata": {},
   "source": [
    "Pour le moment, on va juste mettre la description de base dans la df"
   ]
  },
  {
   "cell_type": "code",
   "execution_count": 6,
   "metadata": {
    "execution": {
     "iopub.execute_input": "2022-01-22T17:39:10.521445Z",
     "iopub.status.busy": "2022-01-22T17:39:10.520819Z",
     "iopub.status.idle": "2022-01-22T17:39:10.523510Z",
     "shell.execute_reply": "2022-01-22T17:39:10.523905Z"
    }
   },
   "outputs": [
    {
     "data": {
      "text/html": [
       "<div>\n",
       "<style scoped>\n",
       "    .dataframe tbody tr th:only-of-type {\n",
       "        vertical-align: middle;\n",
       "    }\n",
       "\n",
       "    .dataframe tbody tr th {\n",
       "        vertical-align: top;\n",
       "    }\n",
       "\n",
       "    .dataframe thead th {\n",
       "        text-align: right;\n",
       "    }\n",
       "</style>\n",
       "<table border=\"1\" class=\"dataframe\">\n",
       "  <thead>\n",
       "    <tr style=\"text-align: right;\">\n",
       "      <th></th>\n",
       "      <th>date</th>\n",
       "      <th>url</th>\n",
       "      <th>full_id</th>\n",
       "      <th>id</th>\n",
       "      <th>tome</th>\n",
       "      <th>description</th>\n",
       "    </tr>\n",
       "  </thead>\n",
       "  <tbody>\n",
       "    <tr>\n",
       "      <th>122</th>\n",
       "      <td>2022-01-21 11:33:48</td>\n",
       "      <td>https://www.assemblee-nationale.fr/dyn/opendat...</td>\n",
       "      <td>RINFANR5L15B4928</td>\n",
       "      <td>RINFANR5L15B4928</td>\n",
       "      <td></td>\n",
       "      <td>rapport d'information déposé en application de...</td>\n",
       "    </tr>\n",
       "    <tr>\n",
       "      <th>207</th>\n",
       "      <td>2022-01-21 14:39:51</td>\n",
       "      <td>https://www.assemblee-nationale.fr/dyn/opendat...</td>\n",
       "      <td>RINFANR5L15B4599-tII</td>\n",
       "      <td>RINFANR5L15B4599</td>\n",
       "      <td>tII</td>\n",
       "      <td>mobilité durable</td>\n",
       "    </tr>\n",
       "  </tbody>\n",
       "</table>\n",
       "</div>"
      ],
      "text/plain": [
       "                    date                                                url  \\\n",
       "122  2022-01-21 11:33:48  https://www.assemblee-nationale.fr/dyn/opendat...   \n",
       "207  2022-01-21 14:39:51  https://www.assemblee-nationale.fr/dyn/opendat...   \n",
       "\n",
       "                  full_id                id tome  \\\n",
       "122      RINFANR5L15B4928  RINFANR5L15B4928        \n",
       "207  RINFANR5L15B4599-tII  RINFANR5L15B4599  tII   \n",
       "\n",
       "                                           description  \n",
       "122  rapport d'information déposé en application de...  \n",
       "207                                   mobilité durable  "
      ]
     },
     "execution_count": 6,
     "metadata": {},
     "output_type": "execute_result"
    }
   ],
   "source": [
    "def get_desc(id):\n",
    "    return descriptions[id]['titres']['titrePrincipalCourt']\n",
    "\n",
    "ris = ris.assign(\n",
    "    description = lambda x: x['id'].apply(get_desc),\n",
    ")\n",
    "\n",
    "ris"
   ]
  },
  {
   "cell_type": "markdown",
   "metadata": {},
   "source": [
    "Quels sont les nouveaux RI ?   "
   ]
  },
  {
   "cell_type": "code",
   "execution_count": 7,
   "metadata": {
    "execution": {
     "iopub.execute_input": "2022-01-22T17:39:10.535474Z",
     "iopub.status.busy": "2022-01-22T17:39:10.534995Z",
     "iopub.status.idle": "2022-01-22T17:39:10.537354Z",
     "shell.execute_reply": "2022-01-22T17:39:10.537743Z"
    }
   },
   "outputs": [
    {
     "data": {
      "text/html": [
       "<div>\n",
       "<style scoped>\n",
       "    .dataframe tbody tr th:only-of-type {\n",
       "        vertical-align: middle;\n",
       "    }\n",
       "\n",
       "    .dataframe tbody tr th {\n",
       "        vertical-align: top;\n",
       "    }\n",
       "\n",
       "    .dataframe thead th {\n",
       "        text-align: right;\n",
       "    }\n",
       "</style>\n",
       "<table border=\"1\" class=\"dataframe\">\n",
       "  <thead>\n",
       "    <tr style=\"text-align: right;\">\n",
       "      <th></th>\n",
       "      <th>date</th>\n",
       "      <th>url</th>\n",
       "      <th>full_id</th>\n",
       "      <th>id</th>\n",
       "      <th>tome</th>\n",
       "      <th>description</th>\n",
       "    </tr>\n",
       "  </thead>\n",
       "  <tbody>\n",
       "  </tbody>\n",
       "</table>\n",
       "</div>"
      ],
      "text/plain": [
       "Empty DataFrame\n",
       "Columns: [date, url, full_id, id, tome, description]\n",
       "Index: []"
      ]
     },
     "execution_count": 7,
     "metadata": {},
     "output_type": "execute_result"
    }
   ],
   "source": [
    "try:\n",
    "    old_ris = pd.read_csv('ris.csv', sep=';')\n",
    "except:\n",
    "    old_ris = pd.DataFrame({'full_id': []})\n",
    "\n",
    "new_ris = ris.loc[~ris['full_id'].isin(old_ris['full_id'])]    \n",
    "new_ris"
   ]
  },
  {
   "cell_type": "markdown",
   "metadata": {},
   "source": [
    "## On sauvegarde les nouveaux rapports"
   ]
  },
  {
   "cell_type": "code",
   "execution_count": 8,
   "metadata": {
    "execution": {
     "iopub.execute_input": "2022-01-22T17:39:10.542976Z",
     "iopub.status.busy": "2022-01-22T17:39:10.542478Z",
     "iopub.status.idle": "2022-01-22T17:39:10.546577Z",
     "shell.execute_reply": "2022-01-22T17:39:10.546087Z"
    }
   },
   "outputs": [],
   "source": [
    "pd.concat([old_ris, new_ris], ignore_index=True).to_csv('ris.csv', sep=';', index=False)"
   ]
  },
  {
   "cell_type": "markdown",
   "metadata": {},
   "source": [
    "## On tweete les nouveaux rapports"
   ]
  },
  {
   "cell_type": "code",
   "execution_count": 9,
   "metadata": {
    "execution": {
     "iopub.execute_input": "2022-01-22T17:39:10.551808Z",
     "iopub.status.busy": "2022-01-22T17:39:10.550594Z",
     "iopub.status.idle": "2022-01-22T17:39:10.552368Z",
     "shell.execute_reply": "2022-01-22T17:39:10.552763Z"
    }
   },
   "outputs": [],
   "source": [
    "try:\n",
    "    credentials = json.load(open('../twitter-credentials.json'))\n",
    "except:\n",
    "    # gh actions secrets\n",
    "    credentials = {key: os.environ[key] for key in [\"TWITTER_API_KEY\", \"TWITTER_API_SECRET\", \"TWITTER_ACCESS_KEY\", \"TWITTER_ACCESS_SECRET\"]}"
   ]
  },
  {
   "cell_type": "code",
   "execution_count": 10,
   "metadata": {
    "execution": {
     "iopub.execute_input": "2022-01-22T17:39:10.560261Z",
     "iopub.status.busy": "2022-01-22T17:39:10.559691Z",
     "iopub.status.idle": "2022-01-22T17:39:10.727712Z",
     "shell.execute_reply": "2022-01-22T17:39:10.728157Z"
    }
   },
   "outputs": [
    {
     "name": "stdout",
     "output_type": "stream",
     "text": [
      "Authentication OK\n"
     ]
    }
   ],
   "source": [
    "auth = tweepy.OAuthHandler(credentials['TWITTER_API_KEY'], credentials['TWITTER_API_SECRET'])\n",
    "auth.set_access_token(credentials['TWITTER_ACCESS_KEY'], credentials['TWITTER_ACCESS_SECRET'])\n",
    "api = tweepy.API(auth)\n",
    "\n",
    "try:\n",
    "    api.verify_credentials()\n",
    "    print(\"Authentication OK\")\n",
    "except Exception as e:\n",
    "    print(e)\n",
    "    print(\"Error during authentication\")"
   ]
  },
  {
   "cell_type": "code",
   "execution_count": 11,
   "metadata": {
    "execution": {
     "iopub.execute_input": "2022-01-22T17:39:10.733994Z",
     "iopub.status.busy": "2022-01-22T17:39:10.732783Z",
     "iopub.status.idle": "2022-01-22T17:39:10.734671Z",
     "shell.execute_reply": "2022-01-22T17:39:10.735195Z"
    }
   },
   "outputs": [],
   "source": [
    "for index, row in new_ris.iterrows():\n",
    "    tweet = f'ℹ️ • Nouveau rapport d\\'information {row[\"url\"]} {row[\"description\"]}'\n",
    "    if len(tweet) > 280:\n",
    "        tweet = tweet[0:277] + '...'\n",
    "    api.update_status(tweet)"
   ]
  }
 ],
 "metadata": {
  "interpreter": {
   "hash": "b037f35a570f4798a3cc3f929dcf08174f799abb59b153589084c9ec1d28de3d"
  },
  "kernelspec": {
   "display_name": "Python 3.8.12 64-bit (conda)",
   "language": "python",
   "name": "python3"
  },
  "language_info": {
   "codemirror_mode": {
    "name": "ipython",
    "version": 3
   },
   "file_extension": ".py",
   "mimetype": "text/x-python",
   "name": "python",
   "nbconvert_exporter": "python",
   "pygments_lexer": "ipython3",
   "version": "3.8.12"
  }
 },
 "nbformat": 4,
 "nbformat_minor": 2
}
