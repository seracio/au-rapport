{
 "cells": [
  {
   "cell_type": "code",
   "execution_count": 1,
   "metadata": {
    "execution": {
     "iopub.execute_input": "2022-01-26T16:31:06.241609Z",
     "iopub.status.busy": "2022-01-26T16:31:06.241183Z",
     "iopub.status.idle": "2022-01-26T16:31:06.512935Z",
     "shell.execute_reply": "2022-01-26T16:31:06.512442Z"
    }
   },
   "outputs": [],
   "source": [
    "import requests\n",
    "from datetime import datetime\n",
    "import pandas as pd\n",
    "import json\n",
    "import tweepy\n",
    "import os\n",
    "from pathlib import Path"
   ]
  },
  {
   "cell_type": "markdown",
   "metadata": {},
   "source": [
    "## On récupère la date du jour"
   ]
  },
  {
   "cell_type": "code",
   "execution_count": 2,
   "metadata": {
    "execution": {
     "iopub.execute_input": "2022-01-26T16:31:06.517904Z",
     "iopub.status.busy": "2022-01-26T16:31:06.517464Z",
     "iopub.status.idle": "2022-01-26T16:31:06.520635Z",
     "shell.execute_reply": "2022-01-26T16:31:06.519969Z"
    }
   },
   "outputs": [],
   "source": [
    "today = datetime.now()\n",
    "yesterday = today - pd.Timedelta(days=1)"
   ]
  },
  {
   "cell_type": "markdown",
   "metadata": {},
   "source": [
    "## Quels sont les fichiers publiés en open data aujourd'hui ?"
   ]
  },
  {
   "cell_type": "code",
   "execution_count": 3,
   "metadata": {
    "execution": {
     "iopub.execute_input": "2022-01-26T16:31:06.526101Z",
     "iopub.status.busy": "2022-01-26T16:31:06.525700Z",
     "iopub.status.idle": "2022-01-26T16:31:08.108134Z",
     "shell.execute_reply": "2022-01-26T16:31:08.107316Z"
    }
   },
   "outputs": [],
   "source": [
    "def retrieve_files_date(date):\n",
    "    formated_date = date.strftime('%Y-%m-%d')\n",
    "    try:\n",
    "        return(pd\n",
    "            .read_csv(\n",
    "                f'https://www.assemblee-nationale.fr/dyn/opendata/list-publication/publication_{formated_date}.csv', \n",
    "                sep=';', \n",
    "                names=['date', 'url']\n",
    "            )\n",
    "        )\n",
    "    except:\n",
    "        return(pd.DataFrame(columns=['date', 'url']))\n",
    "\n",
    "files = pd.concat([retrieve_files_date(date) for date in [yesterday, today]], ignore_index=True)"
   ]
  },
  {
   "cell_type": "markdown",
   "metadata": {},
   "source": [
    "## On isole tous les rapports d'information\n",
    "\n",
    "- L'id du rapport permet d'accéder au fichier de description json \n",
    "- Si l'id est différent du full_id, cela veut dire que c'est un rapport en plusieurs parties. Il faudra trouver la correspondance dans le fichier de description json"
   ]
  },
  {
   "cell_type": "code",
   "execution_count": 4,
   "metadata": {
    "execution": {
     "iopub.execute_input": "2022-01-26T16:31:08.122781Z",
     "iopub.status.busy": "2022-01-26T16:31:08.112322Z",
     "iopub.status.idle": "2022-01-26T16:31:08.133251Z",
     "shell.execute_reply": "2022-01-26T16:31:08.132844Z"
    }
   },
   "outputs": [
    {
     "data": {
      "text/html": [
       "<div>\n",
       "<style scoped>\n",
       "    .dataframe tbody tr th:only-of-type {\n",
       "        vertical-align: middle;\n",
       "    }\n",
       "\n",
       "    .dataframe tbody tr th {\n",
       "        vertical-align: top;\n",
       "    }\n",
       "\n",
       "    .dataframe thead th {\n",
       "        text-align: right;\n",
       "    }\n",
       "</style>\n",
       "<table border=\"1\" class=\"dataframe\">\n",
       "  <thead>\n",
       "    <tr style=\"text-align: right;\">\n",
       "      <th></th>\n",
       "      <th>date</th>\n",
       "      <th>url</th>\n",
       "      <th>full_id</th>\n",
       "      <th>id</th>\n",
       "      <th>tome</th>\n",
       "    </tr>\n",
       "  </thead>\n",
       "  <tbody>\n",
       "    <tr>\n",
       "      <th>1030</th>\n",
       "      <td>2022-01-25 17:34:07</td>\n",
       "      <td>https://www.assemblee-nationale.fr/dyn/opendat...</td>\n",
       "      <td>RINFANR5L15B4599</td>\n",
       "      <td>RINFANR5L15B4599</td>\n",
       "      <td></td>\n",
       "    </tr>\n",
       "    <tr>\n",
       "      <th>1840</th>\n",
       "      <td>2022-01-26 14:50:40</td>\n",
       "      <td>https://www.assemblee-nationale.fr/dyn/opendat...</td>\n",
       "      <td>RINFANR5L15B4912</td>\n",
       "      <td>RINFANR5L15B4912</td>\n",
       "      <td></td>\n",
       "    </tr>\n",
       "  </tbody>\n",
       "</table>\n",
       "</div>"
      ],
      "text/plain": [
       "                     date                                                url  \\\n",
       "1030  2022-01-25 17:34:07  https://www.assemblee-nationale.fr/dyn/opendat...   \n",
       "1840  2022-01-26 14:50:40  https://www.assemblee-nationale.fr/dyn/opendat...   \n",
       "\n",
       "               full_id                id tome  \n",
       "1030  RINFANR5L15B4599  RINFANR5L15B4599       \n",
       "1840  RINFANR5L15B4912  RINFANR5L15B4912       "
      ]
     },
     "execution_count": 4,
     "metadata": {},
     "output_type": "execute_result"
    }
   ],
   "source": [
    "ris = (files\n",
    "    # les pdf d'un rapport d'information\n",
    "    .loc[files['url'].str.contains(r'RIN.+\\.pdf$')]    \n",
    "    .assign(\n",
    "        full_id = lambda x: x['url'].str.extract(pat = '(RIN.+)\\.pdf')        \n",
    "    )\n",
    ")\n",
    "\n",
    "# https://www.codegrepper.com/code-examples/javascript/regex+match+anything+except+character\n",
    "ris[['id', 'tome']] =  ris['full_id'].str.extract(pat = '(RIN[^-]+)-?(.*)', expand=True)\n",
    "\n",
    "ris"
   ]
  },
  {
   "cell_type": "code",
   "execution_count": 5,
   "metadata": {
    "execution": {
     "iopub.execute_input": "2022-01-26T16:31:08.147013Z",
     "iopub.status.busy": "2022-01-26T16:31:08.146559Z",
     "iopub.status.idle": "2022-01-26T16:31:08.151193Z",
     "shell.execute_reply": "2022-01-26T16:31:08.150819Z"
    }
   },
   "outputs": [
    {
     "data": {
      "text/html": [
       "<div>\n",
       "<style scoped>\n",
       "    .dataframe tbody tr th:only-of-type {\n",
       "        vertical-align: middle;\n",
       "    }\n",
       "\n",
       "    .dataframe tbody tr th {\n",
       "        vertical-align: top;\n",
       "    }\n",
       "\n",
       "    .dataframe thead th {\n",
       "        text-align: right;\n",
       "    }\n",
       "</style>\n",
       "<table border=\"1\" class=\"dataframe\">\n",
       "  <thead>\n",
       "    <tr style=\"text-align: right;\">\n",
       "      <th></th>\n",
       "      <th>date</th>\n",
       "      <th>url</th>\n",
       "      <th>full_id</th>\n",
       "      <th>id</th>\n",
       "      <th>tome</th>\n",
       "    </tr>\n",
       "  </thead>\n",
       "  <tbody>\n",
       "    <tr>\n",
       "      <th>242</th>\n",
       "      <td>2022-01-25 11:17:34</td>\n",
       "      <td>https://www.assemblee-nationale.fr/dyn/opendat...</td>\n",
       "      <td>RAPPANR5L15B4891</td>\n",
       "      <td>RAPPANR5L15B4891</td>\n",
       "      <td></td>\n",
       "    </tr>\n",
       "    <tr>\n",
       "      <th>609</th>\n",
       "      <td>2022-01-25 14:27:31</td>\n",
       "      <td>https://www.assemblee-nationale.fr/dyn/opendat...</td>\n",
       "      <td>RAPPANR5L15B4924</td>\n",
       "      <td>RAPPANR5L15B4924</td>\n",
       "      <td></td>\n",
       "    </tr>\n",
       "    <tr>\n",
       "      <th>610</th>\n",
       "      <td>2022-01-25 14:27:31</td>\n",
       "      <td>https://www.assemblee-nationale.fr/dyn/opendat...</td>\n",
       "      <td>RAPPANR5L15B4925</td>\n",
       "      <td>RAPPANR5L15B4925</td>\n",
       "      <td></td>\n",
       "    </tr>\n",
       "    <tr>\n",
       "      <th>798</th>\n",
       "      <td>2022-01-25 15:48:13</td>\n",
       "      <td>https://www.assemblee-nationale.fr/dyn/opendat...</td>\n",
       "      <td>RAPPANR5L15B4923</td>\n",
       "      <td>RAPPANR5L15B4923</td>\n",
       "      <td></td>\n",
       "    </tr>\n",
       "    <tr>\n",
       "      <th>804</th>\n",
       "      <td>2022-01-25 16:13:40</td>\n",
       "      <td>https://www.assemblee-nationale.fr/dyn/opendat...</td>\n",
       "      <td>RAPPANR5L15B4923</td>\n",
       "      <td>RAPPANR5L15B4923</td>\n",
       "      <td></td>\n",
       "    </tr>\n",
       "    <tr>\n",
       "      <th>1908</th>\n",
       "      <td>2022-01-26 16:08:05</td>\n",
       "      <td>https://www.assemblee-nationale.fr/dyn/opendat...</td>\n",
       "      <td>RAPPANR5L15B4966-COMPA</td>\n",
       "      <td>RAPPANR5L15B4966</td>\n",
       "      <td>COMPA</td>\n",
       "    </tr>\n",
       "  </tbody>\n",
       "</table>\n",
       "</div>"
      ],
      "text/plain": [
       "                     date                                                url  \\\n",
       "242   2022-01-25 11:17:34  https://www.assemblee-nationale.fr/dyn/opendat...   \n",
       "609   2022-01-25 14:27:31  https://www.assemblee-nationale.fr/dyn/opendat...   \n",
       "610   2022-01-25 14:27:31  https://www.assemblee-nationale.fr/dyn/opendat...   \n",
       "798   2022-01-25 15:48:13  https://www.assemblee-nationale.fr/dyn/opendat...   \n",
       "804   2022-01-25 16:13:40  https://www.assemblee-nationale.fr/dyn/opendat...   \n",
       "1908  2022-01-26 16:08:05  https://www.assemblee-nationale.fr/dyn/opendat...   \n",
       "\n",
       "                     full_id                id   tome  \n",
       "242         RAPPANR5L15B4891  RAPPANR5L15B4891         \n",
       "609         RAPPANR5L15B4924  RAPPANR5L15B4924         \n",
       "610         RAPPANR5L15B4925  RAPPANR5L15B4925         \n",
       "798         RAPPANR5L15B4923  RAPPANR5L15B4923         \n",
       "804         RAPPANR5L15B4923  RAPPANR5L15B4923         \n",
       "1908  RAPPANR5L15B4966-COMPA  RAPPANR5L15B4966  COMPA  "
      ]
     },
     "execution_count": 5,
     "metadata": {},
     "output_type": "execute_result"
    }
   ],
   "source": [
    "raps = (files\n",
    "    # les pdf d'un rapport\n",
    "    .loc[files['url'].str.contains(r'RAPP.+\\.pdf$')]    \n",
    "    .assign(\n",
    "        full_id = lambda x: x['url'].str.extract(pat = '(RAPP.+)\\.pdf'),        \n",
    "    )\n",
    ")\n",
    "\n",
    "# https://www.codegrepper.com/code-examples/javascript/regex+match+anything+except+character\n",
    "raps[['id', 'tome']] =  raps['full_id'].str.extract(pat = '(RAPP[^-]+)-?(.*)', expand=True)\n",
    "\n",
    "raps"
   ]
  },
  {
   "cell_type": "code",
   "execution_count": 6,
   "metadata": {
    "execution": {
     "iopub.execute_input": "2022-01-26T16:31:08.157668Z",
     "iopub.status.busy": "2022-01-26T16:31:08.157243Z",
     "iopub.status.idle": "2022-01-26T16:31:08.160433Z",
     "shell.execute_reply": "2022-01-26T16:31:08.159710Z"
    }
   },
   "outputs": [],
   "source": [
    "all_rapports = (pd\n",
    "    .concat([ris, raps], ignore_index=True)\n",
    "    .drop_duplicates(subset=['id', 'full_id'])\n",
    "    # on enlève les comparaisons\n",
    "    .loc[lambda x: ~(x['full_id'].str.contains('COMPA'))]\n",
    ")"
   ]
  },
  {
   "cell_type": "code",
   "execution_count": 7,
   "metadata": {
    "execution": {
     "iopub.execute_input": "2022-01-26T16:31:08.164934Z",
     "iopub.status.busy": "2022-01-26T16:31:08.164471Z",
     "iopub.status.idle": "2022-01-26T16:31:12.126702Z",
     "shell.execute_reply": "2022-01-26T16:31:12.126311Z"
    }
   },
   "outputs": [],
   "source": [
    "descriptions = {}\n",
    "for id in all_rapports['id'].unique():\n",
    "    url = f'https://www.assemblee-nationale.fr/dyn/opendata/{id}.json'\n",
    "    response = requests.get(url)\n",
    "    if response.status_code == 200:\n",
    "        descriptions[id] = json.loads(response.text)\n",
    "    else:\n",
    "        print(f'{id} not found')"
   ]
  },
  {
   "cell_type": "markdown",
   "metadata": {},
   "source": [
    "Pour le moment, on va juste mettre la description de base dans la df"
   ]
  },
  {
   "cell_type": "code",
   "execution_count": 8,
   "metadata": {
    "execution": {
     "iopub.execute_input": "2022-01-26T16:31:12.133673Z",
     "iopub.status.busy": "2022-01-26T16:31:12.128958Z",
     "iopub.status.idle": "2022-01-26T16:31:12.144568Z",
     "shell.execute_reply": "2022-01-26T16:31:12.145137Z"
    }
   },
   "outputs": [
    {
     "data": {
      "text/html": [
       "<div>\n",
       "<style scoped>\n",
       "    .dataframe tbody tr th:only-of-type {\n",
       "        vertical-align: middle;\n",
       "    }\n",
       "\n",
       "    .dataframe tbody tr th {\n",
       "        vertical-align: top;\n",
       "    }\n",
       "\n",
       "    .dataframe thead th {\n",
       "        text-align: right;\n",
       "    }\n",
       "</style>\n",
       "<table border=\"1\" class=\"dataframe\">\n",
       "  <thead>\n",
       "    <tr style=\"text-align: right;\">\n",
       "      <th></th>\n",
       "      <th>date</th>\n",
       "      <th>url</th>\n",
       "      <th>full_id</th>\n",
       "      <th>id</th>\n",
       "      <th>tome</th>\n",
       "      <th>description</th>\n",
       "      <th>rapport_type</th>\n",
       "    </tr>\n",
       "  </thead>\n",
       "  <tbody>\n",
       "    <tr>\n",
       "      <th>0</th>\n",
       "      <td>2022-01-25 17:34:07</td>\n",
       "      <td>https://www.assemblee-nationale.fr/dyn/opendat...</td>\n",
       "      <td>RINFANR5L15B4599</td>\n",
       "      <td>RINFANR5L15B4599</td>\n",
       "      <td></td>\n",
       "      <td>mobilité durable</td>\n",
       "      <td>Rapport d'information sur des actes de l'Union...</td>\n",
       "    </tr>\n",
       "    <tr>\n",
       "      <th>1</th>\n",
       "      <td>2022-01-26 14:50:40</td>\n",
       "      <td>https://www.assemblee-nationale.fr/dyn/opendat...</td>\n",
       "      <td>RINFANR5L15B4912</td>\n",
       "      <td>RINFANR5L15B4912</td>\n",
       "      <td></td>\n",
       "      <td>protection civile européenne</td>\n",
       "      <td>Rapport d'information sur des actes de l'Union...</td>\n",
       "    </tr>\n",
       "    <tr>\n",
       "      <th>2</th>\n",
       "      <td>2022-01-25 11:17:34</td>\n",
       "      <td>https://www.assemblee-nationale.fr/dyn/opendat...</td>\n",
       "      <td>RAPPANR5L15B4891</td>\n",
       "      <td>RAPPANR5L15B4891</td>\n",
       "      <td></td>\n",
       "      <td>Aménagement du Rhône</td>\n",
       "      <td>Rapport</td>\n",
       "    </tr>\n",
       "    <tr>\n",
       "      <th>3</th>\n",
       "      <td>2022-01-25 14:27:31</td>\n",
       "      <td>https://www.assemblee-nationale.fr/dyn/opendat...</td>\n",
       "      <td>RAPPANR5L15B4924</td>\n",
       "      <td>RAPPANR5L15B4924</td>\n",
       "      <td></td>\n",
       "      <td>relative aux lois de financement de la sécurit...</td>\n",
       "      <td>Rapport</td>\n",
       "    </tr>\n",
       "    <tr>\n",
       "      <th>4</th>\n",
       "      <td>2022-01-25 14:27:31</td>\n",
       "      <td>https://www.assemblee-nationale.fr/dyn/opendat...</td>\n",
       "      <td>RAPPANR5L15B4925</td>\n",
       "      <td>RAPPANR5L15B4925</td>\n",
       "      <td></td>\n",
       "      <td>nouvelle lecture de la proposition de loi, mod...</td>\n",
       "      <td>Rapport</td>\n",
       "    </tr>\n",
       "    <tr>\n",
       "      <th>5</th>\n",
       "      <td>2022-01-25 15:48:13</td>\n",
       "      <td>https://www.assemblee-nationale.fr/dyn/opendat...</td>\n",
       "      <td>RAPPANR5L15B4923</td>\n",
       "      <td>RAPPANR5L15B4923</td>\n",
       "      <td></td>\n",
       "      <td>rapport d'enquête chargée d’identifier les fac...</td>\n",
       "      <td>Rapport d'enquête</td>\n",
       "    </tr>\n",
       "    <tr>\n",
       "      <th>7</th>\n",
       "      <td>2022-01-26 16:08:05</td>\n",
       "      <td>https://www.assemblee-nationale.fr/dyn/opendat...</td>\n",
       "      <td>RAPPANR5L15B4966-COMPA</td>\n",
       "      <td>RAPPANR5L15B4966</td>\n",
       "      <td>COMPA</td>\n",
       "      <td>rapport sur la proposition de loi de Mme Élodi...</td>\n",
       "      <td>Rapport</td>\n",
       "    </tr>\n",
       "  </tbody>\n",
       "</table>\n",
       "</div>"
      ],
      "text/plain": [
       "                  date                                                url  \\\n",
       "0  2022-01-25 17:34:07  https://www.assemblee-nationale.fr/dyn/opendat...   \n",
       "1  2022-01-26 14:50:40  https://www.assemblee-nationale.fr/dyn/opendat...   \n",
       "2  2022-01-25 11:17:34  https://www.assemblee-nationale.fr/dyn/opendat...   \n",
       "3  2022-01-25 14:27:31  https://www.assemblee-nationale.fr/dyn/opendat...   \n",
       "4  2022-01-25 14:27:31  https://www.assemblee-nationale.fr/dyn/opendat...   \n",
       "5  2022-01-25 15:48:13  https://www.assemblee-nationale.fr/dyn/opendat...   \n",
       "7  2022-01-26 16:08:05  https://www.assemblee-nationale.fr/dyn/opendat...   \n",
       "\n",
       "                  full_id                id   tome  \\\n",
       "0        RINFANR5L15B4599  RINFANR5L15B4599          \n",
       "1        RINFANR5L15B4912  RINFANR5L15B4912          \n",
       "2        RAPPANR5L15B4891  RAPPANR5L15B4891          \n",
       "3        RAPPANR5L15B4924  RAPPANR5L15B4924          \n",
       "4        RAPPANR5L15B4925  RAPPANR5L15B4925          \n",
       "5        RAPPANR5L15B4923  RAPPANR5L15B4923          \n",
       "7  RAPPANR5L15B4966-COMPA  RAPPANR5L15B4966  COMPA   \n",
       "\n",
       "                                         description  \\\n",
       "0                                   mobilité durable   \n",
       "1                       protection civile européenne   \n",
       "2                               Aménagement du Rhône   \n",
       "3  relative aux lois de financement de la sécurit...   \n",
       "4  nouvelle lecture de la proposition de loi, mod...   \n",
       "5  rapport d'enquête chargée d’identifier les fac...   \n",
       "7  rapport sur la proposition de loi de Mme Élodi...   \n",
       "\n",
       "                                        rapport_type  \n",
       "0  Rapport d'information sur des actes de l'Union...  \n",
       "1  Rapport d'information sur des actes de l'Union...  \n",
       "2                                            Rapport  \n",
       "3                                            Rapport  \n",
       "4                                            Rapport  \n",
       "5                                  Rapport d'enquête  \n",
       "7                                            Rapport  "
      ]
     },
     "execution_count": 8,
     "metadata": {},
     "output_type": "execute_result"
    }
   ],
   "source": [
    "def get_desc(id):\n",
    "    return descriptions[id]['titres']['titrePrincipalCourt']\n",
    "\n",
    "def get_type(id):\n",
    "    if 'libelle' in descriptions[id]['classification']['sousType']:\n",
    "        return(f\"{descriptions[id]['classification']['type']['libelle']} {descriptions[id]['classification']['sousType']['libelle']}\")\n",
    "    else: \n",
    "        return descriptions[id]['classification']['type']['libelle']\n",
    "\n",
    "all_rapports = all_rapports.assign(\n",
    "    description = lambda x: x['id'].apply(get_desc),\n",
    "    rapport_type = lambda x: x['id'].apply(get_type)\n",
    ")\n",
    "\n",
    "all_rapports"
   ]
  },
  {
   "cell_type": "markdown",
   "metadata": {},
   "source": [
    "Quels sont les nouveaux RI ?   "
   ]
  },
  {
   "cell_type": "code",
   "execution_count": 9,
   "metadata": {
    "execution": {
     "iopub.execute_input": "2022-01-26T16:31:12.149412Z",
     "iopub.status.busy": "2022-01-26T16:31:12.148803Z",
     "iopub.status.idle": "2022-01-26T16:31:12.161117Z",
     "shell.execute_reply": "2022-01-26T16:31:12.160729Z"
    }
   },
   "outputs": [
    {
     "data": {
      "text/html": [
       "<div>\n",
       "<style scoped>\n",
       "    .dataframe tbody tr th:only-of-type {\n",
       "        vertical-align: middle;\n",
       "    }\n",
       "\n",
       "    .dataframe tbody tr th {\n",
       "        vertical-align: top;\n",
       "    }\n",
       "\n",
       "    .dataframe thead th {\n",
       "        text-align: right;\n",
       "    }\n",
       "</style>\n",
       "<table border=\"1\" class=\"dataframe\">\n",
       "  <thead>\n",
       "    <tr style=\"text-align: right;\">\n",
       "      <th></th>\n",
       "      <th>date</th>\n",
       "      <th>url</th>\n",
       "      <th>full_id</th>\n",
       "      <th>id</th>\n",
       "      <th>tome</th>\n",
       "      <th>description</th>\n",
       "      <th>rapport_type</th>\n",
       "    </tr>\n",
       "  </thead>\n",
       "  <tbody>\n",
       "    <tr>\n",
       "      <th>1</th>\n",
       "      <td>2022-01-26 14:50:40</td>\n",
       "      <td>https://www.assemblee-nationale.fr/dyn/opendat...</td>\n",
       "      <td>RINFANR5L15B4912</td>\n",
       "      <td>RINFANR5L15B4912</td>\n",
       "      <td></td>\n",
       "      <td>protection civile européenne</td>\n",
       "      <td>Rapport d'information sur des actes de l'Union...</td>\n",
       "    </tr>\n",
       "    <tr>\n",
       "      <th>7</th>\n",
       "      <td>2022-01-26 16:08:05</td>\n",
       "      <td>https://www.assemblee-nationale.fr/dyn/opendat...</td>\n",
       "      <td>RAPPANR5L15B4966-COMPA</td>\n",
       "      <td>RAPPANR5L15B4966</td>\n",
       "      <td>COMPA</td>\n",
       "      <td>rapport sur la proposition de loi de Mme Élodi...</td>\n",
       "      <td>Rapport</td>\n",
       "    </tr>\n",
       "  </tbody>\n",
       "</table>\n",
       "</div>"
      ],
      "text/plain": [
       "                  date                                                url  \\\n",
       "1  2022-01-26 14:50:40  https://www.assemblee-nationale.fr/dyn/opendat...   \n",
       "7  2022-01-26 16:08:05  https://www.assemblee-nationale.fr/dyn/opendat...   \n",
       "\n",
       "                  full_id                id   tome  \\\n",
       "1        RINFANR5L15B4912  RINFANR5L15B4912          \n",
       "7  RAPPANR5L15B4966-COMPA  RAPPANR5L15B4966  COMPA   \n",
       "\n",
       "                                         description  \\\n",
       "1                       protection civile européenne   \n",
       "7  rapport sur la proposition de loi de Mme Élodi...   \n",
       "\n",
       "                                        rapport_type  \n",
       "1  Rapport d'information sur des actes de l'Union...  \n",
       "7                                            Rapport  "
      ]
     },
     "execution_count": 9,
     "metadata": {},
     "output_type": "execute_result"
    }
   ],
   "source": [
    "try:\n",
    "    old_rapports = pd.read_csv('rapports.csv', sep=';')\n",
    "except:\n",
    "    old_rapports = pd.DataFrame({'full_id': []})\n",
    "\n",
    "new_rapports = all_rapports.loc[~all_rapports['full_id'].isin(old_rapports['full_id'])]    \n",
    "new_rapports"
   ]
  },
  {
   "cell_type": "markdown",
   "metadata": {},
   "source": [
    "## On sauvegarde les nouveaux rapports"
   ]
  },
  {
   "cell_type": "code",
   "execution_count": 10,
   "metadata": {
    "execution": {
     "iopub.execute_input": "2022-01-26T16:31:12.165808Z",
     "iopub.status.busy": "2022-01-26T16:31:12.165399Z",
     "iopub.status.idle": "2022-01-26T16:31:12.169800Z",
     "shell.execute_reply": "2022-01-26T16:31:12.169410Z"
    }
   },
   "outputs": [],
   "source": [
    "pd.concat([old_rapports, new_rapports], ignore_index=True).to_csv('rapports.csv', sep=';', index=False)"
   ]
  },
  {
   "cell_type": "markdown",
   "metadata": {},
   "source": [
    "## On télécharge les nouveaux fichiers"
   ]
  },
  {
   "cell_type": "code",
   "execution_count": 11,
   "metadata": {
    "execution": {
     "iopub.execute_input": "2022-01-26T16:31:12.176275Z",
     "iopub.status.busy": "2022-01-26T16:31:12.174215Z",
     "iopub.status.idle": "2022-01-26T16:31:20.523199Z",
     "shell.execute_reply": "2022-01-26T16:31:20.523538Z"
    }
   },
   "outputs": [],
   "source": [
    "dirs_dict = {\n",
    "    \"Rapport d'information\": \"ris\",\n",
    "    \"Rapport d'information sur des actes de l'Union européenne\": \"ris\",\n",
    "    \"Rapport d'enquête\": \"res\"\n",
    "}\n",
    "for index, row in new_rapports.iterrows():\n",
    "    dir = dirs_dict[row['rapport_type'] ] if row['rapport_type'] in dirs_dict else 'raps'\n",
    "    file = Path(f'../data/assnat/{dir}/{row[\"full_id\"]}.pdf')\n",
    "    if not file.exists():\n",
    "        r = requests.get(row['url'])\n",
    "        if r.status_code == 200:\n",
    "            file.parent.mkdir(parents=True, exist_ok=True)    \n",
    "            file.write_bytes(r.content)"
   ]
  },
  {
   "cell_type": "markdown",
   "metadata": {},
   "source": [
    "## On tweete les nouveaux rapports"
   ]
  },
  {
   "cell_type": "code",
   "execution_count": 12,
   "metadata": {
    "execution": {
     "iopub.execute_input": "2022-01-26T16:31:20.527709Z",
     "iopub.status.busy": "2022-01-26T16:31:20.526969Z",
     "iopub.status.idle": "2022-01-26T16:31:20.529679Z",
     "shell.execute_reply": "2022-01-26T16:31:20.529991Z"
    }
   },
   "outputs": [],
   "source": [
    "try:\n",
    "    credentials = json.load(open('../twitter-credentials.json'))\n",
    "except:\n",
    "    # gh actions secrets\n",
    "    credentials = {key: os.environ[key] for key in [\"TWITTER_API_KEY\", \"TWITTER_API_SECRET\", \"TWITTER_ACCESS_KEY\", \"TWITTER_ACCESS_SECRET\"]}"
   ]
  },
  {
   "cell_type": "code",
   "execution_count": 13,
   "metadata": {
    "execution": {
     "iopub.execute_input": "2022-01-26T16:31:20.535619Z",
     "iopub.status.busy": "2022-01-26T16:31:20.533811Z",
     "iopub.status.idle": "2022-01-26T16:31:20.680611Z",
     "shell.execute_reply": "2022-01-26T16:31:20.680255Z"
    }
   },
   "outputs": [
    {
     "name": "stdout",
     "output_type": "stream",
     "text": [
      "Authentication OK\n"
     ]
    }
   ],
   "source": [
    "auth = tweepy.OAuthHandler(credentials['TWITTER_API_KEY'], credentials['TWITTER_API_SECRET'])\n",
    "auth.set_access_token(credentials['TWITTER_ACCESS_KEY'], credentials['TWITTER_ACCESS_SECRET'])\n",
    "api = tweepy.API(auth)\n",
    "\n",
    "try:\n",
    "    api.verify_credentials()\n",
    "    print(\"Authentication OK\")\n",
    "except Exception as e:\n",
    "    print(e)\n",
    "    print(\"Error during authentication\")"
   ]
  },
  {
   "cell_type": "code",
   "execution_count": 14,
   "metadata": {
    "execution": {
     "iopub.execute_input": "2022-01-26T16:31:20.688671Z",
     "iopub.status.busy": "2022-01-26T16:31:20.687624Z",
     "iopub.status.idle": "2022-01-26T16:31:21.125787Z",
     "shell.execute_reply": "2022-01-26T16:31:21.125388Z"
    }
   },
   "outputs": [
    {
     "name": "stdout",
     "output_type": "stream",
     "text": [
      "📖 • Nouveau rapport d'information sur des actes de l'union européenne https://www.assemblee-nationale.fr/dyn/opendata/RINFANR5L15B4912.pdf protection civile européenne\n",
      "📖 • Nouveau rapport https://www.assemblee-nationale.fr/dyn/opendata/RAPPANR5L15B4966-COMPA.pdf rapport sur la proposition de loi de Mme Élodie Jacquier-Laforge et plusieurs de ses collègues visant à renforcer la parité dans les fonctions électives et exécutives du bloc communa...\n"
     ]
    }
   ],
   "source": [
    "for index, row in new_rapports.iterrows():\n",
    "    icons_dict = {\n",
    "        \"Rapport d'information\": \"ℹ️\",\n",
    "        \"Rapport d'information sur des actes de l'Union européenne\": \"🇪🇺\",\n",
    "        \"Rapport d'enquête\": \"🔍\"\n",
    "    }\n",
    "    icon = icons_dict[row['rapport_type']] if row['rapport_type'] in icons_dict else '📖'\n",
    "    tweet = f'{icon} • Nouveau {row[\"rapport_type\"].lower()} {row[\"url\"]} {row[\"description\"]}'\n",
    "    # pour le momnet, on ne tweet que les rapports d'information et d'enquête\n",
    "    if len(tweet) > 280:\n",
    "        tweet = tweet[0:277] + '...'    \n",
    "    print(tweet)\n",
    "    api.update_status(tweet)"
   ]
  },
  {
   "cell_type": "code",
   "execution_count": null,
   "metadata": {},
   "outputs": [],
   "source": []
  }
 ],
 "metadata": {
  "interpreter": {
   "hash": "b037f35a570f4798a3cc3f929dcf08174f799abb59b153589084c9ec1d28de3d"
  },
  "kernelspec": {
   "display_name": "Python 3.8.12 64-bit (conda)",
   "language": "python",
   "name": "python3"
  },
  "language_info": {
   "codemirror_mode": {
    "name": "ipython",
    "version": 3
   },
   "file_extension": ".py",
   "mimetype": "text/x-python",
   "name": "python",
   "nbconvert_exporter": "python",
   "pygments_lexer": "ipython3",
   "version": "3.8.12"
  }
 },
 "nbformat": 4,
 "nbformat_minor": 2
}
