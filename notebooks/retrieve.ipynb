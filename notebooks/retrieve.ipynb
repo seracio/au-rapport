{
 "cells": [
  {
   "cell_type": "code",
   "execution_count": 1,
   "metadata": {
    "execution": {
     "iopub.execute_input": "2022-02-04T20:19:20.837815Z",
     "iopub.status.busy": "2022-02-04T20:19:20.837308Z",
     "iopub.status.idle": "2022-02-04T20:19:21.135710Z",
     "shell.execute_reply": "2022-02-04T20:19:21.136091Z"
    }
   },
   "outputs": [],
   "source": [
    "import requests\n",
    "from datetime import datetime\n",
    "import pandas as pd\n",
    "import json\n",
    "import tweepy\n",
    "import os\n",
    "from pathlib import Path"
   ]
  },
  {
   "cell_type": "markdown",
   "metadata": {},
   "source": [
    "## On récupère la date du jour"
   ]
  },
  {
   "cell_type": "code",
   "execution_count": 2,
   "metadata": {
    "execution": {
     "iopub.execute_input": "2022-02-04T20:19:21.140506Z",
     "iopub.status.busy": "2022-02-04T20:19:21.140009Z",
     "iopub.status.idle": "2022-02-04T20:19:21.142919Z",
     "shell.execute_reply": "2022-02-04T20:19:21.142543Z"
    }
   },
   "outputs": [],
   "source": [
    "today = datetime.now()\n",
    "yesterday = today - pd.Timedelta(days=1)"
   ]
  },
  {
   "cell_type": "markdown",
   "metadata": {},
   "source": [
    "## Quels sont les fichiers publiés en open data aujourd'hui ?"
   ]
  },
  {
   "cell_type": "code",
   "execution_count": 3,
   "metadata": {
    "execution": {
     "iopub.execute_input": "2022-02-04T20:19:21.150064Z",
     "iopub.status.busy": "2022-02-04T20:19:21.149612Z",
     "iopub.status.idle": "2022-02-04T20:19:22.633840Z",
     "shell.execute_reply": "2022-02-04T20:19:22.634211Z"
    }
   },
   "outputs": [],
   "source": [
    "def retrieve_files_date(date):\n",
    "    formated_date = date.strftime('%Y-%m-%d')\n",
    "    try:\n",
    "        return(pd\n",
    "            .read_csv(\n",
    "                f'https://www.assemblee-nationale.fr/dyn/opendata/list-publication/publication_{formated_date}.csv', \n",
    "                sep=';', \n",
    "                names=['date', 'url']\n",
    "            )\n",
    "        )\n",
    "    except:\n",
    "        return(pd.DataFrame(columns=['date', 'url']))\n",
    "\n",
    "files = pd.concat([retrieve_files_date(date) for date in [yesterday, today]], ignore_index=True)"
   ]
  },
  {
   "cell_type": "markdown",
   "metadata": {},
   "source": [
    "## On isole tous les rapports d'information\n",
    "\n",
    "- L'id du rapport permet d'accéder au fichier de description json \n",
    "- Si l'id est différent du full_id, cela veut dire que c'est un rapport en plusieurs parties. Il faudra trouver la correspondance dans le fichier de description json"
   ]
  },
  {
   "cell_type": "code",
   "execution_count": 4,
   "metadata": {
    "execution": {
     "iopub.execute_input": "2022-02-04T20:19:22.651214Z",
     "iopub.status.busy": "2022-02-04T20:19:22.649019Z",
     "iopub.status.idle": "2022-02-04T20:19:22.658730Z",
     "shell.execute_reply": "2022-02-04T20:19:22.659093Z"
    }
   },
   "outputs": [
    {
     "data": {
      "text/html": [
       "<div>\n",
       "<style scoped>\n",
       "    .dataframe tbody tr th:only-of-type {\n",
       "        vertical-align: middle;\n",
       "    }\n",
       "\n",
       "    .dataframe tbody tr th {\n",
       "        vertical-align: top;\n",
       "    }\n",
       "\n",
       "    .dataframe thead th {\n",
       "        text-align: right;\n",
       "    }\n",
       "</style>\n",
       "<table border=\"1\" class=\"dataframe\">\n",
       "  <thead>\n",
       "    <tr style=\"text-align: right;\">\n",
       "      <th></th>\n",
       "      <th>date</th>\n",
       "      <th>url</th>\n",
       "      <th>full_id</th>\n",
       "      <th>id</th>\n",
       "      <th>tome</th>\n",
       "    </tr>\n",
       "  </thead>\n",
       "  <tbody>\n",
       "    <tr>\n",
       "      <th>552</th>\n",
       "      <td>2022-02-03 13:04:53</td>\n",
       "      <td>https://www.assemblee-nationale.fr/dyn/opendat...</td>\n",
       "      <td>RINFANR5L15B4987</td>\n",
       "      <td>RINFANR5L15B4987</td>\n",
       "      <td></td>\n",
       "    </tr>\n",
       "    <tr>\n",
       "      <th>1448</th>\n",
       "      <td>2022-02-04 20:32:07</td>\n",
       "      <td>https://www.assemblee-nationale.fr/dyn/opendat...</td>\n",
       "      <td>RINFANR5L15B4991</td>\n",
       "      <td>RINFANR5L15B4991</td>\n",
       "      <td></td>\n",
       "    </tr>\n",
       "  </tbody>\n",
       "</table>\n",
       "</div>"
      ],
      "text/plain": [
       "                     date                                                url  \\\n",
       "552   2022-02-03 13:04:53  https://www.assemblee-nationale.fr/dyn/opendat...   \n",
       "1448  2022-02-04 20:32:07  https://www.assemblee-nationale.fr/dyn/opendat...   \n",
       "\n",
       "               full_id                id tome  \n",
       "552   RINFANR5L15B4987  RINFANR5L15B4987       \n",
       "1448  RINFANR5L15B4991  RINFANR5L15B4991       "
      ]
     },
     "execution_count": 4,
     "metadata": {},
     "output_type": "execute_result"
    }
   ],
   "source": [
    "ris = (files\n",
    "    # les pdf d'un rapport d'information\n",
    "    .loc[files['url'].str.contains(r'RIN.+\\.pdf$')]    \n",
    "    .assign(\n",
    "        full_id = lambda x: x['url'].str.extract(pat = '(RIN.+)\\.pdf')        \n",
    "    )\n",
    ")\n",
    "\n",
    "# https://www.codegrepper.com/code-examples/javascript/regex+match+anything+except+character\n",
    "ris[['id', 'tome']] =  ris['full_id'].str.extract(pat = '(RIN[^-]+)-?(.*)', expand=True)\n",
    "\n",
    "ris"
   ]
  },
  {
   "cell_type": "code",
   "execution_count": 5,
   "metadata": {
    "execution": {
     "iopub.execute_input": "2022-02-04T20:19:22.675618Z",
     "iopub.status.busy": "2022-02-04T20:19:22.675131Z",
     "iopub.status.idle": "2022-02-04T20:19:22.677511Z",
     "shell.execute_reply": "2022-02-04T20:19:22.677848Z"
    }
   },
   "outputs": [
    {
     "data": {
      "text/html": [
       "<div>\n",
       "<style scoped>\n",
       "    .dataframe tbody tr th:only-of-type {\n",
       "        vertical-align: middle;\n",
       "    }\n",
       "\n",
       "    .dataframe tbody tr th {\n",
       "        vertical-align: top;\n",
       "    }\n",
       "\n",
       "    .dataframe thead th {\n",
       "        text-align: right;\n",
       "    }\n",
       "</style>\n",
       "<table border=\"1\" class=\"dataframe\">\n",
       "  <thead>\n",
       "    <tr style=\"text-align: right;\">\n",
       "      <th></th>\n",
       "      <th>date</th>\n",
       "      <th>url</th>\n",
       "      <th>full_id</th>\n",
       "      <th>id</th>\n",
       "      <th>tome</th>\n",
       "    </tr>\n",
       "  </thead>\n",
       "  <tbody>\n",
       "    <tr>\n",
       "      <th>414</th>\n",
       "      <td>2022-02-03 11:19:49</td>\n",
       "      <td>https://www.assemblee-nationale.fr/dyn/opendat...</td>\n",
       "      <td>RAPPANR5L15B4923</td>\n",
       "      <td>RAPPANR5L15B4923</td>\n",
       "      <td></td>\n",
       "    </tr>\n",
       "    <tr>\n",
       "      <th>561</th>\n",
       "      <td>2022-02-03 14:06:19</td>\n",
       "      <td>https://www.assemblee-nationale.fr/dyn/opendat...</td>\n",
       "      <td>RAPPANR5L15B3654</td>\n",
       "      <td>RAPPANR5L15B3654</td>\n",
       "      <td></td>\n",
       "    </tr>\n",
       "    <tr>\n",
       "      <th>619</th>\n",
       "      <td>2022-02-03 15:59:21</td>\n",
       "      <td>https://www.assemblee-nationale.fr/dyn/opendat...</td>\n",
       "      <td>RAPPANR5L15B4979</td>\n",
       "      <td>RAPPANR5L15B4979</td>\n",
       "      <td></td>\n",
       "    </tr>\n",
       "    <tr>\n",
       "      <th>625</th>\n",
       "      <td>2022-02-03 16:02:07</td>\n",
       "      <td>https://www.assemblee-nationale.fr/dyn/opendat...</td>\n",
       "      <td>RAPPANR5L15B4980</td>\n",
       "      <td>RAPPANR5L15B4980</td>\n",
       "      <td></td>\n",
       "    </tr>\n",
       "    <tr>\n",
       "      <th>794</th>\n",
       "      <td>2022-02-03 19:16:07</td>\n",
       "      <td>https://www.assemblee-nationale.fr/dyn/opendat...</td>\n",
       "      <td>RAPPANR5L15B4979</td>\n",
       "      <td>RAPPANR5L15B4979</td>\n",
       "      <td></td>\n",
       "    </tr>\n",
       "    <tr>\n",
       "      <th>795</th>\n",
       "      <td>2022-02-03 19:16:07</td>\n",
       "      <td>https://www.assemblee-nationale.fr/dyn/opendat...</td>\n",
       "      <td>RAPPANR5L15B4980</td>\n",
       "      <td>RAPPANR5L15B4980</td>\n",
       "      <td></td>\n",
       "    </tr>\n",
       "    <tr>\n",
       "      <th>829</th>\n",
       "      <td>2022-02-03 20:46:06</td>\n",
       "      <td>https://www.assemblee-nationale.fr/dyn/opendat...</td>\n",
       "      <td>RAPPANR5L15B4994-COMPA</td>\n",
       "      <td>RAPPANR5L15B4994</td>\n",
       "      <td>COMPA</td>\n",
       "    </tr>\n",
       "    <tr>\n",
       "      <th>1170</th>\n",
       "      <td>2022-02-04 14:24:03</td>\n",
       "      <td>https://www.assemblee-nationale.fr/dyn/opendat...</td>\n",
       "      <td>RAPPANR5L15B4994-COMPA</td>\n",
       "      <td>RAPPANR5L15B4994</td>\n",
       "      <td>COMPA</td>\n",
       "    </tr>\n",
       "    <tr>\n",
       "      <th>1194</th>\n",
       "      <td>2022-02-04 15:07:01</td>\n",
       "      <td>https://www.assemblee-nationale.fr/dyn/opendat...</td>\n",
       "      <td>RAPPANR5L15B4985</td>\n",
       "      <td>RAPPANR5L15B4985</td>\n",
       "      <td></td>\n",
       "    </tr>\n",
       "    <tr>\n",
       "      <th>1395</th>\n",
       "      <td>2022-02-04 18:25:22</td>\n",
       "      <td>https://www.assemblee-nationale.fr/dyn/opendat...</td>\n",
       "      <td>RAPPANR5L15B4992</td>\n",
       "      <td>RAPPANR5L15B4992</td>\n",
       "      <td></td>\n",
       "    </tr>\n",
       "    <tr>\n",
       "      <th>1445</th>\n",
       "      <td>2022-02-04 20:10:10</td>\n",
       "      <td>https://www.assemblee-nationale.fr/dyn/opendat...</td>\n",
       "      <td>RAPPANR5L15B4978</td>\n",
       "      <td>RAPPANR5L15B4978</td>\n",
       "      <td></td>\n",
       "    </tr>\n",
       "  </tbody>\n",
       "</table>\n",
       "</div>"
      ],
      "text/plain": [
       "                     date                                                url  \\\n",
       "414   2022-02-03 11:19:49  https://www.assemblee-nationale.fr/dyn/opendat...   \n",
       "561   2022-02-03 14:06:19  https://www.assemblee-nationale.fr/dyn/opendat...   \n",
       "619   2022-02-03 15:59:21  https://www.assemblee-nationale.fr/dyn/opendat...   \n",
       "625   2022-02-03 16:02:07  https://www.assemblee-nationale.fr/dyn/opendat...   \n",
       "794   2022-02-03 19:16:07  https://www.assemblee-nationale.fr/dyn/opendat...   \n",
       "795   2022-02-03 19:16:07  https://www.assemblee-nationale.fr/dyn/opendat...   \n",
       "829   2022-02-03 20:46:06  https://www.assemblee-nationale.fr/dyn/opendat...   \n",
       "1170  2022-02-04 14:24:03  https://www.assemblee-nationale.fr/dyn/opendat...   \n",
       "1194  2022-02-04 15:07:01  https://www.assemblee-nationale.fr/dyn/opendat...   \n",
       "1395  2022-02-04 18:25:22  https://www.assemblee-nationale.fr/dyn/opendat...   \n",
       "1445  2022-02-04 20:10:10  https://www.assemblee-nationale.fr/dyn/opendat...   \n",
       "\n",
       "                     full_id                id   tome  \n",
       "414         RAPPANR5L15B4923  RAPPANR5L15B4923         \n",
       "561         RAPPANR5L15B3654  RAPPANR5L15B3654         \n",
       "619         RAPPANR5L15B4979  RAPPANR5L15B4979         \n",
       "625         RAPPANR5L15B4980  RAPPANR5L15B4980         \n",
       "794         RAPPANR5L15B4979  RAPPANR5L15B4979         \n",
       "795         RAPPANR5L15B4980  RAPPANR5L15B4980         \n",
       "829   RAPPANR5L15B4994-COMPA  RAPPANR5L15B4994  COMPA  \n",
       "1170  RAPPANR5L15B4994-COMPA  RAPPANR5L15B4994  COMPA  \n",
       "1194        RAPPANR5L15B4985  RAPPANR5L15B4985         \n",
       "1395        RAPPANR5L15B4992  RAPPANR5L15B4992         \n",
       "1445        RAPPANR5L15B4978  RAPPANR5L15B4978         "
      ]
     },
     "execution_count": 5,
     "metadata": {},
     "output_type": "execute_result"
    }
   ],
   "source": [
    "raps = (files\n",
    "    # les pdf d'un rapport\n",
    "    .loc[files['url'].str.contains(r'RAPP.+\\.pdf$')]    \n",
    "    .assign(\n",
    "        full_id = lambda x: x['url'].str.extract(pat = '(RAPP.+)\\.pdf'),        \n",
    "    )\n",
    ")\n",
    "\n",
    "# https://www.codegrepper.com/code-examples/javascript/regex+match+anything+except+character\n",
    "raps[['id', 'tome']] =  raps['full_id'].str.extract(pat = '(RAPP[^-]+)-?(.*)', expand=True)\n",
    "\n",
    "raps"
   ]
  },
  {
   "cell_type": "code",
   "execution_count": 6,
   "metadata": {
    "execution": {
     "iopub.execute_input": "2022-02-04T20:19:22.683242Z",
     "iopub.status.busy": "2022-02-04T20:19:22.681145Z",
     "iopub.status.idle": "2022-02-04T20:19:22.685421Z",
     "shell.execute_reply": "2022-02-04T20:19:22.685053Z"
    }
   },
   "outputs": [],
   "source": [
    "raps.to_csv('test.csv', index=False)"
   ]
  },
  {
   "cell_type": "code",
   "execution_count": 7,
   "metadata": {
    "execution": {
     "iopub.execute_input": "2022-02-04T20:19:22.692502Z",
     "iopub.status.busy": "2022-02-04T20:19:22.691999Z",
     "iopub.status.idle": "2022-02-04T20:19:22.694170Z",
     "shell.execute_reply": "2022-02-04T20:19:22.693766Z"
    }
   },
   "outputs": [],
   "source": [
    "all_rapports = (pd\n",
    "    .concat([ris, raps], ignore_index=True)\n",
    "    .drop_duplicates(subset=['id', 'full_id'])\n",
    ")"
   ]
  },
  {
   "cell_type": "code",
   "execution_count": 8,
   "metadata": {
    "execution": {
     "iopub.execute_input": "2022-02-04T20:19:22.699121Z",
     "iopub.status.busy": "2022-02-04T20:19:22.698671Z",
     "iopub.status.idle": "2022-02-04T20:19:28.138554Z",
     "shell.execute_reply": "2022-02-04T20:19:28.138937Z"
    }
   },
   "outputs": [
    {
     "name": "stdout",
     "output_type": "stream",
     "text": [
      "RAPPANR5L15B4979 not found\n",
      "RAPPANR5L15B4980 not found\n"
     ]
    }
   ],
   "source": [
    "descriptions = {}\n",
    "for id in all_rapports['id'].unique():\n",
    "    url = f'https://www.assemblee-nationale.fr/dyn/opendata/{id}.json'\n",
    "    response = requests.get(url)\n",
    "    if response.status_code == 200:\n",
    "        descriptions[id] = json.loads(response.text)\n",
    "    else:  \n",
    "        print(f'{id} not found')"
   ]
  },
  {
   "cell_type": "markdown",
   "metadata": {},
   "source": [
    "Pour le moment, on va juste mettre la description de base dans la df"
   ]
  },
  {
   "cell_type": "code",
   "execution_count": 9,
   "metadata": {
    "execution": {
     "iopub.execute_input": "2022-02-04T20:19:28.153122Z",
     "iopub.status.busy": "2022-02-04T20:19:28.152636Z",
     "iopub.status.idle": "2022-02-04T20:19:28.160595Z",
     "shell.execute_reply": "2022-02-04T20:19:28.160202Z"
    }
   },
   "outputs": [
    {
     "data": {
      "text/html": [
       "<div>\n",
       "<style scoped>\n",
       "    .dataframe tbody tr th:only-of-type {\n",
       "        vertical-align: middle;\n",
       "    }\n",
       "\n",
       "    .dataframe tbody tr th {\n",
       "        vertical-align: top;\n",
       "    }\n",
       "\n",
       "    .dataframe thead th {\n",
       "        text-align: right;\n",
       "    }\n",
       "</style>\n",
       "<table border=\"1\" class=\"dataframe\">\n",
       "  <thead>\n",
       "    <tr style=\"text-align: right;\">\n",
       "      <th></th>\n",
       "      <th>date</th>\n",
       "      <th>url</th>\n",
       "      <th>full_id</th>\n",
       "      <th>id</th>\n",
       "      <th>tome</th>\n",
       "      <th>description</th>\n",
       "      <th>rapport_type</th>\n",
       "      <th>depot</th>\n",
       "    </tr>\n",
       "  </thead>\n",
       "  <tbody>\n",
       "    <tr>\n",
       "      <th>0</th>\n",
       "      <td>2022-02-03 13:04:53</td>\n",
       "      <td>https://www.assemblee-nationale.fr/dyn/opendat...</td>\n",
       "      <td>RINFANR5L15B4987</td>\n",
       "      <td>RINFANR5L15B4987</td>\n",
       "      <td></td>\n",
       "      <td>rapport d'information par la commission des lo...</td>\n",
       "      <td>Rapport d'information tel quel</td>\n",
       "      <td>RAPAUT</td>\n",
       "    </tr>\n",
       "    <tr>\n",
       "      <th>1</th>\n",
       "      <td>2022-02-04 20:32:07</td>\n",
       "      <td>https://www.assemblee-nationale.fr/dyn/opendat...</td>\n",
       "      <td>RINFANR5L15B4991</td>\n",
       "      <td>RINFANR5L15B4991</td>\n",
       "      <td></td>\n",
       "      <td>rapport d'information déposé en conclusion des...</td>\n",
       "      <td>Rapport d'information d'une mission d'informat...</td>\n",
       "      <td>RAPAUT</td>\n",
       "    </tr>\n",
       "    <tr>\n",
       "      <th>2</th>\n",
       "      <td>2022-02-03 11:19:49</td>\n",
       "      <td>https://www.assemblee-nationale.fr/dyn/opendat...</td>\n",
       "      <td>RAPPANR5L15B4923</td>\n",
       "      <td>RAPPANR5L15B4923</td>\n",
       "      <td></td>\n",
       "      <td>rapport d'enquête chargée d’identifier les fac...</td>\n",
       "      <td>Rapport d'enquête</td>\n",
       "      <td>RAPAUT</td>\n",
       "    </tr>\n",
       "    <tr>\n",
       "      <th>3</th>\n",
       "      <td>2022-02-03 14:06:19</td>\n",
       "      <td>https://www.assemblee-nationale.fr/dyn/opendat...</td>\n",
       "      <td>RAPPANR5L15B3654</td>\n",
       "      <td>RAPPANR5L15B3654</td>\n",
       "      <td></td>\n",
       "      <td>rapport établi au nom de l'office, sur la poll...</td>\n",
       "      <td>Rapport des offices parlementaires</td>\n",
       "      <td>RAPAUT</td>\n",
       "    </tr>\n",
       "  </tbody>\n",
       "</table>\n",
       "</div>"
      ],
      "text/plain": [
       "                  date                                                url  \\\n",
       "0  2022-02-03 13:04:53  https://www.assemblee-nationale.fr/dyn/opendat...   \n",
       "1  2022-02-04 20:32:07  https://www.assemblee-nationale.fr/dyn/opendat...   \n",
       "2  2022-02-03 11:19:49  https://www.assemblee-nationale.fr/dyn/opendat...   \n",
       "3  2022-02-03 14:06:19  https://www.assemblee-nationale.fr/dyn/opendat...   \n",
       "\n",
       "            full_id                id tome  \\\n",
       "0  RINFANR5L15B4987  RINFANR5L15B4987        \n",
       "1  RINFANR5L15B4991  RINFANR5L15B4991        \n",
       "2  RAPPANR5L15B4923  RAPPANR5L15B4923        \n",
       "3  RAPPANR5L15B3654  RAPPANR5L15B3654        \n",
       "\n",
       "                                         description  \\\n",
       "0  rapport d'information par la commission des lo...   \n",
       "1  rapport d'information déposé en conclusion des...   \n",
       "2  rapport d'enquête chargée d’identifier les fac...   \n",
       "3  rapport établi au nom de l'office, sur la poll...   \n",
       "\n",
       "                                        rapport_type   depot  \n",
       "0                     Rapport d'information tel quel  RAPAUT  \n",
       "1  Rapport d'information d'une mission d'informat...  RAPAUT  \n",
       "2                                  Rapport d'enquête  RAPAUT  \n",
       "3                 Rapport des offices parlementaires  RAPAUT  "
      ]
     },
     "execution_count": 9,
     "metadata": {},
     "output_type": "execute_result"
    }
   ],
   "source": [
    "def get_desc(id):\n",
    "    return descriptions[id]['titres']['titrePrincipalCourt'].replace(\"déposé en application de l'article 145 du règlement, \", \"\")\n",
    "\n",
    "def get_depot(id):\n",
    "    return descriptions[id]['classification']['famille']['depot']['code']\n",
    "\n",
    "def get_type(id):\n",
    "    if 'libelle' in descriptions[id]['classification']['sousType']:\n",
    "        return(f\"{descriptions[id]['classification']['type']['libelle']} {descriptions[id]['classification']['sousType']['libelle']}\")\n",
    "    else: \n",
    "        return descriptions[id]['classification']['type']['libelle']\n",
    "\n",
    "all_rapports = (all_rapports\n",
    "    .loc[lambda x: x['id'].isin(descriptions.keys())]\n",
    "    .assign(\n",
    "        description = lambda x: x['id'].apply(get_desc),\n",
    "        rapport_type = lambda x: x['id'].apply(get_type),\n",
    "        depot = lambda x: x['id'].apply(get_depot)\n",
    "    )\n",
    "    # on ne garde que les rapports autonomes\n",
    "    .loc[lambda x: x['depot'].isin(['RAPAUT'])]\n",
    ")\n",
    "\n",
    "all_rapports"
   ]
  },
  {
   "cell_type": "markdown",
   "metadata": {},
   "source": [
    "Quels sont les nouveaux RI ?   "
   ]
  },
  {
   "cell_type": "code",
   "execution_count": 10,
   "metadata": {
    "execution": {
     "iopub.execute_input": "2022-02-04T20:19:28.164998Z",
     "iopub.status.busy": "2022-02-04T20:19:28.164571Z",
     "iopub.status.idle": "2022-02-04T20:19:28.175756Z",
     "shell.execute_reply": "2022-02-04T20:19:28.176145Z"
    }
   },
   "outputs": [
    {
     "data": {
      "text/html": [
       "<div>\n",
       "<style scoped>\n",
       "    .dataframe tbody tr th:only-of-type {\n",
       "        vertical-align: middle;\n",
       "    }\n",
       "\n",
       "    .dataframe tbody tr th {\n",
       "        vertical-align: top;\n",
       "    }\n",
       "\n",
       "    .dataframe thead th {\n",
       "        text-align: right;\n",
       "    }\n",
       "</style>\n",
       "<table border=\"1\" class=\"dataframe\">\n",
       "  <thead>\n",
       "    <tr style=\"text-align: right;\">\n",
       "      <th></th>\n",
       "      <th>date</th>\n",
       "      <th>url</th>\n",
       "      <th>full_id</th>\n",
       "      <th>id</th>\n",
       "      <th>tome</th>\n",
       "      <th>description</th>\n",
       "      <th>rapport_type</th>\n",
       "      <th>depot</th>\n",
       "    </tr>\n",
       "  </thead>\n",
       "  <tbody>\n",
       "    <tr>\n",
       "      <th>1</th>\n",
       "      <td>2022-02-04 20:32:07</td>\n",
       "      <td>https://www.assemblee-nationale.fr/dyn/opendat...</td>\n",
       "      <td>RINFANR5L15B4991</td>\n",
       "      <td>RINFANR5L15B4991</td>\n",
       "      <td></td>\n",
       "      <td>rapport d'information déposé en conclusion des...</td>\n",
       "      <td>Rapport d'information d'une mission d'informat...</td>\n",
       "      <td>RAPAUT</td>\n",
       "    </tr>\n",
       "  </tbody>\n",
       "</table>\n",
       "</div>"
      ],
      "text/plain": [
       "                  date                                                url  \\\n",
       "1  2022-02-04 20:32:07  https://www.assemblee-nationale.fr/dyn/opendat...   \n",
       "\n",
       "            full_id                id tome  \\\n",
       "1  RINFANR5L15B4991  RINFANR5L15B4991        \n",
       "\n",
       "                                         description  \\\n",
       "1  rapport d'information déposé en conclusion des...   \n",
       "\n",
       "                                        rapport_type   depot  \n",
       "1  Rapport d'information d'une mission d'informat...  RAPAUT  "
      ]
     },
     "execution_count": 10,
     "metadata": {},
     "output_type": "execute_result"
    }
   ],
   "source": [
    "try:\n",
    "    old_rapports = pd.read_csv('rapports.csv', sep=';')\n",
    "except:\n",
    "    old_rapports = pd.DataFrame({'full_id': []})\n",
    "\n",
    "new_rapports = all_rapports.loc[~all_rapports['full_id'].isin(old_rapports['full_id'])]    \n",
    "new_rapports"
   ]
  },
  {
   "cell_type": "markdown",
   "metadata": {},
   "source": [
    "## On sauvegarde les nouveaux rapports"
   ]
  },
  {
   "cell_type": "code",
   "execution_count": 11,
   "metadata": {
    "execution": {
     "iopub.execute_input": "2022-02-04T20:19:28.181789Z",
     "iopub.status.busy": "2022-02-04T20:19:28.181289Z",
     "iopub.status.idle": "2022-02-04T20:19:28.184327Z",
     "shell.execute_reply": "2022-02-04T20:19:28.183882Z"
    }
   },
   "outputs": [],
   "source": [
    "pd.concat([old_rapports, new_rapports], ignore_index=True).to_csv('rapports.csv', sep=';', index=False)"
   ]
  },
  {
   "cell_type": "markdown",
   "metadata": {},
   "source": [
    "## On télécharge les nouveaux fichiers"
   ]
  },
  {
   "cell_type": "code",
   "execution_count": 12,
   "metadata": {
    "execution": {
     "iopub.execute_input": "2022-02-04T20:19:28.191630Z",
     "iopub.status.busy": "2022-02-04T20:19:28.191183Z",
     "iopub.status.idle": "2022-02-04T20:19:33.611380Z",
     "shell.execute_reply": "2022-02-04T20:19:33.611771Z"
    }
   },
   "outputs": [],
   "source": [
    "def get_dir(type: str):\n",
    "    if type.startswith(\"Rapport d'information\"):\n",
    "        return \"ris\"\n",
    "    if type.startswith(\"Rapport d'enquête\"):\n",
    "        return \"res\"\n",
    "    else:\n",
    "        return \"raps\"\n",
    "\n",
    "for index, row in new_rapports.iterrows():\n",
    "    dir = get_dir(row['rapport_type'])\n",
    "    file = Path(f'../data/assnat/{dir}/{row[\"full_id\"]}.pdf')\n",
    "    if not file.exists():\n",
    "        r = requests.get(row['url'])\n",
    "        if r.status_code == 200:\n",
    "            file.parent.mkdir(parents=True, exist_ok=True)    \n",
    "            file.write_bytes(r.content)"
   ]
  },
  {
   "cell_type": "markdown",
   "metadata": {},
   "source": [
    "## On tweete les nouveaux rapports"
   ]
  },
  {
   "cell_type": "code",
   "execution_count": 13,
   "metadata": {
    "execution": {
     "iopub.execute_input": "2022-02-04T20:19:33.616051Z",
     "iopub.status.busy": "2022-02-04T20:19:33.615600Z",
     "iopub.status.idle": "2022-02-04T20:19:33.619174Z",
     "shell.execute_reply": "2022-02-04T20:19:33.618406Z"
    }
   },
   "outputs": [],
   "source": [
    "try:\n",
    "    credentials = json.load(open('../twitter-credentials.json'))\n",
    "except:\n",
    "    # gh actions secrets\n",
    "    credentials = {key: os.environ[key] for key in [\"TWITTER_API_KEY\", \"TWITTER_API_SECRET\", \"TWITTER_ACCESS_KEY\", \"TWITTER_ACCESS_SECRET\"]}"
   ]
  },
  {
   "cell_type": "code",
   "execution_count": 14,
   "metadata": {
    "execution": {
     "iopub.execute_input": "2022-02-04T20:19:33.625153Z",
     "iopub.status.busy": "2022-02-04T20:19:33.623776Z",
     "iopub.status.idle": "2022-02-04T20:19:33.807642Z",
     "shell.execute_reply": "2022-02-04T20:19:33.807232Z"
    }
   },
   "outputs": [
    {
     "name": "stdout",
     "output_type": "stream",
     "text": [
      "Authentication OK\n"
     ]
    }
   ],
   "source": [
    "auth = tweepy.OAuthHandler(credentials['TWITTER_API_KEY'], credentials['TWITTER_API_SECRET'])\n",
    "auth.set_access_token(credentials['TWITTER_ACCESS_KEY'], credentials['TWITTER_ACCESS_SECRET'])\n",
    "api = tweepy.API(auth)\n",
    "\n",
    "try:\n",
    "    api.verify_credentials()\n",
    "    print(\"Authentication OK\")\n",
    "except Exception as e:\n",
    "    print(e)\n",
    "    print(\"Error during authentication\")"
   ]
  },
  {
   "cell_type": "code",
   "execution_count": 15,
   "metadata": {
    "execution": {
     "iopub.execute_input": "2022-02-04T20:19:33.815744Z",
     "iopub.status.busy": "2022-02-04T20:19:33.812534Z",
     "iopub.status.idle": "2022-02-04T20:19:34.056337Z",
     "shell.execute_reply": "2022-02-04T20:19:34.055541Z"
    }
   },
   "outputs": [
    {
     "name": "stdout",
     "output_type": "stream",
     "text": [
      "🔖 • Nouveau rapport d'information d'une mission d'information constituée au sein d'une commission permanente https://www.assemblee-nationale.fr/dyn/opendata/RINFANR5L15B4991.pdf rapport d'information déposé en conclusion des travaux d'une mission d'information sur l’espace de ...\n"
     ]
    }
   ],
   "source": [
    "for index, row in new_rapports.iterrows():\n",
    "    icons_dict = {\n",
    "        \"Rapport d'information\": \"ℹ️\",\n",
    "        \"Rapport d'information sur des actes de l'Union européenne\": \"🇪🇺\",\n",
    "        \"Rapport d'information d'une mission d'information constituée au sein d'une commission permanente\": \"🔖\",\n",
    "        \"Rapport d'enquête\": \"🔍\"\n",
    "    }\n",
    "    icon = icons_dict[row['rapport_type']] if row['rapport_type'] in icons_dict else '📖'\n",
    "    tweet = f'{icon} • Nouveau {row[\"rapport_type\"].lower()} {row[\"url\"]} {row[\"description\"]}'\n",
    "    # pour le momnet, on ne tweet que les rapports d'information et d'enquête\n",
    "    if len(tweet) > 280:\n",
    "        tweet = tweet[0:277] + '...'    \n",
    "    print(tweet)\n",
    "    api.update_status(tweet)"
   ]
  }
 ],
 "metadata": {
  "interpreter": {
   "hash": "b037f35a570f4798a3cc3f929dcf08174f799abb59b153589084c9ec1d28de3d"
  },
  "kernelspec": {
   "display_name": "Python 3.8.12 64-bit (conda)",
   "language": "python",
   "name": "python3"
  },
  "language_info": {
   "codemirror_mode": {
    "name": "ipython",
    "version": 3
   },
   "file_extension": ".py",
   "mimetype": "text/x-python",
   "name": "python",
   "nbconvert_exporter": "python",
   "pygments_lexer": "ipython3",
   "version": "3.8.12"
  }
 },
 "nbformat": 4,
 "nbformat_minor": 2
}
