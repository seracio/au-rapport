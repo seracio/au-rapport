{
 "cells": [
  {
   "cell_type": "code",
   "execution_count": 1,
   "metadata": {
    "execution": {
     "iopub.execute_input": "2022-07-28T08:12:03.191076Z",
     "iopub.status.busy": "2022-07-28T08:12:03.190643Z",
     "iopub.status.idle": "2022-07-28T08:12:03.539090Z",
     "shell.execute_reply": "2022-07-28T08:12:03.538383Z"
    }
   },
   "outputs": [],
   "source": [
    "import pandas as pd\n",
    "import tweepy\n",
    "import requests\n",
    "from bs4 import BeautifulSoup\n",
    "import re\n",
    "from pathlib import Path\n",
    "import json\n",
    "import os"
   ]
  },
  {
   "cell_type": "markdown",
   "metadata": {},
   "source": [
    "## La liste des rapports déjà présents"
   ]
  },
  {
   "cell_type": "code",
   "execution_count": 2,
   "metadata": {
    "execution": {
     "iopub.execute_input": "2022-07-28T08:12:03.542865Z",
     "iopub.status.busy": "2022-07-28T08:12:03.542527Z",
     "iopub.status.idle": "2022-07-28T08:12:03.564776Z",
     "shell.execute_reply": "2022-07-28T08:12:03.564286Z"
    }
   },
   "outputs": [
    {
     "data": {
      "text/html": [
       "<div>\n",
       "<style scoped>\n",
       "    .dataframe tbody tr th:only-of-type {\n",
       "        vertical-align: middle;\n",
       "    }\n",
       "\n",
       "    .dataframe tbody tr th {\n",
       "        vertical-align: top;\n",
       "    }\n",
       "\n",
       "    .dataframe thead th {\n",
       "        text-align: right;\n",
       "    }\n",
       "</style>\n",
       "<table border=\"1\" class=\"dataframe\">\n",
       "  <thead>\n",
       "    <tr style=\"text-align: right;\">\n",
       "      <th></th>\n",
       "      <th>full_id</th>\n",
       "      <th>title</th>\n",
       "      <th>desc</th>\n",
       "      <th>pdf_url</th>\n",
       "    </tr>\n",
       "  </thead>\n",
       "  <tbody>\n",
       "    <tr>\n",
       "      <th>0</th>\n",
       "      <td>r21-805</td>\n",
       "      <td>Accompagner la rénovation de la presse quotidi...</td>\n",
       "      <td>Rapport d'information de M. Michel LAUGIER, fa...</td>\n",
       "      <td>http://www.senat.fr/rap/r21-805/r21-8051.pdf</td>\n",
       "    </tr>\n",
       "    <tr>\n",
       "      <th>1</th>\n",
       "      <td>r21-800</td>\n",
       "      <td>La politique de la ville, un tremplin pour les...</td>\n",
       "      <td>Rapport d'information de Mmes Viviane ARTIGALA...</td>\n",
       "      <td>http://www.senat.fr/rap/r21-800/r21-8001.pdf</td>\n",
       "    </tr>\n",
       "    <tr>\n",
       "      <th>2</th>\n",
       "      <td>r21-799</td>\n",
       "      <td>Une inflation tirée par les matières premières...</td>\n",
       "      <td>Rapport d'information de M. Daniel GREMILLET e...</td>\n",
       "      <td>http://www.senat.fr/rap/r21-799/r21-7991.pdf</td>\n",
       "    </tr>\n",
       "    <tr>\n",
       "      <th>3</th>\n",
       "      <td>r21-777</td>\n",
       "      <td>Quel avenir pour le corps diplomatique ?</td>\n",
       "      <td>Rapport d'information de MM. Jean-Pierre GRAND...</td>\n",
       "      <td>http://www.senat.fr/rap/r21-777/r21-7771.pdf</td>\n",
       "    </tr>\n",
       "    <tr>\n",
       "      <th>4</th>\n",
       "      <td>r21-776</td>\n",
       "      <td>Finale de la Ligue des Champions au Stade de F...</td>\n",
       "      <td>Rapport d'information de MM. François-Noël BUF...</td>\n",
       "      <td>http://www.senat.fr/rap/r21-776/r21-7761.pdf</td>\n",
       "    </tr>\n",
       "    <tr>\n",
       "      <th>...</th>\n",
       "      <td>...</td>\n",
       "      <td>...</td>\n",
       "      <td>...</td>\n",
       "      <td>...</td>\n",
       "    </tr>\n",
       "    <tr>\n",
       "      <th>139</th>\n",
       "      <td>r21-020</td>\n",
       "      <td>Protection des épargnants</td>\n",
       "      <td>Rapport d'information de MM. Jean-François HUS...</td>\n",
       "      <td>http://www.senat.fr/rap/r21-020/r21-0201.pdf</td>\n",
       "    </tr>\n",
       "    <tr>\n",
       "      <th>140</th>\n",
       "      <td>r21-804</td>\n",
       "      <td>Régimes d'assurance vieillesse des agents de l...</td>\n",
       "      <td>Rapport d'information de Mme Sylvie VERMEILLET...</td>\n",
       "      <td>http://www.senat.fr/rap/r21-804/r21-8041.pdf</td>\n",
       "    </tr>\n",
       "    <tr>\n",
       "      <th>141</th>\n",
       "      <td>r21-831</td>\n",
       "      <td>Avenir institutionnel de la Nouvelle-Calédonie...</td>\n",
       "      <td>Rapport d'information de MM. François-Noël BUF...</td>\n",
       "      <td>http://www.senat.fr/rap/r21-831/r21-8311.pdf</td>\n",
       "    </tr>\n",
       "    <tr>\n",
       "      <th>142</th>\n",
       "      <td>r21-789</td>\n",
       "      <td>Les outre-mer dans la Constitution</td>\n",
       "      <td>Rapport d'information de M. Stéphane ARTANO, f...</td>\n",
       "      <td>NaN</td>\n",
       "    </tr>\n",
       "    <tr>\n",
       "      <th>143</th>\n",
       "      <td>r21-778</td>\n",
       "      <td>Les maisons France services, levier de cohésio...</td>\n",
       "      <td>Rapport d'information de M. Bernard DELCROS, f...</td>\n",
       "      <td>http://www.senat.fr/rap/r21-778/r21-7781.pdf</td>\n",
       "    </tr>\n",
       "  </tbody>\n",
       "</table>\n",
       "<p>144 rows × 4 columns</p>\n",
       "</div>"
      ],
      "text/plain": [
       "     full_id                                              title  \\\n",
       "0    r21-805  Accompagner la rénovation de la presse quotidi...   \n",
       "1    r21-800  La politique de la ville, un tremplin pour les...   \n",
       "2    r21-799  Une inflation tirée par les matières premières...   \n",
       "3    r21-777           Quel avenir pour le corps diplomatique ?   \n",
       "4    r21-776  Finale de la Ligue des Champions au Stade de F...   \n",
       "..       ...                                                ...   \n",
       "139  r21-020                          Protection des épargnants   \n",
       "140  r21-804  Régimes d'assurance vieillesse des agents de l...   \n",
       "141  r21-831  Avenir institutionnel de la Nouvelle-Calédonie...   \n",
       "142  r21-789                 Les outre-mer dans la Constitution   \n",
       "143  r21-778  Les maisons France services, levier de cohésio...   \n",
       "\n",
       "                                                  desc  \\\n",
       "0    Rapport d'information de M. Michel LAUGIER, fa...   \n",
       "1    Rapport d'information de Mmes Viviane ARTIGALA...   \n",
       "2    Rapport d'information de M. Daniel GREMILLET e...   \n",
       "3    Rapport d'information de MM. Jean-Pierre GRAND...   \n",
       "4    Rapport d'information de MM. François-Noël BUF...   \n",
       "..                                                 ...   \n",
       "139  Rapport d'information de MM. Jean-François HUS...   \n",
       "140  Rapport d'information de Mme Sylvie VERMEILLET...   \n",
       "141  Rapport d'information de MM. François-Noël BUF...   \n",
       "142  Rapport d'information de M. Stéphane ARTANO, f...   \n",
       "143  Rapport d'information de M. Bernard DELCROS, f...   \n",
       "\n",
       "                                          pdf_url  \n",
       "0    http://www.senat.fr/rap/r21-805/r21-8051.pdf  \n",
       "1    http://www.senat.fr/rap/r21-800/r21-8001.pdf  \n",
       "2    http://www.senat.fr/rap/r21-799/r21-7991.pdf  \n",
       "3    http://www.senat.fr/rap/r21-777/r21-7771.pdf  \n",
       "4    http://www.senat.fr/rap/r21-776/r21-7761.pdf  \n",
       "..                                            ...  \n",
       "139  http://www.senat.fr/rap/r21-020/r21-0201.pdf  \n",
       "140  http://www.senat.fr/rap/r21-804/r21-8041.pdf  \n",
       "141  http://www.senat.fr/rap/r21-831/r21-8311.pdf  \n",
       "142                                           NaN  \n",
       "143  http://www.senat.fr/rap/r21-778/r21-7781.pdf  \n",
       "\n",
       "[144 rows x 4 columns]"
      ]
     },
     "execution_count": 2,
     "metadata": {},
     "output_type": "execute_result"
    }
   ],
   "source": [
    "old_reports_df = pd.read_csv('./rapports-senat.csv', sep=';')\n",
    "old_reports_df"
   ]
  },
  {
   "cell_type": "markdown",
   "metadata": {},
   "source": [
    "## Quels sont les nouvaux rapports d'information publiés par le Sénat ? \n",
    "\n",
    "Pour le savoir, on a besoin de récupérer la liste sur `http://www.senat.fr/rapports/rapports-information.html`.  \n",
    "On va utiliser `bs4` pour parser le HTML.\n",
    "\n",
    "- On cherche tous les liens `/notice-rapport/*`"
   ]
  },
  {
   "cell_type": "code",
   "execution_count": 3,
   "metadata": {
    "execution": {
     "iopub.execute_input": "2022-07-28T08:12:03.602324Z",
     "iopub.status.busy": "2022-07-28T08:12:03.601665Z",
     "iopub.status.idle": "2022-07-28T08:12:04.550656Z",
     "shell.execute_reply": "2022-07-28T08:12:04.549880Z"
    }
   },
   "outputs": [],
   "source": [
    "r = requests.get('http://www.senat.fr/rapports/rapports-information.html')"
   ]
  },
  {
   "cell_type": "code",
   "execution_count": 4,
   "metadata": {
    "execution": {
     "iopub.execute_input": "2022-07-28T08:12:04.555123Z",
     "iopub.status.busy": "2022-07-28T08:12:04.554752Z",
     "iopub.status.idle": "2022-07-28T08:12:04.630827Z",
     "shell.execute_reply": "2022-07-28T08:12:04.630190Z"
    }
   },
   "outputs": [],
   "source": [
    "soup = BeautifulSoup(r.text, 'html.parser')"
   ]
  },
  {
   "cell_type": "code",
   "execution_count": 5,
   "metadata": {
    "execution": {
     "iopub.execute_input": "2022-07-28T08:12:04.634446Z",
     "iopub.status.busy": "2022-07-28T08:12:04.634010Z",
     "iopub.status.idle": "2022-07-28T08:12:04.647456Z",
     "shell.execute_reply": "2022-07-28T08:12:04.646871Z"
    }
   },
   "outputs": [],
   "source": [
    "new_reports_urls = []\n",
    "for a in soup.find(id='encours').parent.find_all(lambda tag: tag.name == 'a' and tag.get('href').startswith('/notice-rapport')):\n",
    "    [id] = re.findall('notice-rapport\\/\\d+\\/(.+)-notice\\.html', a.get('href'))\n",
    "    if id not in old_reports_df['full_id'].values:\n",
    "        new_reports_urls.append(a.get('href'))\n",
    "        "
   ]
  },
  {
   "cell_type": "code",
   "execution_count": 6,
   "metadata": {
    "execution": {
     "iopub.execute_input": "2022-07-28T08:12:04.650434Z",
     "iopub.status.busy": "2022-07-28T08:12:04.649905Z",
     "iopub.status.idle": "2022-07-28T08:12:04.656067Z",
     "shell.execute_reply": "2022-07-28T08:12:04.655444Z"
    }
   },
   "outputs": [],
   "source": [
    "new_reports_df = pd.DataFrame()\n",
    "for href in new_reports_urls:\n",
    "    # id\n",
    "    [full_id] = re.findall('notice-rapport\\/\\d+\\/(.+)-notice\\.html', href)\n",
    "    # retrieve and parse page\n",
    "    r = requests.get(f'http://www.senat.fr{href}')\n",
    "    soup = BeautifulSoup(r.text, 'html.parser')\n",
    "    # we need:\n",
    "    # - title\n",
    "    title = soup.find('h1').text\n",
    "    # - desc \n",
    "    desc = soup.find('h2', {'class': 'subtitle-01'}).text.strip().split('\\n')[0]\n",
    "    # - pdf url\n",
    "    try:\n",
    "        pdf_url = soup.find(lambda tag: tag.name == 'a' and tag.get_text() == 'Le rapport au format pdf').get('href')\n",
    "        pdf_url = f'http://www.senat.fr{pdf_url}'\n",
    "    except Exception as e:\n",
    "        print(e)\n",
    "        pdf_url = ''\n",
    "\n",
    "    new_reports_df = pd.concat([new_reports_df, pd.Series({\n",
    "        'full_id': full_id,\n",
    "        'title': title,\n",
    "        'desc': desc,\n",
    "        'pdf_url': pdf_url\n",
    "    }).to_frame().T])"
   ]
  },
  {
   "cell_type": "code",
   "execution_count": 7,
   "metadata": {
    "execution": {
     "iopub.execute_input": "2022-07-28T08:12:04.659014Z",
     "iopub.status.busy": "2022-07-28T08:12:04.658677Z",
     "iopub.status.idle": "2022-07-28T08:12:04.664036Z",
     "shell.execute_reply": "2022-07-28T08:12:04.663420Z"
    }
   },
   "outputs": [
    {
     "data": {
      "text/html": [
       "<div>\n",
       "<style scoped>\n",
       "    .dataframe tbody tr th:only-of-type {\n",
       "        vertical-align: middle;\n",
       "    }\n",
       "\n",
       "    .dataframe tbody tr th {\n",
       "        vertical-align: top;\n",
       "    }\n",
       "\n",
       "    .dataframe thead th {\n",
       "        text-align: right;\n",
       "    }\n",
       "</style>\n",
       "<table border=\"1\" class=\"dataframe\">\n",
       "  <thead>\n",
       "    <tr style=\"text-align: right;\">\n",
       "      <th></th>\n",
       "    </tr>\n",
       "  </thead>\n",
       "  <tbody>\n",
       "  </tbody>\n",
       "</table>\n",
       "</div>"
      ],
      "text/plain": [
       "Empty DataFrame\n",
       "Columns: []\n",
       "Index: []"
      ]
     },
     "execution_count": 7,
     "metadata": {},
     "output_type": "execute_result"
    }
   ],
   "source": [
    "new_reports_df"
   ]
  },
  {
   "cell_type": "markdown",
   "metadata": {},
   "source": [
    "## On sauvegarde les nouveaux rapport"
   ]
  },
  {
   "cell_type": "code",
   "execution_count": 8,
   "metadata": {
    "execution": {
     "iopub.execute_input": "2022-07-28T08:12:04.667702Z",
     "iopub.status.busy": "2022-07-28T08:12:04.667470Z",
     "iopub.status.idle": "2022-07-28T08:12:04.674967Z",
     "shell.execute_reply": "2022-07-28T08:12:04.674420Z"
    }
   },
   "outputs": [],
   "source": [
    "(pd\n",
    "    .concat([old_reports_df, new_reports_df], ignore_index=True)\n",
    "    .drop_duplicates(subset=['full_id'])\n",
    "    .to_csv('rapports-senat.csv', sep=';', index=False)\n",
    ")"
   ]
  },
  {
   "cell_type": "markdown",
   "metadata": {},
   "source": [
    "## On les récupère "
   ]
  },
  {
   "cell_type": "code",
   "execution_count": 9,
   "metadata": {
    "execution": {
     "iopub.execute_input": "2022-07-28T08:12:04.677695Z",
     "iopub.status.busy": "2022-07-28T08:12:04.677488Z",
     "iopub.status.idle": "2022-07-28T08:12:04.681074Z",
     "shell.execute_reply": "2022-07-28T08:12:04.680479Z"
    }
   },
   "outputs": [],
   "source": [
    "Path('../data/senat/').mkdir(parents=True, exist_ok=True)\n",
    "for index, row in new_reports_df.iterrows():\n",
    "    if row['pdf_url']:\n",
    "        r = requests.get(row['pdf_url'])\n",
    "        Path(f'../data/senat/{row[\"full_id\"]}.pdf').write_bytes(r.content)"
   ]
  },
  {
   "cell_type": "markdown",
   "metadata": {},
   "source": [
    "## On les tweete"
   ]
  },
  {
   "cell_type": "code",
   "execution_count": 10,
   "metadata": {
    "execution": {
     "iopub.execute_input": "2022-07-28T08:12:04.684061Z",
     "iopub.status.busy": "2022-07-28T08:12:04.683856Z",
     "iopub.status.idle": "2022-07-28T08:12:04.687101Z",
     "shell.execute_reply": "2022-07-28T08:12:04.686489Z"
    }
   },
   "outputs": [],
   "source": [
    "try:\n",
    "    credentials = json.load(open('../twitter-credentials.json'))\n",
    "except:\n",
    "    # gh actions secrets\n",
    "    credentials = {key: os.environ[key] for key in [\"TWITTER_API_KEY\", \"TWITTER_API_SECRET\", \"TWITTER_ACCESS_KEY\", \"TWITTER_ACCESS_SECRET\"]}\n"
   ]
  },
  {
   "cell_type": "code",
   "execution_count": 11,
   "metadata": {
    "execution": {
     "iopub.execute_input": "2022-07-28T08:12:04.689903Z",
     "iopub.status.busy": "2022-07-28T08:12:04.689699Z",
     "iopub.status.idle": "2022-07-28T08:12:04.796834Z",
     "shell.execute_reply": "2022-07-28T08:12:04.796055Z"
    }
   },
   "outputs": [
    {
     "name": "stdout",
     "output_type": "stream",
     "text": [
      "Authentication OK\n"
     ]
    }
   ],
   "source": [
    "auth = tweepy.OAuthHandler(credentials['TWITTER_API_KEY'], credentials['TWITTER_API_SECRET'])\n",
    "auth.set_access_token(credentials['TWITTER_ACCESS_KEY'], credentials['TWITTER_ACCESS_SECRET'])\n",
    "api = tweepy.API(auth)\n",
    "\n",
    "try:\n",
    "    api.verify_credentials()\n",
    "    print(\"Authentication OK\")\n",
    "except Exception as e:\n",
    "    print(e)\n",
    "    print(\"Error during authentication\")"
   ]
  },
  {
   "cell_type": "code",
   "execution_count": 12,
   "metadata": {
    "execution": {
     "iopub.execute_input": "2022-07-28T08:12:04.800723Z",
     "iopub.status.busy": "2022-07-28T08:12:04.800258Z",
     "iopub.status.idle": "2022-07-28T08:12:04.804465Z",
     "shell.execute_reply": "2022-07-28T08:12:04.803828Z"
    }
   },
   "outputs": [],
   "source": [
    "for index, row in new_reports_df.iterrows():\n",
    "    tweet = f'ℹ️ • Nouveau rapport d\\'information {row[\"pdf_url\"]} {row[\"title\"]}'\n",
    "    # pour le momnet, on ne tweet que les rapports d'information et d'enquête\n",
    "    if len(tweet) > 280:\n",
    "        tweet = tweet[0:277] + '...'    \n",
    "    print(tweet)\n",
    "    api.update_status(tweet)"
   ]
  }
 ],
 "metadata": {
  "kernelspec": {
   "display_name": "Python 3.8.13 (conda)",
   "language": "python",
   "name": "python3"
  },
  "language_info": {
   "codemirror_mode": {
    "name": "ipython",
    "version": 3
   },
   "file_extension": ".py",
   "mimetype": "text/x-python",
   "name": "python",
   "nbconvert_exporter": "python",
   "pygments_lexer": "ipython3",
   "version": "3.8.13"
  },
  "vscode": {
   "interpreter": {
    "hash": "b037f35a570f4798a3cc3f929dcf08174f799abb59b153589084c9ec1d28de3d"
   }
  }
 },
 "nbformat": 4,
 "nbformat_minor": 2
}
