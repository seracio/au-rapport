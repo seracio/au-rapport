{
 "cells": [
  {
   "cell_type": "code",
   "execution_count": 1,
   "metadata": {
    "execution": {
     "iopub.execute_input": "2022-10-06T16:18:19.569572Z",
     "iopub.status.busy": "2022-10-06T16:18:19.569253Z",
     "iopub.status.idle": "2022-10-06T16:18:19.950488Z",
     "shell.execute_reply": "2022-10-06T16:18:19.949476Z"
    }
   },
   "outputs": [],
   "source": [
    "import pandas as pd\n",
    "import tweepy\n",
    "import requests\n",
    "from bs4 import BeautifulSoup\n",
    "import re\n",
    "from pathlib import Path\n",
    "import json\n",
    "import os"
   ]
  },
  {
   "cell_type": "markdown",
   "metadata": {},
   "source": [
    "## La liste des rapports déjà présents"
   ]
  },
  {
   "cell_type": "code",
   "execution_count": 2,
   "metadata": {
    "execution": {
     "iopub.execute_input": "2022-10-06T16:18:19.955264Z",
     "iopub.status.busy": "2022-10-06T16:18:19.954823Z",
     "iopub.status.idle": "2022-10-06T16:18:19.979179Z",
     "shell.execute_reply": "2022-10-06T16:18:19.978612Z"
    }
   },
   "outputs": [
    {
     "data": {
      "text/html": [
       "<div>\n",
       "<style scoped>\n",
       "    .dataframe tbody tr th:only-of-type {\n",
       "        vertical-align: middle;\n",
       "    }\n",
       "\n",
       "    .dataframe tbody tr th {\n",
       "        vertical-align: top;\n",
       "    }\n",
       "\n",
       "    .dataframe thead th {\n",
       "        text-align: right;\n",
       "    }\n",
       "</style>\n",
       "<table border=\"1\" class=\"dataframe\">\n",
       "  <thead>\n",
       "    <tr style=\"text-align: right;\">\n",
       "      <th></th>\n",
       "      <th>full_id</th>\n",
       "      <th>title</th>\n",
       "      <th>desc</th>\n",
       "      <th>pdf_url</th>\n",
       "    </tr>\n",
       "  </thead>\n",
       "  <tbody>\n",
       "    <tr>\n",
       "      <th>0</th>\n",
       "      <td>r21-805</td>\n",
       "      <td>Accompagner la rénovation de la presse quotidi...</td>\n",
       "      <td>Rapport d'information de M. Michel LAUGIER, fa...</td>\n",
       "      <td>http://www.senat.fr/rap/r21-805/r21-8051.pdf</td>\n",
       "    </tr>\n",
       "    <tr>\n",
       "      <th>1</th>\n",
       "      <td>r21-800</td>\n",
       "      <td>La politique de la ville, un tremplin pour les...</td>\n",
       "      <td>Rapport d'information de Mmes Viviane ARTIGALA...</td>\n",
       "      <td>http://www.senat.fr/rap/r21-800/r21-8001.pdf</td>\n",
       "    </tr>\n",
       "    <tr>\n",
       "      <th>2</th>\n",
       "      <td>r21-799</td>\n",
       "      <td>Une inflation tirée par les matières premières...</td>\n",
       "      <td>Rapport d'information de M. Daniel GREMILLET e...</td>\n",
       "      <td>http://www.senat.fr/rap/r21-799/r21-7991.pdf</td>\n",
       "    </tr>\n",
       "    <tr>\n",
       "      <th>3</th>\n",
       "      <td>r21-777</td>\n",
       "      <td>Quel avenir pour le corps diplomatique ?</td>\n",
       "      <td>Rapport d'information de MM. Jean-Pierre GRAND...</td>\n",
       "      <td>http://www.senat.fr/rap/r21-777/r21-7771.pdf</td>\n",
       "    </tr>\n",
       "    <tr>\n",
       "      <th>4</th>\n",
       "      <td>r21-776</td>\n",
       "      <td>Finale de la Ligue des Champions au Stade de F...</td>\n",
       "      <td>Rapport d'information de MM. François-Noël BUF...</td>\n",
       "      <td>http://www.senat.fr/rap/r21-776/r21-7761.pdf</td>\n",
       "    </tr>\n",
       "    <tr>\n",
       "      <th>...</th>\n",
       "      <td>...</td>\n",
       "      <td>...</td>\n",
       "      <td>...</td>\n",
       "      <td>...</td>\n",
       "    </tr>\n",
       "    <tr>\n",
       "      <th>154</th>\n",
       "      <td>r21-900-1</td>\n",
       "      <td>Porno : l'enfer du décor - Rapport</td>\n",
       "      <td>Rapport d'information de Mmes Annick BILLON, A...</td>\n",
       "      <td>http://www.senat.fr/rap/r21-900-1/r21-900-11.pdf</td>\n",
       "    </tr>\n",
       "    <tr>\n",
       "      <th>155</th>\n",
       "      <td>r21-900-2</td>\n",
       "      <td>Porno : l'enfer du décor - Comptes rendus</td>\n",
       "      <td>Rapport d'information de Mmes Annick BILLON, A...</td>\n",
       "      <td>http://www.senat.fr/rap/r21-900-2/r21-900-21.pdf</td>\n",
       "    </tr>\n",
       "    <tr>\n",
       "      <th>156</th>\n",
       "      <td>r21-909</td>\n",
       "      <td>À la recherche de l'État dans les territoires</td>\n",
       "      <td>Rapport d'information de Mme Agnès CANAYER et ...</td>\n",
       "      <td>http://www.senat.fr/rap/r21-909/r21-9091.pdf</td>\n",
       "    </tr>\n",
       "    <tr>\n",
       "      <th>157</th>\n",
       "      <td>r21-904</td>\n",
       "      <td>Dispositif d'indemnisation pour les victimes d...</td>\n",
       "      <td>Rapport d'information de M. Christian KLINGER,...</td>\n",
       "      <td>http://www.senat.fr/rap/r21-904/r21-9041.pdf</td>\n",
       "    </tr>\n",
       "    <tr>\n",
       "      <th>158</th>\n",
       "      <td>r21-903</td>\n",
       "      <td>Direction générale de la concurrence, de la co...</td>\n",
       "      <td>Rapport d'information de M. Thierry COZIC et M...</td>\n",
       "      <td>http://www.senat.fr/rap/r21-903/r21-9031.pdf</td>\n",
       "    </tr>\n",
       "  </tbody>\n",
       "</table>\n",
       "<p>159 rows × 4 columns</p>\n",
       "</div>"
      ],
      "text/plain": [
       "       full_id                                              title  \\\n",
       "0      r21-805  Accompagner la rénovation de la presse quotidi...   \n",
       "1      r21-800  La politique de la ville, un tremplin pour les...   \n",
       "2      r21-799  Une inflation tirée par les matières premières...   \n",
       "3      r21-777           Quel avenir pour le corps diplomatique ?   \n",
       "4      r21-776  Finale de la Ligue des Champions au Stade de F...   \n",
       "..         ...                                                ...   \n",
       "154  r21-900-1                 Porno : l'enfer du décor - Rapport   \n",
       "155  r21-900-2          Porno : l'enfer du décor - Comptes rendus   \n",
       "156    r21-909      À la recherche de l'État dans les territoires   \n",
       "157    r21-904  Dispositif d'indemnisation pour les victimes d...   \n",
       "158    r21-903  Direction générale de la concurrence, de la co...   \n",
       "\n",
       "                                                  desc  \\\n",
       "0    Rapport d'information de M. Michel LAUGIER, fa...   \n",
       "1    Rapport d'information de Mmes Viviane ARTIGALA...   \n",
       "2    Rapport d'information de M. Daniel GREMILLET e...   \n",
       "3    Rapport d'information de MM. Jean-Pierre GRAND...   \n",
       "4    Rapport d'information de MM. François-Noël BUF...   \n",
       "..                                                 ...   \n",
       "154  Rapport d'information de Mmes Annick BILLON, A...   \n",
       "155  Rapport d'information de Mmes Annick BILLON, A...   \n",
       "156  Rapport d'information de Mme Agnès CANAYER et ...   \n",
       "157  Rapport d'information de M. Christian KLINGER,...   \n",
       "158  Rapport d'information de M. Thierry COZIC et M...   \n",
       "\n",
       "                                              pdf_url  \n",
       "0        http://www.senat.fr/rap/r21-805/r21-8051.pdf  \n",
       "1        http://www.senat.fr/rap/r21-800/r21-8001.pdf  \n",
       "2        http://www.senat.fr/rap/r21-799/r21-7991.pdf  \n",
       "3        http://www.senat.fr/rap/r21-777/r21-7771.pdf  \n",
       "4        http://www.senat.fr/rap/r21-776/r21-7761.pdf  \n",
       "..                                                ...  \n",
       "154  http://www.senat.fr/rap/r21-900-1/r21-900-11.pdf  \n",
       "155  http://www.senat.fr/rap/r21-900-2/r21-900-21.pdf  \n",
       "156      http://www.senat.fr/rap/r21-909/r21-9091.pdf  \n",
       "157      http://www.senat.fr/rap/r21-904/r21-9041.pdf  \n",
       "158      http://www.senat.fr/rap/r21-903/r21-9031.pdf  \n",
       "\n",
       "[159 rows x 4 columns]"
      ]
     },
     "execution_count": 2,
     "metadata": {},
     "output_type": "execute_result"
    }
   ],
   "source": [
    "old_reports_df = pd.read_csv('./rapports-senat.csv', sep=';')\n",
    "old_reports_df"
   ]
  },
  {
   "cell_type": "markdown",
   "metadata": {},
   "source": [
    "## Quels sont les nouvaux rapports d'information publiés par le Sénat ? \n",
    "\n",
    "Pour le savoir, on a besoin de récupérer la liste sur `http://www.senat.fr/rapports/rapports-information.html`.  \n",
    "On va utiliser `bs4` pour parser le HTML.\n",
    "\n",
    "- On cherche tous les liens `/notice-rapport/*`"
   ]
  },
  {
   "cell_type": "code",
   "execution_count": 3,
   "metadata": {
    "execution": {
     "iopub.execute_input": "2022-10-06T16:18:20.020123Z",
     "iopub.status.busy": "2022-10-06T16:18:20.019847Z",
     "iopub.status.idle": "2022-10-06T16:18:31.410078Z",
     "shell.execute_reply": "2022-10-06T16:18:31.409118Z"
    }
   },
   "outputs": [],
   "source": [
    "r = requests.get('http://www.senat.fr/rapports/rapports-information.html')"
   ]
  },
  {
   "cell_type": "code",
   "execution_count": 4,
   "metadata": {
    "execution": {
     "iopub.execute_input": "2022-10-06T16:18:31.414825Z",
     "iopub.status.busy": "2022-10-06T16:18:31.414039Z",
     "iopub.status.idle": "2022-10-06T16:18:31.447626Z",
     "shell.execute_reply": "2022-10-06T16:18:31.446781Z"
    }
   },
   "outputs": [],
   "source": [
    "soup = BeautifulSoup(r.text, 'html.parser')"
   ]
  },
  {
   "cell_type": "code",
   "execution_count": 5,
   "metadata": {
    "execution": {
     "iopub.execute_input": "2022-10-06T16:18:31.452000Z",
     "iopub.status.busy": "2022-10-06T16:18:31.450720Z",
     "iopub.status.idle": "2022-10-06T16:18:31.458982Z",
     "shell.execute_reply": "2022-10-06T16:18:31.458094Z"
    }
   },
   "outputs": [],
   "source": [
    "new_reports_urls = []\n",
    "for a in soup.find(id='encours').parent.find_all(lambda tag: tag.name == 'a' and tag.get('href').startswith('/notice-rapport')):\n",
    "    [id] = re.findall('notice-rapport\\/\\d+\\/(.+)-notice\\.html', a.get('href'))\n",
    "    if id not in old_reports_df['full_id'].values:\n",
    "        new_reports_urls.append(a.get('href'))\n",
    "        "
   ]
  },
  {
   "cell_type": "code",
   "execution_count": 6,
   "metadata": {
    "execution": {
     "iopub.execute_input": "2022-10-06T16:18:31.462649Z",
     "iopub.status.busy": "2022-10-06T16:18:31.462340Z",
     "iopub.status.idle": "2022-10-06T16:18:31.470952Z",
     "shell.execute_reply": "2022-10-06T16:18:31.470190Z"
    }
   },
   "outputs": [],
   "source": [
    "new_reports_df = pd.DataFrame()\n",
    "for href in new_reports_urls:\n",
    "    # id\n",
    "    [full_id] = re.findall('notice-rapport\\/\\d+\\/(.+)-notice\\.html', href)\n",
    "    # retrieve and parse page\n",
    "    r = requests.get(f'http://www.senat.fr{href}')\n",
    "    soup = BeautifulSoup(r.text, 'html.parser')\n",
    "    # we need:\n",
    "    # - title\n",
    "    title = soup.find('h1').text\n",
    "    # - desc \n",
    "    desc = soup.find('h2', {'class': 'subtitle-01'}).text.strip().split('\\n')[0]\n",
    "    # - pdf url\n",
    "    try:\n",
    "        pdf_url = soup.find(lambda tag: tag.name == 'a' and tag.get_text() == 'Le rapport au format pdf').get('href')\n",
    "        pdf_url = f'http://www.senat.fr{pdf_url}'\n",
    "    except Exception as e:\n",
    "        print(e)\n",
    "        pdf_url = ''\n",
    "\n",
    "    new_reports_df = pd.concat([new_reports_df, pd.Series({\n",
    "        'full_id': full_id,\n",
    "        'title': title,\n",
    "        'desc': desc,\n",
    "        'pdf_url': pdf_url\n",
    "    }).to_frame().T])"
   ]
  },
  {
   "cell_type": "code",
   "execution_count": 7,
   "metadata": {
    "execution": {
     "iopub.execute_input": "2022-10-06T16:18:31.475026Z",
     "iopub.status.busy": "2022-10-06T16:18:31.474722Z",
     "iopub.status.idle": "2022-10-06T16:18:31.483610Z",
     "shell.execute_reply": "2022-10-06T16:18:31.482645Z"
    }
   },
   "outputs": [
    {
     "data": {
      "text/html": [
       "<div>\n",
       "<style scoped>\n",
       "    .dataframe tbody tr th:only-of-type {\n",
       "        vertical-align: middle;\n",
       "    }\n",
       "\n",
       "    .dataframe tbody tr th {\n",
       "        vertical-align: top;\n",
       "    }\n",
       "\n",
       "    .dataframe thead th {\n",
       "        text-align: right;\n",
       "    }\n",
       "</style>\n",
       "<table border=\"1\" class=\"dataframe\">\n",
       "  <thead>\n",
       "    <tr style=\"text-align: right;\">\n",
       "      <th></th>\n",
       "    </tr>\n",
       "  </thead>\n",
       "  <tbody>\n",
       "  </tbody>\n",
       "</table>\n",
       "</div>"
      ],
      "text/plain": [
       "Empty DataFrame\n",
       "Columns: []\n",
       "Index: []"
      ]
     },
     "execution_count": 7,
     "metadata": {},
     "output_type": "execute_result"
    }
   ],
   "source": [
    "new_reports_df"
   ]
  },
  {
   "cell_type": "markdown",
   "metadata": {},
   "source": [
    "## On sauvegarde les nouveaux rapport"
   ]
  },
  {
   "cell_type": "code",
   "execution_count": 8,
   "metadata": {
    "execution": {
     "iopub.execute_input": "2022-10-06T16:18:31.487435Z",
     "iopub.status.busy": "2022-10-06T16:18:31.487094Z",
     "iopub.status.idle": "2022-10-06T16:18:31.497615Z",
     "shell.execute_reply": "2022-10-06T16:18:31.496760Z"
    }
   },
   "outputs": [],
   "source": [
    "(pd\n",
    "    .concat([old_reports_df, new_reports_df], ignore_index=True)\n",
    "    .drop_duplicates(subset=['full_id'])\n",
    "    .to_csv('rapports-senat.csv', sep=';', index=False)\n",
    ")"
   ]
  },
  {
   "cell_type": "markdown",
   "metadata": {},
   "source": [
    "## On les récupère "
   ]
  },
  {
   "cell_type": "code",
   "execution_count": 9,
   "metadata": {
    "execution": {
     "iopub.execute_input": "2022-10-06T16:18:31.501069Z",
     "iopub.status.busy": "2022-10-06T16:18:31.500822Z",
     "iopub.status.idle": "2022-10-06T16:18:31.505396Z",
     "shell.execute_reply": "2022-10-06T16:18:31.504694Z"
    }
   },
   "outputs": [],
   "source": [
    "Path('../data/senat/').mkdir(parents=True, exist_ok=True)\n",
    "for index, row in new_reports_df.iterrows():\n",
    "    if row['pdf_url']:\n",
    "        r = requests.get(row['pdf_url'])\n",
    "        Path(f'../data/senat/{row[\"full_id\"]}.pdf').write_bytes(r.content)"
   ]
  },
  {
   "cell_type": "markdown",
   "metadata": {},
   "source": [
    "## On les tweete"
   ]
  },
  {
   "cell_type": "code",
   "execution_count": 10,
   "metadata": {
    "execution": {
     "iopub.execute_input": "2022-10-06T16:18:31.509170Z",
     "iopub.status.busy": "2022-10-06T16:18:31.508801Z",
     "iopub.status.idle": "2022-10-06T16:18:31.513146Z",
     "shell.execute_reply": "2022-10-06T16:18:31.512349Z"
    }
   },
   "outputs": [],
   "source": [
    "try:\n",
    "    credentials = json.load(open('../twitter-credentials.json'))\n",
    "except:\n",
    "    # gh actions secrets\n",
    "    credentials = {key: os.environ[key] for key in [\"TWITTER_API_KEY\", \"TWITTER_API_SECRET\", \"TWITTER_ACCESS_KEY\", \"TWITTER_ACCESS_SECRET\"]}\n"
   ]
  },
  {
   "cell_type": "code",
   "execution_count": 11,
   "metadata": {
    "execution": {
     "iopub.execute_input": "2022-10-06T16:18:31.518697Z",
     "iopub.status.busy": "2022-10-06T16:18:31.518379Z",
     "iopub.status.idle": "2022-10-06T16:18:31.692029Z",
     "shell.execute_reply": "2022-10-06T16:18:31.691166Z"
    }
   },
   "outputs": [
    {
     "name": "stdout",
     "output_type": "stream",
     "text": [
      "Authentication OK\n"
     ]
    }
   ],
   "source": [
    "auth = tweepy.OAuthHandler(credentials['TWITTER_API_KEY'], credentials['TWITTER_API_SECRET'])\n",
    "auth.set_access_token(credentials['TWITTER_ACCESS_KEY'], credentials['TWITTER_ACCESS_SECRET'])\n",
    "api = tweepy.API(auth)\n",
    "\n",
    "try:\n",
    "    api.verify_credentials()\n",
    "    print(\"Authentication OK\")\n",
    "except Exception as e:\n",
    "    print(e)\n",
    "    print(\"Error during authentication\")"
   ]
  },
  {
   "cell_type": "code",
   "execution_count": 12,
   "metadata": {
    "execution": {
     "iopub.execute_input": "2022-10-06T16:18:31.695573Z",
     "iopub.status.busy": "2022-10-06T16:18:31.695298Z",
     "iopub.status.idle": "2022-10-06T16:18:31.699954Z",
     "shell.execute_reply": "2022-10-06T16:18:31.699188Z"
    }
   },
   "outputs": [],
   "source": [
    "for index, row in new_reports_df.iterrows():\n",
    "    tweet = f'ℹ️ • Nouveau rapport d\\'information {row[\"pdf_url\"]} {row[\"title\"]}'\n",
    "    # pour le momnet, on ne tweet que les rapports d'information et d'enquête\n",
    "    if len(tweet) > 280:\n",
    "        tweet = tweet[0:277] + '...'    \n",
    "    print(tweet)\n",
    "    api.update_status(tweet)"
   ]
  }
 ],
 "metadata": {
  "kernelspec": {
   "display_name": "Python 3.8.13 (conda)",
   "language": "python",
   "name": "python3"
  },
  "language_info": {
   "codemirror_mode": {
    "name": "ipython",
    "version": 3
   },
   "file_extension": ".py",
   "mimetype": "text/x-python",
   "name": "python",
   "nbconvert_exporter": "python",
   "pygments_lexer": "ipython3",
   "version": "3.8.13"
  },
  "vscode": {
   "interpreter": {
    "hash": "b037f35a570f4798a3cc3f929dcf08174f799abb59b153589084c9ec1d28de3d"
   }
  }
 },
 "nbformat": 4,
 "nbformat_minor": 2
}
