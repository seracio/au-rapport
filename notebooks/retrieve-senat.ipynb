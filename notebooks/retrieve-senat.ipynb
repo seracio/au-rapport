{
 "cells": [
  {
   "cell_type": "code",
   "execution_count": 1,
   "metadata": {
    "execution": {
     "iopub.execute_input": "2023-01-10T00:29:06.829856Z",
     "iopub.status.busy": "2023-01-10T00:29:06.829455Z",
     "iopub.status.idle": "2023-01-10T00:29:07.189501Z",
     "shell.execute_reply": "2023-01-10T00:29:07.188016Z"
    }
   },
   "outputs": [],
   "source": [
    "import pandas as pd\n",
    "import tweepy\n",
    "import requests\n",
    "from bs4 import BeautifulSoup\n",
    "import re\n",
    "from pathlib import Path\n",
    "import json\n",
    "import os"
   ]
  },
  {
   "cell_type": "markdown",
   "metadata": {},
   "source": [
    "## La liste des rapports déjà présents"
   ]
  },
  {
   "cell_type": "code",
   "execution_count": 2,
   "metadata": {
    "execution": {
     "iopub.execute_input": "2023-01-10T00:29:07.193539Z",
     "iopub.status.busy": "2023-01-10T00:29:07.193189Z",
     "iopub.status.idle": "2023-01-10T00:29:07.209786Z",
     "shell.execute_reply": "2023-01-10T00:29:07.209161Z"
    }
   },
   "outputs": [
    {
     "data": {
      "text/html": [
       "<div>\n",
       "<style scoped>\n",
       "    .dataframe tbody tr th:only-of-type {\n",
       "        vertical-align: middle;\n",
       "    }\n",
       "\n",
       "    .dataframe tbody tr th {\n",
       "        vertical-align: top;\n",
       "    }\n",
       "\n",
       "    .dataframe thead th {\n",
       "        text-align: right;\n",
       "    }\n",
       "</style>\n",
       "<table border=\"1\" class=\"dataframe\">\n",
       "  <thead>\n",
       "    <tr style=\"text-align: right;\">\n",
       "      <th></th>\n",
       "      <th>full_id</th>\n",
       "      <th>title</th>\n",
       "      <th>desc</th>\n",
       "      <th>pdf_url</th>\n",
       "    </tr>\n",
       "  </thead>\n",
       "  <tbody>\n",
       "    <tr>\n",
       "      <th>0</th>\n",
       "      <td>r21-805</td>\n",
       "      <td>Accompagner la rénovation de la presse quotidi...</td>\n",
       "      <td>Rapport d'information de M. Michel LAUGIER, fa...</td>\n",
       "      <td>http://www.senat.fr/rap/r21-805/r21-8051.pdf</td>\n",
       "    </tr>\n",
       "    <tr>\n",
       "      <th>1</th>\n",
       "      <td>r21-800</td>\n",
       "      <td>La politique de la ville, un tremplin pour les...</td>\n",
       "      <td>Rapport d'information de Mmes Viviane ARTIGALA...</td>\n",
       "      <td>http://www.senat.fr/rap/r21-800/r21-8001.pdf</td>\n",
       "    </tr>\n",
       "    <tr>\n",
       "      <th>2</th>\n",
       "      <td>r21-799</td>\n",
       "      <td>Une inflation tirée par les matières premières...</td>\n",
       "      <td>Rapport d'information de M. Daniel GREMILLET e...</td>\n",
       "      <td>http://www.senat.fr/rap/r21-799/r21-7991.pdf</td>\n",
       "    </tr>\n",
       "    <tr>\n",
       "      <th>3</th>\n",
       "      <td>r21-777</td>\n",
       "      <td>Quel avenir pour le corps diplomatique ?</td>\n",
       "      <td>Rapport d'information de MM. Jean-Pierre GRAND...</td>\n",
       "      <td>http://www.senat.fr/rap/r21-777/r21-7771.pdf</td>\n",
       "    </tr>\n",
       "    <tr>\n",
       "      <th>4</th>\n",
       "      <td>r21-776</td>\n",
       "      <td>Finale de la Ligue des Champions au Stade de F...</td>\n",
       "      <td>Rapport d'information de MM. François-Noël BUF...</td>\n",
       "      <td>http://www.senat.fr/rap/r21-776/r21-7761.pdf</td>\n",
       "    </tr>\n",
       "    <tr>\n",
       "      <th>...</th>\n",
       "      <td>...</td>\n",
       "      <td>...</td>\n",
       "      <td>...</td>\n",
       "      <td>...</td>\n",
       "    </tr>\n",
       "    <tr>\n",
       "      <th>175</th>\n",
       "      <td>r22-207</td>\n",
       "      <td>Projets d'avenants aux contrats d'objectifs et...</td>\n",
       "      <td>Rapport d'information de M. Jean-Raymond HUGON...</td>\n",
       "      <td>NaN</td>\n",
       "    </tr>\n",
       "    <tr>\n",
       "      <th>176</th>\n",
       "      <td>r22-195</td>\n",
       "      <td>La gestion des déchets dans les outre-mer</td>\n",
       "      <td>Rapport d'information de Mmes Gisèle JOURDA et...</td>\n",
       "      <td>http://www.senat.fr/rap/r22-195/r22-1951.pdf</td>\n",
       "    </tr>\n",
       "    <tr>\n",
       "      <th>177</th>\n",
       "      <td>r22-072</td>\n",
       "      <td>Lutte contre la fraude et l'évasion fiscales</td>\n",
       "      <td>Rapport d'information de M. Jean-François HUSS...</td>\n",
       "      <td>http://www.senat.fr/rap/r22-072/r22-0721.pdf</td>\n",
       "    </tr>\n",
       "    <tr>\n",
       "      <th>178</th>\n",
       "      <td>r22-208</td>\n",
       "      <td>Israël - Palestine : redonner un horizon polit...</td>\n",
       "      <td>Rapport d'information de MM. Christian CAMBON,...</td>\n",
       "      <td>NaN</td>\n",
       "    </tr>\n",
       "    <tr>\n",
       "      <th>179</th>\n",
       "      <td>r22-090</td>\n",
       "      <td>Journée des entreprises au Sénat - 13 octobre ...</td>\n",
       "      <td>Rapport d'information de M. Serge BABARY, fait...</td>\n",
       "      <td>http://www.senat.fr/rap/r22-090/r22-0901.pdf</td>\n",
       "    </tr>\n",
       "  </tbody>\n",
       "</table>\n",
       "<p>180 rows × 4 columns</p>\n",
       "</div>"
      ],
      "text/plain": [
       "     full_id                                              title  \\\n",
       "0    r21-805  Accompagner la rénovation de la presse quotidi...   \n",
       "1    r21-800  La politique de la ville, un tremplin pour les...   \n",
       "2    r21-799  Une inflation tirée par les matières premières...   \n",
       "3    r21-777           Quel avenir pour le corps diplomatique ?   \n",
       "4    r21-776  Finale de la Ligue des Champions au Stade de F...   \n",
       "..       ...                                                ...   \n",
       "175  r22-207  Projets d'avenants aux contrats d'objectifs et...   \n",
       "176  r22-195          La gestion des déchets dans les outre-mer   \n",
       "177  r22-072       Lutte contre la fraude et l'évasion fiscales   \n",
       "178  r22-208  Israël - Palestine : redonner un horizon polit...   \n",
       "179  r22-090  Journée des entreprises au Sénat - 13 octobre ...   \n",
       "\n",
       "                                                  desc  \\\n",
       "0    Rapport d'information de M. Michel LAUGIER, fa...   \n",
       "1    Rapport d'information de Mmes Viviane ARTIGALA...   \n",
       "2    Rapport d'information de M. Daniel GREMILLET e...   \n",
       "3    Rapport d'information de MM. Jean-Pierre GRAND...   \n",
       "4    Rapport d'information de MM. François-Noël BUF...   \n",
       "..                                                 ...   \n",
       "175  Rapport d'information de M. Jean-Raymond HUGON...   \n",
       "176  Rapport d'information de Mmes Gisèle JOURDA et...   \n",
       "177  Rapport d'information de M. Jean-François HUSS...   \n",
       "178  Rapport d'information de MM. Christian CAMBON,...   \n",
       "179  Rapport d'information de M. Serge BABARY, fait...   \n",
       "\n",
       "                                          pdf_url  \n",
       "0    http://www.senat.fr/rap/r21-805/r21-8051.pdf  \n",
       "1    http://www.senat.fr/rap/r21-800/r21-8001.pdf  \n",
       "2    http://www.senat.fr/rap/r21-799/r21-7991.pdf  \n",
       "3    http://www.senat.fr/rap/r21-777/r21-7771.pdf  \n",
       "4    http://www.senat.fr/rap/r21-776/r21-7761.pdf  \n",
       "..                                            ...  \n",
       "175                                           NaN  \n",
       "176  http://www.senat.fr/rap/r22-195/r22-1951.pdf  \n",
       "177  http://www.senat.fr/rap/r22-072/r22-0721.pdf  \n",
       "178                                           NaN  \n",
       "179  http://www.senat.fr/rap/r22-090/r22-0901.pdf  \n",
       "\n",
       "[180 rows x 4 columns]"
      ]
     },
     "execution_count": 2,
     "metadata": {},
     "output_type": "execute_result"
    }
   ],
   "source": [
    "old_reports_df = pd.read_csv('./rapports-senat.csv', sep=';')\n",
    "old_reports_df"
   ]
  },
  {
   "cell_type": "markdown",
   "metadata": {},
   "source": [
    "## Quels sont les nouvaux rapports d'information publiés par le Sénat ? \n",
    "\n",
    "Pour le savoir, on a besoin de récupérer la liste sur `http://www.senat.fr/rapports/rapports-information.html`.  \n",
    "On va utiliser `bs4` pour parser le HTML.\n",
    "\n",
    "- On cherche tous les liens `/notice-rapport/*`"
   ]
  },
  {
   "cell_type": "code",
   "execution_count": 3,
   "metadata": {
    "execution": {
     "iopub.execute_input": "2023-01-10T00:29:07.253111Z",
     "iopub.status.busy": "2023-01-10T00:29:07.252491Z",
     "iopub.status.idle": "2023-01-10T00:29:07.969716Z",
     "shell.execute_reply": "2023-01-10T00:29:07.968957Z"
    }
   },
   "outputs": [],
   "source": [
    "r = requests.get('http://www.senat.fr/rapports/rapports-information.html')"
   ]
  },
  {
   "cell_type": "code",
   "execution_count": 4,
   "metadata": {
    "execution": {
     "iopub.execute_input": "2023-01-10T00:29:07.973982Z",
     "iopub.status.busy": "2023-01-10T00:29:07.973513Z",
     "iopub.status.idle": "2023-01-10T00:29:08.010537Z",
     "shell.execute_reply": "2023-01-10T00:29:08.009938Z"
    }
   },
   "outputs": [],
   "source": [
    "soup = BeautifulSoup(r.text, 'html.parser')"
   ]
  },
  {
   "cell_type": "code",
   "execution_count": 5,
   "metadata": {
    "execution": {
     "iopub.execute_input": "2023-01-10T00:29:08.013724Z",
     "iopub.status.busy": "2023-01-10T00:29:08.013276Z",
     "iopub.status.idle": "2023-01-10T00:29:08.021677Z",
     "shell.execute_reply": "2023-01-10T00:29:08.021121Z"
    }
   },
   "outputs": [],
   "source": [
    "new_reports_urls = []\n",
    "for a in soup.find(id='encours').parent.find_all(lambda tag: tag.name == 'a' and tag.get('href').startswith('/notice-rapport')):\n",
    "    [id] = re.findall('notice-rapport\\/\\d+\\/(.+)-notice\\.html', a.get('href'))\n",
    "    if id not in old_reports_df['full_id'].values:\n",
    "        new_reports_urls.append(a.get('href'))\n",
    "        "
   ]
  },
  {
   "cell_type": "code",
   "execution_count": 6,
   "metadata": {
    "execution": {
     "iopub.execute_input": "2023-01-10T00:29:08.024444Z",
     "iopub.status.busy": "2023-01-10T00:29:08.024040Z",
     "iopub.status.idle": "2023-01-10T00:29:08.590216Z",
     "shell.execute_reply": "2023-01-10T00:29:08.589504Z"
    }
   },
   "outputs": [],
   "source": [
    "new_reports_df = pd.DataFrame()\n",
    "for href in new_reports_urls:\n",
    "    # id\n",
    "    [full_id] = re.findall('notice-rapport\\/\\d+\\/(.+)-notice\\.html', href)\n",
    "    # retrieve and parse page\n",
    "    r = requests.get(f'http://www.senat.fr{href}')\n",
    "    soup = BeautifulSoup(r.text, 'html.parser')\n",
    "    # we need:\n",
    "    # - title\n",
    "    title = soup.find('h1').text\n",
    "    # - desc \n",
    "    desc = soup.find('h2', {'class': 'subtitle-01'}).text.strip().split('\\n')[0]\n",
    "    # - pdf url\n",
    "    try:\n",
    "        pdf_url = soup.find(lambda tag: tag.name == 'a' and tag.get_text() == 'Le rapport au format pdf').get('href')\n",
    "        pdf_url = f'http://www.senat.fr{pdf_url}'\n",
    "    except Exception as e:\n",
    "        print(e)\n",
    "        pdf_url = ''\n",
    "\n",
    "    new_reports_df = pd.concat([new_reports_df, pd.Series({\n",
    "        'full_id': full_id,\n",
    "        'title': title,\n",
    "        'desc': desc,\n",
    "        'pdf_url': pdf_url\n",
    "    }).to_frame().T])"
   ]
  },
  {
   "cell_type": "code",
   "execution_count": 7,
   "metadata": {
    "execution": {
     "iopub.execute_input": "2023-01-10T00:29:08.593958Z",
     "iopub.status.busy": "2023-01-10T00:29:08.593497Z",
     "iopub.status.idle": "2023-01-10T00:29:08.601314Z",
     "shell.execute_reply": "2023-01-10T00:29:08.600718Z"
    }
   },
   "outputs": [
    {
     "data": {
      "text/html": [
       "<div>\n",
       "<style scoped>\n",
       "    .dataframe tbody tr th:only-of-type {\n",
       "        vertical-align: middle;\n",
       "    }\n",
       "\n",
       "    .dataframe tbody tr th {\n",
       "        vertical-align: top;\n",
       "    }\n",
       "\n",
       "    .dataframe thead th {\n",
       "        text-align: right;\n",
       "    }\n",
       "</style>\n",
       "<table border=\"1\" class=\"dataframe\">\n",
       "  <thead>\n",
       "    <tr style=\"text-align: right;\">\n",
       "      <th></th>\n",
       "      <th>full_id</th>\n",
       "      <th>title</th>\n",
       "      <th>desc</th>\n",
       "      <th>pdf_url</th>\n",
       "    </tr>\n",
       "  </thead>\n",
       "  <tbody>\n",
       "    <tr>\n",
       "      <th>0</th>\n",
       "      <td>r22-135</td>\n",
       "      <td>Rencontre avec les maires d'outre-mer - 21 nov...</td>\n",
       "      <td>Rapport d'information de M. Stéphane ARTANO, f...</td>\n",
       "      <td>http://www.senat.fr/rap/r22-135/r22-1351.pdf</td>\n",
       "    </tr>\n",
       "  </tbody>\n",
       "</table>\n",
       "</div>"
      ],
      "text/plain": [
       "   full_id                                              title  \\\n",
       "0  r22-135  Rencontre avec les maires d'outre-mer - 21 nov...   \n",
       "\n",
       "                                                desc  \\\n",
       "0  Rapport d'information de M. Stéphane ARTANO, f...   \n",
       "\n",
       "                                        pdf_url  \n",
       "0  http://www.senat.fr/rap/r22-135/r22-1351.pdf  "
      ]
     },
     "execution_count": 7,
     "metadata": {},
     "output_type": "execute_result"
    }
   ],
   "source": [
    "new_reports_df"
   ]
  },
  {
   "cell_type": "markdown",
   "metadata": {},
   "source": [
    "## On sauvegarde les nouveaux rapport"
   ]
  },
  {
   "cell_type": "code",
   "execution_count": 8,
   "metadata": {
    "execution": {
     "iopub.execute_input": "2023-01-10T00:29:08.605159Z",
     "iopub.status.busy": "2023-01-10T00:29:08.604822Z",
     "iopub.status.idle": "2023-01-10T00:29:08.614954Z",
     "shell.execute_reply": "2023-01-10T00:29:08.614220Z"
    }
   },
   "outputs": [],
   "source": [
    "(pd\n",
    "    .concat([old_reports_df, new_reports_df], ignore_index=True)\n",
    "    .drop_duplicates(subset=['full_id'])\n",
    "    .to_csv('rapports-senat.csv', sep=';', index=False)\n",
    ")"
   ]
  },
  {
   "cell_type": "markdown",
   "metadata": {},
   "source": [
    "## On les récupère "
   ]
  },
  {
   "cell_type": "code",
   "execution_count": 9,
   "metadata": {
    "execution": {
     "iopub.execute_input": "2023-01-10T00:29:08.617793Z",
     "iopub.status.busy": "2023-01-10T00:29:08.617396Z",
     "iopub.status.idle": "2023-01-10T00:29:19.380411Z",
     "shell.execute_reply": "2023-01-10T00:29:19.379633Z"
    }
   },
   "outputs": [],
   "source": [
    "Path('../data/senat/').mkdir(parents=True, exist_ok=True)\n",
    "for index, row in new_reports_df.iterrows():\n",
    "    if row['pdf_url']:\n",
    "        r = requests.get(row['pdf_url'])\n",
    "        Path(f'../data/senat/{row[\"full_id\"]}.pdf').write_bytes(r.content)"
   ]
  },
  {
   "cell_type": "markdown",
   "metadata": {},
   "source": [
    "## On les tweete"
   ]
  },
  {
   "cell_type": "code",
   "execution_count": 10,
   "metadata": {
    "execution": {
     "iopub.execute_input": "2023-01-10T00:29:19.384294Z",
     "iopub.status.busy": "2023-01-10T00:29:19.383873Z",
     "iopub.status.idle": "2023-01-10T00:29:19.389254Z",
     "shell.execute_reply": "2023-01-10T00:29:19.388653Z"
    }
   },
   "outputs": [],
   "source": [
    "try:\n",
    "    credentials = json.load(open('../twitter-credentials.json'))\n",
    "except:\n",
    "    # gh actions secrets\n",
    "    credentials = {key: os.environ[key] for key in [\"TWITTER_API_KEY\", \"TWITTER_API_SECRET\", \"TWITTER_ACCESS_KEY\", \"TWITTER_ACCESS_SECRET\"]}\n"
   ]
  },
  {
   "cell_type": "code",
   "execution_count": 11,
   "metadata": {
    "execution": {
     "iopub.execute_input": "2023-01-10T00:29:19.392315Z",
     "iopub.status.busy": "2023-01-10T00:29:19.391952Z",
     "iopub.status.idle": "2023-01-10T00:29:19.543910Z",
     "shell.execute_reply": "2023-01-10T00:29:19.543051Z"
    }
   },
   "outputs": [
    {
     "name": "stdout",
     "output_type": "stream",
     "text": [
      "Authentication OK\n"
     ]
    }
   ],
   "source": [
    "auth = tweepy.OAuthHandler(credentials['TWITTER_API_KEY'], credentials['TWITTER_API_SECRET'])\n",
    "auth.set_access_token(credentials['TWITTER_ACCESS_KEY'], credentials['TWITTER_ACCESS_SECRET'])\n",
    "api = tweepy.API(auth)\n",
    "\n",
    "try:\n",
    "    api.verify_credentials()\n",
    "    print(\"Authentication OK\")\n",
    "except Exception as e:\n",
    "    print(e)\n",
    "    print(\"Error during authentication\")"
   ]
  },
  {
   "cell_type": "code",
   "execution_count": 12,
   "metadata": {
    "execution": {
     "iopub.execute_input": "2023-01-10T00:29:19.547938Z",
     "iopub.status.busy": "2023-01-10T00:29:19.547547Z",
     "iopub.status.idle": "2023-01-10T00:29:19.741829Z",
     "shell.execute_reply": "2023-01-10T00:29:19.741135Z"
    }
   },
   "outputs": [
    {
     "name": "stdout",
     "output_type": "stream",
     "text": [
      "ℹ️ • Nouveau rapport d'information http://www.senat.fr/rap/r22-135/r22-1351.pdf Rencontre avec les maires d'outre-mer - 21 novembre 2022\n"
     ]
    }
   ],
   "source": [
    "for index, row in new_reports_df.iterrows():\n",
    "    tweet = f'ℹ️ • Nouveau rapport d\\'information {row[\"pdf_url\"]} {row[\"title\"]}'\n",
    "    # pour le momnet, on ne tweet que les rapports d'information et d'enquête\n",
    "    if len(tweet) > 280:\n",
    "        tweet = tweet[0:277] + '...'    \n",
    "    print(tweet)\n",
    "    api.update_status(tweet)"
   ]
  }
 ],
 "metadata": {
  "kernelspec": {
   "display_name": "Python 3.8.13 (conda)",
   "language": "python",
   "name": "python3"
  },
  "language_info": {
   "codemirror_mode": {
    "name": "ipython",
    "version": 3
   },
   "file_extension": ".py",
   "mimetype": "text/x-python",
   "name": "python",
   "nbconvert_exporter": "python",
   "pygments_lexer": "ipython3",
   "version": "3.8.15"
  },
  "vscode": {
   "interpreter": {
    "hash": "b037f35a570f4798a3cc3f929dcf08174f799abb59b153589084c9ec1d28de3d"
   }
  }
 },
 "nbformat": 4,
 "nbformat_minor": 2
}
